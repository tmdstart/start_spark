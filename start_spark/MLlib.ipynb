{
 "cells": [
  {
   "cell_type": "code",
   "execution_count": null,
   "id": "86897a66-0d4b-4601-9741-5f7fea09e760",
   "metadata": {},
   "outputs": [],
   "source": [
    "#파이프라인 API"
   ]
  },
  {
   "cell_type": "code",
   "execution_count": null,
   "id": "21148987-56df-4e4f-a975-842de55b8faa",
   "metadata": {},
   "outputs": [],
   "source": []
  }
 ],
 "metadata": {
  "kernelspec": {
   "display_name": "Python 3 (ipykernel)",
   "language": "python",
   "name": "python3"
  },
  "language_info": {
   "codemirror_mode": {
    "name": "ipython",
    "version": 3
   },
   "file_extension": ".py",
   "mimetype": "text/x-python",
   "name": "python",
   "nbconvert_exporter": "python",
   "pygments_lexer": "ipython3",
   "version": "3.11.6"
  }
 },
 "nbformat": 4,
 "nbformat_minor": 5
}
