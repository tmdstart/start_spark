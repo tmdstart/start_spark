{
 "cells": [
  {
   "cell_type": "code",
   "execution_count": 179,
   "id": "c9b76ac4-6ead-41b2-9153-4bb08b911f99",
   "metadata": {},
   "outputs": [],
   "source": [
    "from pyspark.ml.feature import VectorAssembler\n",
    "from pyspark.sql.functions import udf\n",
    "from pyspark.sql.types import IntegerType\n",
    "from pyspark.sql.functions import regexp_extract, col\n",
    "import re"
   ]
  },
  {
   "cell_type": "code",
   "execution_count": 180,
   "id": "3bbdf328-ec01-48dd-a4c7-96e57fa36642",
   "metadata": {},
   "outputs": [],
   "source": [
    "from pyspark.sql import SparkSession\n",
    "MAX_MEMORY ='8g'\n",
    "spark = SparkSession.builder.appName(\"practice_wine\").config('spark.driver.memory',MAX_MEMORY).config('spark.executer.memory',MAX_MEMORY).getOrCreate()"
   ]
  },
  {
   "cell_type": "code",
   "execution_count": 215,
   "id": "da9c0d69-fa7e-4594-965e-444abadc3efc",
   "metadata": {},
   "outputs": [
    {
     "data": {
      "text/plain": [
       "'file:////home/jovyan/work/start_spark/start_spark/running_spark_data/redwine.csv'"
      ]
     },
     "execution_count": 215,
     "metadata": {},
     "output_type": "execute_result"
    }
   ],
   "source": [
    "file_path = f\"file:///{wine_data_path.replace(os.sep,'/')}\"\n",
    "file_path"
   ]
  },
  {
   "cell_type": "code",
   "execution_count": 182,
   "id": "cdc805a6-450d-4c42-824d-4d219541876d",
   "metadata": {},
   "outputs": [
    {
     "data": {
      "text/plain": [
       "'/home/jovyan/work/start_spark/start_spark/running_spark_data/redwine.csv'"
      ]
     },
     "execution_count": 182,
     "metadata": {},
     "output_type": "execute_result"
    }
   ],
   "source": [
    "import os\n",
    "cwd = os.getcwd()\n",
    "wine_data_path= os.path.join(cwd, 'running_spark_data/redwine.csv')\n",
    "wine_data_path"
   ]
  },
  {
   "cell_type": "code",
   "execution_count": 183,
   "id": "92acc499-1dc6-4baa-a377-2cc2796cc448",
   "metadata": {},
   "outputs": [
    {
     "name": "stdout",
     "output_type": "stream",
     "text": [
      "root\n",
      " |-- _c0: integer (nullable = true)\n",
      " |-- id: integer (nullable = true)\n",
      " |-- name: string (nullable = true)\n",
      " |-- producer: string (nullable = true)\n",
      " |-- nation: string (nullable = true)\n",
      " |-- local1: string (nullable = true)\n",
      " |-- local2: string (nullable = true)\n",
      " |-- local3: string (nullable = true)\n",
      " |-- local4: string (nullable = true)\n",
      " |-- varieties1: string (nullable = true)\n",
      " |-- varieties2: string (nullable = true)\n",
      " |-- varieties3: string (nullable = true)\n",
      " |-- varieties4: string (nullable = true)\n",
      " |-- varieties5: string (nullable = true)\n",
      " |-- varieties6: string (nullable = true)\n",
      " |-- varieties7: string (nullable = true)\n",
      " |-- varieties8: string (nullable = true)\n",
      " |-- varieties9: string (nullable = true)\n",
      " |-- varieties10: string (nullable = true)\n",
      " |-- varieties11: string (nullable = true)\n",
      " |-- varieties12: string (nullable = true)\n",
      " |-- type: string (nullable = true)\n",
      " |-- use: string (nullable = true)\n",
      " |-- abv: string (nullable = true)\n",
      " |-- degree: string (nullable = true)\n",
      " |-- sweet: string (nullable = true)\n",
      " |-- acidity: string (nullable = true)\n",
      " |-- body: string (nullable = true)\n",
      " |-- tannin: string (nullable = true)\n",
      " |-- price: integer (nullable = true)\n",
      " |-- year: integer (nullable = true)\n",
      " |-- ml: integer (nullable = true)\n",
      "\n"
     ]
    }
   ],
   "source": [
    "wine_df = spark.read.csv(wine_data_path, header=True, inferSchema=True)\n",
    "wine_df.printSchema()"
   ]
  },
  {
   "cell_type": "code",
   "execution_count": 184,
   "id": "9c64960b-5fb0-4f1f-bb5d-d33512f8c811",
   "metadata": {},
   "outputs": [],
   "source": [
    "from pyspark.sql.functions import regexp_extract, col\n",
    "\n",
    "wine_df = wine_df.withColumn('sweet', regexp_extract(col('sweet'), r'\\d+', 0).cast('int'))\n",
    "wine_df = wine_df.withColumn('acidity', regexp_extract(col('acidity'), r'\\d+', 0).cast('int'))\n",
    "wine_df = wine_df.withColumn('body', regexp_extract(col('body'), r'\\d+', 0).cast('int'))\n",
    "wine_df = wine_df.withColumn('tannin', regexp_extract(col('tannin'), r'\\d+', 0).cast('int'))"
   ]
  },
  {
   "cell_type": "code",
   "execution_count": 185,
   "id": "c8a56ce5-56e7-474f-bc00-ce4b97bc53e0",
   "metadata": {
    "scrolled": true
   },
   "outputs": [
    {
     "name": "stdout",
     "output_type": "stream",
     "text": [
      "+---+------+--------------------+------------+------+------------+----------+------+------+------------------+----------+--------------+--------------+--------------+------------+----------+----------+----------+-----------+-----------+-----------+----+-----+-----+------+-----+-------+----+------+------+----+---+\n",
      "|_c0|    id|                name|    producer|nation|      local1|    local2|local3|local4|        varieties1|varieties2|    varieties3|    varieties4|    varieties5|  varieties6|varieties7|varieties8|varieties9|varieties10|varieties11|varieties12|type|  use|  abv|degree|sweet|acidity|body|tannin| price|year| ml|\n",
      "+---+------+--------------------+------------+------+------------+----------+------+------+------------------+----------+--------------+--------------+--------------+------------+----------+----------+----------+-----------+-----------+-----------+----+-----+-----+------+-----+-------+----+------+------+----+---+\n",
      "|  0|137197|              Altair|      Altair| Chile|Rapel Valley|      NULL|  NULL|  NULL|Cabernet Sauvignon| Carmenere|        Merlot|          NULL|          NULL|        NULL|      NULL|      NULL|      NULL|       NULL|       NULL|       NULL| Red|Table|14~15| 17~19|    1|      4|   5|     4|220000|2014|750|\n",
      "|  1|137198|     Altair, Sideral|      Altair| Chile|Rapel Valley|      NULL|  NULL|  NULL|Cabernet Sauvignon|    Merlot|     Carmenere|Cabernet Franc|Syrah & Shiraz|Petit Verdot|      NULL|      NULL|      NULL|       NULL|       NULL|       NULL| Red|Table|14~15| 16~18|    1|      3|   4|     4|110000|2016|750|\n",
      "|  2|137199|    Baron du Val Red|Baron du Val|France|        NULL|      NULL|  NULL|  NULL|          Carignan|  Cinsault|Syrah & Shiraz| Grenache Noir|          NULL|        NULL|      NULL|      NULL|      NULL|       NULL|       NULL|       NULL| Red|Table|11~12| 15~17|    2|      3|   2|     2|     0|   0|750|\n",
      "|  4|137201|Benziger, Caberne...|    Benziger|   USA|  California|      NULL|  NULL|  NULL|Cabernet Sauvignon|      NULL|          NULL|          NULL|          NULL|        NULL|      NULL|      NULL|      NULL|       NULL|       NULL|       NULL| Red|Table|13~14| 17~19|    1|      3|   3|     4|     0|2003|750|\n",
      "|  5|137202|Calvet, Beaujolai...|      Calvet|France|   Bourgogne|Beaujolais|  NULL|  NULL|             Gamay|      NULL|          NULL|          NULL|          NULL|        NULL|      NULL|      NULL|      NULL|       NULL|       NULL|       NULL| Red|Table|   12| 13~15|    2|      4|   2|     2|     0|2007|750|\n",
      "+---+------+--------------------+------------+------+------------+----------+------+------+------------------+----------+--------------+--------------+--------------+------------+----------+----------+----------+-----------+-----------+-----------+----+-----+-----+------+-----+-------+----+------+------+----+---+\n",
      "only showing top 5 rows\n",
      "\n"
     ]
    }
   ],
   "source": [
    "wine_df.show(5)"
   ]
  },
  {
   "cell_type": "code",
   "execution_count": 186,
   "id": "18835bcd-6fee-479f-8b34-6b7cc8c3a25f",
   "metadata": {},
   "outputs": [
    {
     "name": "stdout",
     "output_type": "stream",
     "text": [
      "+--------------------+\n",
      "|          varieties1|\n",
      "+--------------------+\n",
      "|      Black Grenache|\n",
      "|         Mavrodaphne|\n",
      "|               Ruche|\n",
      "|Lambrusco Graspar...|\n",
      "|          Grand Noir|\n",
      "|       Malbo Gentile|\n",
      "|            Pinotage|\n",
      "|            Brunello|\n",
      "|           Brachetto|\n",
      "|         Agiorgitiko|\n",
      "|            Dolcetto|\n",
      "|        Petit Verdot|\n",
      "|            Frappato|\n",
      "|        Nero d'Avola|\n",
      "|             Lacrima|\n",
      "|        Uva di Troia|\n",
      "|             Pignolo|\n",
      "|          Piedirosso|\n",
      "|            Viognier|\n",
      "|          Chardonnay|\n",
      "|            Aragonez|\n",
      "|           Carmenere|\n",
      "|    Prugnolo Gentile|\n",
      "|        Black Muscat|\n",
      "|       Tinta de Toro|\n",
      "|        Susumaniello|\n",
      "|          Ciliegiolo|\n",
      "|     Feteasca Neagra|\n",
      "|Refosco dal Pedun...|\n",
      "|   Sangiovese Grosso|\n",
      "|              Freisa|\n",
      "|        Moscato Rosa|\n",
      "|         Tempranillo|\n",
      "|     Garnatxa Peluda|\n",
      "|          Dornfelder|\n",
      "|            Nebbiolo|\n",
      "|       Grenache Noir|\n",
      "|            Colorino|\n",
      "|          Sagrantino|\n",
      "|              Merlot|\n",
      "|Muscat Bailey A ,...|\n",
      "|                 Etc|\n",
      "|             Furmint|\n",
      "|            Bastardo|\n",
      "|              Monica|\n",
      "|            Croatina|\n",
      "|           Nerobuono|\n",
      "|             Lagrein|\n",
      "|           Corvinone|\n",
      "|               Gamay|\n",
      "|          Pinot Noir|\n",
      "|              Mavrud|\n",
      "|      Syrah & Shiraz|\n",
      "|              Malbec|\n",
      "|              Mauzac|\n",
      "|          Grignolino|\n",
      "|             Barbera|\n",
      "|        Bovale Sardo|\n",
      "|            Malvasia|\n",
      "|           Teroldego|\n",
      "|       Tinta Barroca|\n",
      "|            Carignan|\n",
      "|            Castelao|\n",
      "|              Raboso|\n",
      "|          Pinot Nero|\n",
      "|            Abouriou|\n",
      "|              Mencia|\n",
      "|          Sangiovese|\n",
      "|   Alicante Bouschet|\n",
      "|            Canaiolo|\n",
      "|            Zweigelt|\n",
      "|          Negroamaro|\n",
      "|            Cannonau|\n",
      "|     Tinta Francisca|\n",
      "|           Trousseau|\n",
      "|               Onion|\n",
      "|       Nero di Troia|\n",
      "|          Tinto Fino|\n",
      "|             Bonarda|\n",
      "|       Grolleau Gris|\n",
      "|       Blaufrankisch|\n",
      "|          Kekfrankos|\n",
      "|              Tannat|\n",
      "|           Zinfandel|\n",
      "|         Trincadeira|\n",
      "|          Blackberry|\n",
      "|      Touriga Franca|\n",
      "|        Fer Servadou|\n",
      "|  Bordeaux Blend Red|\n",
      "|           Gaglioppo|\n",
      "|      Garnacha Negra|\n",
      "|            Saperavi|\n",
      "|          Carricante|\n",
      "|    Touriga Nacional|\n",
      "|              Muscat|\n",
      "|          Monastrell|\n",
      "|            Cinsault|\n",
      "|               Samso|\n",
      "|             Refosco|\n",
      "|              Mataro|\n",
      "|            Negrette|\n",
      "|           Aglianico|\n",
      "|       Montepulciano|\n",
      "|               Bobal|\n",
      "|              Cienna|\n",
      "|    Corvina Veronese|\n",
      "|       Pinot Meunier|\n",
      "|      Mondeuse Noire|\n",
      "|  Cabernet Sauvignon|\n",
      "|           Kotsifali|\n",
      "|          Rondinella|\n",
      "|            Grenache|\n",
      "|           Carignano|\n",
      "|             Moscato|\n",
      "|           Pelaverga|\n",
      "|       Malvasia nera|\n",
      "|             Corvina|\n",
      "|  Garnacha Tintorera|\n",
      "|      Cabernet Franc|\n",
      "|           Valdiguie|\n",
      "|            Graciano|\n",
      "|                Rebo|\n",
      "|         Tinta Roriz|\n",
      "|           Franconia|\n",
      "|       Spatburgunder|\n",
      "|           mourvedre|\n",
      "|        Petite Sirah|\n",
      "|         Plavac Mali|\n",
      "|            Carinena|\n",
      "|              Limnio|\n",
      "|           Lambrusco|\n",
      "|           Auxerrois|\n",
      "|           Xinomavro|\n",
      "|            Garnacha|\n",
      "|            Aleatico|\n",
      "|             Concord|\n",
      "|               Blend|\n",
      "|   Nerello Mascalese|\n",
      "|              Aramon|\n",
      "|              Bovale|\n",
      "|      Tocai Friulano|\n",
      "|           Primitivo|\n",
      "|              Grillo|\n",
      "|                Baga|\n",
      "|           Marzemino|\n",
      "|                NULL|\n",
      "+--------------------+\n",
      "\n",
      "None\n"
     ]
    }
   ],
   "source": [
    "print(wine_df.select('varieties1').distinct().show(200))"
   ]
  },
  {
   "cell_type": "code",
   "execution_count": 187,
   "id": "928cabe6-a448-4146-aa03-8ee2b2d4afa5",
   "metadata": {},
   "outputs": [
    {
     "name": "stdout",
     "output_type": "stream",
     "text": [
      "139\n"
     ]
    }
   ],
   "source": [
    "print(wine_df.select('varieties2').distinct().count())"
   ]
  },
  {
   "cell_type": "code",
   "execution_count": 188,
   "id": "d591d054-5721-4e54-89f9-d0f3ece550e0",
   "metadata": {},
   "outputs": [
    {
     "name": "stdout",
     "output_type": "stream",
     "text": [
      "+--------------------+-----+\n",
      "|          varieties1|count|\n",
      "+--------------------+-----+\n",
      "|  Cabernet Sauvignon| 2784|\n",
      "|          Pinot Noir| 2258|\n",
      "|              Merlot| 1656|\n",
      "|      Syrah & Shiraz| 1338|\n",
      "|          Sangiovese|  883|\n",
      "|         Tempranillo|  597|\n",
      "|            Grenache|  487|\n",
      "|            Nebbiolo|  444|\n",
      "|              Malbec|  313|\n",
      "|               Blend|  304|\n",
      "|           Carmenere|  252|\n",
      "|                NULL|  189|\n",
      "|             Barbera|  175|\n",
      "|           Zinfandel|  151|\n",
      "|             Corvina|  146|\n",
      "|       Montepulciano|  143|\n",
      "|          Monastrell|  133|\n",
      "|            Garnacha|  119|\n",
      "|      Cabernet Franc|  118|\n",
      "|        Nero d'Avola|   91|\n",
      "|           Primitivo|   90|\n",
      "|               Gamay|   87|\n",
      "|            Carignan|   66|\n",
      "|   Sangiovese Grosso|   51|\n",
      "|           Aglianico|   51|\n",
      "|            Dolcetto|   48|\n",
      "|  Bordeaux Blend Red|   43|\n",
      "|          Negroamaro|   42|\n",
      "|    Corvina Veronese|   39|\n",
      "|        Petite Sirah|   39|\n",
      "|   Nerello Mascalese|   37|\n",
      "|            Pinotage|   35|\n",
      "|           Brachetto|   32|\n",
      "|           mourvedre|   31|\n",
      "|    Touriga Nacional|   29|\n",
      "|       Grenache Noir|   24|\n",
      "|    Prugnolo Gentile|   20|\n",
      "|        Petit Verdot|   18|\n",
      "|              Mencia|   17|\n",
      "|            Cinsault|   17|\n",
      "|          Tinto Fino|   15|\n",
      "|          Sagrantino|   14|\n",
      "|            Brunello|   13|\n",
      "|          Pinot Nero|   13|\n",
      "|            Zweigelt|   13|\n",
      "|              Tannat|   13|\n",
      "|          Dornfelder|   12|\n",
      "|       Blaufrankisch|   12|\n",
      "|Muscat Bailey A ,...|   11|\n",
      "|           Xinomavro|   11|\n",
      "|            Cannonau|   10|\n",
      "|       Nero di Troia|   10|\n",
      "|            Aragonez|    9|\n",
      "|            Castelao|    9|\n",
      "|            Saperavi|    9|\n",
      "|               Bobal|    9|\n",
      "|             Concord|    9|\n",
      "|       Tinta de Toro|    8|\n",
      "|            Malvasia|    8|\n",
      "|         Trincadeira|    8|\n",
      "|            Carinena|    8|\n",
      "|           Lambrusco|    7|\n",
      "|             Lacrima|    6|\n",
      "|          Chardonnay|    6|\n",
      "|              Freisa|    6|\n",
      "|             Lagrein|    6|\n",
      "|   Alicante Bouschet|    6|\n",
      "|           Trousseau|    5|\n",
      "|             Bonarda|    5|\n",
      "|      Garnacha Negra|    5|\n",
      "|             Refosco|    5|\n",
      "|           Carignano|    5|\n",
      "|           Marzemino|    5|\n",
      "|            Frappato|    4|\n",
      "|      Touriga Franca|    4|\n",
      "|  Garnacha Tintorera|    4|\n",
      "|         Tinta Roriz|    4|\n",
      "|       Spatburgunder|    4|\n",
      "|         Plavac Mali|    4|\n",
      "|      Black Grenache|    3|\n",
      "|         Agiorgitiko|    3|\n",
      "|          Piedirosso|    3|\n",
      "|        Susumaniello|    3|\n",
      "|          Blackberry|    3|\n",
      "|           Gaglioppo|    3|\n",
      "|       Malvasia nera|    3|\n",
      "|           Valdiguie|    3|\n",
      "|            Graciano|    3|\n",
      "|          Grand Noir|    2|\n",
      "|        Uva di Troia|    2|\n",
      "|             Pignolo|    2|\n",
      "|            Viognier|    2|\n",
      "|          Ciliegiolo|    2|\n",
      "|Refosco dal Pedun...|    2|\n",
      "|     Garnatxa Peluda|    2|\n",
      "|            Colorino|    2|\n",
      "|            Croatina|    2|\n",
      "|              Mauzac|    2|\n",
      "|           Teroldego|    2|\n",
      "|              Muscat|    2|\n",
      "|             Moscato|    2|\n",
      "|              Limnio|    2|\n",
      "|           Auxerrois|    2|\n",
      "|            Aleatico|    2|\n",
      "|         Mavrodaphne|    1|\n",
      "|               Ruche|    1|\n",
      "|Lambrusco Graspar...|    1|\n",
      "|       Malbo Gentile|    1|\n",
      "|        Black Muscat|    1|\n",
      "|     Feteasca Neagra|    1|\n",
      "|        Moscato Rosa|    1|\n",
      "|                 Etc|    1|\n",
      "|             Furmint|    1|\n",
      "|            Bastardo|    1|\n",
      "|              Monica|    1|\n",
      "|           Nerobuono|    1|\n",
      "|           Corvinone|    1|\n",
      "|              Mavrud|    1|\n",
      "|          Grignolino|    1|\n",
      "|        Bovale Sardo|    1|\n",
      "|       Tinta Barroca|    1|\n",
      "|              Raboso|    1|\n",
      "|            Abouriou|    1|\n",
      "|            Canaiolo|    1|\n",
      "|     Tinta Francisca|    1|\n",
      "|               Onion|    1|\n",
      "|       Grolleau Gris|    1|\n",
      "|          Kekfrankos|    1|\n",
      "|        Fer Servadou|    1|\n",
      "|          Carricante|    1|\n",
      "|               Samso|    1|\n",
      "|              Mataro|    1|\n",
      "|            Negrette|    1|\n",
      "|              Cienna|    1|\n",
      "|       Pinot Meunier|    1|\n",
      "|      Mondeuse Noire|    1|\n",
      "|           Kotsifali|    1|\n",
      "|          Rondinella|    1|\n",
      "|           Pelaverga|    1|\n",
      "|                Rebo|    1|\n",
      "|           Franconia|    1|\n",
      "|              Aramon|    1|\n",
      "|              Bovale|    1|\n",
      "|      Tocai Friulano|    1|\n",
      "|              Grillo|    1|\n",
      "|                Baga|    1|\n",
      "+--------------------+-----+\n",
      "\n"
     ]
    }
   ],
   "source": [
    "from pyspark.sql.functions import col\n",
    "\n",
    "# PySpark DataFrame에서 'varieties1' 컬럼의 빈도수를 구하는 방법\n",
    "variety_counts_df = wine_df.groupBy('varieties1').count()\n",
    "\n",
    "# 결과 확인 (count() 컬럼을 기준으로 내림차순 정렬)\n",
    "variety_counts_df.orderBy(col('count').desc()).show(200)"
   ]
  },
  {
   "cell_type": "code",
   "execution_count": 189,
   "id": "175d4e71-4fa0-423b-a04e-b865850e626b",
   "metadata": {
    "scrolled": true
   },
   "outputs": [
    {
     "name": "stdout",
     "output_type": "stream",
     "text": [
      "+--------------------+-----+\n",
      "|              local1|count|\n",
      "+--------------------+-----+\n",
      "|           Bourgogne| 1629|\n",
      "|          California| 1620|\n",
      "|            Bordeaux| 1333|\n",
      "|             Toscana| 1103|\n",
      "|     South Australia|  709|\n",
      "|            Piemonte|  706|\n",
      "|               Rhone|  544|\n",
      "|        Rapel Valley|  482|\n",
      "|     Southern France|  459|\n",
      "|                NULL|  428|\n",
      "|             Mendoza|  353|\n",
      "|        Maipo Valley|  307|\n",
      "|      Central Valley|  300|\n",
      "|               Rioja|  268|\n",
      "|              Veneto|  242|\n",
      "|             Sicilia|  184|\n",
      "|    Washington State|  166|\n",
      "|              Puglia|  155|\n",
      "|              Oregon|  134|\n",
      "|        Maule Valley|  130|\n",
      "|  Cabernet Sauvignon|  129|\n",
      "|             Abruzzo|  120|\n",
      "|           Aconcagua|  113|\n",
      "|      Coastal Region|  108|\n",
      "|    Ribera del Duero|  102|\n",
      "|            Victoria|   89|\n",
      "|           La Mancha|   89|\n",
      "|        South Island|   84|\n",
      "|South Eastern Aus...|   69|\n",
      "|       Syrah  Shiraz|   66|\n",
      "|       Curico Valley|   63|\n",
      "|            Coquimbo|   59|\n",
      "|    Southwest France|   56|\n",
      "|   Western Australia|   55|\n",
      "|        Western Cape|   51|\n",
      "|             Jumilla|   50|\n",
      "|     New South Wales|   49|\n",
      "|           Catalunya|   47|\n",
      "|               Loire|   47|\n",
      "|               Yecla|   44|\n",
      "|            San Juan|   43|\n",
      "|            Valencia|   41|\n",
      "|            Campania|   37|\n",
      "|              Umbria|   36|\n",
      "|             Penedes|   36|\n",
      "|              Marche|   33|\n",
      "|       EmiliaRomagna|   31|\n",
      "|          Pinot Noir|   31|\n",
      "|        North Island|   30|\n",
      "|          Burgenland|   29|\n",
      "|               Douro|   29|\n",
      "|  TrentinoAlto Adige|   28|\n",
      "|Friuli Venezia Gi...|   28|\n",
      "|            Carinena|   28|\n",
      "|          Valdepenas|   28|\n",
      "|             Navarra|   26|\n",
      "|           Calatayud|   25|\n",
      "|            Alentejo|   21|\n",
      "|          Basilicata|   21|\n",
      "|           Lombardia|   20|\n",
      "|               Lazio|   19|\n",
      "|                Toro|   18|\n",
      "|           Somontano|   17|\n",
      "|            Alicante|   17|\n",
      "|            Sardegna|   16|\n",
      "|               Salta|   16|\n",
      "|              Alsace|   14|\n",
      "|           Macedonia|   14|\n",
      "|      Campo de Borja|   13|\n",
      "|    Niederosterreich|   12|\n",
      "|              Bierzo|   12|\n",
      "|           Manchuela|   12|\n",
      "|                Leon|   11|\n",
      "|     Gyeongsangbukdo|   11|\n",
      "|     Southern Region|   10|\n",
      "|              Lisboa|   10|\n",
      "|         Rheinhessen|    9|\n",
      "|            Montsant|    9|\n",
      "|      New York State|    8|\n",
      "|               Pfalz|    8|\n",
      "|           Rio Negro|    8|\n",
      "| Breede River Valley|    8|\n",
      "|            Tasmania|    8|\n",
      "|   Setubal Peninsula|    7|\n",
      "|                Jura|    7|\n",
      "|    Cape South Coast|    7|\n",
      "|      Cabernet Franc|    7|\n",
      "|                 Dao|    6|\n",
      "|    Ribera del Jucar|    6|\n",
      "|          pazardzhik|    5|\n",
      "|Dominio de Valdepusa|    5|\n",
      "|      EmpordaAmporda|    5|\n",
      "|        Pla de Bages|    5|\n",
      "| Ribera del Guadiana|    4|\n",
      "|            Dalmatia|    4|\n",
      "|             Juanico|    4|\n",
      "|   Costers del Segre|    4|\n",
      "|              Vipava|    4|\n",
      "|       The Northeast|    4|\n",
      "|               Baden|    4|\n",
      "|    British Columbia|    4|\n",
      "|    Touriga Nacional|    4|\n",
      "|       Utiel Requena|    4|\n",
      "|         SavoieBugey|    4|\n",
      "|     Feteasca Neagra|    3|\n",
      "|             Cigales|    3|\n",
      "|        Extremandura|    3|\n",
      "|            Calabria|    3|\n",
      "|              Molise|    3|\n",
      "|          Bear River|    3|\n",
      "|           Champagne|    2|\n",
      "|               Crete|    2|\n",
      "|     OlteniaMuntenia|    2|\n",
      "|             Ribeiro|    2|\n",
      "|         Peloponnese|    2|\n",
      "|    Conca de Barbera|    2|\n",
      "|Central Greece an...|    2|\n",
      "|Australian Capita...|    2|\n",
      "|               Rueda|    2|\n",
      "|             Franken|    2|\n",
      "|     Vinos de Madrid|    2|\n",
      "|            Bairrada|    2|\n",
      "|            Virginia|    2|\n",
      "|      Olifants River|    2|\n",
      "|        Goriska Brda|    2|\n",
      "|            Oryahovo|    2|\n",
      "|        Bekaa Valley|    2|\n",
      "|             Kakheti|    2|\n",
      "|Lambrusco Graspar...|    1|\n",
      "|            Mentrida|    1|\n",
      "|             Almansa|    1|\n",
      "|       Tinta de Toro|    1|\n",
      "|             Liguria|    1|\n",
      "|Refosco dal Pedun...|    1|\n",
      "|Muscat Bailey A  MBA|    1|\n",
      "|             Galicia|    1|\n",
      "|       Grenache Noir|    1|\n",
      "|    Grechetto Bianco|    1|\n",
      "|            Thessaly|    1|\n",
      "|               Corse|    1|\n",
      "|    JerezXeresSherry|    1|\n",
      "|           Tarragona|    1|\n",
      "|          Pinot Nero|    1|\n",
      "|         Nero dAvola|    1|\n",
      "|         Rias Baixas|    1|\n",
      "|   Alicante Bouschet|    1|\n",
      "|  Shandong Peninsula|    1|\n",
      "|  Lambrusco Salamino|    1|\n",
      "|            Rheingau|    1|\n",
      "|          Tinto Fino|    1|\n",
      "|              Thrace|    1|\n",
      "|     Millahue Valley|    1|\n",
      "|      MoselSaarRuwer|    1|\n",
      "|          Terra Alta|    1|\n",
      "|           Yamanashi|    1|\n",
      "|         Tinta Roriz|    1|\n",
      "|          Queensland|    1|\n",
      "|        Petite Sirah|    1|\n",
      "|          Pinot Gris|    1|\n",
      "|              Bullas|    1|\n",
      "+--------------------+-----+\n",
      "\n"
     ]
    }
   ],
   "source": [
    "from pyspark.sql.functions import col\n",
    "\n",
    "# PySpark DataFrame에서 'varieties1' 컬럼의 빈도수를 구하는 방법\n",
    "variety_counts_df = wine_df.groupBy('local1').count()\n",
    "\n",
    "# 결과 확인 (count() 컬럼을 기준으로 내림차순 정렬)\n",
    "variety_counts_df.orderBy(col('count').desc()).show(2000)"
   ]
  },
  {
   "cell_type": "code",
   "execution_count": 190,
   "id": "cede39e9-0739-4057-97ef-aebbad5574fd",
   "metadata": {},
   "outputs": [
    {
     "name": "stdout",
     "output_type": "stream",
     "text": [
      "\n",
      "--- 생산지 상위 27개, 품종 상위 30개로 필터링 시작 ---\n",
      "생산지 20개, 품종 40개로 필터링된 데이터 수: 11129개\n"
     ]
    }
   ],
   "source": [
    "from pyspark.sql.functions import col, sum, desc, expr\n",
    "from functools import reduce\n",
    "\n",
    "def filter_by_top_n(df, limit_local1, limit_variety):\n",
    "    \"\"\"\n",
    "    지정된 상위 N개 생산지와 품종으로 데이터프레임을 필터링하는 함수.\n",
    "\n",
    "    :param df: PySpark DataFrame (wine_df)\n",
    "    :param limit_local1: 상위 생산지 개수\n",
    "    :param limit_variety: 상위 품종 개수\n",
    "    :return: 필터링된 DataFrame과 그 개수\n",
    "    \"\"\"\n",
    "    \n",
    "    print(f\"\\n--- 생산지 상위 {limit_local1}개, 품종 상위 {limit_variety}개로 필터링 시작 ---\")\n",
    "    \n",
    "    # 1. 생산지(local1) 상위 목록 추출\n",
    "    top_local1_list = [\n",
    "        row.local1 for row in df.groupBy(\"local1\")\n",
    "                                 .agg(sum(\"ml\").alias(\"total_ml\"))\n",
    "                                 .orderBy(desc(\"total_ml\"))\n",
    "                                 .limit(limit_local1)\n",
    "                                 .collect()\n",
    "    ]\n",
    "    \n",
    "    # 2. 품종(varieties1 ~ varieties12) 상위 목록 추출\n",
    "    varieties_cols = [f\"varieties{i}\" for i in range(1, 13)]\n",
    "    stack_expr = expr(\"stack(12, \" + \", \".join(f\"'{c}', `{c}`\" for c in varieties_cols) + \") as (col_name, variety)\")\n",
    "    \n",
    "    top_variety_df = (\n",
    "        df.select(col(\"ml\"), stack_expr)\n",
    "        .groupBy(\"variety\")\n",
    "        .agg(sum(\"ml\").alias(\"total_ml\"))\n",
    "        .orderBy(desc(\"total_ml\"))\n",
    "        .filter(col(\"variety\").isNotNull())\n",
    "        .limit(limit_variety)\n",
    "    )\n",
    "    top_variety_list = [row.variety for row in top_variety_df.collect()]\n",
    "    \n",
    "    # 3. 필터링 실행\n",
    "    variety_filter_condition = reduce(\n",
    "        lambda x, y: x | y, \n",
    "        [col(variety).isin(top_variety_list) for variety in varieties_cols]\n",
    "    )\n",
    "    filtered_df = df.filter(\n",
    "        col(\"local1\").isin(top_local1_list) & \n",
    "        variety_filter_condition\n",
    "    )\n",
    "    \n",
    "    # 4. 결과 반환\n",
    "    filtered_count = filtered_df.count()\n",
    "    return filtered_df, filtered_count\n",
    "\n",
    "# 사용 예시\n",
    "# 데이터프레임 'wine_df'는 미리 선언되어 있어야 합니다.\n",
    "\n",
    "\n",
    "\n",
    "# 예시 3: 생산지 상위 30개, 품종 상위 25개\n",
    "filtered_df, count_27_30 = filter_by_top_n(wine_df, 27, 30)\n",
    "print(f\"생산지 20개, 품종 40개로 필터링된 데이터 수: {count_27_30}개\")"
   ]
  },
  {
   "cell_type": "code",
   "execution_count": 191,
   "id": "866f7688-8c8f-4883-835b-a1c7413d5785",
   "metadata": {},
   "outputs": [],
   "source": [
    "wine_df=filtered_df"
   ]
  },
  {
   "cell_type": "code",
   "execution_count": 192,
   "id": "90c922b8-e304-4e39-ab22-0c2f1cc4bd2f",
   "metadata": {},
   "outputs": [
    {
     "data": {
      "text/plain": [
       "11129"
      ]
     },
     "execution_count": 192,
     "metadata": {},
     "output_type": "execute_result"
    }
   ],
   "source": [
    "wine_df.count()"
   ]
  },
  {
   "cell_type": "code",
   "execution_count": 193,
   "id": "c839dacb-3001-426b-833a-e9c5395aa52a",
   "metadata": {},
   "outputs": [
    {
     "name": "stdout",
     "output_type": "stream",
     "text": [
      "가격이 0인 와인의 총 개수: 4637개\n",
      "+---+------+--------------------+-----------------+------+----------+------------------+------+------+------------------+----------+--------------+------------+----------+----------+----------+----------+----------+-----------+-----------+-----------+----+-----+-----+------+-----+-------+----+------+-----+----+---+\n",
      "|_c0|    id|                name|         producer|nation|    local1|            local2|local3|local4|        varieties1|varieties2|    varieties3|  varieties4|varieties5|varieties6|varieties7|varieties8|varieties9|varieties10|varieties11|varieties12|type|  use|  abv|degree|sweet|acidity|body|tannin|price|year| ml|\n",
      "+---+------+--------------------+-----------------+------+----------+------------------+------+------+------------------+----------+--------------+------------+----------+----------+----------+----------+----------+-----------+-----------+-----------+----+-----+-----+------+-----+-------+----+------+-----+----+---+\n",
      "|  4|137201|Benziger, Caberne...|         Benziger|   USA|California|              NULL|  NULL|  NULL|Cabernet Sauvignon|      NULL|          NULL|        NULL|      NULL|      NULL|      NULL|      NULL|      NULL|       NULL|       NULL|       NULL| Red|Table|13~14| 17~19|    1|      3|   3|     4|    0|2003|750|\n",
      "|  5|137202|Calvet, Beaujolai...|           Calvet|France| Bourgogne|        Beaujolais|  NULL|  NULL|             Gamay|      NULL|          NULL|        NULL|      NULL|      NULL|      NULL|      NULL|      NULL|       NULL|       NULL|       NULL| Red|Table|   12| 13~15|    2|      4|   2|     2|    0|2007|750|\n",
      "|  6|137203|       Calvet, Aetos|           Calvet|France|  Bordeaux|              NULL|  NULL|  NULL|            Merlot|      NULL|          NULL|        NULL|      NULL|      NULL|      NULL|      NULL|      NULL|       NULL|       NULL|       NULL| Red|Table|   13| 17~19|    1|      3|   4|     3|    0|2003|750|\n",
      "| 13|137211|     Calvet, Margaux|           Calvet|France|  Bordeaux|           Margaux|  NULL|  NULL|Cabernet Sauvignon|    Merlot|        Malbec|Petit Verdot|      NULL|      NULL|      NULL|      NULL|      NULL|       NULL|       NULL|       NULL| Red|Table| 12.5| 17~19|    1|      4|   3|     3|    0|2004|750|\n",
      "| 22|137230|Chateau de Seguin...|Chateau de Seguin|France|  Bordeaux|Bordeaux Superieur|  NULL|  NULL|Cabernet Sauvignon|    Merlot|Cabernet Franc|        NULL|      NULL|      NULL|      NULL|      NULL|      NULL|       NULL|       NULL|       NULL| Red|Table|   13| 16~18|    1|      4|   4|     3|    0|2010|750|\n",
      "+---+------+--------------------+-----------------+------+----------+------------------+------+------+------------------+----------+--------------+------------+----------+----------+----------+----------+----------+-----------+-----------+-----------+----+-----+-----+------+-----+-------+----+------+-----+----+---+\n",
      "only showing top 5 rows\n",
      "\n"
     ]
    }
   ],
   "source": [
    "# price가 0인 와인만 필터링하여 남깁니다.\n",
    "zero_price_wines_df = wine_df.filter(col(\"price\") == 0)\n",
    "\n",
    "# 결과 확인\n",
    "print(f\"가격이 0인 와인의 총 개수: {zero_price_wines_df.count()}개\")\n",
    "zero_price_wines_df.show(5)"
   ]
  },
  {
   "cell_type": "code",
   "execution_count": 194,
   "id": "568d9d34-acb2-4827-8383-0c8d4ff2695a",
   "metadata": {
    "scrolled": true
   },
   "outputs": [
    {
     "name": "stdout",
     "output_type": "stream",
     "text": [
      "가격이 0보다 큰 와인 개수: 6492개\n",
      "모든 조건 적용 후 최종 데이터 수: 4367개\n",
      "root\n",
      " |-- _c0: integer (nullable = true)\n",
      " |-- id: integer (nullable = true)\n",
      " |-- name: string (nullable = true)\n",
      " |-- producer: string (nullable = true)\n",
      " |-- nation: string (nullable = true)\n",
      " |-- local1: string (nullable = true)\n",
      " |-- local2: string (nullable = true)\n",
      " |-- local3: string (nullable = true)\n",
      " |-- local4: string (nullable = true)\n",
      " |-- varieties1: string (nullable = true)\n",
      " |-- varieties2: string (nullable = true)\n",
      " |-- varieties3: string (nullable = true)\n",
      " |-- varieties4: string (nullable = true)\n",
      " |-- varieties5: string (nullable = true)\n",
      " |-- varieties6: string (nullable = true)\n",
      " |-- varieties7: string (nullable = true)\n",
      " |-- varieties8: string (nullable = true)\n",
      " |-- varieties9: string (nullable = true)\n",
      " |-- varieties10: string (nullable = true)\n",
      " |-- varieties11: string (nullable = true)\n",
      " |-- varieties12: string (nullable = true)\n",
      " |-- type: string (nullable = true)\n",
      " |-- use: string (nullable = true)\n",
      " |-- abv: string (nullable = true)\n",
      " |-- degree: string (nullable = true)\n",
      " |-- sweet: integer (nullable = true)\n",
      " |-- acidity: integer (nullable = true)\n",
      " |-- body: integer (nullable = true)\n",
      " |-- tannin: integer (nullable = true)\n",
      " |-- price: integer (nullable = true)\n",
      " |-- year: integer (nullable = true)\n",
      " |-- ml: integer (nullable = true)\n",
      "\n"
     ]
    }
   ],
   "source": [
    "from pyspark.sql.functions import col\n",
    "\n",
    "# 1. 가격이 0보다 큰 와인(6492개)만 남기기\n",
    "clean_df_step1 = wine_df.filter(col(\"price\") > 0)\n",
    "print(f\"가격이 0보다 큰 와인 개수: {clean_df_step1.count()}개\")\n",
    "\n",
    "# 2. 나머지 조건 적용 (NULL 값 제거)\n",
    "# abv, local1, varieties1 중 하나라도 NULL인 행들을 제거합니다.\n",
    "final_clean_df = clean_df_step1.dropna(subset=[\"abv\", \"local1\", \"varieties1\"])\n",
    "\n",
    "# 3. 최종 결과 확인\n",
    "final_count = final_clean_df.count()\n",
    "print(f\"모든 조건 적용 후 최종 데이터 수: {final_count}개\")\n",
    "\n",
    "final_clean_df.printSchema()"
   ]
  },
  {
   "cell_type": "code",
   "execution_count": 195,
   "id": "161bf1d9-22a2-4525-8406-06f2355292be",
   "metadata": {
    "scrolled": true
   },
   "outputs": [
    {
     "name": "stdout",
     "output_type": "stream",
     "text": [
      "+-----+-----------+\n",
      "|  abv|numeric_abv|\n",
      "+-----+-----------+\n",
      "|14~15|       14.5|\n",
      "|14~15|       14.5|\n",
      "|13~14|       13.5|\n",
      "|13~14|       13.5|\n",
      "|13~14|       13.5|\n",
      "|12~13|       12.5|\n",
      "|12~13|       12.5|\n",
      "| 13.5|       13.5|\n",
      "|13~14|       13.5|\n",
      "|13~14|       13.5|\n",
      "+-----+-----------+\n",
      "only showing top 10 rows\n",
      "\n",
      "root\n",
      " |-- _c0: integer (nullable = true)\n",
      " |-- id: integer (nullable = true)\n",
      " |-- name: string (nullable = true)\n",
      " |-- producer: string (nullable = true)\n",
      " |-- nation: string (nullable = true)\n",
      " |-- local1: string (nullable = true)\n",
      " |-- local2: string (nullable = true)\n",
      " |-- local3: string (nullable = true)\n",
      " |-- local4: string (nullable = true)\n",
      " |-- varieties1: string (nullable = true)\n",
      " |-- varieties2: string (nullable = true)\n",
      " |-- varieties3: string (nullable = true)\n",
      " |-- varieties4: string (nullable = true)\n",
      " |-- varieties5: string (nullable = true)\n",
      " |-- varieties6: string (nullable = true)\n",
      " |-- varieties7: string (nullable = true)\n",
      " |-- varieties8: string (nullable = true)\n",
      " |-- varieties9: string (nullable = true)\n",
      " |-- varieties10: string (nullable = true)\n",
      " |-- varieties11: string (nullable = true)\n",
      " |-- varieties12: string (nullable = true)\n",
      " |-- type: string (nullable = true)\n",
      " |-- use: string (nullable = true)\n",
      " |-- abv: string (nullable = true)\n",
      " |-- degree: string (nullable = true)\n",
      " |-- sweet: integer (nullable = true)\n",
      " |-- acidity: integer (nullable = true)\n",
      " |-- body: integer (nullable = true)\n",
      " |-- tannin: integer (nullable = true)\n",
      " |-- price: integer (nullable = true)\n",
      " |-- year: integer (nullable = true)\n",
      " |-- ml: integer (nullable = true)\n",
      " |-- numeric_abv: float (nullable = true)\n",
      "\n"
     ]
    }
   ],
   "source": [
    "from pyspark.sql.functions import udf, col\n",
    "from pyspark.sql.types import FloatType\n",
    "import re\n",
    "\n",
    "# UDF(사용자 정의 함수) 생성\n",
    "# '12~13' 형태의 문자열을 받아 평균값(12.5)을 반환하는 함수입니다.\n",
    "@udf(FloatType())\n",
    "def calculate_average_abv(abv_str):\n",
    "    if abv_str is None:\n",
    "        return None\n",
    "    \n",
    "    # 숫자만 추출하기 위해 ~ 기호로 분리\n",
    "    parts = abv_str.split('~')\n",
    "    \n",
    "    try:\n",
    "        if len(parts) == 2:\n",
    "            # '12~13'인 경우: (12+13)/2\n",
    "            return (float(parts[0]) + float(parts[1])) / 2\n",
    "        elif len(parts) == 1:\n",
    "            # '12'인 경우: 12\n",
    "            return float(parts[0])\n",
    "        else:\n",
    "            # 예상치 못한 형식인 경우: None 반환\n",
    "            return None\n",
    "    except (ValueError, IndexError):\n",
    "        # 숫자로 변환할 수 없는 경우 None 반환\n",
    "        return None\n",
    "\n",
    "# 'final_clean_df'에 새로운 'numeric_abv' 컬럼 추가\n",
    "# 기존 abv 컬럼은 유지하고, 변환된 값을 새로운 컬럼에 저장합니다.\n",
    "final_clean_df_with_numeric_abv = final_clean_df.withColumn(\n",
    "    \"numeric_abv\", \n",
    "    calculate_average_abv(col(\"abv\"))\n",
    ")\n",
    "\n",
    "# 결과 확인 (원하는 만큼의 행을 보여줍니다)\n",
    "final_clean_df_with_numeric_abv.select(\"abv\", \"numeric_abv\").show(10)\n",
    "final_clean_df_with_numeric_abv.printSchema()"
   ]
  },
  {
   "cell_type": "code",
   "execution_count": 196,
   "id": "106a069f-c36c-4514-8fd2-a55e94acfc62",
   "metadata": {},
   "outputs": [
    {
     "name": "stdout",
     "output_type": "stream",
     "text": [
      "+---+------+--------------------+--------------------+------+---------------+--------------------+------+------+------------------+------------------+--------------+--------------+--------------+------------+----------+----------+----------+-----------+-----------+-----------+----+-----+-----+------+-----+-------+----+------+------+----+---+-----------+\n",
      "|_c0|    id|                name|            producer|nation|         local1|              local2|local3|local4|        varieties1|        varieties2|    varieties3|    varieties4|    varieties5|  varieties6|varieties7|varieties8|varieties9|varieties10|varieties11|varieties12|type|  use|  abv|degree|sweet|acidity|body|tannin| price|year| ml|numeric_abv|\n",
      "+---+------+--------------------+--------------------+------+---------------+--------------------+------+------+------------------+------------------+--------------+--------------+--------------+------------+----------+----------+----------+-----------+-----------+-----------+----+-----+-----+------+-----+-------+----+------+------+----+---+-----------+\n",
      "|  0|137197|              Altair|              Altair| Chile|   Rapel Valley|                NULL|  NULL|  NULL|Cabernet Sauvignon|         Carmenere|        Merlot|          NULL|          NULL|        NULL|      NULL|      NULL|      NULL|       NULL|       NULL|       NULL| Red|Table|14~15| 17~19|    1|      4|   5|     4|220000|2014|750|       14.5|\n",
      "|  1|137198|     Altair, Sideral|              Altair| Chile|   Rapel Valley|                NULL|  NULL|  NULL|Cabernet Sauvignon|            Merlot|     Carmenere|Cabernet Franc|Syrah & Shiraz|Petit Verdot|      NULL|      NULL|      NULL|       NULL|       NULL|       NULL| Red|Table|14~15| 16~18|    1|      3|   4|     4|110000|2016|750|       14.5|\n",
      "|  7|137204|Calvet, Bordeaux Red|              Calvet|France|       Bordeaux|                NULL|  NULL|  NULL|            Merlot|Cabernet Sauvignon|          NULL|          NULL|          NULL|        NULL|      NULL|      NULL|      NULL|       NULL|       NULL|       NULL| Red|Table|13~14| 16~18|    1|      3|   2|     3| 21000|2011|750|       13.5|\n",
      "|  9|137207|Calvet, Varietals...|              Calvet|France|Southern France|Languedoc Roussillon|  NULL|  NULL|Cabernet Sauvignon|              NULL|          NULL|          NULL|          NULL|        NULL|      NULL|      NULL|      NULL|       NULL|       NULL|       NULL| Red|Table|13~14| 16~18|    1|      3|   2|     3| 19000|2017|750|       13.5|\n",
      "| 10|137208|Calvet, Varietals...|              Calvet|France|Southern France|Languedoc Roussillon|  NULL|  NULL|            Merlot|              NULL|          NULL|          NULL|          NULL|        NULL|      NULL|      NULL|      NULL|       NULL|       NULL|       NULL| Red|Table|13~14| 16~18|    1|      3|   3|     3| 19000|2011|750|       13.5|\n",
      "| 14|137212|       Calvet, Medoc|              Calvet|France|       Bordeaux|               Medoc|  NULL|  NULL|Cabernet Sauvignon|            Merlot|Cabernet Franc|  Petit Verdot|          NULL|        NULL|      NULL|      NULL|      NULL|       NULL|       NULL|       NULL| Red|Table|12~13| 16~18|    1|      4|   3|     3| 32000|2015|750|       12.5|\n",
      "| 15|137214|Calvet, Saint Emi...|              Calvet|France|       Bordeaux|        SaintEmilion|  NULL|  NULL|            Merlot|    Cabernet Franc|          NULL|          NULL|          NULL|        NULL|      NULL|      NULL|      NULL|       NULL|       NULL|       NULL| Red|Table|12~13| 16~18|    1|      3|   2|     2| 42000|2010|750|       12.5|\n",
      "| 18|137222|La Carillon de l'...|Chateau Angelus 1...|France|       Bordeaux|SaintEmilion Gran...|  NULL|  NULL|            Merlot|Cabernet Sauvignon|Cabernet Franc|          NULL|          NULL|        NULL|      NULL|      NULL|      NULL|       NULL|       NULL|       NULL| Red|Table| 13.5| 16~18|    1|      3|   4|     4|250000|2017|750|       13.5|\n",
      "| 19|137224|   Chateau Brillette|   Chateau Brillette|France|       Bordeaux|              Moulis|  NULL|  NULL|            Merlot|Cabernet Sauvignon|Cabernet Franc|  Petit Verdot|          NULL|        NULL|      NULL|      NULL|      NULL|       NULL|       NULL|       NULL| Red|Table|13~14| 16~18|    1|      4|   3|     3| 85000|2013|750|       13.5|\n",
      "| 20|137225|Le Bailly de Came...|Chateau Camensac ...|France|       Bordeaux|           HautMedoc|  NULL|  NULL|Cabernet Sauvignon|            Merlot|          NULL|          NULL|          NULL|        NULL|      NULL|      NULL|      NULL|       NULL|       NULL|       NULL| Red|Table|13~14| 16~18|    1|      4|   4|     3| 50000|2006|750|       13.5|\n",
      "+---+------+--------------------+--------------------+------+---------------+--------------------+------+------+------------------+------------------+--------------+--------------+--------------+------------+----------+----------+----------+-----------+-----------+-----------+----+-----+-----+------+-----+-------+----+------+------+----+---+-----------+\n",
      "only showing top 10 rows\n",
      "\n"
     ]
    }
   ],
   "source": [
    "final_clean_df_with_numeric_abv.show(10)"
   ]
  },
  {
   "cell_type": "code",
   "execution_count": 197,
   "id": "26a65006-9c89-4db2-b136-7f60b926d3d4",
   "metadata": {},
   "outputs": [
    {
     "name": "stdout",
     "output_type": "stream",
     "text": [
      "+---+------+--------------------+--------+------+---------------+--------------------+------+------+------------------+------------------+----------+--------------+--------------+------------+----------+----------+----------+-----------+-----------+-----------+----+-----+-----+------+-----+-------+----+------+------+----+---+-----------+\n",
      "|_c0|    id|                name|producer|nation|         local1|              local2|local3|local4|        varieties1|        varieties2|varieties3|    varieties4|    varieties5|  varieties6|varieties7|varieties8|varieties9|varieties10|varieties11|varieties12|type|  use|  abv|degree|sweet|acidity|body|tannin| price|year| ml|numeric_abv|\n",
      "+---+------+--------------------+--------+------+---------------+--------------------+------+------+------------------+------------------+----------+--------------+--------------+------------+----------+----------+----------+-----------+-----------+-----------+----+-----+-----+------+-----+-------+----+------+------+----+---+-----------+\n",
      "|  0|137197|              Altair|  Altair| Chile|   Rapel Valley|                NULL|  NULL|  NULL|Cabernet Sauvignon|         Carmenere|    Merlot|          NULL|          NULL|        NULL|      NULL|      NULL|      NULL|       NULL|       NULL|       NULL| Red|Table|14~15| 17~19|    1|      4|   5|     4|220000|2014|750|       14.5|\n",
      "|  1|137198|     Altair, Sideral|  Altair| Chile|   Rapel Valley|                NULL|  NULL|  NULL|Cabernet Sauvignon|            Merlot| Carmenere|Cabernet Franc|Syrah & Shiraz|Petit Verdot|      NULL|      NULL|      NULL|       NULL|       NULL|       NULL| Red|Table|14~15| 16~18|    1|      3|   4|     4|110000|2016|750|       14.5|\n",
      "|  7|137204|Calvet, Bordeaux Red|  Calvet|France|       Bordeaux|                NULL|  NULL|  NULL|            Merlot|Cabernet Sauvignon|      NULL|          NULL|          NULL|        NULL|      NULL|      NULL|      NULL|       NULL|       NULL|       NULL| Red|Table|13~14| 16~18|    1|      3|   2|     3| 21000|2011|750|       13.5|\n",
      "|  9|137207|Calvet, Varietals...|  Calvet|France|Southern France|Languedoc Roussillon|  NULL|  NULL|Cabernet Sauvignon|              NULL|      NULL|          NULL|          NULL|        NULL|      NULL|      NULL|      NULL|       NULL|       NULL|       NULL| Red|Table|13~14| 16~18|    1|      3|   2|     3| 19000|2017|750|       13.5|\n",
      "| 10|137208|Calvet, Varietals...|  Calvet|France|Southern France|Languedoc Roussillon|  NULL|  NULL|            Merlot|              NULL|      NULL|          NULL|          NULL|        NULL|      NULL|      NULL|      NULL|       NULL|       NULL|       NULL| Red|Table|13~14| 16~18|    1|      3|   3|     3| 19000|2011|750|       13.5|\n",
      "+---+------+--------------------+--------+------+---------------+--------------------+------+------+------------------+------------------+----------+--------------+--------------+------------+----------+----------+----------+-----------+-----------+-----------+----+-----+-----+------+-----+-------+----+------+------+----+---+-----------+\n",
      "only showing top 5 rows\n",
      "\n",
      "root\n",
      " |-- _c0: integer (nullable = true)\n",
      " |-- id: integer (nullable = true)\n",
      " |-- name: string (nullable = true)\n",
      " |-- producer: string (nullable = true)\n",
      " |-- nation: string (nullable = true)\n",
      " |-- local1: string (nullable = true)\n",
      " |-- local2: string (nullable = true)\n",
      " |-- local3: string (nullable = true)\n",
      " |-- local4: string (nullable = true)\n",
      " |-- varieties1: string (nullable = true)\n",
      " |-- varieties2: string (nullable = true)\n",
      " |-- varieties3: string (nullable = true)\n",
      " |-- varieties4: string (nullable = true)\n",
      " |-- varieties5: string (nullable = true)\n",
      " |-- varieties6: string (nullable = true)\n",
      " |-- varieties7: string (nullable = true)\n",
      " |-- varieties8: string (nullable = true)\n",
      " |-- varieties9: string (nullable = true)\n",
      " |-- varieties10: string (nullable = true)\n",
      " |-- varieties11: string (nullable = true)\n",
      " |-- varieties12: string (nullable = true)\n",
      " |-- type: string (nullable = true)\n",
      " |-- use: string (nullable = true)\n",
      " |-- abv: string (nullable = true)\n",
      " |-- degree: string (nullable = true)\n",
      " |-- sweet: integer (nullable = true)\n",
      " |-- acidity: integer (nullable = true)\n",
      " |-- body: integer (nullable = true)\n",
      " |-- tannin: integer (nullable = true)\n",
      " |-- price: integer (nullable = true)\n",
      " |-- year: integer (nullable = true)\n",
      " |-- ml: integer (nullable = true)\n",
      " |-- numeric_abv: float (nullable = true)\n",
      "\n"
     ]
    }
   ],
   "source": [
    "# 'collect()'를 사용하지 않고 변수에 바로 할당\n",
    "wine_df = final_clean_df_with_numeric_abv\n",
    "\n",
    "# 이제 wine_df를 사용하면 numeric_abv 컬럼이 포함된 데이터프레임으로 작업할 수 있습니다.\n",
    "wine_df.show(5)\n",
    "wine_df.printSchema()"
   ]
  },
  {
   "cell_type": "code",
   "execution_count": 198,
   "id": "bf506201-46a8-4e98-a522-86e94fc6152b",
   "metadata": {},
   "outputs": [],
   "source": [
    "wine_df.createOrReplaceTempView('wines')"
   ]
  },
  {
   "cell_type": "code",
   "execution_count": 199,
   "id": "89788c2c-f9ac-4344-ac5a-214472335a0a",
   "metadata": {},
   "outputs": [],
   "source": [
    "query = \"\"\"\n",
    "SELECT \n",
    "    id,\n",
    "    nation,\n",
    "    local1,\n",
    "    varieties1,\n",
    "    numeric_abv,\n",
    "    sweet,\n",
    "    acidity,\n",
    "    body,\n",
    "    tannin,\n",
    "    year,\n",
    "    price\n",
    "FROM\n",
    "    wines\n",
    "\n",
    "\"\"\""
   ]
  },
  {
   "cell_type": "code",
   "execution_count": 200,
   "id": "284d1124-a79f-4809-8d90-c093bc40ace5",
   "metadata": {},
   "outputs": [
    {
     "data": {
      "text/plain": [
       "4367"
      ]
     },
     "execution_count": 200,
     "metadata": {},
     "output_type": "execute_result"
    }
   ],
   "source": [
    "wine_df.count()"
   ]
  },
  {
   "cell_type": "code",
   "execution_count": 201,
   "id": "aadfc8e8-e115-4e3f-b5d4-9a9fd42be6ba",
   "metadata": {},
   "outputs": [],
   "source": [
    "wine_df = spark.sql(query)"
   ]
  },
  {
   "cell_type": "code",
   "execution_count": 202,
   "id": "b472ef75-6956-4936-94a4-037fc6eb172d",
   "metadata": {},
   "outputs": [
    {
     "name": "stdout",
     "output_type": "stream",
     "text": [
      "+------+------+---------------+------------------+-----------+-----+-------+----+------+----+------+\n",
      "|    id|nation|         local1|        varieties1|numeric_abv|sweet|acidity|body|tannin|year| price|\n",
      "+------+------+---------------+------------------+-----------+-----+-------+----+------+----+------+\n",
      "|137197| Chile|   Rapel Valley|Cabernet Sauvignon|       14.5|    1|      4|   5|     4|2014|220000|\n",
      "|137198| Chile|   Rapel Valley|Cabernet Sauvignon|       14.5|    1|      3|   4|     4|2016|110000|\n",
      "|137204|France|       Bordeaux|            Merlot|       13.5|    1|      3|   2|     3|2011| 21000|\n",
      "|137207|France|Southern France|Cabernet Sauvignon|       13.5|    1|      3|   2|     3|2017| 19000|\n",
      "|137208|France|Southern France|            Merlot|       13.5|    1|      3|   3|     3|2011| 19000|\n",
      "|137212|France|       Bordeaux|Cabernet Sauvignon|       12.5|    1|      4|   3|     3|2015| 32000|\n",
      "|137214|France|       Bordeaux|            Merlot|       12.5|    1|      3|   2|     2|2010| 42000|\n",
      "|137222|France|       Bordeaux|            Merlot|       13.5|    1|      3|   4|     4|2017|250000|\n",
      "|137224|France|       Bordeaux|            Merlot|       13.5|    1|      4|   3|     3|2013| 85000|\n",
      "|137225|France|       Bordeaux|Cabernet Sauvignon|       13.5|    1|      4|   4|     3|2006| 50000|\n",
      "|137226|France|       Bordeaux|Cabernet Sauvignon|       13.0|    1|      4|   3|     4|2017| 50000|\n",
      "|137232|France|       Bordeaux|Cabernet Sauvignon|       13.5|    1|      4|   4|     4|2017|140000|\n",
      "|137235|France|       Bordeaux|Cabernet Sauvignon|       12.5|    1|      3|   4|     3|2016| 80000|\n",
      "|137237|France|       Bordeaux|Cabernet Sauvignon|       13.5|    1|      4|   4|     5|2015|120000|\n",
      "|137242|France|       Bordeaux|Cabernet Sauvignon|       13.0|    1|      4|   4|     4|2009|130000|\n",
      "|137257| Chile|   Rapel Valley|         Carmenere|       14.5|    1|      3|   5|     5|2013|450000|\n",
      "|137260| Chile| Central Valley|Cabernet Sauvignon|       13.5|    1|      3|   3|     3|2017| 22000|\n",
      "|137261| Chile| Central Valley|         Carmenere|       13.5|    1|      3|   3|     3|2018| 22000|\n",
      "|137266| Chile|   Maipo Valley|Cabernet Sauvignon|       14.5|    1|      4|   3|     4|2015|100000|\n",
      "|137267| Chile|   Rapel Valley|         Carmenere|       14.5|    1|      3|   4|     4|2017|100000|\n",
      "+------+------+---------------+------------------+-----------+-----+-------+----+------+----+------+\n",
      "only showing top 20 rows\n",
      "\n"
     ]
    }
   ],
   "source": [
    "wine_df.show()"
   ]
  },
  {
   "cell_type": "code",
   "execution_count": 203,
   "id": "205bf62f-d4c9-4fad-a55e-de3ec0afaca8",
   "metadata": {},
   "outputs": [],
   "source": [
    "stages = []"
   ]
  },
  {
   "cell_type": "code",
   "execution_count": 204,
   "id": "500343e0-af1c-47b1-8fe6-2e4490844947",
   "metadata": {},
   "outputs": [],
   "source": [
    "train_df, test_df = wine_df.randomSplit([0.8,0.2], seed=1)"
   ]
  },
  {
   "cell_type": "code",
   "execution_count": 218,
   "id": "56d60a22-2f94-4f55-a16e-fd552d717be3",
   "metadata": {},
   "outputs": [
    {
     "name": "stdout",
     "output_type": "stream",
     "text": [
      "+------------------------------------------------------------------------------------------------------------------------------------------------------------+\n",
      "|feature_vector                                                                                                                                              |\n",
      "+------------------------------------------------------------------------------------------------------------------------------------------------------------+\n",
      "|(84,[6,26,70,78,79,80,81,82,83],[1.0,1.0,1.0,17.058063566281497,3.839340335335748,6.674252843541482,6.230143632584154,5.1669935146561095,6.745358874762308])|\n",
      "|(84,[6,26,70,78,79,80,81,82,83],[1.0,1.0,1.0,17.058063566281497,3.839340335335748,5.005689632656112,4.984114906067323,5.1669935146561095,6.752057344349957])|\n",
      "|(84,[1,28,67,78,79,80,81,82,83],[1.0,1.0,1.0,15.881645389296567,3.839340335335748,5.005689632656112,2.4920574530336617,3.875245135992082,6.735311170380835])|\n",
      "|(84,[8,26,67,78,79,80,81,82,83],[1.0,1.0,1.0,15.881645389296567,3.839340335335748,5.005689632656112,2.4920574530336617,3.875245135992082,6.755406579143782])|\n",
      "|(84,[1,26,67,78,79,80,81,82,83],[1.0,1.0,1.0,14.705227212311636,3.839340335335748,6.674252843541482,3.7380861795504927,3.875245135992082,6.748708109556133])|\n",
      "+------------------------------------------------------------------------------------------------------------------------------------------------------------+\n",
      "only showing top 5 rows\n",
      "\n"
     ]
    }
   ],
   "source": [
    "from pyspark.ml.feature import StringIndexer, OneHotEncoder, VectorAssembler, StandardScaler\n",
    "from pyspark.ml import Pipeline\n",
    "\n",
    "cat_features = ['local1', 'varieties1', 'nation']\n",
    "num_features = ['numeric_abv', 'sweet', 'acidity', 'body', 'tannin','year']\n",
    "stages = []\n",
    "\n",
    "# 1. 범주형 특성 전처리: StringIndexer -> OneHotEncoder\n",
    "for cat in cat_features:\n",
    "    cat_index = StringIndexer(inputCol=cat, outputCol=cat + '_idx').setHandleInvalid('keep')\n",
    "    onehot_encode = OneHotEncoder(inputCols=[cat_index.getOutputCol()], outputCols=[cat + '_onehot'])\n",
    "    stages += [cat_index, onehot_encode]\n",
    "\n",
    "# 2. 숫자형 특성 전처리: 모든 숫자 컬럼을 하나의 벡터로 통합 후 표준화\n",
    "num_assembler = VectorAssembler(inputCols=num_features, outputCol=\"num_features_vector\", handleInvalid=\"keep\" )\n",
    "num_scaler = StandardScaler(inputCol=num_assembler.getOutputCol(), outputCol=\"scaled_num_features\")\n",
    "stages += [num_assembler, num_scaler]\n",
    "\n",
    "# 3. 최종 통합: 범주형 원-핫 벡터 + 표준화된 숫자형 벡터를 하나의 'feature_vector'로 합치기\n",
    "assembler_inputs = [cat + '_onehot' for cat in cat_features] + ['scaled_num_features']\n",
    "final_assembler = VectorAssembler(inputCols=assembler_inputs, outputCol='feature_vector')\n",
    "stages.append(final_assembler)\n",
    "\n",
    "# 4. 파이프라인 구축\n",
    "pipeline = Pipeline(stages=stages)\n",
    "\n",
    "# 'train_df' 데이터프레임으로 파이프라인 학습 및 변환\n",
    "fitted_pipeline = pipeline.fit(train_df)\n",
    "vtrain_df = fitted_pipeline.transform(train_df)\n",
    "\n",
    "# 결과 확인\n",
    "vtrain_df.select('feature_vector').show(5, truncate=False)"
   ]
  },
  {
   "cell_type": "code",
   "execution_count": 219,
   "id": "e8a4a842-9bb6-4284-a7ff-568ffba968e8",
   "metadata": {},
   "outputs": [
    {
     "name": "stdout",
     "output_type": "stream",
     "text": [
      "root\n",
      " |-- id: integer (nullable = true)\n",
      " |-- nation: string (nullable = true)\n",
      " |-- local1: string (nullable = true)\n",
      " |-- varieties1: string (nullable = true)\n",
      " |-- numeric_abv: float (nullable = true)\n",
      " |-- sweet: integer (nullable = true)\n",
      " |-- acidity: integer (nullable = true)\n",
      " |-- body: integer (nullable = true)\n",
      " |-- tannin: integer (nullable = true)\n",
      " |-- year: integer (nullable = true)\n",
      " |-- price: integer (nullable = true)\n",
      " |-- local_varieties: string (nullable = true)\n",
      " |-- local1_idx: double (nullable = false)\n",
      " |-- local1_onehot: vector (nullable = true)\n",
      " |-- varieties1_idx: double (nullable = false)\n",
      " |-- varieties1_onehot: vector (nullable = true)\n",
      " |-- nation_idx: double (nullable = false)\n",
      " |-- nation_onehot: vector (nullable = true)\n",
      " |-- num_features_vector: vector (nullable = true)\n",
      " |-- scaled_num_features: vector (nullable = true)\n",
      " |-- feature_vector: vector (nullable = true)\n",
      "\n"
     ]
    }
   ],
   "source": [
    "from pyspark.ml import Pipeline\n",
    "pipeline = Pipeline(stages=stages)\n",
    "fitted_transform = pipeline.fit(train_df)\n",
    "vtrain_df = fitted_transform.transform(train_df)\n",
    "vtrain_df.printSchema()"
   ]
  },
  {
   "cell_type": "code",
   "execution_count": 220,
   "id": "78df0c21-6617-4e38-a97f-23b898d3d51c",
   "metadata": {},
   "outputs": [
    {
     "name": "stdout",
     "output_type": "stream",
     "text": [
      "+--------------------+\n",
      "|      feature_vector|\n",
      "+--------------------+\n",
      "|(84,[6,26,70,78,7...|\n",
      "|(84,[6,26,70,78,7...|\n",
      "|(84,[1,28,67,78,7...|\n",
      "|(84,[8,26,67,78,7...|\n",
      "|(84,[1,26,67,78,7...|\n",
      "|(84,[1,28,67,78,7...|\n",
      "|(84,[1,28,67,78,7...|\n",
      "|(84,[1,28,67,78,7...|\n",
      "|(84,[1,26,67,78,7...|\n",
      "|(84,[1,26,67,78,7...|\n",
      "|(84,[1,26,67,78,7...|\n",
      "|(84,[1,26,67,78,7...|\n",
      "|(84,[10,26,70,78,...|\n",
      "|(84,[12,26,70,78,...|\n",
      "|(84,[6,35,70,78,7...|\n",
      "|(84,[0,41,69,78,7...|\n",
      "|(84,[0,26,69,78,7...|\n",
      "|(84,[0,27,69,78,7...|\n",
      "|(84,[0,26,69,78,7...|\n",
      "|(84,[0,28,69,78,7...|\n",
      "+--------------------+\n",
      "only showing top 20 rows\n",
      "\n"
     ]
    }
   ],
   "source": [
    "vtrain_df.select('feature_vector').show()"
   ]
  },
  {
   "cell_type": "code",
   "execution_count": 221,
   "id": "556650ed-eff0-4e8a-8f83-d30b9fc0cbfe",
   "metadata": {},
   "outputs": [],
   "source": [
    "from pyspark.ml.regression import LinearRegression\n",
    "lr = LinearRegression( maxIter=50, solver='normal', labelCol='price', featuresCol='feature_vector')"
   ]
  },
  {
   "cell_type": "code",
   "execution_count": 222,
   "id": "b04fa5f8-b595-44fa-be1f-b5e5553eaf30",
   "metadata": {},
   "outputs": [],
   "source": [
    "model = lr.fit(vtrain_df)"
   ]
  },
  {
   "cell_type": "code",
   "execution_count": 223,
   "id": "98edbea9-d540-4b53-8094-2241131e3b1c",
   "metadata": {},
   "outputs": [],
   "source": [
    "#테스트데이터 변환\n",
    "vtest_df = fitted_transform.transform(test_df)\n",
    "#테스트데이터로 예측\n",
    "pred=model.transform(vtest_df)"
   ]
  },
  {
   "cell_type": "code",
   "execution_count": 224,
   "id": "c6078715-df93-447b-9712-d7d33f3f7755",
   "metadata": {},
   "outputs": [
    {
     "data": {
      "text/plain": [
       "DataFrame[id: int, nation: string, local1: string, varieties1: string, numeric_abv: float, sweet: int, acidity: int, body: int, tannin: int, year: int, price: int, local1_idx: double, local1_onehot: vector, varieties1_idx: double, varieties1_onehot: vector, nation_idx: double, nation_onehot: vector, num_features_vector: vector, scaled_num_features: vector, feature_vector: vector, prediction: double]"
      ]
     },
     "execution_count": 224,
     "metadata": {},
     "output_type": "execute_result"
    }
   ],
   "source": [
    "pred.cache()"
   ]
  },
  {
   "cell_type": "code",
   "execution_count": 228,
   "id": "e444696c-1db3-494e-a203-ce3410e63ba7",
   "metadata": {},
   "outputs": [
    {
     "name": "stdout",
     "output_type": "stream",
     "text": [
      "+------+-------------------+\n",
      "| price|         prediction|\n",
      "+------+-------------------+\n",
      "| 19000|  26655.08606853406|\n",
      "|120000| 287005.82573237584|\n",
      "|130000| 202416.83717342129|\n",
      "|450000| 281359.63377355377|\n",
      "| 22000|  9584.092164004222|\n",
      "| 34000| 23091.305674985284|\n",
      "| 98000| 217550.82882237027|\n",
      "| 45000|  44996.66325966013|\n",
      "| 19000| -23150.93588494358|\n",
      "| 17000|-1405.9219292299822|\n",
      "+------+-------------------+\n",
      "only showing top 10 rows\n",
      "\n"
     ]
    }
   ],
   "source": [
    "pred.select('price','prediction').show(10)"
   ]
  },
  {
   "cell_type": "code",
   "execution_count": 226,
   "id": "ad5c805f-5adc-4400-93c3-d7875de38ad9",
   "metadata": {},
   "outputs": [
    {
     "data": {
      "text/plain": [
       "(0.2435321302476542, 238084.72148323504)"
      ]
     },
     "execution_count": 226,
     "metadata": {},
     "output_type": "execute_result"
    }
   ],
   "source": [
    "model.summary.r2, model.summary.rootMeanSquaredError"
   ]
  },
  {
   "cell_type": "code",
   "execution_count": null,
   "id": "c37326a2-e3af-498c-b7e3-ba898326f9f3",
   "metadata": {},
   "outputs": [],
   "source": []
  },
  {
   "cell_type": "code",
   "execution_count": 225,
   "id": "d1cce0cf-e75a-42a2-8bb2-b09d091c93a5",
   "metadata": {},
   "outputs": [],
   "source": [
    "spark.stop()"
   ]
  }
 ],
 "metadata": {
  "kernelspec": {
   "display_name": "Python 3 (ipykernel)",
   "language": "python",
   "name": "python3"
  },
  "language_info": {
   "codemirror_mode": {
    "name": "ipython",
    "version": 3
   },
   "file_extension": ".py",
   "mimetype": "text/x-python",
   "name": "python",
   "nbconvert_exporter": "python",
   "pygments_lexer": "ipython3",
   "version": "3.11.6"
  }
 },
 "nbformat": 4,
 "nbformat_minor": 5
}
