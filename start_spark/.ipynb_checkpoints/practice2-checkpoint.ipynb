{
 "cells": [
  {
   "cell_type": "code",
   "execution_count": 84,
   "id": "e69aa320-7125-43ea-a189-244b6d75d88b",
   "metadata": {},
   "outputs": [],
   "source": [
    "from pyspark.ml.feature import VectorAssembler\n",
    "from pyspark.sql.functions import udf\n",
    "from pyspark.sql.types import IntegerType\n",
    "from pyspark.sql.functions import regexp_extract, col\n",
    "import re"
   ]
  },
  {
   "cell_type": "code",
   "execution_count": 89,
   "id": "e88af9f5-0396-419d-9cb2-f441bbdbb2f2",
   "metadata": {},
   "outputs": [
    {
     "data": {
      "text/plain": [
       "'/home/jovyan/work/start_spark/start_spark/running_spark_data/redwine3.csv'"
      ]
     },
     "execution_count": 89,
     "metadata": {},
     "output_type": "execute_result"
    }
   ],
   "source": [
    "import os \n",
    "cwd = os.getcwd()\n",
    "wine_data_path= os.path.join(cwd, 'running_spark_data/redwine3.csv')\n",
    "wine_data_path"
   ]
  },
  {
   "cell_type": "code",
   "execution_count": 90,
   "id": "630cd9e1-509f-4192-bc94-0091bb0bc85d",
   "metadata": {},
   "outputs": [
    {
     "data": {
      "text/plain": [
       "'file:////home/jovyan/work/start_spark/start_spark/running_spark_data/redwine3.csv'"
      ]
     },
     "execution_count": 90,
     "metadata": {},
     "output_type": "execute_result"
    }
   ],
   "source": [
    "file_path = f\"file:///{wine_data_path.replace(os.sep,'/')}\"\n",
    "file_path"
   ]
  },
  {
   "cell_type": "code",
   "execution_count": 91,
   "id": "72674e11-2aae-4b0a-a80d-d5e528c18d12",
   "metadata": {},
   "outputs": [],
   "source": [
    "from pyspark.sql import SparkSession\n",
    "MAX_MEMORY ='8g'\n",
    "spark = SparkSession.builder.appName(\"practice_wine\").config('spark.driver.memory',MAX_MEMORY).config('spark.executer.memory',MAX_MEMORY).getOrCreate()"
   ]
  },
  {
   "cell_type": "code",
   "execution_count": 92,
   "id": "98e6cfea-2a9e-426e-89dc-95c297a1e4d1",
   "metadata": {},
   "outputs": [
    {
     "name": "stdout",
     "output_type": "stream",
     "text": [
      "root\n",
      " |-- _c0: integer (nullable = true)\n",
      " |-- id: integer (nullable = true)\n",
      " |-- name: string (nullable = true)\n",
      " |-- producer: string (nullable = true)\n",
      " |-- nation: string (nullable = true)\n",
      " |-- local1: string (nullable = true)\n",
      " |-- local2: string (nullable = true)\n",
      " |-- local3: string (nullable = true)\n",
      " |-- local4: string (nullable = true)\n",
      " |-- varieties1: string (nullable = true)\n",
      " |-- varieties2: string (nullable = true)\n",
      " |-- varieties3: string (nullable = true)\n",
      " |-- varieties4: string (nullable = true)\n",
      " |-- varieties5: string (nullable = true)\n",
      " |-- varieties6: string (nullable = true)\n",
      " |-- varieties7: string (nullable = true)\n",
      " |-- varieties8: string (nullable = true)\n",
      " |-- varieties9: string (nullable = true)\n",
      " |-- varieties10: string (nullable = true)\n",
      " |-- varieties11: string (nullable = true)\n",
      " |-- varieties12: string (nullable = true)\n",
      " |-- type: string (nullable = true)\n",
      " |-- use: string (nullable = true)\n",
      " |-- abv: string (nullable = true)\n",
      " |-- degree: string (nullable = true)\n",
      " |-- sweet: string (nullable = true)\n",
      " |-- acidity: string (nullable = true)\n",
      " |-- body: string (nullable = true)\n",
      " |-- tannin: string (nullable = true)\n",
      " |-- price: integer (nullable = true)\n",
      " |-- year: integer (nullable = true)\n",
      " |-- ml: integer (nullable = true)\n",
      "\n"
     ]
    }
   ],
   "source": [
    "wine_df = spark.read.csv(wine_data_path, header=True, inferSchema=True)\n",
    "wine_df.printSchema()"
   ]
  },
  {
   "cell_type": "code",
   "execution_count": 93,
   "id": "c4b2e2b3-e8bd-497f-8a05-417ace27357c",
   "metadata": {},
   "outputs": [],
   "source": [
    "from pyspark.sql.functions import regexp_extract, col\n",
    "\n",
    "wine_df = wine_df.withColumn('sweet', regexp_extract(col('sweet'), r'\\d+', 0).cast('int'))\n",
    "wine_df = wine_df.withColumn('acidity', regexp_extract(col('acidity'), r'\\d+', 0).cast('int'))\n",
    "wine_df = wine_df.withColumn('body', regexp_extract(col('body'), r'\\d+', 0).cast('int'))\n",
    "wine_df = wine_df.withColumn('tannin', regexp_extract(col('tannin'), r'\\d+', 0).cast('int'))"
   ]
  },
  {
   "cell_type": "code",
   "execution_count": 94,
   "id": "41bbf844-986f-46d0-90ef-161f3274dadf",
   "metadata": {},
   "outputs": [
    {
     "name": "stdout",
     "output_type": "stream",
     "text": [
      "\n",
      "--- 생산지 상위 27개, 품종 상위 30개로 필터링 시작 ---\n",
      "생산지 27개, 품종 30개로 필터링된 데이터 수: 4313개\n"
     ]
    }
   ],
   "source": [
    "from pyspark.sql.functions import col, sum, desc, expr\n",
    "from functools import reduce\n",
    "\n",
    "def filter_by_top_n(df, limit_local1, limit_variety):\n",
    "    \"\"\"\n",
    "    지정된 상위 N개 생산지와 품종으로 데이터프레임을 필터링하는 함수.\n",
    "\n",
    "    :param df: PySpark DataFrame (wine_df)\n",
    "    :param limit_local1: 상위 생산지 개수\n",
    "    :param limit_variety: 상위 품종 개수\n",
    "    :return: 필터링된 DataFrame과 그 개수\n",
    "    \"\"\"\n",
    "    \n",
    "    print(f\"\\n--- 생산지 상위 {limit_local1}개, 품종 상위 {limit_variety}개로 필터링 시작 ---\")\n",
    "    \n",
    "    # 1. 생산지(local1) 상위 목록 추출\n",
    "    top_local1_list = [\n",
    "        row.local1 for row in df.groupBy(\"local1\")\n",
    "                                 .agg(sum(\"ml\").alias(\"total_ml\"))\n",
    "                                 .orderBy(desc(\"total_ml\"))\n",
    "                                 .limit(limit_local1)\n",
    "                                 .collect()\n",
    "    ]\n",
    "    \n",
    "    # 2. 품종(varieties1 ~ varieties12) 상위 목록 추출\n",
    "    varieties_cols = [f\"varieties{i}\" for i in range(1, 13)]\n",
    "    stack_expr = expr(\"stack(12, \" + \", \".join(f\"'{c}', `{c}`\" for c in varieties_cols) + \") as (col_name, variety)\")\n",
    "    \n",
    "    top_variety_df = (\n",
    "        df.select(col(\"ml\"), stack_expr)\n",
    "        .groupBy(\"variety\")\n",
    "        .agg(sum(\"ml\").alias(\"total_ml\"))\n",
    "        .orderBy(desc(\"total_ml\"))\n",
    "        .filter(col(\"variety\").isNotNull())\n",
    "        .limit(limit_variety)\n",
    "    )\n",
    "    top_variety_list = [row.variety for row in top_variety_df.collect()]\n",
    "    \n",
    "    # 3. 필터링 실행\n",
    "    variety_filter_condition = reduce(\n",
    "        lambda x, y: x | y, \n",
    "        [col(variety).isin(top_variety_list) for variety in varieties_cols]\n",
    "    )\n",
    "    filtered_df = df.filter(\n",
    "        col(\"local1\").isin(top_local1_list) & \n",
    "        variety_filter_condition\n",
    "    )\n",
    "    \n",
    "    # 4. 결과 반환\n",
    "    filtered_count = filtered_df.count()\n",
    "    return filtered_df, filtered_count\n",
    "\n",
    "# 사용 예시\n",
    "# 데이터프레임 'wine_df'는 미리 선언되어 있어야 합니다.\n",
    "\n",
    "\n",
    "\n",
    "# 예시 3: 생산지 상위 30개, 품종 상위 25개\n",
    "filtered_df, count_27_30 = filter_by_top_n(wine_df, 27, 30)\n",
    "print(f\"생산지 27개, 품종 30개로 필터링된 데이터 수: {count_27_30}개\")"
   ]
  },
  {
   "cell_type": "code",
   "execution_count": 95,
   "id": "1d67726c-bd4b-416b-aebf-c1b544583042",
   "metadata": {},
   "outputs": [],
   "source": [
    "wine_df=filtered_df"
   ]
  },
  {
   "cell_type": "code",
   "execution_count": 96,
   "id": "ef6ddcff-0a51-496f-96d8-9af2b420917d",
   "metadata": {},
   "outputs": [
    {
     "name": "stdout",
     "output_type": "stream",
     "text": [
      "+-----+-----------+\n",
      "|  abv|numeric_abv|\n",
      "+-----+-----------+\n",
      "|14~15|       14.5|\n",
      "|14~15|       14.5|\n",
      "|13~14|       13.5|\n",
      "|13~14|       13.5|\n",
      "|13~14|       13.5|\n",
      "|12~13|       12.5|\n",
      "|12~13|       12.5|\n",
      "| 13.5|       13.5|\n",
      "|13~14|       13.5|\n",
      "|13~14|       13.5|\n",
      "+-----+-----------+\n",
      "only showing top 10 rows\n",
      "\n",
      "root\n",
      " |-- _c0: integer (nullable = true)\n",
      " |-- id: integer (nullable = true)\n",
      " |-- name: string (nullable = true)\n",
      " |-- producer: string (nullable = true)\n",
      " |-- nation: string (nullable = true)\n",
      " |-- local1: string (nullable = true)\n",
      " |-- local2: string (nullable = true)\n",
      " |-- local3: string (nullable = true)\n",
      " |-- local4: string (nullable = true)\n",
      " |-- varieties1: string (nullable = true)\n",
      " |-- varieties2: string (nullable = true)\n",
      " |-- varieties3: string (nullable = true)\n",
      " |-- varieties4: string (nullable = true)\n",
      " |-- varieties5: string (nullable = true)\n",
      " |-- varieties6: string (nullable = true)\n",
      " |-- varieties7: string (nullable = true)\n",
      " |-- varieties8: string (nullable = true)\n",
      " |-- varieties9: string (nullable = true)\n",
      " |-- varieties10: string (nullable = true)\n",
      " |-- varieties11: string (nullable = true)\n",
      " |-- varieties12: string (nullable = true)\n",
      " |-- type: string (nullable = true)\n",
      " |-- use: string (nullable = true)\n",
      " |-- abv: string (nullable = true)\n",
      " |-- degree: string (nullable = true)\n",
      " |-- sweet: integer (nullable = true)\n",
      " |-- acidity: integer (nullable = true)\n",
      " |-- body: integer (nullable = true)\n",
      " |-- tannin: integer (nullable = true)\n",
      " |-- price: integer (nullable = true)\n",
      " |-- year: integer (nullable = true)\n",
      " |-- ml: integer (nullable = true)\n",
      " |-- numeric_abv: float (nullable = true)\n",
      "\n"
     ]
    }
   ],
   "source": [
    "from pyspark.sql.functions import udf, col\n",
    "from pyspark.sql.types import FloatType\n",
    "import re\n",
    "\n",
    "# UDF(사용자 정의 함수) 생성\n",
    "# '12~13' 형태의 문자열을 받아 평균값(12.5)을 반환하는 함수입니다.\n",
    "@udf(FloatType())\n",
    "def calculate_average_abv(abv_str):\n",
    "    if abv_str is None:\n",
    "        return None\n",
    "    \n",
    "    # 숫자만 추출하기 위해 ~ 기호로 분리\n",
    "    parts = abv_str.split('~')\n",
    "    \n",
    "    try:\n",
    "        if len(parts) == 2:\n",
    "            # '12~13'인 경우: (12+13)/2\n",
    "            return (float(parts[0]) + float(parts[1])) / 2\n",
    "        elif len(parts) == 1:\n",
    "            # '12'인 경우: 12\n",
    "            return float(parts[0])\n",
    "        else:\n",
    "            # 예상치 못한 형식인 경우: None 반환\n",
    "            return None\n",
    "    except (ValueError, IndexError):\n",
    "        # 숫자로 변환할 수 없는 경우 None 반환\n",
    "        return None\n",
    "\n",
    "# 'final_clean_df'에 새로운 'numeric_abv' 컬럼 추가\n",
    "# 기존 abv 컬럼은 유지하고, 변환된 값을 새로운 컬럼에 저장합니다.\n",
    "final_clean_df_with_numeric_abv = wine_df.withColumn(\n",
    "    \"numeric_abv\", \n",
    "    calculate_average_abv(col(\"abv\"))\n",
    ")\n",
    "\n",
    "# 결과 확인 (원하는 만큼의 행을 보여줍니다)\n",
    "final_clean_df_with_numeric_abv.select(\"abv\", \"numeric_abv\").show(10)\n",
    "final_clean_df_with_numeric_abv.printSchema()"
   ]
  },
  {
   "cell_type": "code",
   "execution_count": 97,
   "id": "e46cae73-366a-4a5d-827f-574b17d138fa",
   "metadata": {},
   "outputs": [
    {
     "name": "stdout",
     "output_type": "stream",
     "text": [
      "+---+------+--------------------+--------+------+---------------+--------------------+------+------+------------------+------------------+----------+--------------+--------------+------------+----------+----------+----------+-----------+-----------+-----------+----+-----+-----+------+-----+-------+----+------+------+----+---+-----------+\n",
      "|_c0|    id|                name|producer|nation|         local1|              local2|local3|local4|        varieties1|        varieties2|varieties3|    varieties4|    varieties5|  varieties6|varieties7|varieties8|varieties9|varieties10|varieties11|varieties12|type|  use|  abv|degree|sweet|acidity|body|tannin| price|year| ml|numeric_abv|\n",
      "+---+------+--------------------+--------+------+---------------+--------------------+------+------+------------------+------------------+----------+--------------+--------------+------------+----------+----------+----------+-----------+-----------+-----------+----+-----+-----+------+-----+-------+----+------+------+----+---+-----------+\n",
      "|  0|137197|              Altair|  Altair| Chile|   Rapel Valley|                NULL|  NULL|  NULL|Cabernet Sauvignon|         Carmenere|    Merlot|          NULL|          NULL|        NULL|      NULL|      NULL|      NULL|       NULL|       NULL|       NULL| Red|Table|14~15| 17~19|    1|      4|   5|     4|220000|2014|750|       14.5|\n",
      "|  1|137198|     Altair, Sideral|  Altair| Chile|   Rapel Valley|                NULL|  NULL|  NULL|Cabernet Sauvignon|            Merlot| Carmenere|Cabernet Franc|Syrah & Shiraz|Petit Verdot|      NULL|      NULL|      NULL|       NULL|       NULL|       NULL| Red|Table|14~15| 16~18|    1|      3|   4|     4|110000|2016|750|       14.5|\n",
      "|  7|137204|Calvet, Bordeaux Red|  Calvet|France|       Bordeaux|                NULL|  NULL|  NULL|            Merlot|Cabernet Sauvignon|      NULL|          NULL|          NULL|        NULL|      NULL|      NULL|      NULL|       NULL|       NULL|       NULL| Red|Table|13~14| 16~18|    1|      3|   2|     3| 21000|2011|750|       13.5|\n",
      "|  9|137207|Calvet, Varietals...|  Calvet|France|Southern France|Languedoc Roussillon|  NULL|  NULL|Cabernet Sauvignon|              NULL|      NULL|          NULL|          NULL|        NULL|      NULL|      NULL|      NULL|       NULL|       NULL|       NULL| Red|Table|13~14| 16~18|    1|      3|   2|     3| 19000|2017|750|       13.5|\n",
      "| 10|137208|Calvet, Varietals...|  Calvet|France|Southern France|Languedoc Roussillon|  NULL|  NULL|            Merlot|              NULL|      NULL|          NULL|          NULL|        NULL|      NULL|      NULL|      NULL|       NULL|       NULL|       NULL| Red|Table|13~14| 16~18|    1|      3|   3|     3| 19000|2011|750|       13.5|\n",
      "+---+------+--------------------+--------+------+---------------+--------------------+------+------+------------------+------------------+----------+--------------+--------------+------------+----------+----------+----------+-----------+-----------+-----------+----+-----+-----+------+-----+-------+----+------+------+----+---+-----------+\n",
      "only showing top 5 rows\n",
      "\n",
      "root\n",
      " |-- _c0: integer (nullable = true)\n",
      " |-- id: integer (nullable = true)\n",
      " |-- name: string (nullable = true)\n",
      " |-- producer: string (nullable = true)\n",
      " |-- nation: string (nullable = true)\n",
      " |-- local1: string (nullable = true)\n",
      " |-- local2: string (nullable = true)\n",
      " |-- local3: string (nullable = true)\n",
      " |-- local4: string (nullable = true)\n",
      " |-- varieties1: string (nullable = true)\n",
      " |-- varieties2: string (nullable = true)\n",
      " |-- varieties3: string (nullable = true)\n",
      " |-- varieties4: string (nullable = true)\n",
      " |-- varieties5: string (nullable = true)\n",
      " |-- varieties6: string (nullable = true)\n",
      " |-- varieties7: string (nullable = true)\n",
      " |-- varieties8: string (nullable = true)\n",
      " |-- varieties9: string (nullable = true)\n",
      " |-- varieties10: string (nullable = true)\n",
      " |-- varieties11: string (nullable = true)\n",
      " |-- varieties12: string (nullable = true)\n",
      " |-- type: string (nullable = true)\n",
      " |-- use: string (nullable = true)\n",
      " |-- abv: string (nullable = true)\n",
      " |-- degree: string (nullable = true)\n",
      " |-- sweet: integer (nullable = true)\n",
      " |-- acidity: integer (nullable = true)\n",
      " |-- body: integer (nullable = true)\n",
      " |-- tannin: integer (nullable = true)\n",
      " |-- price: integer (nullable = true)\n",
      " |-- year: integer (nullable = true)\n",
      " |-- ml: integer (nullable = true)\n",
      " |-- numeric_abv: float (nullable = true)\n",
      "\n"
     ]
    }
   ],
   "source": [
    "# 'collect()'를 사용하지 않고 변수에 바로 할당\n",
    "wine_df = final_clean_df_with_numeric_abv\n",
    "\n",
    "# 이제 wine_df를 사용하면 numeric_abv 컬럼이 포함된 데이터프레임으로 작업할 수 있습니다.\n",
    "wine_df.show(5)\n",
    "wine_df.printSchema()"
   ]
  },
  {
   "cell_type": "code",
   "execution_count": 98,
   "id": "52b194e1-8453-42e1-87b9-4a3f152206d0",
   "metadata": {},
   "outputs": [
    {
     "name": "stdout",
     "output_type": "stream",
     "text": [
      "+---+------+--------------------+--------+------+---------------+--------------------+------+------+------------------+------------------+----------+--------------+--------------+------------+----------+----------+----------+-----------+-----------+-----------+----+-----+-----+------+-----+-------+----+------+------+----+---+-----------+\n",
      "|_c0|    id|                name|producer|nation|         local1|              local2|local3|local4|        varieties1|        varieties2|varieties3|    varieties4|    varieties5|  varieties6|varieties7|varieties8|varieties9|varieties10|varieties11|varieties12|type|  use|  abv|degree|sweet|acidity|body|tannin| price|year| ml|numeric_abv|\n",
      "+---+------+--------------------+--------+------+---------------+--------------------+------+------+------------------+------------------+----------+--------------+--------------+------------+----------+----------+----------+-----------+-----------+-----------+----+-----+-----+------+-----+-------+----+------+------+----+---+-----------+\n",
      "|  0|137197|              Altair|  Altair| Chile|   Rapel Valley|                NULL|  NULL|  NULL|Cabernet Sauvignon|         Carmenere|    Merlot|          NULL|          NULL|        NULL|      NULL|      NULL|      NULL|       NULL|       NULL|       NULL| Red|Table|14~15| 17~19|    1|      4|   5|     4|220000|2014|750|       14.5|\n",
      "|  1|137198|     Altair, Sideral|  Altair| Chile|   Rapel Valley|                NULL|  NULL|  NULL|Cabernet Sauvignon|            Merlot| Carmenere|Cabernet Franc|Syrah & Shiraz|Petit Verdot|      NULL|      NULL|      NULL|       NULL|       NULL|       NULL| Red|Table|14~15| 16~18|    1|      3|   4|     4|110000|2016|750|       14.5|\n",
      "|  7|137204|Calvet, Bordeaux Red|  Calvet|France|       Bordeaux|                NULL|  NULL|  NULL|            Merlot|Cabernet Sauvignon|      NULL|          NULL|          NULL|        NULL|      NULL|      NULL|      NULL|       NULL|       NULL|       NULL| Red|Table|13~14| 16~18|    1|      3|   2|     3| 21000|2011|750|       13.5|\n",
      "|  9|137207|Calvet, Varietals...|  Calvet|France|Southern France|Languedoc Roussillon|  NULL|  NULL|Cabernet Sauvignon|              NULL|      NULL|          NULL|          NULL|        NULL|      NULL|      NULL|      NULL|       NULL|       NULL|       NULL| Red|Table|13~14| 16~18|    1|      3|   2|     3| 19000|2017|750|       13.5|\n",
      "| 10|137208|Calvet, Varietals...|  Calvet|France|Southern France|Languedoc Roussillon|  NULL|  NULL|            Merlot|              NULL|      NULL|          NULL|          NULL|        NULL|      NULL|      NULL|      NULL|       NULL|       NULL|       NULL| Red|Table|13~14| 16~18|    1|      3|   3|     3| 19000|2011|750|       13.5|\n",
      "+---+------+--------------------+--------+------+---------------+--------------------+------+------+------------------+------------------+----------+--------------+--------------+------------+----------+----------+----------+-----------+-----------+-----------+----+-----+-----+------+-----+-------+----+------+------+----+---+-----------+\n",
      "only showing top 5 rows\n",
      "\n",
      "root\n",
      " |-- _c0: integer (nullable = true)\n",
      " |-- id: integer (nullable = true)\n",
      " |-- name: string (nullable = true)\n",
      " |-- producer: string (nullable = true)\n",
      " |-- nation: string (nullable = true)\n",
      " |-- local1: string (nullable = true)\n",
      " |-- local2: string (nullable = true)\n",
      " |-- local3: string (nullable = true)\n",
      " |-- local4: string (nullable = true)\n",
      " |-- varieties1: string (nullable = true)\n",
      " |-- varieties2: string (nullable = true)\n",
      " |-- varieties3: string (nullable = true)\n",
      " |-- varieties4: string (nullable = true)\n",
      " |-- varieties5: string (nullable = true)\n",
      " |-- varieties6: string (nullable = true)\n",
      " |-- varieties7: string (nullable = true)\n",
      " |-- varieties8: string (nullable = true)\n",
      " |-- varieties9: string (nullable = true)\n",
      " |-- varieties10: string (nullable = true)\n",
      " |-- varieties11: string (nullable = true)\n",
      " |-- varieties12: string (nullable = true)\n",
      " |-- type: string (nullable = true)\n",
      " |-- use: string (nullable = true)\n",
      " |-- abv: string (nullable = true)\n",
      " |-- degree: string (nullable = true)\n",
      " |-- sweet: integer (nullable = true)\n",
      " |-- acidity: integer (nullable = true)\n",
      " |-- body: integer (nullable = true)\n",
      " |-- tannin: integer (nullable = true)\n",
      " |-- price: integer (nullable = true)\n",
      " |-- year: integer (nullable = true)\n",
      " |-- ml: integer (nullable = true)\n",
      " |-- numeric_abv: float (nullable = true)\n",
      "\n"
     ]
    }
   ],
   "source": [
    "# 'collect()'를 사용하지 않고 변수에 바로 할당\n",
    "wine_df = final_clean_df_with_numeric_abv\n",
    "\n",
    "# 이제 wine_df를 사용하면 numeric_abv 컬럼이 포함된 데이터프레임으로 작업할 수 있습니다.\n",
    "wine_df.show(5)\n",
    "wine_df.printSchema()"
   ]
  },
  {
   "cell_type": "code",
   "execution_count": 99,
   "id": "e53eed81-6fc1-44e8-9a9f-511e739ecd64",
   "metadata": {},
   "outputs": [],
   "source": [
    "wine_df.createOrReplaceTempView('wines')"
   ]
  },
  {
   "cell_type": "code",
   "execution_count": 100,
   "id": "46080b38-4c28-41dd-9a6d-3a5b43668726",
   "metadata": {},
   "outputs": [],
   "source": [
    "query = \"\"\"\n",
    "SELECT \n",
    "    id,\n",
    "    nation,\n",
    "    local1,\n",
    "    varieties1,\n",
    "    numeric_abv,\n",
    "    sweet,\n",
    "    acidity,\n",
    "    body,\n",
    "    tannin,\n",
    "    year,\n",
    "    price\n",
    "FROM\n",
    "    wines\n",
    "\n",
    "\"\"\""
   ]
  },
  {
   "cell_type": "code",
   "execution_count": 101,
   "id": "49ac1987-92f2-4e9d-be77-45f60891064e",
   "metadata": {},
   "outputs": [],
   "source": [
    "wine_df = spark.sql(query)"
   ]
  },
  {
   "cell_type": "code",
   "execution_count": 102,
   "id": "a2d47d2e-16f7-4695-b66f-7e1e2b4329c9",
   "metadata": {},
   "outputs": [
    {
     "data": {
      "text/plain": [
       "4313"
      ]
     },
     "execution_count": 102,
     "metadata": {},
     "output_type": "execute_result"
    }
   ],
   "source": [
    "wine_df.count()"
   ]
  },
  {
   "cell_type": "code",
   "execution_count": 103,
   "id": "35e7e9e8-7459-4767-b428-d3fb2258da15",
   "metadata": {},
   "outputs": [],
   "source": [
    "stages = []"
   ]
  },
  {
   "cell_type": "code",
   "execution_count": 104,
   "id": "bb823f26-ef86-409e-a927-26a7474d0cbd",
   "metadata": {},
   "outputs": [],
   "source": [
    "train_df, test_df = wine_df.randomSplit([0.8,0.2], seed=1)"
   ]
  },
  {
   "cell_type": "code",
   "execution_count": 126,
   "id": "87e589b1-3811-4ec9-92ef-a2253f15108c",
   "metadata": {},
   "outputs": [],
   "source": [
    "from pyspark.sql.functions import concat, col, lit, log\n",
    "train_df = train_df.withColumn(\"local_varieties\", concat(col(\"local1\"), lit(\"_\"), col(\"varieties1\")))"
   ]
  },
  {
   "cell_type": "code",
   "execution_count": 127,
   "id": "79f27167-880b-4a39-9a3e-38b6a97ab2cf",
   "metadata": {},
   "outputs": [],
   "source": [
    "train_df = train_df.withColumn(\"log_price\", log(col(\"price\")))"
   ]
  },
  {
   "cell_type": "code",
   "execution_count": 130,
   "id": "805df317-87ae-4978-842c-32badbfd66cf",
   "metadata": {},
   "outputs": [
    {
     "name": "stdout",
     "output_type": "stream",
     "text": [
      "+-------------------------------------------------------------------------------------------------------------------------------------------------------------+\n",
      "|feature_vector                                                                                                                                               |\n",
      "+-------------------------------------------------------------------------------------------------------------------------------------------------------------+\n",
      "|(80,[7,27,68,74,75,76,77,78,79],[1.0,1.0,1.0,19.064024069123192,4.748759340599414,6.587695061690929,6.2918683352973,5.22320076392934,421.5980503627161])     |\n",
      "|(80,[7,27,68,74,75,76,77,78,79],[1.0,1.0,1.0,19.064024069123192,4.748759340599414,4.9407712962681964,5.03349466823784,5.22320076392934,422.0167177414278])   |\n",
      "|(80,[1,29,65,74,75,76,77,78,79],[1.0,1.0,1.0,17.749263788494005,4.748759340599414,4.9407712962681964,2.51674733411892,3.9174005729470047,420.97004929464845])|\n",
      "|(80,[9,27,65,74,75,76,77,78,79],[1.0,1.0,1.0,17.749263788494005,4.748759340599414,4.9407712962681964,2.51674733411892,3.9174005729470047,422.2260514307837]) |\n",
      "|(80,[1,27,65,74,75,76,77,78,79],[1.0,1.0,1.0,16.43450350786482,4.748759340599414,6.587695061690929,3.7751210011783805,3.9174005729470047,421.80738405207194])|\n",
      "+-------------------------------------------------------------------------------------------------------------------------------------------------------------+\n",
      "only showing top 5 rows\n",
      "\n"
     ]
    }
   ],
   "source": [
    "from pyspark.ml.feature import StringIndexer, OneHotEncoder, VectorAssembler, StandardScaler\n",
    "from pyspark.ml import Pipeline\n",
    "\n",
    "cat_features = ['local1', 'varieties1', 'nation']\n",
    "num_features = ['numeric_abv', 'sweet', 'acidity', 'body', 'tannin','year']\n",
    "stages = []\n",
    "\n",
    "# 1. 범주형 특성 전처리: StringIndexer -> OneHotEncoder\n",
    "for cat in cat_features:\n",
    "    cat_index = StringIndexer(inputCol=cat, outputCol=cat + '_idx').setHandleInvalid('keep')\n",
    "    onehot_encode = OneHotEncoder(inputCols=[cat_index.getOutputCol()], outputCols=[cat + '_onehot'])\n",
    "    stages += [cat_index, onehot_encode]\n",
    "\n",
    "# 2. 숫자형 특성 전처리: 모든 숫자 컬럼을 하나의 벡터로 통합 후 표준화\n",
    "num_assembler = VectorAssembler(inputCols=num_features, outputCol=\"num_features_vector\", handleInvalid=\"keep\" )\n",
    "num_scaler = StandardScaler(inputCol=num_assembler.getOutputCol(), outputCol=\"scaled_num_features\")\n",
    "stages += [num_assembler, num_scaler]\n",
    "\n",
    "# 3. 최종 통합: 범주형 원-핫 벡터 + 표준화된 숫자형 벡터를 하나의 'feature_vector'로 합치기\n",
    "assembler_inputs = [cat + '_onehot' for cat in cat_features] + ['scaled_num_features']\n",
    "final_assembler = VectorAssembler(inputCols=assembler_inputs, outputCol='feature_vector')\n",
    "stages.append(final_assembler)\n",
    "\n",
    "# 4. 파이프라인 구축\n",
    "pipeline = Pipeline(stages=stages)\n",
    "\n",
    "# 'train_df' 데이터프레임으로 파이프라인 학습 및 변환\n",
    "fitted_pipeline = pipeline.fit(train_df)\n",
    "vtrain_df = fitted_pipeline.transform(train_df)\n",
    "\n",
    "# 결과 확인\n",
    "vtrain_df.select('feature_vector').show(5, truncate=False)"
   ]
  },
  {
   "cell_type": "code",
   "execution_count": 131,
   "id": "df322135-75d2-46bd-b985-819349e04ebb",
   "metadata": {},
   "outputs": [
    {
     "name": "stdout",
     "output_type": "stream",
     "text": [
      "root\n",
      " |-- id: integer (nullable = true)\n",
      " |-- nation: string (nullable = true)\n",
      " |-- local1: string (nullable = true)\n",
      " |-- varieties1: string (nullable = true)\n",
      " |-- numeric_abv: float (nullable = true)\n",
      " |-- sweet: integer (nullable = true)\n",
      " |-- acidity: integer (nullable = true)\n",
      " |-- body: integer (nullable = true)\n",
      " |-- tannin: integer (nullable = true)\n",
      " |-- year: integer (nullable = true)\n",
      " |-- price: integer (nullable = true)\n",
      " |-- local_varieties: string (nullable = true)\n",
      " |-- log_price: double (nullable = true)\n",
      " |-- local1_idx: double (nullable = false)\n",
      " |-- local1_onehot: vector (nullable = true)\n",
      " |-- varieties1_idx: double (nullable = false)\n",
      " |-- varieties1_onehot: vector (nullable = true)\n",
      " |-- nation_idx: double (nullable = false)\n",
      " |-- nation_onehot: vector (nullable = true)\n",
      " |-- num_features_vector: vector (nullable = true)\n",
      " |-- scaled_num_features: vector (nullable = true)\n",
      " |-- feature_vector: vector (nullable = true)\n",
      "\n"
     ]
    }
   ],
   "source": [
    "from pyspark.ml import Pipeline\n",
    "pipeline = Pipeline(stages=stages)\n",
    "fitted_transform = pipeline.fit(train_df)\n",
    "vtrain_df = fitted_transform.transform(train_df)\n",
    "vtrain_df.printSchema()"
   ]
  },
  {
   "cell_type": "code",
   "execution_count": 132,
   "id": "9abfba48-944b-4588-baf5-62f1ecd45539",
   "metadata": {},
   "outputs": [
    {
     "name": "stdout",
     "output_type": "stream",
     "text": [
      "+--------------------+\n",
      "|      feature_vector|\n",
      "+--------------------+\n",
      "|(80,[7,27,68,74,7...|\n",
      "|(80,[7,27,68,74,7...|\n",
      "|(80,[1,29,65,74,7...|\n",
      "|(80,[9,27,65,74,7...|\n",
      "|(80,[1,27,65,74,7...|\n",
      "|(80,[1,29,65,74,7...|\n",
      "|(80,[1,29,65,74,7...|\n",
      "|(80,[1,29,65,74,7...|\n",
      "|(80,[1,27,65,74,7...|\n",
      "|(80,[1,27,65,74,7...|\n",
      "|(80,[1,27,65,74,7...|\n",
      "|(80,[1,27,65,74,7...|\n",
      "|(80,[10,27,68,74,...|\n",
      "|(80,[11,27,68,74,...|\n",
      "|(80,[7,36,68,74,7...|\n",
      "|(80,[0,27,67,74,7...|\n",
      "|(80,[0,28,67,74,7...|\n",
      "|(80,[0,27,67,74,7...|\n",
      "|(80,[0,29,67,74,7...|\n",
      "|(80,[0,28,67,74,7...|\n",
      "+--------------------+\n",
      "only showing top 20 rows\n",
      "\n"
     ]
    }
   ],
   "source": [
    "vtrain_df.select('feature_vector').show()"
   ]
  },
  {
   "cell_type": "code",
   "execution_count": 133,
   "id": "4aa38129-8db1-4de4-8f8c-da4d958187c4",
   "metadata": {},
   "outputs": [],
   "source": [
    "from pyspark.ml.regression import LinearRegression\n",
    "lr = LinearRegression( maxIter=50, solver='normal', labelCol='log_price', featuresCol='feature_vector')"
   ]
  },
  {
   "cell_type": "code",
   "execution_count": 134,
   "id": "558eb1f9-6905-4c64-9afe-fa45ca523774",
   "metadata": {},
   "outputs": [],
   "source": [
    "model = lr.fit(vtrain_df)"
   ]
  },
  {
   "cell_type": "code",
   "execution_count": 135,
   "id": "3a2ab4fb-635a-4299-99bd-e830d46ca9b8",
   "metadata": {},
   "outputs": [],
   "source": [
    "#테스트데이터 변환\n",
    "vtest_df = fitted_transform.transform(test_df)\n",
    "#테스트데이터로 예측\n",
    "pred=model.transform(vtest_df)"
   ]
  },
  {
   "cell_type": "code",
   "execution_count": 136,
   "id": "b2dd4548-7111-4aff-9217-f7dd14ecac7a",
   "metadata": {},
   "outputs": [
    {
     "data": {
      "text/plain": [
       "DataFrame[id: int, nation: string, local1: string, varieties1: string, numeric_abv: float, sweet: int, acidity: int, body: int, tannin: int, year: int, price: int, local1_idx: double, local1_onehot: vector, varieties1_idx: double, varieties1_onehot: vector, nation_idx: double, nation_onehot: vector, num_features_vector: vector, scaled_num_features: vector, feature_vector: vector, prediction: double]"
      ]
     },
     "execution_count": 136,
     "metadata": {},
     "output_type": "execute_result"
    }
   ],
   "source": [
    "pred.cache()"
   ]
  },
  {
   "cell_type": "code",
   "execution_count": 153,
   "id": "d519d949-d0e5-40b1-a5cc-ad605778eaa3",
   "metadata": {},
   "outputs": [
    {
     "name": "stdout",
     "output_type": "stream",
     "text": [
      "+------------------+------------------+\n",
      "|             price|        prediction|\n",
      "+------------------+------------------+\n",
      "| 38201.47076367959|10.550629295520501|\n",
      "|163295.09747805377|12.003314256940563|\n",
      "| 108269.8524482154| 11.59238202349082|\n",
      "|179140.74709254914|12.095927072460086|\n",
      "| 24750.19277541965|10.116588556872347|\n",
      "| 51285.92267222168| 10.84517158165351|\n",
      "|43801.198775673845|10.687416465297627|\n",
      "| 43154.43963729401|10.672540579684597|\n",
      "|  15466.1803854671| 9.646411008457171|\n",
      "| 41221.45384752818|10.626714124262254|\n",
      "| 83490.72732876797| 11.33249085471757|\n",
      "| 82257.92109562388|11.317614969104547|\n",
      "| 38916.76382366894| 10.56918038339959|\n",
      "|15114.109411338039| 9.623383984626717|\n",
      "| 17888.27911786391| 9.791900979470384|\n",
      "| 77311.82074105013|11.255602143208456|\n",
      "|114805.00894396167|11.650990393831801|\n",
      "| 39617.95881237497|10.587037799803099|\n",
      "|34086.539305100174|10.436657843554642|\n",
      "|  71874.8762807544|11.182682056786927|\n",
      "| 138721.1814474104|11.840221308755858|\n",
      "|168107.88522328413|12.032361226228058|\n",
      "|26653.670968627022|10.190682167523335|\n",
      "|47707.043965257864| 10.77283433820159|\n",
      "|101798.82217822243|11.530753813073105|\n",
      "|60966.677734043566|11.018082727242437|\n",
      "| 141813.0550370332|11.862264955394014|\n",
      "| 51996.56290272962|10.858932897354563|\n",
      "|198865.52723598338| 12.20038413275699|\n",
      "|24935.024989012203| 10.12402872014584|\n",
      "| 156666.9486237695|  11.9618774847427|\n",
      "|234577.41161645565|12.365540925896006|\n",
      "|  48982.9033417997|10.799226604817179|\n",
      "|  49531.9476438472|10.810373147317698|\n",
      "| 25366.34569299882|10.141178601737572|\n",
      "|164125.08356377503|12.008384120752112|\n",
      "|  65583.5319750179|11.091079906450936|\n",
      "|  55980.2659125134|10.932754513192378|\n",
      "|416278.70035879663|12.939110267710785|\n",
      "| 422517.5035000907|12.953986153323815|\n",
      "| 58006.94623094256|10.968318044960046|\n",
      "|24857.343640567473|10.120908506602824|\n",
      "|119294.08132999353|11.689346995203955|\n",
      "| 94606.19392631135|11.457478227804735|\n",
      "|109707.62009394076|11.605574106876773|\n",
      "| 90660.90385689728|11.414881494188108|\n",
      "|62213.731605573994| 11.03833101972511|\n",
      "|30083.364715405114|10.311727630697835|\n",
      "|42564.645250525915|10.658779263983554|\n",
      "| 91120.57362072506|11.419938893324307|\n",
      "|366129.94871963875|12.810743600514314|\n",
      "|140162.30808064446|11.850556373504983|\n",
      "|227658.84988210863| 12.33560351495618|\n",
      "| 90291.38967395318|11.410797382410827|\n",
      "| 66397.21237724644| 11.10341035231286|\n",
      "| 104049.6943185886|11.552623893985544|\n",
      "| 53062.99480652977|10.879235067986052|\n",
      "| 50029.81090312699| 10.82037432480545|\n",
      "| 67141.86116664429|11.114562990832631|\n",
      "| 99452.79862572887|11.507438424919137|\n",
      "|204060.18769707478| 12.22617026704204|\n",
      "| 188378.8471275894|12.146210358428096|\n",
      "|123089.31539210341|11.720665512240661|\n",
      "| 59243.06293672557|10.989403970906135|\n",
      "|  104055.426136055|11.552678979775411|\n",
      "| 67007.64454827053|11.112561989599833|\n",
      "|  156637.867715639| 11.96169184502893|\n",
      "| 75534.78863980745|11.232348605798329|\n",
      "|167052.75084000165| 12.02606491481485|\n",
      "| 40532.42045399526|10.609857437898281|\n",
      "|279557.45945055125|12.540963129878257|\n",
      "|239171.34086698666|12.384935481451546|\n",
      "|163527.44062507246|12.004736087806386|\n",
      "|  148721.073669853|11.909827841773872|\n",
      "|107514.49021233886|11.585380910139058|\n",
      "|192800.44738577708|12.169410981621539|\n",
      "|210753.44715409828| 12.25844423233341|\n",
      "|114805.00894396167|11.650990393831801|\n",
      "|107514.49021233886|11.585380910139058|\n",
      "|49989.582681859574|10.819569916340356|\n",
      "|31653.516396084164| 10.36260452396279|\n",
      "| 77227.54849513693| 11.25451151815048|\n",
      "| 50599.16785426662|10.831690409572474|\n",
      "|130568.71489989643|11.779654918122635|\n",
      "|143962.20209977296|11.877306058684567|\n",
      "|188732.16313500752| 12.14808416269889|\n",
      "| 266057.0253241456|12.491465945705372|\n",
      "|100367.45564638209|11.516593286744403|\n",
      "| 278264.7997073736|12.536328456249382|\n",
      "|121271.80487202707|11.705789626627634|\n",
      "|313275.90901153785|12.654839579670128|\n",
      "|117967.27368950991|11.678162523367181|\n",
      "|397401.59168619604|12.892702614341445|\n",
      "|312781.15533970366|12.653259040760812|\n",
      "|114955.32121433067|11.652298820675632|\n",
      "|44994.424274465026|10.714293856063708|\n",
      "| 38470.74301188724|10.557653309619802|\n",
      "| 52127.20085244013|10.861442180798534|\n",
      "| 49727.09529619108|10.814305240515473|\n",
      "| 70401.65539751397|11.161972056038913|\n",
      "+------------------+------------------+\n",
      "only showing top 100 rows\n",
      "\n"
     ]
    }
   ],
   "source": [
    "pred.select('price','prediction').show(100)"
   ]
  },
  {
   "cell_type": "code",
   "execution_count": 159,
   "id": "fcc0ceb3-5916-448d-9c0d-150547cf8091",
   "metadata": {},
   "outputs": [
    {
     "name": "stdout",
     "output_type": "stream",
     "text": [
      "+-------+------------------+\n",
      "|  price|   predicted_price|\n",
      "+-------+------------------+\n",
      "| 220000| 130439.8940636943|\n",
      "| 110000| 76572.32005355523|\n",
      "|  21000| 37147.60905914579|\n",
      "|  19000|21470.589002829445|\n",
      "|  32000| 40105.77915669666|\n",
      "|  42000| 19842.44018797328|\n",
      "| 250000|109005.01222748561|\n",
      "|  85000| 59624.86898380512|\n",
      "|  50000|  91158.1742206005|\n",
      "|  50000| 64196.98316877035|\n",
      "| 140000|110762.06260660842|\n",
      "|  80000| 53573.05980432169|\n",
      "|  22000|24058.467383660784|\n",
      "| 100000|56494.356325766275|\n",
      "| 100000| 78773.91574301699|\n",
      "|  55000| 274663.5856330464|\n",
      "|  59000|144348.32119475916|\n",
      "|  70000|117133.91907120902|\n",
      "|  70000| 96720.56685726205|\n",
      "|  70000| 94754.62772647839|\n",
      "|  22500|49832.861181496264|\n",
      "|  32000|43801.198775673845|\n",
      "|  36000|51228.792769452826|\n",
      "|  34000|40905.554288204534|\n",
      "|  26000| 35251.46185160333|\n",
      "|  98000|110762.06260660842|\n",
      "|  17000|14924.710665574372|\n",
      "|  17000|21992.275076885442|\n",
      "| 190000| 146868.1929165762|\n",
      "| 260000|101050.85124349206|\n",
      "|  39000| 36564.97642757277|\n",
      "|  40000|32415.225557788468|\n",
      "| 180000|126913.68515210324|\n",
      "|  19000|20326.558482685214|\n",
      "|  17000|37363.445815717554|\n",
      "|  22000| 32903.74315153992|\n",
      "|  22000|22298.120101556113|\n",
      "|  30000| 49252.16722544715|\n",
      "|  40000|65002.962065873675|\n",
      "|  30000| 40763.66177140253|\n",
      "|  42000|55760.856933505616|\n",
      "| 110000|  244717.135870394|\n",
      "|  25000|42602.143204016684|\n",
      "| 130000|237543.60932929104|\n",
      "| 230000| 297437.9572345461|\n",
      "|  27000|31945.020967437853|\n",
      "|  14000|20002.395877743056|\n",
      "|  14000|13755.499646627819|\n",
      "|  40000| 38065.00555555834|\n",
      "|  25000| 16067.90119981952|\n",
      "|  25000|27322.967560194353|\n",
      "|  27000| 33356.02731658196|\n",
      "|  20000|14255.392572160607|\n",
      "|  50000| 51047.71516559175|\n",
      "|  50000|48648.430944052816|\n",
      "| 140000|104177.16772884587|\n",
      "|  70000| 59704.13812108968|\n",
      "|  35000|43001.902321791764|\n",
      "|  35000|50894.830148197885|\n",
      "| 100000|  71721.7618218088|\n",
      "|  45000| 88343.61027265221|\n",
      "|  60000|104925.04801168203|\n",
      "|  18000|  38624.5073718465|\n",
      "|  39000| 45800.21764369434|\n",
      "|1100000|215088.00378628023|\n",
      "|  38000| 80786.22140760461|\n",
      "|  99000| 79038.60017447508|\n",
      "|  20000| 16935.52837434673|\n",
      "|  15000|35041.380665037585|\n",
      "|  45000| 54861.99037423537|\n",
      "|  25000|50318.016019821785|\n",
      "| 120000|117239.91608909913|\n",
      "|  22000| 27098.92593369174|\n",
      "|  17000|12988.395880113672|\n",
      "|  25000| 31990.96103743534|\n",
      "|  28000| 30323.83236689616|\n",
      "|  25000|  34931.5960664922|\n",
      "|  22000| 32460.44986506353|\n",
      "| 175000|417164.09462956374|\n",
      "| 240000| 252283.7745881394|\n",
      "| 240000| 194687.0366953362|\n",
      "| 600000|377744.47868921154|\n",
      "| 360000|377744.47868921154|\n",
      "| 350000|377744.47868921154|\n",
      "| 650000|377744.47868921154|\n",
      "| 500000|377744.47868921154|\n",
      "| 750000| 553913.7442667737|\n",
      "|1050000| 194687.0366953362|\n",
      "|  70000| 74926.72834152577|\n",
      "|  60000| 83734.62546452275|\n",
      "|  36000|127091.32745334163|\n",
      "|  36000| 87399.76553604525|\n",
      "|  26000|40905.554288204534|\n",
      "|  42000|102655.23963845467|\n",
      "|  66000|223260.30974329117|\n",
      "|  31000|110638.67931666283|\n",
      "| 790000| 170852.3157598868|\n",
      "|  30000|51228.792769452826|\n",
      "|  40000| 46538.47075821001|\n",
      "|  99000| 156461.3690412993|\n",
      "+-------+------------------+\n",
      "only showing top 100 rows\n",
      "\n"
     ]
    }
   ],
   "source": [
    "from pyspark.sql.functions import exp, col\n",
    "\n",
    "#    'prediction' 컬럼에는 log(price) 값이 들어있습니다.\n",
    "predictions = model.transform(vtrain_df)\n",
    "\n",
    "predictions_with_actual_price = predictions.withColumn(\n",
    "    \"predicted_price\", exp(col(\"prediction\"))\n",
    ")\n",
    "\n",
    "# 3. 원본 가격('price')과 변환된 예측 가격('predicted_price')을 비교합니다.\n",
    "predictions_with_actual_price.select('price', 'predicted_price').show(100)"
   ]
  },
  {
   "cell_type": "code",
   "execution_count": 158,
   "id": "6474b6cb-5893-4f75-a49c-dfdbf0003d12",
   "metadata": {},
   "outputs": [
    {
     "data": {
      "text/plain": [
       "(0.6330783435756964, 0.5819334061708843)"
      ]
     },
     "execution_count": 158,
     "metadata": {},
     "output_type": "execute_result"
    }
   ],
   "source": [
    "model.summary.r2, model.summary.rootMeanSquaredError"
   ]
  },
  {
   "cell_type": "code",
   "execution_count": 160,
   "id": "ea194d4d-cc08-4be7-9e8f-e5559ea576b2",
   "metadata": {},
   "outputs": [],
   "source": [
    "# 추가로 임포트할 RandomForestRegressor\n",
    "from pyspark.ml.regression import RandomForestRegressor"
   ]
  },
  {
   "cell_type": "code",
   "execution_count": 175,
   "id": "2fa166ea-9ad9-466f-805b-7d6c460817a5",
   "metadata": {},
   "outputs": [
    {
     "name": "stdout",
     "output_type": "stream",
     "text": [
      "+------+------------------+\n",
      "| price|   predicted_price|\n",
      "+------+------------------+\n",
      "| 19000| 47045.67147696839|\n",
      "|120000| 127136.2078764992|\n",
      "|130000| 90459.95144947125|\n",
      "|450000|193976.61392386054|\n",
      "| 22000|32611.101444659173|\n",
      "| 45000|51530.312728379446|\n",
      "| 45000| 47045.67147696839|\n",
      "| 45000| 47045.67147696839|\n",
      "| 17000|45865.567289922925|\n",
      "| 50000| 73138.34580027279|\n",
      "+------+------------------+\n",
      "only showing top 10 rows\n",
      "\n"
     ]
    }
   ],
   "source": [
    "# 1. RandomForestRegressor 모델 객체 생성\n",
    "# labelCol에는 로그 변환된 'log_price' 컬럼을 사용합니다.\n",
    "rf = RandomForestRegressor(featuresCol='feature_vector', labelCol='log_price')\n",
    "\n",
    "# 2. 파이프라인에 RandomForestRegressor 추가\n",
    "# 기존 파이프라인의 LinearRegression을 RandomForestRegressor로 교체합니다.\n",
    "stages_for_rf = stages + [rf]  # stages는 이전 답변에서 만들었던 리스트입니다.\n",
    "rf_pipeline = Pipeline(stages=stages_for_rf)\n",
    "\n",
    "# 3. 파이프라인 학습\n",
    "rf_model = rf_pipeline.fit(train_df)\n",
    "\n",
    "# 4. 테스트 데이터셋에 적용 및 예측\n",
    "predictions = rf_model.transform(test_df)\n",
    "\n",
    "# 5. 예측값(로그 스케일)을 실제 가격으로 변환\n",
    "predict = predictions.withColumn(\n",
    "    \"predicted_price\", exp(col(\"prediction\"))\n",
    ")\n",
    "\n",
    "# 6. 결과 확인\n",
    "predict.select('price', 'predicted_price').show(10)"
   ]
  },
  {
   "cell_type": "code",
   "execution_count": 172,
   "id": "a413052d-8c6e-4b5c-a255-a06a91a2c854",
   "metadata": {},
   "outputs": [],
   "source": [
    "from pyspark.ml.evaluation import RegressionEvaluator\n",
    "evaluator = RegressionEvaluator(\n",
    "    labelCol=\"log_price\", predictionCol=\"prediction\", metricName=\"r2\"\n",
    ")"
   ]
  },
  {
   "cell_type": "code",
   "execution_count": 171,
   "id": "f056ede6-cd74-4787-979f-a6ca2ac2ca0f",
   "metadata": {},
   "outputs": [
    {
     "name": "stdout",
     "output_type": "stream",
     "text": [
      "Random Forest 모델의 R-squared 값: 0.5569821904715906\n"
     ]
    }
   ],
   "source": [
    "# 1. 모델이 예측한 predictions 데이터프레임에 'price' 컬럼을 로그 변환하여 'log_price' 컬럼을 추가합니다.\n",
    "predictions_with_log_price = predictions.withColumn(\"log_price\", log(col(\"price\")))\n",
    "\n",
    "# 2. RegressionEvaluator를 사용하여 R²를 계산합니다.\n",
    "#    이제 predictions_with_log_price에는 'log_price' 컬럼이 존재합니다.\n",
    "evaluator = RegressionEvaluator(\n",
    "    labelCol=\"log_price\", predictionCol=\"prediction\", metricName=\"r2\"\n",
    ")\n",
    "\n",
    "r2_score = evaluator.evaluate(predictions_with_log_price)\n",
    "\n",
    "print(f\"Random Forest 모델의 R-squared 값: {r2_score}\")"
   ]
  }
 ],
 "metadata": {
  "kernelspec": {
   "display_name": "Python 3 (ipykernel)",
   "language": "python",
   "name": "python3"
  },
  "language_info": {
   "codemirror_mode": {
    "name": "ipython",
    "version": 3
   },
   "file_extension": ".py",
   "mimetype": "text/x-python",
   "name": "python",
   "nbconvert_exporter": "python",
   "pygments_lexer": "ipython3",
   "version": "3.11.6"
  }
 },
 "nbformat": 4,
 "nbformat_minor": 5
}
