{
 "cells": [
  {
   "cell_type": "code",
   "execution_count": 1,
   "id": "b2a7b95e-bcc7-42d7-ad6b-6b81dd1ef451",
   "metadata": {},
   "outputs": [],
   "source": [
    "from pyspark import SparkConf, SparkContext\n",
    "conf = SparkConf().setMaster(\"local\").setAppName(\"spark_sql_basic2\")\n",
    "sc   = SparkContext(conf=conf)"
   ]
  },
  {
   "cell_type": "code",
   "execution_count": 2,
   "id": "0245d2be-61c9-4e36-a87f-d5d4ced74891",
   "metadata": {},
   "outputs": [],
   "source": [
    "movies_rdd = sc.parallelize([\n",
    "    (1, (\"어벤져스\", \"마블\")),\n",
    "    (2, (\"슈퍼맨\", \"DC\")),\n",
    "    (3, (\"배트맨\", \"DC\")),\n",
    "    (4, (\"겨울왕국\", \"디즈니\")),\n",
    "    (5, (\"아이언맨\", \"마블\"))\n",
    "])\n",
    "\n",
    "\n",
    "attendances_rdd = sc.parallelize([\n",
    "    (1, (13934592, \"KR\")), #관객수\n",
    "    (2, (2182227,\"KR\")),\n",
    "    (3, (4226242, \"KR\")),\n",
    "    (4, (10303058, \"KR\")),\n",
    "    (5, (4300365, \"KR\"))\n",
    "])"
   ]
  },
  {
   "cell_type": "code",
   "execution_count": 3,
   "id": "7d6de9c9-a3dc-48f4-9a61-b2ebeab00c9f",
   "metadata": {},
   "outputs": [
    {
     "data": {
      "text/plain": [
       "[(2, (('슈퍼맨', 'DC'), (2182227, 'KR'))),\n",
       " (4, (('겨울왕국', '디즈니'), (10303058, 'KR'))),\n",
       " (1, (('어벤져스', '마블'), (13934592, 'KR'))),\n",
       " (3, (('배트맨', 'DC'), (4226242, 'KR'))),\n",
       " (5, (('아이언맨', '마블'), (4300365, 'KR')))]"
      ]
     },
     "execution_count": 3,
     "metadata": {},
     "output_type": "execute_result"
    }
   ],
   "source": [
    "movie_att = movies_rdd.join(attendances_rdd)\n",
    "movie_att.take(5)"
   ]
  },
  {
   "cell_type": "code",
   "execution_count": 4,
   "id": "e21e01f2-f85e-4af0-b951-fe69a6fabc41",
   "metadata": {},
   "outputs": [
    {
     "data": {
      "text/plain": [
       "[(1, (('어벤져스', '마블'), (13934592, 'KR')))]"
      ]
     },
     "execution_count": 4,
     "metadata": {},
     "output_type": "execute_result"
    }
   ],
   "source": [
    "movie_att.filter(\n",
    "    lambda x : x[1][0][1] == \"마블\" and x[1][1][0] > 5000000\n",
    ").collect()"
   ]
  },
  {
   "cell_type": "code",
   "execution_count": 5,
   "id": "274bc80b-ffa3-42ca-abcb-1ebbb5ae3701",
   "metadata": {},
   "outputs": [
    {
     "data": {
      "text/plain": [
       "[(1, (('어벤져스', '마블'), (13934592, 'KR')))]"
      ]
     },
     "execution_count": 5,
     "metadata": {},
     "output_type": "execute_result"
    }
   ],
   "source": [
    "filtered_movies = movies_rdd.filter(lambda x : x[1][1] == '마블')\n",
    "filtered_att = attendances_rdd.filter(lambda x : x[1][0] > 5000000)\n",
    "\n",
    "filtered_movies.join(filtered_att).collect()"
   ]
  },
  {
   "cell_type": "code",
   "execution_count": 65,
   "id": "a9edfa1a-f3dc-4447-8ee6-ef872ac625b0",
   "metadata": {
    "scrolled": true
   },
   "outputs": [
    {
     "data": {
      "text/html": [
       "\n",
       "            <div>\n",
       "                <p><b>SparkSession - in-memory</b></p>\n",
       "                \n",
       "        <div>\n",
       "            <p><b>SparkContext</b></p>\n",
       "\n",
       "            <p><a href=\"http://c371266d78d6:4041\">Spark UI</a></p>\n",
       "\n",
       "            <dl>\n",
       "              <dt>Version</dt>\n",
       "                <dd><code>v3.5.0</code></dd>\n",
       "              <dt>Master</dt>\n",
       "                <dd><code>local</code></dd>\n",
       "              <dt>AppName</dt>\n",
       "                <dd><code>spark-sql</code></dd>\n",
       "            </dl>\n",
       "        </div>\n",
       "        \n",
       "            </div>\n",
       "        "
      ],
      "text/plain": [
       "<pyspark.sql.session.SparkSession at 0x7f577cf5ce90>"
      ]
     },
     "execution_count": 65,
     "metadata": {},
     "output_type": "execute_result"
    }
   ],
   "source": [
    "from pyspark.sql import SparkSession\n",
    "spark = SparkSession.builder.master(\"local\").appName(\"spark-sql\").getOrCreate()\n",
    "spark"
   ]
  },
  {
   "cell_type": "code",
   "execution_count": 7,
   "id": "39f58565-024f-4b80-886b-7eceb77860eb",
   "metadata": {},
   "outputs": [],
   "source": [
    "# 컬럼 추가\n",
    "movies = [\n",
    "    (1, \"어벤져스\", \"마블\", 2012, 4, 26),\n",
    "    (2, \"슈퍼맨\", \"DC\", 2013, 6, 13),\n",
    "    (3, \"배트맨\", \"DC\", 2008, 8, 6),\n",
    "    (4, \"겨울왕국\", \"디즈니\", 2014, 1, 16),\n",
    "    (5, \"아이언맨\", \"마블\", 2008, 4, 30)\n",
    "]"
   ]
  },
  {
   "cell_type": "code",
   "execution_count": 8,
   "id": "780927d6-f59e-44ea-86ac-f17666fda936",
   "metadata": {},
   "outputs": [],
   "source": [
    "#스키마를 알아야 한다.\n",
    "movie_schema = [\"id\", \"name\", \"company\", \"year\", \"month\", \"day\"]"
   ]
  },
  {
   "cell_type": "code",
   "execution_count": 9,
   "id": "f63bc2c9-d50b-44cf-9858-dccb8203c44a",
   "metadata": {},
   "outputs": [],
   "source": [
    "df = spark.createDataFrame(data=movies, schema=movie_schema)"
   ]
  },
  {
   "cell_type": "code",
   "execution_count": 10,
   "id": "38d88b01-e78b-4698-a470-c8ec84aad9b4",
   "metadata": {},
   "outputs": [
    {
     "data": {
      "text/plain": [
       "['id', 'name', 'company', 'year', 'month', 'day']"
      ]
     },
     "execution_count": 10,
     "metadata": {},
     "output_type": "execute_result"
    }
   ],
   "source": [
    "df.columns"
   ]
  },
  {
   "cell_type": "code",
   "execution_count": 11,
   "id": "66a066fe-372d-48c1-aa55-e586f71c56c2",
   "metadata": {},
   "outputs": [
    {
     "name": "stdout",
     "output_type": "stream",
     "text": [
      "+---+--------+-------+----+-----+---+\n",
      "| id|    name|company|year|month|day|\n",
      "+---+--------+-------+----+-----+---+\n",
      "|  1|어벤져스|   마블|2012|    4| 26|\n",
      "|  2|  슈퍼맨|     DC|2013|    6| 13|\n",
      "|  3|  배트맨|     DC|2008|    8|  6|\n",
      "+---+--------+-------+----+-----+---+\n",
      "only showing top 3 rows\n",
      "\n",
      "None\n"
     ]
    }
   ],
   "source": [
    "print(df.show(3))"
   ]
  },
  {
   "cell_type": "code",
   "execution_count": 12,
   "id": "6fc0e9e8-b625-4863-acb3-2f30fc1b1335",
   "metadata": {},
   "outputs": [
    {
     "name": "stdout",
     "output_type": "stream",
     "text": [
      "+-------+\n",
      "|company|\n",
      "+-------+\n",
      "|   마블|\n",
      "|     DC|\n",
      "|     DC|\n",
      "| 디즈니|\n",
      "|   마블|\n",
      "+-------+\n",
      "\n"
     ]
    }
   ],
   "source": [
    "df.select('company').show() #projection"
   ]
  },
  {
   "cell_type": "code",
   "execution_count": 13,
   "id": "a202bdba-55f8-4bb4-8606-9337d4506a79",
   "metadata": {},
   "outputs": [
    {
     "name": "stdout",
     "output_type": "stream",
     "text": [
      "+--------+\n",
      "|    name|\n",
      "+--------+\n",
      "|어벤져스|\n",
      "|  슈퍼맨|\n",
      "|  배트맨|\n",
      "|겨울왕국|\n",
      "|아이언맨|\n",
      "+--------+\n",
      "\n"
     ]
    }
   ],
   "source": [
    "df.select(\"name\").show()"
   ]
  },
  {
   "cell_type": "code",
   "execution_count": 14,
   "id": "0aa7f5a3-7ceb-4d7e-aaa6-e32d839ab333",
   "metadata": {},
   "outputs": [
    {
     "name": "stdout",
     "output_type": "stream",
     "text": [
      "+---+--------+-------+----+-----+---+\n",
      "| id|    name|company|year|month|day|\n",
      "+---+--------+-------+----+-----+---+\n",
      "|  1|어벤져스|   마블|2012|    4| 26|\n",
      "|  2|  슈퍼맨|     DC|2013|    6| 13|\n",
      "|  4|겨울왕국| 디즈니|2014|    1| 16|\n",
      "+---+--------+-------+----+-----+---+\n",
      "\n"
     ]
    }
   ],
   "source": [
    "df.filter(df.year >= 2010).show() #where"
   ]
  },
  {
   "cell_type": "code",
   "execution_count": 18,
   "id": "8612b3f5-b4d4-40e1-bade-78441d07aa08",
   "metadata": {},
   "outputs": [
    {
     "name": "stdout",
     "output_type": "stream",
     "text": [
      "+--------+----+-----+---+\n",
      "|    name|year|month|day|\n",
      "+--------+----+-----+---+\n",
      "|어벤져스|2012|    4| 26|\n",
      "|  슈퍼맨|2013|    6| 13|\n",
      "|  배트맨|2008|    8|  6|\n",
      "|겨울왕국|2014|    1| 16|\n",
      "|아이언맨|2008|    4| 30|\n",
      "+--------+----+-----+---+\n",
      "\n"
     ]
    }
   ],
   "source": [
    "day_df=df.select(df.name, df.year, df.month, df.day) #년,월,일\n",
    "day_df.show()"
   ]
  },
  {
   "cell_type": "code",
   "execution_count": 15,
   "id": "931dd565-34c5-4084-b2d6-5d2250b06a5b",
   "metadata": {},
   "outputs": [
    {
     "name": "stdout",
     "output_type": "stream",
     "text": [
      "+---+--------+-------+----+-----+---+\n",
      "| id|    name|company|year|month|day|\n",
      "+---+--------+-------+----+-----+---+\n",
      "|  2|  슈퍼맨|     DC|2013|    6| 13|\n",
      "|  4|겨울왕국| 디즈니|2014|    1| 16|\n",
      "+---+--------+-------+----+-----+---+\n",
      "\n"
     ]
    }
   ],
   "source": [
    "df.filter(df.year >= 2013).show() #where"
   ]
  },
  {
   "cell_type": "code",
   "execution_count": 26,
   "id": "5582a9e7-3166-4414-a20a-e70a0a445ece",
   "metadata": {},
   "outputs": [
    {
     "name": "stdout",
     "output_type": "stream",
     "text": [
      "+---+--------+-------+----+-----+---+\n",
      "| id|    name|company|year|month|day|\n",
      "+---+--------+-------+----+-----+---+\n",
      "|  1|어벤져스|   마블|2012|    4| 26|\n",
      "|  2|  슈퍼맨|     DC|2013|    6| 13|\n",
      "|  3|  배트맨|     DC|2008|    8|  6|\n",
      "|  5|아이언맨|   마블|2008|    4| 30|\n",
      "+---+--------+-------+----+-----+---+\n",
      "\n"
     ]
    }
   ],
   "source": [
    "# 마블영화, DC 같이 꺼내기\n",
    "md_df = df.where((df.company == '마블') | (df.company == 'DC'))\n",
    "md_df.show()"
   ]
  },
  {
   "cell_type": "code",
   "execution_count": null,
   "id": "b81b0046-9d7e-478e-945b-b883b648b841",
   "metadata": {},
   "outputs": [],
   "source": []
  },
  {
   "cell_type": "code",
   "execution_count": 31,
   "id": "d9019f5e-9f31-4428-aec8-25db160ba28c",
   "metadata": {},
   "outputs": [],
   "source": [
    "#직접 스키마 지정해보기\n",
    "from pyspark.sql.types import StringType, FloatType, IntegerType, ShortType, StructField, StructType\n"
   ]
  },
  {
   "cell_type": "code",
   "execution_count": 32,
   "id": "0eb32cac-ba48-4515-b832-024d9d75a52d",
   "metadata": {},
   "outputs": [],
   "source": [
    "att_schema = StructType()"
   ]
  },
  {
   "cell_type": "code",
   "execution_count": 37,
   "id": "657763cc-3374-43a7-98dd-3f1cb2223e35",
   "metadata": {},
   "outputs": [],
   "source": [
    "#df와 join\n",
    "#query = '''\n",
    "#select movies.id , movies.name, movices.company, att.att\n",
    "#from movies\n",
    "#join att On movies.id = att.id\n",
    "#'''\n",
    "\n",
    "#spark.sql(query).show()"
   ]
  },
  {
   "cell_type": "code",
   "execution_count": 38,
   "id": "75b289c9-c796-4d20-9898-7aa5dd4313df",
   "metadata": {},
   "outputs": [],
   "source": [
    "emp_df = spark.read.format('csv').option('header', 'true').option('inferSchema', 'true').load(\"/home/jovyan/work/start_spark/start_spark/running_spark_data/fhvhv_tripdata_2020-03.csv\")"
   ]
  },
  {
   "cell_type": "code",
   "execution_count": 41,
   "id": "2ba16f6f-9b85-497c-8124-c0614448ba9a",
   "metadata": {
    "scrolled": true
   },
   "outputs": [
    {
     "name": "stdout",
     "output_type": "stream",
     "text": [
      "+-----------------+--------------------+-------------------+-------------------+------------+------------+-------+\n",
      "|hvfhs_license_num|dispatching_base_num|    pickup_datetime|   dropoff_datetime|PULocationID|DOLocationID|SR_Flag|\n",
      "+-----------------+--------------------+-------------------+-------------------+------------+------------+-------+\n",
      "|           HV0005|              B02510|2020-03-01 00:03:40|2020-03-01 00:23:39|          81|         159|   NULL|\n",
      "|           HV0005|              B02510|2020-03-01 00:28:05|2020-03-01 00:38:57|         168|         119|   NULL|\n",
      "|           HV0003|              B02764|2020-03-01 00:03:07|2020-03-01 00:15:04|         137|         209|      1|\n",
      "|           HV0003|              B02764|2020-03-01 00:18:42|2020-03-01 00:38:42|         209|          80|   NULL|\n",
      "|           HV0003|              B02764|2020-03-01 00:44:24|2020-03-01 00:58:44|         256|         226|   NULL|\n",
      "|           HV0003|              B02682|2020-03-01 00:17:23|2020-03-01 00:39:35|          79|         263|   NULL|\n",
      "|           HV0003|              B02764|2020-03-01 00:01:18|2020-03-01 00:38:52|          61|          29|   NULL|\n",
      "|           HV0003|              B02764|2020-03-01 00:43:27|2020-03-01 00:47:27|         150|         150|      1|\n",
      "|           HV0003|              B02764|2020-03-01 00:52:23|2020-03-01 01:00:15|         150|         210|   NULL|\n",
      "|           HV0003|              B02764|2020-03-01 00:19:49|2020-03-01 00:23:40|          60|         167|   NULL|\n",
      "|           HV0003|              B02764|2020-03-01 00:29:34|2020-03-01 00:39:19|          47|         213|   NULL|\n",
      "|           HV0003|              B02764|2020-03-01 00:41:44|2020-03-01 00:58:13|         213|         235|   NULL|\n",
      "|           HV0003|              B02765|2020-03-01 00:11:26|2020-03-01 00:24:46|         243|         153|   NULL|\n",
      "|           HV0003|              B02765|2020-03-01 00:28:05|2020-03-01 00:38:56|         127|          18|   NULL|\n",
      "|           HV0003|              B02765|2020-03-01 00:44:28|2020-03-01 00:52:09|          18|         169|   NULL|\n",
      "|           HV0003|              B02765|2020-03-01 00:56:50|2020-03-01 00:59:26|          94|         169|   NULL|\n",
      "|           HV0003|              B02764|2020-03-01 00:56:14|2020-03-01 01:03:38|         211|         158|   NULL|\n",
      "|           HV0003|              B02764|2020-03-01 00:14:15|2020-03-01 00:26:47|         246|         107|   NULL|\n",
      "|           HV0003|              B02764|2020-03-01 00:31:38|2020-03-01 00:58:07|         234|           9|   NULL|\n",
      "|           HV0005|              B02510|2020-03-01 00:26:31|2020-03-01 00:38:07|         139|          10|      1|\n",
      "+-----------------+--------------------+-------------------+-------------------+------------+------------+-------+\n",
      "only showing top 20 rows\n",
      "\n"
     ]
    }
   ],
   "source": []
  },
  {
   "cell_type": "code",
   "execution_count": 42,
   "id": "921cd770-daac-4fac-bf51-0d7498445fbe",
   "metadata": {},
   "outputs": [],
   "source": [
    "from pyspark.sql import SparkSession\n",
    "\n",
    "spark = SparkSession.builder.appName(\"trip_count_sql\").getOrCreate()"
   ]
  },
  {
   "cell_type": "code",
   "execution_count": 43,
   "id": "6ab45edc-6933-45d9-b47f-ffd873a001b4",
   "metadata": {},
   "outputs": [],
   "source": [
    "trip_file = \"/home/jovyan/work/start_spark/start_spark/running_spark_data/fhvhv_tripdata_2020-03.csv\""
   ]
  },
  {
   "cell_type": "code",
   "execution_count": 44,
   "id": "831ffdf7-e24a-4f19-bec0-d26b85a54aa4",
   "metadata": {},
   "outputs": [],
   "source": [
    "data = spark.read.csv(trip_file, inferSchema=True, header=True)"
   ]
  },
  {
   "cell_type": "code",
   "execution_count": 45,
   "id": "84767629-4389-4e10-8fcb-580ea8d2ae9a",
   "metadata": {},
   "outputs": [],
   "source": [
    "data.createOrReplaceTempView(\"mobility_data\")"
   ]
  },
  {
   "cell_type": "code",
   "execution_count": 52,
   "id": "7c819edb-8954-4d6a-95f7-a14f2f2963bc",
   "metadata": {},
   "outputs": [
    {
     "name": "stdout",
     "output_type": "stream",
     "text": [
      "+-----------------+--------------------+-------------------+-------------------+------------+------------+-------+\n",
      "|hvfhs_license_num|dispatching_base_num|    pickup_datetime|   dropoff_datetime|PULocationID|DOLocationID|SR_Flag|\n",
      "+-----------------+--------------------+-------------------+-------------------+------------+------------+-------+\n",
      "|           HV0005|              B02510|2020-03-01 00:03:40|2020-03-01 00:23:39|          81|         159|   NULL|\n",
      "|           HV0005|              B02510|2020-03-01 00:28:05|2020-03-01 00:38:57|         168|         119|   NULL|\n",
      "|           HV0003|              B02764|2020-03-01 00:03:07|2020-03-01 00:15:04|         137|         209|      1|\n",
      "|           HV0003|              B02764|2020-03-01 00:18:42|2020-03-01 00:38:42|         209|          80|   NULL|\n",
      "|           HV0003|              B02764|2020-03-01 00:44:24|2020-03-01 00:58:44|         256|         226|   NULL|\n",
      "+-----------------+--------------------+-------------------+-------------------+------------+------------+-------+\n",
      "\n"
     ]
    }
   ],
   "source": [
    "query = \"\"\"\n",
    "select *\n",
    "from mobility_data\n",
    "limit 5\n",
    "\"\"\"\n",
    "spark.sql(query).show()"
   ]
  },
  {
   "cell_type": "code",
   "execution_count": 53,
   "id": "1126bade-73ee-43a7-ae90-d929698c1b1b",
   "metadata": {},
   "outputs": [
    {
     "name": "stdout",
     "output_type": "stream",
     "text": [
      "+-----------+------+\n",
      "|pickup_date| trips|\n",
      "+-----------+------+\n",
      "| 2020-03-03|697880|\n",
      "| 2020-03-02|648986|\n",
      "| 2020-03-01|784246|\n",
      "| 2020-03-06|872012|\n",
      "| 2020-03-05|731165|\n",
      "| 2020-03-04|707879|\n",
      "| 2020-03-09|628940|\n",
      "| 2020-03-08|731222|\n",
      "| 2020-03-07|886071|\n",
      "| 2020-03-10|626474|\n",
      "| 2020-03-12|643257|\n",
      "| 2020-03-11|628601|\n",
      "| 2020-03-16|391518|\n",
      "| 2020-03-13|660914|\n",
      "| 2020-03-15|448125|\n",
      "| 2020-03-14|569397|\n",
      "| 2020-03-26|141607|\n",
      "| 2020-03-25|141088|\n",
      "| 2020-03-20|261900|\n",
      "| 2020-03-24|141686|\n",
      "+-----------+------+\n",
      "only showing top 20 rows\n",
      "\n"
     ]
    }
   ],
   "source": [
    "query = \"\"\"\n",
    "\n",
    "select split(pickup_datetime, ' ')[0] as pickup_date, count(*) as trips\n",
    "from mobility_data\n",
    "\n",
    "group by pickup_date\n",
    "\"\"\"\n",
    "\n",
    "spark.sql(query).show()"
   ]
  },
  {
   "cell_type": "code",
   "execution_count": 51,
   "id": "f13fedca-de84-46a7-b30c-10be35181925",
   "metadata": {},
   "outputs": [
    {
     "name": "stdout",
     "output_type": "stream",
     "text": [
      "== Parsed Logical Plan ==\n",
      "'Aggregate ['pickup_date], ['split('pickup_datetime,  )[0] AS pickup_date#431, 'count(1) AS trips#432]\n",
      "+- 'UnresolvedRelation [mobility_data], [], false\n",
      "\n",
      "== Analyzed Logical Plan ==\n",
      "pickup_date: string, trips: bigint\n",
      "Aggregate [split(cast(pickup_datetime#340 as string),  , -1)[0]], [split(cast(pickup_datetime#340 as string),  , -1)[0] AS pickup_date#431, count(1) AS trips#432L]\n",
      "+- SubqueryAlias mobility_data\n",
      "   +- View (`mobility_data`, [hvfhs_license_num#338,dispatching_base_num#339,pickup_datetime#340,dropoff_datetime#341,PULocationID#342,DOLocationID#343,SR_Flag#344])\n",
      "      +- Relation [hvfhs_license_num#338,dispatching_base_num#339,pickup_datetime#340,dropoff_datetime#341,PULocationID#342,DOLocationID#343,SR_Flag#344] csv\n",
      "\n",
      "== Optimized Logical Plan ==\n",
      "Aggregate [_groupingexpression#436], [_groupingexpression#436 AS pickup_date#431, count(1) AS trips#432L]\n",
      "+- Project [split(cast(pickup_datetime#340 as string),  , -1)[0] AS _groupingexpression#436]\n",
      "   +- Relation [hvfhs_license_num#338,dispatching_base_num#339,pickup_datetime#340,dropoff_datetime#341,PULocationID#342,DOLocationID#343,SR_Flag#344] csv\n",
      "\n",
      "== Physical Plan ==\n",
      "AdaptiveSparkPlan isFinalPlan=false\n",
      "+- HashAggregate(keys=[_groupingexpression#436], functions=[count(1)], output=[pickup_date#431, trips#432L])\n",
      "   +- Exchange hashpartitioning(_groupingexpression#436, 200), ENSURE_REQUIREMENTS, [plan_id=342]\n",
      "      +- HashAggregate(keys=[_groupingexpression#436], functions=[partial_count(1)], output=[_groupingexpression#436, count#438L])\n",
      "         +- Project [split(cast(pickup_datetime#340 as string),  , -1)[0] AS _groupingexpression#436]\n",
      "            +- FileScan csv [pickup_datetime#340] Batched: false, DataFilters: [], Format: CSV, Location: InMemoryFileIndex(1 paths)[file:/home/jovyan/work/start_spark/start_spark/running_spark_data/fhvh..., PartitionFilters: [], PushedFilters: [], ReadSchema: struct<pickup_datetime:timestamp>\n",
      "\n"
     ]
    }
   ],
   "source": [
    "spark.sql(query).explain(True)"
   ]
  },
  {
   "cell_type": "code",
   "execution_count": 54,
   "id": "3ef95a5a-a51d-473a-80f8-dbfbafe73e8f",
   "metadata": {
    "scrolled": true
   },
   "outputs": [
    {
     "name": "stdout",
     "output_type": "stream",
     "text": [
      "== Parsed Logical Plan ==\n",
      "'Aggregate ['pickup_date], ['pickup_date, 'count(1) AS trips#501]\n",
      "+- 'SubqueryAlias __auto_generated_subquery_name\n",
      "   +- 'Project ['split('pickup_datetime,  )[0] AS pickup_date#500]\n",
      "      +- 'UnresolvedRelation [mobility_data], [], false\n",
      "\n",
      "== Analyzed Logical Plan ==\n",
      "pickup_date: string, trips: bigint\n",
      "Aggregate [pickup_date#500], [pickup_date#500, count(1) AS trips#501L]\n",
      "+- SubqueryAlias __auto_generated_subquery_name\n",
      "   +- Project [split(cast(pickup_datetime#340 as string),  , -1)[0] AS pickup_date#500]\n",
      "      +- SubqueryAlias mobility_data\n",
      "         +- View (`mobility_data`, [hvfhs_license_num#338,dispatching_base_num#339,pickup_datetime#340,dropoff_datetime#341,PULocationID#342,DOLocationID#343,SR_Flag#344])\n",
      "            +- Relation [hvfhs_license_num#338,dispatching_base_num#339,pickup_datetime#340,dropoff_datetime#341,PULocationID#342,DOLocationID#343,SR_Flag#344] csv\n",
      "\n",
      "== Optimized Logical Plan ==\n",
      "Aggregate [pickup_date#500], [pickup_date#500, count(1) AS trips#501L]\n",
      "+- Project [split(cast(pickup_datetime#340 as string),  , -1)[0] AS pickup_date#500]\n",
      "   +- Relation [hvfhs_license_num#338,dispatching_base_num#339,pickup_datetime#340,dropoff_datetime#341,PULocationID#342,DOLocationID#343,SR_Flag#344] csv\n",
      "\n",
      "== Physical Plan ==\n",
      "AdaptiveSparkPlan isFinalPlan=false\n",
      "+- HashAggregate(keys=[pickup_date#500], functions=[count(1)], output=[pickup_date#500, trips#501L])\n",
      "   +- Exchange hashpartitioning(pickup_date#500, 200), ENSURE_REQUIREMENTS, [plan_id=421]\n",
      "      +- HashAggregate(keys=[pickup_date#500], functions=[partial_count(1)], output=[pickup_date#500, count#506L])\n",
      "         +- Project [split(cast(pickup_datetime#340 as string),  , -1)[0] AS pickup_date#500]\n",
      "            +- FileScan csv [pickup_datetime#340] Batched: false, DataFilters: [], Format: CSV, Location: InMemoryFileIndex(1 paths)[file:/home/jovyan/work/start_spark/start_spark/running_spark_data/fhvh..., PartitionFilters: [], PushedFilters: [], ReadSchema: struct<pickup_datetime:timestamp>\n",
      "\n"
     ]
    }
   ],
   "source": [
    "spark.sql(\"\"\"select \n",
    "                pickup_date, \n",
    "                count(*) as trips\n",
    "             from ( select\n",
    "                          split(pickup_datetime, ' ')[0] as pickup_date\n",
    "                          from mobility_data )\n",
    "             group by pickup_date\"\"\").explain(True)"
   ]
  },
  {
   "cell_type": "code",
   "execution_count": 63,
   "id": "234b3d13-68ba-4226-a082-88045ffec11d",
   "metadata": {},
   "outputs": [],
   "source": [
    "spark.stop()"
   ]
  },
  {
   "cell_type": "code",
   "execution_count": 56,
   "id": "91a9579a-5ad2-483a-9793-3f77ae5b937b",
   "metadata": {},
   "outputs": [],
   "source": [
    "#운형, zone 데이터 조인"
   ]
  },
  {
   "cell_type": "code",
   "execution_count": null,
   "id": "ac55bf0f-2bed-4e1c-ac48-000a12a34952",
   "metadata": {},
   "outputs": [],
   "source": [
    "taxi+_zone_lookup.csv"
   ]
  },
  {
   "cell_type": "code",
   "execution_count": 57,
   "id": "d710993d-26b2-4ae4-8d28-1c9d6c2ebaae",
   "metadata": {},
   "outputs": [],
   "source": [
    "trip_file = 'fhvhv_tripdata_2020-03.csv'"
   ]
  },
  {
   "cell_type": "code",
   "execution_count": 58,
   "id": "800beeef-dd0b-457f-bc12-79379da6cb79",
   "metadata": {},
   "outputs": [],
   "source": [
    "zone_file='taxi+_zone_lookup.csv'"
   ]
  },
  {
   "cell_type": "code",
   "execution_count": 66,
   "id": "ea0c954a-2ced-432d-ad86-21ff721a9326",
   "metadata": {},
   "outputs": [],
   "source": [
    "trip_df = spark.read.format('csv').option('header', 'true').option('inferSchema', 'true').load(\"/home/jovyan/work/start_spark/start_spark/running_spark_data/fhvhv_tripdata_2020-03.csv\")"
   ]
  },
  {
   "cell_type": "code",
   "execution_count": 67,
   "id": "60e00fa3-5ffe-4111-b495-ced2d894f830",
   "metadata": {},
   "outputs": [],
   "source": [
    "zone_df = spark.read.format('csv').option('header', 'true').option('inferSchema', 'true').load(\"/home/jovyan/work/start_spark/start_spark/running_spark_data/taxi+_zone_lookup.csv\")"
   ]
  },
  {
   "cell_type": "code",
   "execution_count": 69,
   "id": "17ed2fd9-d4cb-4c30-81da-5d7f7eff10ee",
   "metadata": {},
   "outputs": [
    {
     "name": "stdout",
     "output_type": "stream",
     "text": [
      "+-----------------+--------------------+-------------------+-------------------+------------+------------+-------+\n",
      "|hvfhs_license_num|dispatching_base_num|    pickup_datetime|   dropoff_datetime|PULocationID|DOLocationID|SR_Flag|\n",
      "+-----------------+--------------------+-------------------+-------------------+------------+------------+-------+\n",
      "|           HV0005|              B02510|2020-03-01 00:03:40|2020-03-01 00:23:39|          81|         159|   NULL|\n",
      "|           HV0005|              B02510|2020-03-01 00:28:05|2020-03-01 00:38:57|         168|         119|   NULL|\n",
      "|           HV0003|              B02764|2020-03-01 00:03:07|2020-03-01 00:15:04|         137|         209|      1|\n",
      "|           HV0003|              B02764|2020-03-01 00:18:42|2020-03-01 00:38:42|         209|          80|   NULL|\n",
      "|           HV0003|              B02764|2020-03-01 00:44:24|2020-03-01 00:58:44|         256|         226|   NULL|\n",
      "|           HV0003|              B02682|2020-03-01 00:17:23|2020-03-01 00:39:35|          79|         263|   NULL|\n",
      "|           HV0003|              B02764|2020-03-01 00:01:18|2020-03-01 00:38:52|          61|          29|   NULL|\n",
      "|           HV0003|              B02764|2020-03-01 00:43:27|2020-03-01 00:47:27|         150|         150|      1|\n",
      "|           HV0003|              B02764|2020-03-01 00:52:23|2020-03-01 01:00:15|         150|         210|   NULL|\n",
      "|           HV0003|              B02764|2020-03-01 00:19:49|2020-03-01 00:23:40|          60|         167|   NULL|\n",
      "|           HV0003|              B02764|2020-03-01 00:29:34|2020-03-01 00:39:19|          47|         213|   NULL|\n",
      "|           HV0003|              B02764|2020-03-01 00:41:44|2020-03-01 00:58:13|         213|         235|   NULL|\n",
      "|           HV0003|              B02765|2020-03-01 00:11:26|2020-03-01 00:24:46|         243|         153|   NULL|\n",
      "|           HV0003|              B02765|2020-03-01 00:28:05|2020-03-01 00:38:56|         127|          18|   NULL|\n",
      "|           HV0003|              B02765|2020-03-01 00:44:28|2020-03-01 00:52:09|          18|         169|   NULL|\n",
      "|           HV0003|              B02765|2020-03-01 00:56:50|2020-03-01 00:59:26|          94|         169|   NULL|\n",
      "|           HV0003|              B02764|2020-03-01 00:56:14|2020-03-01 01:03:38|         211|         158|   NULL|\n",
      "|           HV0003|              B02764|2020-03-01 00:14:15|2020-03-01 00:26:47|         246|         107|   NULL|\n",
      "|           HV0003|              B02764|2020-03-01 00:31:38|2020-03-01 00:58:07|         234|           9|   NULL|\n",
      "|           HV0005|              B02510|2020-03-01 00:26:31|2020-03-01 00:38:07|         139|          10|      1|\n",
      "+-----------------+--------------------+-------------------+-------------------+------------+------------+-------+\n",
      "only showing top 20 rows\n",
      "\n"
     ]
    }
   ],
   "source": [
    "trip_df.show()"
   ]
  },
  {
   "cell_type": "code",
   "execution_count": 72,
   "id": "466e8c42-f482-4057-b202-2adbbbef6dcc",
   "metadata": {},
   "outputs": [
    {
     "name": "stdout",
     "output_type": "stream",
     "text": [
      "+----------+-------------+--------------------+------------+\n",
      "|LocationID|      Borough|                Zone|service_zone|\n",
      "+----------+-------------+--------------------+------------+\n",
      "|         1|          EWR|      Newark Airport|         EWR|\n",
      "|         2|       Queens|         Jamaica Bay|   Boro Zone|\n",
      "|         3|        Bronx|Allerton/Pelham G...|   Boro Zone|\n",
      "|         4|    Manhattan|       Alphabet City| Yellow Zone|\n",
      "|         5|Staten Island|       Arden Heights|   Boro Zone|\n",
      "|         6|Staten Island|Arrochar/Fort Wad...|   Boro Zone|\n",
      "|         7|       Queens|             Astoria|   Boro Zone|\n",
      "|         8|       Queens|        Astoria Park|   Boro Zone|\n",
      "|         9|       Queens|          Auburndale|   Boro Zone|\n",
      "|        10|       Queens|        Baisley Park|   Boro Zone|\n",
      "|        11|     Brooklyn|          Bath Beach|   Boro Zone|\n",
      "|        12|    Manhattan|        Battery Park| Yellow Zone|\n",
      "|        13|    Manhattan|   Battery Park City| Yellow Zone|\n",
      "|        14|     Brooklyn|           Bay Ridge|   Boro Zone|\n",
      "|        15|       Queens|Bay Terrace/Fort ...|   Boro Zone|\n",
      "|        16|       Queens|             Bayside|   Boro Zone|\n",
      "|        17|     Brooklyn|             Bedford|   Boro Zone|\n",
      "|        18|        Bronx|        Bedford Park|   Boro Zone|\n",
      "|        19|       Queens|           Bellerose|   Boro Zone|\n",
      "|        20|        Bronx|             Belmont|   Boro Zone|\n",
      "+----------+-------------+--------------------+------------+\n",
      "only showing top 20 rows\n",
      "\n"
     ]
    }
   ],
   "source": [
    "zone_df.show()"
   ]
  },
  {
   "cell_type": "code",
   "execution_count": 86,
   "id": "54f77694-ccbe-4e1d-989d-b9fb38b9c77e",
   "metadata": {},
   "outputs": [],
   "source": [
    "#승자 location(PULOCATIOJ)별 개수새기\n",
    "#하자 locationPULOCATIOJ) 별 개수새기\n",
    "#HV0003 운송사업자의 승차 지역별 트립 건수를 집계하고,\n",
    "# 가장 많은 운송사업자 순으로 정렬하는 분석 쿼리 hvfhs_license_num\n",
    "#운송사별 운행건수 비교\n",
    "#승차위치 borough별 운행건수\n",
    "#서비스 존별 승차/하차 건수\n",
    "\n"
   ]
  },
  {
   "cell_type": "code",
   "execution_count": 76,
   "id": "748efa9c-9f20-4d31-889c-f1d4ddd4f3c6",
   "metadata": {},
   "outputs": [],
   "source": [
    "tripzone_df = trip_df.join(zone_df, zone_df['LocationID']==trip_df['PULocationID'])"
   ]
  },
  {
   "cell_type": "code",
   "execution_count": 78,
   "id": "fab4296d-e1e7-41c8-b4cc-ed76049cb5c3",
   "metadata": {},
   "outputs": [
    {
     "name": "stdout",
     "output_type": "stream",
     "text": [
      "+-----------------+--------------------+-------------------+-------------------+------------+------------+-------+----------+---------+--------------------+------------+\n",
      "|hvfhs_license_num|dispatching_base_num|    pickup_datetime|   dropoff_datetime|PULocationID|DOLocationID|SR_Flag|LocationID|  Borough|                Zone|service_zone|\n",
      "+-----------------+--------------------+-------------------+-------------------+------------+------------+-------+----------+---------+--------------------+------------+\n",
      "|           HV0005|              B02510|2020-03-01 00:03:40|2020-03-01 00:23:39|          81|         159|   NULL|        81|    Bronx|         Eastchester|   Boro Zone|\n",
      "|           HV0005|              B02510|2020-03-01 00:28:05|2020-03-01 00:38:57|         168|         119|   NULL|       168|    Bronx|Mott Haven/Port M...|   Boro Zone|\n",
      "|           HV0003|              B02764|2020-03-01 00:03:07|2020-03-01 00:15:04|         137|         209|      1|       137|Manhattan|            Kips Bay| Yellow Zone|\n",
      "|           HV0003|              B02764|2020-03-01 00:18:42|2020-03-01 00:38:42|         209|          80|   NULL|       209|Manhattan|             Seaport| Yellow Zone|\n",
      "|           HV0003|              B02764|2020-03-01 00:44:24|2020-03-01 00:58:44|         256|         226|   NULL|       256| Brooklyn|Williamsburg (Sou...|   Boro Zone|\n",
      "|           HV0003|              B02682|2020-03-01 00:17:23|2020-03-01 00:39:35|          79|         263|   NULL|        79|Manhattan|        East Village| Yellow Zone|\n",
      "|           HV0003|              B02764|2020-03-01 00:01:18|2020-03-01 00:38:52|          61|          29|   NULL|        61| Brooklyn| Crown Heights North|   Boro Zone|\n",
      "|           HV0003|              B02764|2020-03-01 00:43:27|2020-03-01 00:47:27|         150|         150|      1|       150| Brooklyn|     Manhattan Beach|   Boro Zone|\n",
      "|           HV0003|              B02764|2020-03-01 00:52:23|2020-03-01 01:00:15|         150|         210|   NULL|       150| Brooklyn|     Manhattan Beach|   Boro Zone|\n",
      "|           HV0003|              B02764|2020-03-01 00:19:49|2020-03-01 00:23:40|          60|         167|   NULL|        60|    Bronx|   Crotona Park East|   Boro Zone|\n",
      "|           HV0003|              B02764|2020-03-01 00:29:34|2020-03-01 00:39:19|          47|         213|   NULL|        47|    Bronx|  Claremont/Bathgate|   Boro Zone|\n",
      "|           HV0003|              B02764|2020-03-01 00:41:44|2020-03-01 00:58:13|         213|         235|   NULL|       213|    Bronx|Soundview/Castle ...|   Boro Zone|\n",
      "|           HV0003|              B02765|2020-03-01 00:11:26|2020-03-01 00:24:46|         243|         153|   NULL|       243|Manhattan|Washington Height...|   Boro Zone|\n",
      "|           HV0003|              B02765|2020-03-01 00:28:05|2020-03-01 00:38:56|         127|          18|   NULL|       127|Manhattan|              Inwood|   Boro Zone|\n",
      "|           HV0003|              B02765|2020-03-01 00:44:28|2020-03-01 00:52:09|          18|         169|   NULL|        18|    Bronx|        Bedford Park|   Boro Zone|\n",
      "|           HV0003|              B02765|2020-03-01 00:56:50|2020-03-01 00:59:26|          94|         169|   NULL|        94|    Bronx|       Fordham South|   Boro Zone|\n",
      "|           HV0003|              B02764|2020-03-01 00:56:14|2020-03-01 01:03:38|         211|         158|   NULL|       211|Manhattan|                SoHo| Yellow Zone|\n",
      "|           HV0003|              B02764|2020-03-01 00:14:15|2020-03-01 00:26:47|         246|         107|   NULL|       246|Manhattan|West Chelsea/Huds...| Yellow Zone|\n",
      "|           HV0003|              B02764|2020-03-01 00:31:38|2020-03-01 00:58:07|         234|           9|   NULL|       234|Manhattan|            Union Sq| Yellow Zone|\n",
      "|           HV0005|              B02510|2020-03-01 00:26:31|2020-03-01 00:38:07|         139|          10|      1|       139|   Queens|           Laurelton|   Boro Zone|\n",
      "+-----------------+--------------------+-------------------+-------------------+------------+------------+-------+----------+---------+--------------------+------------+\n",
      "only showing top 20 rows\n",
      "\n"
     ]
    }
   ],
   "source": [
    "tripzone_df.show()"
   ]
  },
  {
   "cell_type": "code",
   "execution_count": 87,
   "id": "cd1b3c00-5864-4790-b0ad-fa6cc478e2f4",
   "metadata": {},
   "outputs": [
    {
     "name": "stdout",
     "output_type": "stream",
     "text": [
      "+------------+------+\n",
      "|PULocationID| count|\n",
      "+------------+------+\n",
      "|         148|116205|\n",
      "|         243| 87431|\n",
      "|          31|  5285|\n",
      "|         137| 85552|\n",
      "|          85| 46120|\n",
      "|         251|  9080|\n",
      "|          65| 66622|\n",
      "|         255|113947|\n",
      "|          53| 17571|\n",
      "|         133| 27200|\n",
      "|          78| 76155|\n",
      "|         108| 20378|\n",
      "|         155| 39527|\n",
      "|         211| 61075|\n",
      "|         193| 20111|\n",
      "|          34| 11823|\n",
      "|         115| 10806|\n",
      "|         126| 52833|\n",
      "|         101|  8983|\n",
      "|          81| 41425|\n",
      "+------------+------+\n",
      "only showing top 20 rows\n",
      "\n"
     ]
    }
   ],
   "source": [
    "location_counts = trip_df.groupBy('PULocationID').count()\n",
    "location_counts.show()"
   ]
  },
  {
   "cell_type": "markdown",
   "id": "7861bfa1-c88e-4185-867e-4de3aa15b06c",
   "metadata": {},
   "source": [
    " location_counts = trip_df.groupBy('DOLocationID').count()\n",
    "location_counts.show()"
   ]
  },
  {
   "cell_type": "code",
   "execution_count": 91,
   "id": "93e70132-0d9f-45dd-b61d-6aca8974d976",
   "metadata": {},
   "outputs": [
    {
     "name": "stdout",
     "output_type": "stream",
     "text": [
      "+------------+------+\n",
      "|DOLocationID| count|\n",
      "+------------+------+\n",
      "|         148| 91601|\n",
      "|         243| 86795|\n",
      "|          31|  5526|\n",
      "|          85| 44509|\n",
      "|         137| 80098|\n",
      "|         251|  8525|\n",
      "|          65| 58888|\n",
      "|         255|105051|\n",
      "|          53| 19013|\n",
      "|         133| 27760|\n",
      "|          78| 74447|\n",
      "|         155| 42239|\n",
      "|         108| 21354|\n",
      "|         211| 54176|\n",
      "|         193| 19104|\n",
      "|          34| 12392|\n",
      "|         115|  9809|\n",
      "|         101|  7218|\n",
      "|         126| 59027|\n",
      "|          81| 38445|\n",
      "+------------+------+\n",
      "only showing top 20 rows\n",
      "\n"
     ]
    }
   ],
   "source": [
    "location_counts = trip_df.groupBy('DOLocationID').count() \n",
    "location_counts.show()"
   ]
  },
  {
   "cell_type": "code",
   "execution_count": 127,
   "id": "6c62872d-5318-4ff3-af88-4a94f46325b0",
   "metadata": {},
   "outputs": [],
   "source": [
    "tz_df=tripzone_df.filter(tripzone_df.hvfhs_license_num ==\"HV0003\")"
   ]
  },
  {
   "cell_type": "code",
   "execution_count": 128,
   "id": "443f1f7c-f11e-418e-8a47-57a79a7b2698",
   "metadata": {
    "scrolled": true
   },
   "outputs": [
    {
     "name": "stdout",
     "output_type": "stream",
     "text": [
      "+-----------------+--------------------+-------------------+-------------------+------------+------------+-------+----------+---------+--------------------+------------+\n",
      "|hvfhs_license_num|dispatching_base_num|    pickup_datetime|   dropoff_datetime|PULocationID|DOLocationID|SR_Flag|LocationID|  Borough|                Zone|service_zone|\n",
      "+-----------------+--------------------+-------------------+-------------------+------------+------------+-------+----------+---------+--------------------+------------+\n",
      "|           HV0003|              B02764|2020-03-01 00:03:07|2020-03-01 00:15:04|         137|         209|      1|       137|Manhattan|            Kips Bay| Yellow Zone|\n",
      "|           HV0003|              B02764|2020-03-01 00:18:42|2020-03-01 00:38:42|         209|          80|   NULL|       209|Manhattan|             Seaport| Yellow Zone|\n",
      "|           HV0003|              B02764|2020-03-01 00:44:24|2020-03-01 00:58:44|         256|         226|   NULL|       256| Brooklyn|Williamsburg (Sou...|   Boro Zone|\n",
      "|           HV0003|              B02682|2020-03-01 00:17:23|2020-03-01 00:39:35|          79|         263|   NULL|        79|Manhattan|        East Village| Yellow Zone|\n",
      "|           HV0003|              B02764|2020-03-01 00:01:18|2020-03-01 00:38:52|          61|          29|   NULL|        61| Brooklyn| Crown Heights North|   Boro Zone|\n",
      "|           HV0003|              B02764|2020-03-01 00:43:27|2020-03-01 00:47:27|         150|         150|      1|       150| Brooklyn|     Manhattan Beach|   Boro Zone|\n",
      "|           HV0003|              B02764|2020-03-01 00:52:23|2020-03-01 01:00:15|         150|         210|   NULL|       150| Brooklyn|     Manhattan Beach|   Boro Zone|\n",
      "|           HV0003|              B02764|2020-03-01 00:19:49|2020-03-01 00:23:40|          60|         167|   NULL|        60|    Bronx|   Crotona Park East|   Boro Zone|\n",
      "|           HV0003|              B02764|2020-03-01 00:29:34|2020-03-01 00:39:19|          47|         213|   NULL|        47|    Bronx|  Claremont/Bathgate|   Boro Zone|\n",
      "|           HV0003|              B02764|2020-03-01 00:41:44|2020-03-01 00:58:13|         213|         235|   NULL|       213|    Bronx|Soundview/Castle ...|   Boro Zone|\n",
      "|           HV0003|              B02765|2020-03-01 00:11:26|2020-03-01 00:24:46|         243|         153|   NULL|       243|Manhattan|Washington Height...|   Boro Zone|\n",
      "|           HV0003|              B02765|2020-03-01 00:28:05|2020-03-01 00:38:56|         127|          18|   NULL|       127|Manhattan|              Inwood|   Boro Zone|\n",
      "|           HV0003|              B02765|2020-03-01 00:44:28|2020-03-01 00:52:09|          18|         169|   NULL|        18|    Bronx|        Bedford Park|   Boro Zone|\n",
      "|           HV0003|              B02765|2020-03-01 00:56:50|2020-03-01 00:59:26|          94|         169|   NULL|        94|    Bronx|       Fordham South|   Boro Zone|\n",
      "|           HV0003|              B02764|2020-03-01 00:56:14|2020-03-01 01:03:38|         211|         158|   NULL|       211|Manhattan|                SoHo| Yellow Zone|\n",
      "|           HV0003|              B02764|2020-03-01 00:14:15|2020-03-01 00:26:47|         246|         107|   NULL|       246|Manhattan|West Chelsea/Huds...| Yellow Zone|\n",
      "|           HV0003|              B02764|2020-03-01 00:31:38|2020-03-01 00:58:07|         234|           9|   NULL|       234|Manhattan|            Union Sq| Yellow Zone|\n",
      "|           HV0003|              B02864|2020-03-01 00:34:00|2020-03-01 00:46:26|         213|          74|   NULL|       213|    Bronx|Soundview/Castle ...|   Boro Zone|\n",
      "|           HV0003|              B02864|2020-03-01 00:49:58|2020-03-01 01:02:52|          74|         247|   NULL|        74|Manhattan|   East Harlem North|   Boro Zone|\n",
      "|           HV0003|              B02764|2020-03-01 00:06:43|2020-03-01 00:15:55|         148|           4|   NULL|       148|Manhattan|     Lower East Side| Yellow Zone|\n",
      "+-----------------+--------------------+-------------------+-------------------+------------+------------+-------+----------+---------+--------------------+------------+\n",
      "only showing top 20 rows\n",
      "\n"
     ]
    }
   ],
   "source": [
    "tz_df.show()"
   ]
  },
  {
   "cell_type": "code",
   "execution_count": 106,
   "id": "9654356f-f325-4734-899f-bbfda2e86009",
   "metadata": {},
   "outputs": [],
   "source": [
    "from pyspark.sql.functions import first, last, min, max, sum, avg,mean, col, count, Column, round, std, desc, rank, when"
   ]
  },
  {
   "cell_type": "code",
   "execution_count": 129,
   "id": "e45961ae-89f8-4c11-a936-55f3776b8c58",
   "metadata": {},
   "outputs": [
    {
     "name": "stdout",
     "output_type": "stream",
     "text": [
      "+------------+-------+\n",
      "|service_zone|  count|\n",
      "+------------+-------+\n",
      "|    Airports| 218298|\n",
      "|   Boro Zone|7029926|\n",
      "|         EWR|      4|\n",
      "|         N/A|    548|\n",
      "| Yellow Zone|2587987|\n",
      "+------------+-------+\n",
      "\n"
     ]
    }
   ],
   "source": [
    "tz_df.groupBy('service_zone').count().orderBy('service_zone').show()"
   ]
  },
  {
   "cell_type": "code",
   "execution_count": null,
   "id": "2e085b9e-9e06-42d4-9e70-43356074ca89",
   "metadata": {},
   "outputs": [],
   "source": [
    "#가장 많은 운송사업자 순으로 정렬하는 분석 쿼리 hvfhs_license_num"
   ]
  },
  {
   "cell_type": "code",
   "execution_count": 131,
   "id": "03ac73a8-b85f-4ad2-b327-2e70247cefb4",
   "metadata": {},
   "outputs": [
    {
     "name": "stdout",
     "output_type": "stream",
     "text": [
      "+--------------------+-------+\n",
      "|dispatching_base_num|  count|\n",
      "+--------------------+-------+\n",
      "|              B02395| 142242|\n",
      "|              B02510|3216493|\n",
      "|              B02512|  40170|\n",
      "|              B02617| 324423|\n",
      "|              B02682| 407878|\n",
      "|              B02764|1152287|\n",
      "|              B02765| 619986|\n",
      "|              B02800| 333768|\n",
      "|              B02835| 244198|\n",
      "|              B02836| 178916|\n",
      "|              B02844|   3042|\n",
      "|              B02864| 397854|\n",
      "|              B02865| 107469|\n",
      "|              B02866| 301181|\n",
      "|              B02867| 248244|\n",
      "|              B02869| 484063|\n",
      "|              B02870| 135147|\n",
      "|              B02871| 360259|\n",
      "|              B02872| 873212|\n",
      "|              B02875| 821245|\n",
      "+--------------------+-------+\n",
      "only showing top 20 rows\n",
      "\n"
     ]
    }
   ],
   "source": [
    "tripzone_df.groupBy('dispatching_base_num').count().orderBy('dispatching_base_num').show()"
   ]
  },
  {
   "cell_type": "code",
   "execution_count": 132,
   "id": "b577701f-68a3-407e-8ba3-4e1ea0cdda1e",
   "metadata": {},
   "outputs": [
    {
     "name": "stdout",
     "output_type": "stream",
     "text": [
      "+-------------+-------+\n",
      "|      Borough|  count|\n",
      "+-------------+-------+\n",
      "|        Bronx|2086592|\n",
      "|     Brooklyn|3735764|\n",
      "|          EWR|    362|\n",
      "|    Manhattan|4953140|\n",
      "|       Queens|2437383|\n",
      "|Staten Island| 178818|\n",
      "|      Unknown|    845|\n",
      "+-------------+-------+\n",
      "\n"
     ]
    }
   ],
   "source": [
    "tripzone_df.groupBy('Borough').count().orderBy('Borough').show()"
   ]
  },
  {
   "cell_type": "code",
   "execution_count": 137,
   "id": "fdbee70f-957a-45a1-b423-9210364cc2f8",
   "metadata": {},
   "outputs": [
    {
     "name": "stdout",
     "output_type": "stream",
     "text": [
      "+------------+------------+-------------+\n",
      "|service_zone|pickup_count|dropoff_count|\n",
      "+------------+------------+-------------+\n",
      "|         EWR|         362|          362|\n",
      "|         N/A|         845|          845|\n",
      "| Yellow Zone|     4025190|      4025190|\n",
      "|    Airports|      319610|       319610|\n",
      "|   Boro Zone|     9046897|      9046897|\n",
      "+------------+------------+-------------+\n",
      "\n"
     ]
    }
   ],
   "source": [
    "zone_counts = tripzone_df.groupBy('service_zone').agg(\n",
    "    count('PULocationID').alias('pickup_count'),\n",
    "    count('DOLocationID').alias('dropoff_count')\n",
    ")\n",
    "# 결과를 출력합니다.\n",
    "zone_counts.show()"
   ]
  },
  {
   "cell_type": "code",
   "execution_count": 138,
   "id": "df976813-9688-464f-8096-fb9475853095",
   "metadata": {},
   "outputs": [
    {
     "name": "stdout",
     "output_type": "stream",
     "text": [
      "+------------+------------+\n",
      "|service_zone|pickup_count|\n",
      "+------------+------------+\n",
      "|         EWR|         362|\n",
      "|         N/A|         845|\n",
      "| Yellow Zone|     4025190|\n",
      "|    Airports|      319610|\n",
      "|   Boro Zone|     9046897|\n",
      "+------------+------------+\n",
      "\n"
     ]
    }
   ],
   "source": [
    "zone_counts = tripzone_df.groupBy('service_zone').agg(\n",
    "    count('PULocationID').alias('pickup_count')\n",
    ")\n",
    "# 결과를 출력합니다.\n",
    "zone_counts.show()"
   ]
  },
  {
   "cell_type": "code",
   "execution_count": null,
   "id": "6ba270cb-92d7-425a-87b9-e97420da83ac",
   "metadata": {},
   "outputs": [],
   "source": [
    "zone_counts = tripzone_df.groupBy('service_zone').agg(\n",
    "    count('DOLocationID').alias')\n",
    ")\n",
    "# 결과를 출력합니다.\n",
    "zone_counts.show()"
   ]
  }
 ],
 "metadata": {
  "kernelspec": {
   "display_name": "Python 3 (ipykernel)",
   "language": "python",
   "name": "python3"
  },
  "language_info": {
   "codemirror_mode": {
    "name": "ipython",
    "version": 3
   },
   "file_extension": ".py",
   "mimetype": "text/x-python",
   "name": "python",
   "nbconvert_exporter": "python",
   "pygments_lexer": "ipython3",
   "version": "3.11.6"
  }
 },
 "nbformat": 4,
 "nbformat_minor": 5
}
