{
 "cells": [
  {
   "cell_type": "code",
   "execution_count": 62,
   "id": "05eaca6f-162f-423f-8c0c-3b50a0bae1d9",
   "metadata": {},
   "outputs": [],
   "source": [
    "from pyspark.sql import SparkSession\n",
    "spark = SparkSession.builder.master(\"local\").appName(\"spark-sql\").getOrCreate()"
   ]
  },
  {
   "cell_type": "code",
   "execution_count": null,
   "id": "47263277-285f-404f-a203-2401ca405bdd",
   "metadata": {},
   "outputs": [],
   "source": [
    "#2015-summary.json"
   ]
  },
  {
   "cell_type": "code",
   "execution_count": 26,
   "id": "3c92dd64-2407-4b45-8594-38f62698b74c",
   "metadata": {},
   "outputs": [],
   "source": [
    "df = spark.read.format('json').load(\"/home/jovyan/work/start_spark/start_spark/running_spark_data/2015-summary.json\")"
   ]
  },
  {
   "cell_type": "code",
   "execution_count": 25,
   "id": "15b7118c-ab75-4074-9cd3-8ab7b2c8a3ca",
   "metadata": {},
   "outputs": [],
   "source": [
    "#df.select('DEST_COUNTRY_NAME').distinct()"
   ]
  },
  {
   "cell_type": "code",
   "execution_count": 28,
   "id": "f328d04f-8e15-4a85-8d54-92a02b8a9264",
   "metadata": {},
   "outputs": [
    {
     "data": {
      "text/plain": [
       "[Row(DEST_COUNTRY_NAME='United States', ORIGIN_COUNTRY_NAME='Romania', count=15),\n",
       " Row(DEST_COUNTRY_NAME='United States', ORIGIN_COUNTRY_NAME='Croatia', count=1),\n",
       " Row(DEST_COUNTRY_NAME='United States', ORIGIN_COUNTRY_NAME='Ireland', count=344)]"
      ]
     },
     "execution_count": 28,
     "metadata": {},
     "output_type": "execute_result"
    }
   ],
   "source": [
    "df.take(3)"
   ]
  },
  {
   "cell_type": "code",
   "execution_count": 29,
   "id": "edd1461b-9c4f-4d89-906c-c01273d08905",
   "metadata": {},
   "outputs": [
    {
     "data": {
      "text/plain": [
       "132"
      ]
     },
     "execution_count": 29,
     "metadata": {},
     "output_type": "execute_result"
    }
   ],
   "source": [
    "df1 = df.select(\"DEST_COUNTRY_NAME\").distinct().cache()\n",
    "df1.count()"
   ]
  },
  {
   "cell_type": "code",
   "execution_count": 31,
   "id": "f3fdd897-375c-4868-b5f6-e2c16bdcdc0c",
   "metadata": {},
   "outputs": [
    {
     "data": {
      "text/plain": [
       "<Row('hello', None, 1, False)>"
      ]
     },
     "execution_count": 31,
     "metadata": {},
     "output_type": "execute_result"
    }
   ],
   "source": [
    "#row calss를 이용한 단일 레코드 생성\n",
    "from pyspark.sql import Row\n",
    "myRow = Row('hello', None, 1, False)\n",
    "myRow"
   ]
  },
  {
   "cell_type": "code",
   "execution_count": 38,
   "id": "63698a34-d84e-4633-8cbd-da6520765499",
   "metadata": {},
   "outputs": [],
   "source": [
    "#새로운 컬럼 추가하기\n",
    "from pyspark.sql.functions import expr\n",
    "df3 =df.withColumn('withinCountry', expr('ORIGIN_COUNTRY_NAME == DEST_COUNTRY_NAME'))"
   ]
  },
  {
   "cell_type": "code",
   "execution_count": null,
   "id": "4cdf8b92-b5aa-41f8-9f66-7e8af4bcb780",
   "metadata": {},
   "outputs": [],
   "source": [
    "#withinCountry가 true인 아이들 "
   ]
  },
  {
   "cell_type": "code",
   "execution_count": 44,
   "id": "ca227edd-d657-483c-b652-e793e5974a55",
   "metadata": {},
   "outputs": [
    {
     "name": "stdout",
     "output_type": "stream",
     "text": [
      "+-----------------+-------------------+------+-------------+\n",
      "|DEST_COUNTRY_NAME|ORIGIN_COUNTRY_NAME| count|withinCountry|\n",
      "+-----------------+-------------------+------+-------------+\n",
      "|    United States|      United States|370002|         true|\n",
      "+-----------------+-------------------+------+-------------+\n",
      "\n"
     ]
    }
   ],
   "source": [
    "df3.filter(\"withinCountry == true\").show()"
   ]
  },
  {
   "cell_type": "code",
   "execution_count": 45,
   "id": "13bb7bd2-2161-433a-8f1d-01f68cecd0ee",
   "metadata": {},
   "outputs": [
    {
     "name": "stdout",
     "output_type": "stream",
     "text": [
      "+-----------------+-------------------+------+-------------+\n",
      "|DEST_COUNTRY_NAME|ORIGIN_COUNTRY_NAME| count|withinCountry|\n",
      "+-----------------+-------------------+------+-------------+\n",
      "|    United States|      United States|370002|         true|\n",
      "+-----------------+-------------------+------+-------------+\n",
      "\n"
     ]
    }
   ],
   "source": [
    "df3.filter(expr(\"withinCountry == true\")).show()"
   ]
  },
  {
   "cell_type": "code",
   "execution_count": null,
   "id": "4b025954-eebe-48d6-8c74-67e4bb89cb3d",
   "metadata": {},
   "outputs": [],
   "source": [
    "#case when 카운트 10 이하 under 10 이상 upper로 변환 "
   ]
  },
  {
   "cell_type": "code",
   "execution_count": 53,
   "id": "f0dc4093-9116-4d69-baf5-ddff6b820026",
   "metadata": {},
   "outputs": [
    {
     "name": "stdout",
     "output_type": "stream",
     "text": [
      "+--------------------+-------------------+-----+--------+\n",
      "|   DEST_COUNTRY_NAME|ORIGIN_COUNTRY_NAME|count|category|\n",
      "+--------------------+-------------------+-----+--------+\n",
      "|       United States|            Romania|   15|   upper|\n",
      "|       United States|            Croatia|    1|   under|\n",
      "|       United States|            Ireland|  344|   upper|\n",
      "|               Egypt|      United States|   15|   upper|\n",
      "|       United States|              India|   62|   upper|\n",
      "|       United States|          Singapore|    1|   under|\n",
      "|       United States|            Grenada|   62|   upper|\n",
      "|          Costa Rica|      United States|  588|   upper|\n",
      "|             Senegal|      United States|   40|   upper|\n",
      "|             Moldova|      United States|    1|   under|\n",
      "|       United States|       Sint Maarten|  325|   upper|\n",
      "|       United States|   Marshall Islands|   39|   upper|\n",
      "|              Guyana|      United States|   64|   upper|\n",
      "|               Malta|      United States|    1|   under|\n",
      "|            Anguilla|      United States|   41|   upper|\n",
      "|             Bolivia|      United States|   30|   upper|\n",
      "|       United States|           Paraguay|    6|   under|\n",
      "|             Algeria|      United States|    4|   under|\n",
      "|Turks and Caicos ...|      United States|  230|   upper|\n",
      "|       United States|          Gibraltar|    1|   under|\n",
      "+--------------------+-------------------+-----+--------+\n",
      "only showing top 20 rows\n",
      "\n"
     ]
    }
   ],
   "source": [
    "df4 = df.withColumn('category', expr(\"CASE WHEN count < 10 THEN 'under' WHEN count > 10 THEN 'upper' END\"))\n",
    "df4.show()"
   ]
  },
  {
   "cell_type": "code",
   "execution_count": 60,
   "id": "c7e81e28-215b-4ef8-bc9f-290b51f4bfa2",
   "metadata": {},
   "outputs": [],
   "source": [
    "spark.stop()"
   ]
  },
  {
   "cell_type": "code",
   "execution_count": 72,
   "id": "0ededb14-1e61-458e-8f1b-f7026946778d",
   "metadata": {},
   "outputs": [],
   "source": [
    "emp_df = spark.read.format('csv').option('header', 'true').option('inferSchema', 'true').load(\"/home/jovyan/work/start_spark/start_spark/running_spark_data/emp.csv\")"
   ]
  },
  {
   "cell_type": "code",
   "execution_count": 74,
   "id": "25b1cfd9-7420-41aa-8f5c-d5d082fefb81",
   "metadata": {},
   "outputs": [],
   "source": [
    "dept_df = spark.read.format('csv').option('header', 'true').option('inferSchema', 'true').load(\"/home/jovyan/work/start_spark/start_spark/running_spark_data/dept.csv\")"
   ]
  },
  {
   "cell_type": "code",
   "execution_count": null,
   "id": "1b79bae8-03e9-4869-8cc4-364c14a5a4cc",
   "metadata": {},
   "outputs": [],
   "source": [
    "#집계함수"
   ]
  },
  {
   "cell_type": "code",
   "execution_count": null,
   "id": "53eaa369-7cbc-4928-abe4-bf948a340cc2",
   "metadata": {},
   "outputs": [],
   "source": [
    "#emp_df, dept_df, "
   ]
  },
  {
   "cell_type": "code",
   "execution_count": 76,
   "id": "8524b6fd-a154-4105-9efa-48b58cbc69ea",
   "metadata": {},
   "outputs": [
    {
     "data": {
      "text/plain": [
       "[Row(deptno=10, dname='ACCOUNTING', loc='NEW YORK'),\n",
       " Row(deptno=20, dname='RESEARCH', loc='DALLAS'),\n",
       " Row(deptno=30, dname='SALES', loc='CHICAGO')]"
      ]
     },
     "execution_count": 76,
     "metadata": {},
     "output_type": "execute_result"
    }
   ],
   "source": [
    "dept_df.take(3)"
   ]
  },
  {
   "cell_type": "code",
   "execution_count": 77,
   "id": "7ad57dd2-09eb-44e4-adf2-67ba174e9bf4",
   "metadata": {},
   "outputs": [
    {
     "data": {
      "text/plain": [
       "[Row(empno=7369, ename='SMITH', job='CLERK', mgr=7902, hiredate=datetime.date(1980, 12, 17), sal=800, comm=None, deptno=20),\n",
       " Row(empno=7499, ename='ALLEN', job='SALESMAN', mgr=7698, hiredate=datetime.date(1981, 2, 20), sal=1600, comm=300, deptno=30),\n",
       " Row(empno=7521, ename='WARD', job='SALESMAN', mgr=7698, hiredate=datetime.date(1981, 2, 22), sal=1250, comm=500, deptno=30)]"
      ]
     },
     "execution_count": 77,
     "metadata": {},
     "output_type": "execute_result"
    }
   ],
   "source": [
    "emp_df.take(3)"
   ]
  },
  {
   "cell_type": "code",
   "execution_count": 78,
   "id": "ee8ea0ad-6110-4365-8dd2-d0adb31abbbc",
   "metadata": {},
   "outputs": [
    {
     "name": "stdout",
     "output_type": "stream",
     "text": [
      "+------+------+\n",
      "| ENAME|DEPTNO|\n",
      "+------+------+\n",
      "| SMITH|    20|\n",
      "| ALLEN|    30|\n",
      "|  WARD|    30|\n",
      "| JONES|    20|\n",
      "|MARTIN|    30|\n",
      "| BLAKE|    30|\n",
      "| CLARK|    10|\n",
      "| SCOTT|    20|\n",
      "|  KING|    10|\n",
      "|TURNER|    30|\n",
      "| ADAMS|    20|\n",
      "| JAMES|    30|\n",
      "|  FORD|    20|\n",
      "|MILLER|    10|\n",
      "|  JACK|    70|\n",
      "+------+------+\n",
      "\n"
     ]
    }
   ],
   "source": [
    "emp_df.select('ENAME','DEPTNO').show()"
   ]
  },
  {
   "cell_type": "code",
   "execution_count": 79,
   "id": "710564f6-fe1e-45db-b37b-0c85cc0c4744",
   "metadata": {
    "scrolled": true
   },
   "outputs": [
    {
     "name": "stdout",
     "output_type": "stream",
     "text": [
      "+-----+-----+-------+----+----------+----+----+------+\n",
      "|empno|ename|    job| mgr|  hiredate| sal|comm|deptno|\n",
      "+-----+-----+-------+----+----------+----+----+------+\n",
      "| 7369|SMITH|  CLERK|7902|1980-12-17| 800|NULL|    20|\n",
      "| 7566|JONES|MANAGER|7839|1981-04-02|2975|NULL|    20|\n",
      "| 7788|SCOTT|ANALYST|7566|1987-04-19|3000|NULL|    20|\n",
      "| 7876|ADAMS|  CLERK|7788|1987-05-23|1100|NULL|    20|\n",
      "| 7902| FORD|ANALYST|7566|1981-12-03|3000|NULL|    20|\n",
      "+-----+-----+-------+----+----------+----+----+------+\n",
      "\n"
     ]
    }
   ],
   "source": [
    "emp_df.select('*').where('deptno=20').show()"
   ]
  },
  {
   "cell_type": "code",
   "execution_count": 82,
   "id": "6fbab03e-b85e-404f-91d4-dc47798514ef",
   "metadata": {},
   "outputs": [
    {
     "name": "stdout",
     "output_type": "stream",
     "text": [
      "+--------+\n",
      "|count(1)|\n",
      "+--------+\n",
      "|      15|\n",
      "+--------+\n",
      "\n"
     ]
    }
   ],
   "source": [
    "emp_df.selectExpr('count(*)').show()"
   ]
  },
  {
   "cell_type": "code",
   "execution_count": 87,
   "id": "2cf1ae71-9a47-46dc-894c-962f98077441",
   "metadata": {},
   "outputs": [
    {
     "name": "stdout",
     "output_type": "stream",
     "text": [
      "+-------------------+\n",
      "|count(DISTINCT job)|\n",
      "+-------------------+\n",
      "|                  5|\n",
      "+-------------------+\n",
      "\n"
     ]
    }
   ],
   "source": [
    "from pyspark.sql.functions import countDistinct\n",
    "emp_df.select(countDistinct('job')).show()"
   ]
  },
  {
   "cell_type": "code",
   "execution_count": 91,
   "id": "fa9eb9b1-9e7e-48cb-80aa-688b3ff9efa5",
   "metadata": {},
   "outputs": [
    {
     "name": "stdout",
     "output_type": "stream",
     "text": [
      "+--------------------------+\n",
      "|approx_count_distinct(job)|\n",
      "+--------------------------+\n",
      "|                         5|\n",
      "+--------------------------+\n",
      "\n"
     ]
    }
   ],
   "source": [
    "from pyspark.sql.functions import approx_count_distinct\n",
    "emp_df.select(approx_count_distinct('job', 0.1)).show()"
   ]
  },
  {
   "cell_type": "code",
   "execution_count": null,
   "id": "7eb61f29-928b-4081-847e-2f11fd67c200",
   "metadata": {},
   "outputs": [],
   "source": [
    "#first # last # min #max #sum #avg sql 문장 X  function으로 처리"
   ]
  },
  {
   "cell_type": "code",
   "execution_count": 292,
   "id": "73495e8f-9aed-4d20-880f-ddbdf6adc095",
   "metadata": {},
   "outputs": [],
   "source": [
    "from pyspark.sql.functions import first, last, min, max, sum, avg,mean, col, count, Column, round, std, desc, rank, when"
   ]
  },
  {
   "cell_type": "code",
   "execution_count": 110,
   "id": "4f63c01c-1ac7-4e27-b519-cea9c1540bfa",
   "metadata": {},
   "outputs": [
    {
     "name": "stdout",
     "output_type": "stream",
     "text": [
      "+--------+\n",
      "|min(sal)|\n",
      "+--------+\n",
      "|     800|\n",
      "+--------+\n",
      "\n"
     ]
    }
   ],
   "source": [
    "emp_df.select(min('sal')).show()"
   ]
  },
  {
   "cell_type": "code",
   "execution_count": 111,
   "id": "bbe39092-35a9-436d-99f6-6fd18ccef304",
   "metadata": {},
   "outputs": [
    {
     "name": "stdout",
     "output_type": "stream",
     "text": [
      "+----------+\n",
      "|first(sal)|\n",
      "+----------+\n",
      "|       800|\n",
      "+----------+\n",
      "\n"
     ]
    }
   ],
   "source": [
    "emp_df.select(first('sal')).show()"
   ]
  },
  {
   "cell_type": "code",
   "execution_count": 112,
   "id": "3e5dbceb-b2d3-4e9f-8afb-47cb2147bf49",
   "metadata": {},
   "outputs": [
    {
     "name": "stdout",
     "output_type": "stream",
     "text": [
      "+---------+\n",
      "|last(sal)|\n",
      "+---------+\n",
      "|     3200|\n",
      "+---------+\n",
      "\n"
     ]
    }
   ],
   "source": [
    "emp_df.select(last('sal')).show()"
   ]
  },
  {
   "cell_type": "code",
   "execution_count": 115,
   "id": "70e98eca-e20c-4528-832a-12ef27fd26e1",
   "metadata": {},
   "outputs": [
    {
     "name": "stdout",
     "output_type": "stream",
     "text": [
      "+------------------+\n",
      "|          avg(sal)|\n",
      "+------------------+\n",
      "|2148.3333333333335|\n",
      "+------------------+\n",
      "\n"
     ]
    }
   ],
   "source": [
    "emp_df.select(avg('sal')).show()"
   ]
  },
  {
   "cell_type": "code",
   "execution_count": 118,
   "id": "ee2333da-8d15-4523-936a-d8c56b7f6d28",
   "metadata": {},
   "outputs": [
    {
     "name": "stdout",
     "output_type": "stream",
     "text": [
      "+--------+\n",
      "|sum(sal)|\n",
      "+--------+\n",
      "|   32225|\n",
      "+--------+\n",
      "\n"
     ]
    }
   ],
   "source": [
    "emp_df.select(sum('sal')).show()"
   ]
  },
  {
   "cell_type": "code",
   "execution_count": 131,
   "id": "1c2998c7-db56-49dc-a995-4921c0a351c4",
   "metadata": {},
   "outputs": [
    {
     "name": "stdout",
     "output_type": "stream",
     "text": [
      "+--------+\n",
      "|sum(sal)|\n",
      "+--------+\n",
      "|   32225|\n",
      "+--------+\n",
      "\n"
     ]
    }
   ],
   "source": [
    "emp_df.select(sum('sal')).show()"
   ]
  },
  {
   "cell_type": "code",
   "execution_count": 132,
   "id": "7331c865-cf3e-480b-adfe-01c78dcf7251",
   "metadata": {},
   "outputs": [
    {
     "name": "stdout",
     "output_type": "stream",
     "text": [
      "+------------------+\n",
      "|          avg(sal)|\n",
      "+------------------+\n",
      "|2148.3333333333335|\n",
      "+------------------+\n",
      "\n"
     ]
    }
   ],
   "source": [
    "emp_df.select(mean('sal')).show()"
   ]
  },
  {
   "cell_type": "code",
   "execution_count": 126,
   "id": "331ef4ac-9bc4-4b76-bf26-bf2d8b004f1d",
   "metadata": {},
   "outputs": [
    {
     "name": "stdout",
     "output_type": "stream",
     "text": [
      "+----+\n",
      "| sal|\n",
      "+----+\n",
      "| 800|\n",
      "|2975|\n",
      "|3000|\n",
      "|1100|\n",
      "|3000|\n",
      "+----+\n",
      "\n"
     ]
    }
   ],
   "source": [
    "emp_df.select('sal').where('deptno=20').show()"
   ]
  },
  {
   "cell_type": "code",
   "execution_count": 128,
   "id": "486201e5-16be-4d0e-acdf-3c87cd35f4ae",
   "metadata": {},
   "outputs": [
    {
     "name": "stdout",
     "output_type": "stream",
     "text": [
      "+----+\n",
      "| sal|\n",
      "+----+\n",
      "| 800|\n",
      "|2975|\n",
      "|3000|\n",
      "|1100|\n",
      "|3000|\n",
      "+----+\n",
      "\n"
     ]
    }
   ],
   "source": [
    "emp_df.select(sum('sal').where('deptno=20').show()"
   ]
  },
  {
   "cell_type": "code",
   "execution_count": 137,
   "id": "be3e9f4e-e010-44cc-a2f4-d91ec2ec9c35",
   "metadata": {},
   "outputs": [
    {
     "name": "stdout",
     "output_type": "stream",
     "text": [
      "+--------+\n",
      "|sum(sal)|\n",
      "+--------+\n",
      "|   32225|\n",
      "+--------+\n",
      "\n"
     ]
    }
   ],
   "source": [
    "emp_df.select(sum(col('sal'))).show()"
   ]
  },
  {
   "cell_type": "code",
   "execution_count": 138,
   "id": "e0eec514-977b-470e-9ac9-4997599550f2",
   "metadata": {},
   "outputs": [
    {
     "name": "stdout",
     "output_type": "stream",
     "text": [
      "+--------+\n",
      "|sum(sal)|\n",
      "+--------+\n",
      "|   10875|\n",
      "+--------+\n",
      "\n"
     ]
    }
   ],
   "source": [
    "emp_df.where('deptno=20').select(sum('sal')).show()"
   ]
  },
  {
   "cell_type": "code",
   "execution_count": null,
   "id": "59f6adde-f83e-43e8-a934-41724849e295",
   "metadata": {},
   "outputs": [],
   "source": [
    "total_salary /total_transaction. avg_salary, mean_salary"
   ]
  },
  {
   "cell_type": "code",
   "execution_count": 148,
   "id": "9e943f24-9259-442e-a8c4-5966737318bd",
   "metadata": {},
   "outputs": [
    {
     "name": "stdout",
     "output_type": "stream",
     "text": [
      "+-----------------+\n",
      "|sum(DISTINCT sal)|\n",
      "+-----------------+\n",
      "|             7875|\n",
      "+-----------------+\n",
      "\n"
     ]
    }
   ],
   "source": [
    "emp_df.where('deptno=20').selectExpr('sum(distinct sal)').show()"
   ]
  },
  {
   "cell_type": "code",
   "execution_count": 169,
   "id": "dcb08e71-4938-4eb6-ab03-b135af208ae8",
   "metadata": {},
   "outputs": [
    {
     "name": "stdout",
     "output_type": "stream",
     "text": [
      "+------------+------------------+------------------+------------------+\n",
      "|total_salary|        avg_salary|       mean_salary|total_trainsection|\n",
      "+------------+------------------+------------------+------------------+\n",
      "|       32225|2148.3333333333335|2148.3333333333335|                15|\n",
      "+------------+------------------+------------------+------------------+\n",
      "\n"
     ]
    }
   ],
   "source": [
    "emp_df.select(sum('sal').alias('total_salary'),  avg('sal').alias('avg_salary'), mean('sal').alias('mean_salary'), count('*').alias('total_trainsection')).show()"
   ]
  },
  {
   "cell_type": "code",
   "execution_count": 168,
   "id": "b8e54cad-ec3a-4c23-9777-05d235b7f962",
   "metadata": {},
   "outputs": [
    {
     "name": "stdout",
     "output_type": "stream",
     "text": [
      "+------------+\n",
      "|trainsection|\n",
      "+------------+\n",
      "|          15|\n",
      "+------------+\n",
      "\n"
     ]
    }
   ],
   "source": [
    "emp_df.select(count('*').alias('trainsection')).show()"
   ]
  },
  {
   "cell_type": "code",
   "execution_count": 180,
   "id": "ae1d86e7-00dd-4845-9120-6399aa032af6",
   "metadata": {},
   "outputs": [
    {
     "name": "stdout",
     "output_type": "stream",
     "text": [
      "+----------------------------------+------------------+------------------+\n",
      "|(total_salary / total_transaction)|        avg_salary|       mean_salary|\n",
      "+----------------------------------+------------------+------------------+\n",
      "|                2148.3333333333335|2148.3333333333335|2148.3333333333335|\n",
      "+----------------------------------+------------------+------------------+\n",
      "\n"
     ]
    }
   ],
   "source": [
    "emp_df.select(sum('sal').alias('total_salary'),  avg('sal').alias('avg_salary'), mean('sal').alias('mean_salary'), count('*').alias('total_transaction')).selectExpr('total_salary/total_transaction', 'avg_salary', 'mean_salary').show()"
   ]
  },
  {
   "cell_type": "code",
   "execution_count": 183,
   "id": "d7e7b377-28d3-49e3-bccf-0c58783ff7a9",
   "metadata": {},
   "outputs": [
    {
     "name": "stdout",
     "output_type": "stream",
     "text": [
      "+------------+----------+-----------------+---------------------+\n",
      "|total_salary|avg_salary|total_transaction|calculated_avg_salary|\n",
      "+------------+----------+-----------------+---------------------+\n",
      "|       32225|   2148.33|               15|              2148.33|\n",
      "+------------+----------+-----------------+---------------------+\n",
      "\n"
     ]
    }
   ],
   "source": [
    "emp_df.select(\n",
    "    sum('sal').alias('total_salary'),\n",
    "    round(avg('sal'), 2).alias('avg_salary'),  # avg() 결과에 round 적용\n",
    "    count('*').alias('total_transaction'),\n",
    "    round(sum('sal') / count('*'), 2).alias('calculated_avg_salary') # 계산 결과에 round 적용\n",
    ").show()"
   ]
  },
  {
   "cell_type": "code",
   "execution_count": 186,
   "id": "db1ab109-2c8f-4fb7-86b4-5bbc8a6ebb74",
   "metadata": {},
   "outputs": [
    {
     "name": "stdout",
     "output_type": "stream",
     "text": [
      "+---------+-----+\n",
      "|      job|count|\n",
      "+---------+-----+\n",
      "|  ANALYST|    2|\n",
      "| SALESMAN|    4|\n",
      "|    CLERK|    5|\n",
      "|  MANAGER|    3|\n",
      "|PRESIDENT|    1|\n",
      "+---------+-----+\n",
      "\n"
     ]
    }
   ],
   "source": [
    "#그룹화 \n",
    "emp_df.groupBy('job').count().show()"
   ]
  },
  {
   "cell_type": "code",
   "execution_count": null,
   "id": "d4c1ec51-7747-4ebd-9209-20cff9508f2a",
   "metadata": {},
   "outputs": [],
   "source": [
    "#select job,\n",
    "#    count(job),\n",
    "#    sum(sal)\n",
    "#group by job"
   ]
  },
  {
   "cell_type": "code",
   "execution_count": 208,
   "id": "dcb157d9-0496-4b0a-a85f-0dee0dbe21eb",
   "metadata": {},
   "outputs": [],
   "source": [
    "group_df=emp_df.groupby('job').agg(\n",
    "    count('job').alias('qty'),\n",
    "    expr('count(job)'),\n",
    "    sum('sal'))"
   ]
  },
  {
   "cell_type": "code",
   "execution_count": 209,
   "id": "5ed73ce0-94b6-46f3-a8c0-e808b85579ed",
   "metadata": {},
   "outputs": [
    {
     "name": "stdout",
     "output_type": "stream",
     "text": [
      "+---------+---+----------+--------+\n",
      "|      job|qty|count(job)|sum(sal)|\n",
      "+---------+---+----------+--------+\n",
      "|  ANALYST|  2|         2|    6000|\n",
      "| SALESMAN|  4|         4|    5600|\n",
      "|    CLERK|  5|         5|    7350|\n",
      "|  MANAGER|  3|         3|    8275|\n",
      "|PRESIDENT|  1|         1|    5000|\n",
      "+---------+---+----------+--------+\n",
      "\n"
     ]
    }
   ],
   "source": [
    "group_df.show()"
   ]
  },
  {
   "cell_type": "code",
   "execution_count": 222,
   "id": "51f57ebb-f807-4ff6-b3c4-e820e75cc9c1",
   "metadata": {},
   "outputs": [],
   "source": [
    "#sal평균 sal_avg, 표준편차 sal_stdev를 job별로 계산해서 출력 소수점 두자리까지\n",
    "group_df=emp_df.groupby('job').agg(\n",
    "    count('job').alias('qty'),\n",
    "    expr('count(job)'),\n",
    "    sum('sal'),round(std('sal'), 2).alias('stdev'), round(avg('sal'), 2).alias('sal_avg'))\n"
   ]
  },
  {
   "cell_type": "code",
   "execution_count": 225,
   "id": "95034dc8-2411-44a3-b15a-cc6335f31912",
   "metadata": {},
   "outputs": [],
   "source": [
    "#sal평균 sal_avg, 표준편차 sal_stdev를 job별로 계산해서 출력 소수점 두자리까지\n",
    "group_df=emp_df.groupby('job').agg(\n",
    "    count('job').alias('qty'),\n",
    "    sum('sal'),round(std('sal'), 2).alias('stdev'), round(avg('sal'), 2).alias('sal_avg'))"
   ]
  },
  {
   "cell_type": "code",
   "execution_count": 226,
   "id": "528fa474-903a-4895-bc0c-b86c1e98b893",
   "metadata": {},
   "outputs": [
    {
     "name": "stdout",
     "output_type": "stream",
     "text": [
      "+---------+---+--------+------+-------+\n",
      "|      job|qty|sum(sal)| stdev|sal_avg|\n",
      "+---------+---+--------+------+-------+\n",
      "|  ANALYST|  2|    6000|   0.0| 3000.0|\n",
      "| SALESMAN|  4|    5600|177.95| 1400.0|\n",
      "|    CLERK|  5|    7350|984.63| 1470.0|\n",
      "|  MANAGER|  3|    8275|274.24|2758.33|\n",
      "|PRESIDENT|  1|    5000|  NULL| 5000.0|\n",
      "+---------+---+--------+------+-------+\n",
      "\n"
     ]
    }
   ],
   "source": [
    "group_df.show()"
   ]
  },
  {
   "cell_type": "code",
   "execution_count": 227,
   "id": "c80ce274-b6a1-4968-8bf4-9a8a9cb5258e",
   "metadata": {},
   "outputs": [
    {
     "name": "stdout",
     "output_type": "stream",
     "text": [
      "+---------+---+----------+--------+------------------+\n",
      "|      job|qty|count(job)|sum(sal)|             stdev|\n",
      "+---------+---+----------+--------+------------------+\n",
      "|  ANALYST|  2|         2|    6000|               0.0|\n",
      "| SALESMAN|  4|         4|    5600|177.95130420052183|\n",
      "|    CLERK|  5|         5|    7350| 984.6319109189992|\n",
      "|  MANAGER|  3|         3|    8275|274.24137786507225|\n",
      "|PRESIDENT|  1|         1|    5000|              NULL|\n",
      "+---------+---+----------+--------+------------------+\n",
      "\n"
     ]
    }
   ],
   "source": [
    "group_df=emp_df.groupby('job').agg(\n",
    "    count('job').alias('qty'),\n",
    "    expr('count(job)'),\n",
    "    sum('sal'),std('sal').alias('stdev')).limit(10).show()"
   ]
  },
  {
   "cell_type": "code",
   "execution_count": 230,
   "id": "98095bd7-072f-4842-b2db-dd3897a1d6be",
   "metadata": {},
   "outputs": [
    {
     "name": "stdout",
     "output_type": "stream",
     "text": [
      "+-----+------+---------+----+----------+----+----+------+\n",
      "|empno| ename|      job| mgr|  hiredate| sal|comm|deptno|\n",
      "+-----+------+---------+----+----------+----+----+------+\n",
      "| 7839|  KING|PRESIDENT|NULL|1981-11-17|5000|NULL|    10|\n",
      "| 9292|  JACK|    CLERK|7782|1982-01-23|3200|NULL|    70|\n",
      "| 7788| SCOTT|  ANALYST|7566|1987-04-19|3000|NULL|    20|\n",
      "| 7902|  FORD|  ANALYST|7566|1981-12-03|3000|NULL|    20|\n",
      "| 7566| JONES|  MANAGER|7839|1981-04-02|2975|NULL|    20|\n",
      "| 7698| BLAKE|  MANAGER|7839|1981-05-01|2850|NULL|    30|\n",
      "| 7782| CLARK|  MANAGER|7839|1981-06-09|2450|NULL|    10|\n",
      "| 7499| ALLEN| SALESMAN|7698|1981-02-20|1600| 300|    30|\n",
      "| 7844|TURNER| SALESMAN|7698|1981-09-08|1500|   0|    30|\n",
      "| 7934|MILLER|    CLERK|7782|1982-01-23|1300|NULL|    10|\n",
      "+-----+------+---------+----+----------+----+----+------+\n",
      "\n"
     ]
    }
   ],
   "source": [
    "emp_df.orderBy(desc('sal')).limit(10).show()"
   ]
  },
  {
   "cell_type": "code",
   "execution_count": 242,
   "id": "d8b5efb2-cc02-4e47-a960-23d21769bc90",
   "metadata": {},
   "outputs": [],
   "source": [
    "#윈도우함수\n",
    "from pyspark.sql.window import Window\n",
    "windowspec=Window.orderBy(desc('sal'))\n",
    "salAllRank=rank().over(windowspec)"
   ]
  },
  {
   "cell_type": "code",
   "execution_count": 244,
   "id": "2e1f1675-43a4-44a7-bfb5-2c3270d0bccd",
   "metadata": {},
   "outputs": [
    {
     "name": "stdout",
     "output_type": "stream",
     "text": [
      "+-----+------+---------+----+----------+----+----+------+-----------+\n",
      "|empno| ename|      job| mgr|  hiredate| sal|comm|deptno|salary_rank|\n",
      "+-----+------+---------+----+----------+----+----+------+-----------+\n",
      "| 7839|  KING|PRESIDENT|NULL|1981-11-17|5000|NULL|    10|          1|\n",
      "| 9292|  JACK|    CLERK|7782|1982-01-23|3200|NULL|    70|          2|\n",
      "| 7788| SCOTT|  ANALYST|7566|1987-04-19|3000|NULL|    20|          3|\n",
      "| 7902|  FORD|  ANALYST|7566|1981-12-03|3000|NULL|    20|          3|\n",
      "| 7566| JONES|  MANAGER|7839|1981-04-02|2975|NULL|    20|          5|\n",
      "| 7698| BLAKE|  MANAGER|7839|1981-05-01|2850|NULL|    30|          6|\n",
      "| 7782| CLARK|  MANAGER|7839|1981-06-09|2450|NULL|    10|          7|\n",
      "| 7499| ALLEN| SALESMAN|7698|1981-02-20|1600| 300|    30|          8|\n",
      "| 7844|TURNER| SALESMAN|7698|1981-09-08|1500|   0|    30|          9|\n",
      "| 7934|MILLER|    CLERK|7782|1982-01-23|1300|NULL|    10|         10|\n",
      "+-----+------+---------+----+----------+----+----+------+-----------+\n",
      "only showing top 10 rows\n",
      "\n"
     ]
    }
   ],
   "source": [
    "emp_df.withColumn('salary_rank', salAllRank).show(10)"
   ]
  },
  {
   "cell_type": "code",
   "execution_count": null,
   "id": "cac0cfb6-0124-4697-815a-f412eb5dc3fc",
   "metadata": {},
   "outputs": [],
   "source": [
    "#직무별로 rank\n",
    "#window partitionby() (PARTITION BY job\n",
    "#job_rank_df 작성\n"
   ]
  },
  {
   "cell_type": "code",
   "execution_count": 245,
   "id": "264e6b07-ca35-4b52-9af5-0ac5f0d654c5",
   "metadata": {},
   "outputs": [],
   "source": [
    "#윈도우함수\n",
    "from pyspark.sql.window import Window\n",
    "windowspec=Window.orderBy(desc('sal'))\n",
    "salAllRank=rank().over(windowspec)"
   ]
  },
  {
   "cell_type": "code",
   "execution_count": 246,
   "id": "b887b49a-f0bc-4b14-ac27-f0d5098cba6e",
   "metadata": {},
   "outputs": [
    {
     "data": {
      "text/plain": [
       "[('empno', 'int'),\n",
       " ('ename', 'string'),\n",
       " ('job', 'string'),\n",
       " ('mgr', 'int'),\n",
       " ('hiredate', 'date'),\n",
       " ('sal', 'int'),\n",
       " ('comm', 'int'),\n",
       " ('deptno', 'int')]"
      ]
     },
     "execution_count": 246,
     "metadata": {},
     "output_type": "execute_result"
    }
   ],
   "source": [
    "emp_df.dtypes"
   ]
  },
  {
   "cell_type": "code",
   "execution_count": 267,
   "id": "023b0f17-51b1-41be-8ba1-4a60a527b769",
   "metadata": {
    "scrolled": true
   },
   "outputs": [
    {
     "name": "stdout",
     "output_type": "stream",
     "text": [
      "root\n",
      " |-- empno: integer (nullable = true)\n",
      " |-- ename: string (nullable = true)\n",
      " |-- job: string (nullable = true)\n",
      " |-- mgr: integer (nullable = true)\n",
      " |-- hiredate: date (nullable = true)\n",
      " |-- sal: integer (nullable = true)\n",
      " |-- comm: integer (nullable = true)\n",
      " |-- deptno: integer (nullable = true)\n",
      "\n"
     ]
    }
   ],
   "source": [
    "emp_df.printSchema()"
   ]
  },
  {
   "cell_type": "code",
   "execution_count": 253,
   "id": "249b6495-1d22-4997-85f1-81cf76d7e1dc",
   "metadata": {},
   "outputs": [
    {
     "name": "stdout",
     "output_type": "stream",
     "text": [
      "+-----+------+---------+----+----------+----+----+------+--------+\n",
      "|empno| ename|      job| mgr|  hiredate| sal|comm|deptno|job_rank|\n",
      "+-----+------+---------+----+----------+----+----+------+--------+\n",
      "| 7788| SCOTT|  ANALYST|7566|1987-04-19|3000|NULL|    20|       1|\n",
      "| 7902|  FORD|  ANALYST|7566|1981-12-03|3000|NULL|    20|       1|\n",
      "| 9292|  JACK|    CLERK|7782|1982-01-23|3200|NULL|    70|       1|\n",
      "| 7934|MILLER|    CLERK|7782|1982-01-23|1300|NULL|    10|       2|\n",
      "| 7876| ADAMS|    CLERK|7788|1987-05-23|1100|NULL|    20|       3|\n",
      "| 7900| JAMES|    CLERK|7698|1981-12-03| 950|NULL|    30|       4|\n",
      "| 7369| SMITH|    CLERK|7902|1980-12-17| 800|NULL|    20|       5|\n",
      "| 7566| JONES|  MANAGER|7839|1981-04-02|2975|NULL|    20|       1|\n",
      "| 7698| BLAKE|  MANAGER|7839|1981-05-01|2850|NULL|    30|       2|\n",
      "| 7782| CLARK|  MANAGER|7839|1981-06-09|2450|NULL|    10|       3|\n",
      "| 7839|  KING|PRESIDENT|NULL|1981-11-17|5000|NULL|    10|       1|\n",
      "| 7499| ALLEN| SALESMAN|7698|1981-02-20|1600| 300|    30|       1|\n",
      "| 7844|TURNER| SALESMAN|7698|1981-09-08|1500|   0|    30|       2|\n",
      "| 7521|  WARD| SALESMAN|7698|1981-02-22|1250| 500|    30|       3|\n",
      "| 7654|MARTIN| SALESMAN|7698|1981-09-28|1250|1400|    30|       3|\n",
      "+-----+------+---------+----+----------+----+----+------+--------+\n",
      "\n"
     ]
    }
   ],
   "source": [
    "from pyspark.sql import Window\n",
    "from pyspark.sql.functions import desc, rank\n",
    "\n",
    "\n",
    "window_spec = Window.partitionBy('job').orderBy(desc('sal'))\n",
    "\n",
    "ranked_df = emp_df.withColumn(\n",
    "    \"job_rank\",\n",
    "    rank().over(window_spec)\n",
    ")\n",
    "\n",
    "ranked_df.show()"
   ]
  },
  {
   "cell_type": "code",
   "execution_count": 271,
   "id": "6818fa2d-9cda-4584-8f34-85e942da4867",
   "metadata": {},
   "outputs": [],
   "source": [
    "    windowspec1 = Window.partitionBy('job').orderBy(desc('sal'))\n",
    "    salAllRank = rank().over(windowspec1)"
   ]
  },
  {
   "cell_type": "code",
   "execution_count": 273,
   "id": "85a68dfe-c4f0-4919-aead-6005991a07b1",
   "metadata": {},
   "outputs": [
    {
     "name": "stdout",
     "output_type": "stream",
     "text": [
      "+-----+------+---------+----+----------+----+----+------+---------+\n",
      "|empno| ename|      job| mgr|  hiredate| sal|comm|deptno|dept_rank|\n",
      "+-----+------+---------+----+----------+----+----+------+---------+\n",
      "| 7788| SCOTT|  ANALYST|7566|1987-04-19|3000|NULL|    20|        1|\n",
      "| 7902|  FORD|  ANALYST|7566|1981-12-03|3000|NULL|    20|        1|\n",
      "| 9292|  JACK|    CLERK|7782|1982-01-23|3200|NULL|    70|        1|\n",
      "| 7934|MILLER|    CLERK|7782|1982-01-23|1300|NULL|    10|        2|\n",
      "| 7876| ADAMS|    CLERK|7788|1987-05-23|1100|NULL|    20|        3|\n",
      "| 7900| JAMES|    CLERK|7698|1981-12-03| 950|NULL|    30|        4|\n",
      "| 7369| SMITH|    CLERK|7902|1980-12-17| 800|NULL|    20|        5|\n",
      "| 7566| JONES|  MANAGER|7839|1981-04-02|2975|NULL|    20|        1|\n",
      "| 7698| BLAKE|  MANAGER|7839|1981-05-01|2850|NULL|    30|        2|\n",
      "| 7782| CLARK|  MANAGER|7839|1981-06-09|2450|NULL|    10|        3|\n",
      "| 7839|  KING|PRESIDENT|NULL|1981-11-17|5000|NULL|    10|        1|\n",
      "| 7499| ALLEN| SALESMAN|7698|1981-02-20|1600| 300|    30|        1|\n",
      "| 7844|TURNER| SALESMAN|7698|1981-09-08|1500|   0|    30|        2|\n",
      "| 7521|  WARD| SALESMAN|7698|1981-02-22|1250| 500|    30|        3|\n",
      "| 7654|MARTIN| SALESMAN|7698|1981-09-28|1250|1400|    30|        3|\n",
      "+-----+------+---------+----+----------+----+----+------+---------+\n",
      "\n"
     ]
    }
   ],
   "source": [
    "# 2. 윈도우 스펙을 적용하여 각 부서별 급여 순위\n",
    "emp_df_rank = emp_df.withColumn(\n",
    "    'dept_rank', \n",
    "    salAllRank\n",
    "    #rank().over(windowspec1)\n",
    ")\n",
    "emp_df_rank.show()"
   ]
  },
  {
   "cell_type": "code",
   "execution_count": null,
   "id": "2822dd19-29d4-4ac9-aa6a-d3603d0a2cfb",
   "metadata": {},
   "outputs": [],
   "source": []
  },
  {
   "cell_type": "code",
   "execution_count": 255,
   "id": "c5c109c4-c416-47a2-a471-d56ddbe3195c",
   "metadata": {},
   "outputs": [],
   "source": [
    "#부서별 누적급여 sum('sal).over()"
   ]
  },
  {
   "cell_type": "code",
   "execution_count": 280,
   "id": "b90f73c4-a2c0-466d-a3b5-235a68cb1844",
   "metadata": {},
   "outputs": [
    {
     "name": "stdout",
     "output_type": "stream",
     "text": [
      "+-----+------+---------+----+----------+----+----+------+--------------+\n",
      "|empno| ename|      job| mgr|  hiredate| sal|comm|deptno|cumulative_sal|\n",
      "+-----+------+---------+----+----------+----+----+------+--------------+\n",
      "| 7839|  KING|PRESIDENT|NULL|1981-11-17|5000|NULL|    10|          5000|\n",
      "| 7782| CLARK|  MANAGER|7839|1981-06-09|2450|NULL|    10|          7450|\n",
      "| 7934|MILLER|    CLERK|7782|1982-01-23|1300|NULL|    10|          8750|\n",
      "| 7788| SCOTT|  ANALYST|7566|1987-04-19|3000|NULL|    20|          6000|\n",
      "| 7902|  FORD|  ANALYST|7566|1981-12-03|3000|NULL|    20|          6000|\n",
      "| 7566| JONES|  MANAGER|7839|1981-04-02|2975|NULL|    20|          8975|\n",
      "| 7876| ADAMS|    CLERK|7788|1987-05-23|1100|NULL|    20|         10075|\n",
      "| 7369| SMITH|    CLERK|7902|1980-12-17| 800|NULL|    20|         10875|\n",
      "| 7698| BLAKE|  MANAGER|7839|1981-05-01|2850|NULL|    30|          2850|\n",
      "| 7499| ALLEN| SALESMAN|7698|1981-02-20|1600| 300|    30|          4450|\n",
      "| 7844|TURNER| SALESMAN|7698|1981-09-08|1500|   0|    30|          5950|\n",
      "| 7521|  WARD| SALESMAN|7698|1981-02-22|1250| 500|    30|          8450|\n",
      "| 7654|MARTIN| SALESMAN|7698|1981-09-28|1250|1400|    30|          8450|\n",
      "| 7900| JAMES|    CLERK|7698|1981-12-03| 950|NULL|    30|          9400|\n",
      "| 9292|  JACK|    CLERK|7782|1982-01-23|3200|NULL|    70|          3200|\n",
      "+-----+------+---------+----+----------+----+----+------+--------------+\n",
      "\n"
     ]
    }
   ],
   "source": [
    "\n",
    "windowspec1 = Window.partitionBy('deptno').orderBy(desc('sal'))\n",
    "# 2. 윈도우 스펙을 적용하여 각 부서별 'sal'의 누적 합계를 계산합니다.\n",
    "# rank() 대신 sum('sal')을 사용합니다.\n",
    "cumulative_sal_by_dept = emp_df.withColumn(\n",
    "    'cumulative_sal', \n",
    "    sum('sal').over(windowspec1)\n",
    ")\n",
    "\n",
    "# 결과를 출력하여 확인합니다.\n",
    "# 각 부서(deptno) 내에서 급여가 높은 직원부터 누적된 급여가 표시됩니다.\n",
    "cumulative_sal_by_dept.show()"
   ]
  },
  {
   "cell_type": "code",
   "execution_count": 281,
   "id": "0a84aafe-2590-4dde-88c4-290d04013c93",
   "metadata": {},
   "outputs": [],
   "source": [
    "#부서별 평균급여와  직원 개별 급여 비교"
   ]
  },
  {
   "cell_type": "code",
   "execution_count": 288,
   "id": "bdfa0019-78a3-4ace-a05b-ef1d0742eadf",
   "metadata": {},
   "outputs": [
    {
     "name": "stdout",
     "output_type": "stream",
     "text": [
      "+-----+------+---------+----+----------+----+----+------+-------+\n",
      "|empno| ename|      job| mgr|  hiredate| sal|comm|deptno|avg_sal|\n",
      "+-----+------+---------+----+----------+----+----+------+-------+\n",
      "| 7839|  KING|PRESIDENT|NULL|1981-11-17|5000|NULL|    10| 5000.0|\n",
      "| 7782| CLARK|  MANAGER|7839|1981-06-09|2450|NULL|    10| 3725.0|\n",
      "| 7934|MILLER|    CLERK|7782|1982-01-23|1300|NULL|    10|2916.67|\n",
      "| 7788| SCOTT|  ANALYST|7566|1987-04-19|3000|NULL|    20| 3000.0|\n",
      "| 7902|  FORD|  ANALYST|7566|1981-12-03|3000|NULL|    20| 3000.0|\n",
      "| 7566| JONES|  MANAGER|7839|1981-04-02|2975|NULL|    20|2991.67|\n",
      "| 7876| ADAMS|    CLERK|7788|1987-05-23|1100|NULL|    20|2518.75|\n",
      "| 7369| SMITH|    CLERK|7902|1980-12-17| 800|NULL|    20| 2175.0|\n",
      "| 7698| BLAKE|  MANAGER|7839|1981-05-01|2850|NULL|    30| 2850.0|\n",
      "| 7499| ALLEN| SALESMAN|7698|1981-02-20|1600| 300|    30| 2225.0|\n",
      "| 7844|TURNER| SALESMAN|7698|1981-09-08|1500|   0|    30|1983.33|\n",
      "| 7521|  WARD| SALESMAN|7698|1981-02-22|1250| 500|    30| 1690.0|\n",
      "| 7654|MARTIN| SALESMAN|7698|1981-09-28|1250|1400|    30| 1690.0|\n",
      "| 7900| JAMES|    CLERK|7698|1981-12-03| 950|NULL|    30|1566.67|\n",
      "| 9292|  JACK|    CLERK|7782|1982-01-23|3200|NULL|    70| 3200.0|\n",
      "+-----+------+---------+----+----------+----+----+------+-------+\n",
      "\n"
     ]
    }
   ],
   "source": [
    "windowspec1 = Window.partitionBy('deptno').orderBy(desc('sal'))\n",
    "\n",
    "avg_sal_dept = emp_df.withColumn(\n",
    "    'avg_sal', \n",
    "    round(avg('sal').over(windowspec1),2)\n",
    ")\n",
    "\n",
    "avg_sal_dept.show()"
   ]
  },
  {
   "cell_type": "code",
   "execution_count": 298,
   "id": "d3fc2b87-ae5b-4601-b4d0-19a81201f5e9",
   "metadata": {},
   "outputs": [
    {
     "name": "stdout",
     "output_type": "stream",
     "text": [
      "+-----+------+---------+----+----------+----+----+------+-------+\n",
      "|empno| ename|      job| mgr|  hiredate| sal|comm|deptno|avg_sal|\n",
      "+-----+------+---------+----+----------+----+----+------+-------+\n",
      "| 7839|  KING|PRESIDENT|NULL|1981-11-17|5000|NULL|    10| 5000.0|\n",
      "| 7782| CLARK|  MANAGER|7839|1981-06-09|2450|NULL|    10| 3725.0|\n",
      "| 7934|MILLER|    CLERK|7782|1982-01-23|1300|NULL|    10|2916.67|\n",
      "| 7788| SCOTT|  ANALYST|7566|1987-04-19|3000|NULL|    20| 3000.0|\n",
      "| 7902|  FORD|  ANALYST|7566|1981-12-03|3000|NULL|    20| 3000.0|\n",
      "| 7566| JONES|  MANAGER|7839|1981-04-02|2975|NULL|    20|2991.67|\n",
      "| 7876| ADAMS|    CLERK|7788|1987-05-23|1100|NULL|    20|2518.75|\n",
      "| 7369| SMITH|    CLERK|7902|1980-12-17| 800|NULL|    20| 2175.0|\n",
      "| 7698| BLAKE|  MANAGER|7839|1981-05-01|2850|NULL|    30| 2850.0|\n",
      "| 7499| ALLEN| SALESMAN|7698|1981-02-20|1600| 300|    30| 2225.0|\n",
      "| 7844|TURNER| SALESMAN|7698|1981-09-08|1500|   0|    30|1983.33|\n",
      "| 7521|  WARD| SALESMAN|7698|1981-02-22|1250| 500|    30| 1690.0|\n",
      "| 7654|MARTIN| SALESMAN|7698|1981-09-28|1250|1400|    30| 1690.0|\n",
      "| 7900| JAMES|    CLERK|7698|1981-12-03| 950|NULL|    30|1566.67|\n",
      "| 9292|  JACK|    CLERK|7782|1982-01-23|3200|NULL|    70| 3200.0|\n",
      "+-----+------+---------+----+----------+----+----+------+-------+\n",
      "\n"
     ]
    }
   ],
   "source": [
    "windowspec1 = Window.partitionBy('deptno').orderBy(desc('sal'))\n",
    "\n",
    "avg_sal_dept = emp_df.withColumn(\n",
    "    'avg_sal', \n",
    "    round(avg('sal').over(windowspec1),2)\n",
    ")\n",
    "\n",
    "avg_sal_dept.show()"
   ]
  },
  {
   "cell_type": "code",
   "execution_count": 314,
   "id": "85541e6b-66b4-4d4f-8c41-4b80cd988804",
   "metadata": {},
   "outputs": [
    {
     "name": "stdout",
     "output_type": "stream",
     "text": [
      "+------+---------+--------+--------+\n",
      "|deptno|      job|count(1)|sum(sal)|\n",
      "+------+---------+--------+--------+\n",
      "|    10|    CLERK|       1|    1300|\n",
      "|    10|  MANAGER|       1|    2450|\n",
      "|    10|PRESIDENT|       1|    5000|\n",
      "+------+---------+--------+--------+\n",
      "only showing top 3 rows\n",
      "\n"
     ]
    }
   ],
   "source": [
    "#부서별 직업별소개 \n",
    "emp_df.groupBy('deptno', 'job').agg(count('*'), sum('sal')).orderBy('deptno', 'job').show(3)"
   ]
  },
  {
   "cell_type": "code",
   "execution_count": 317,
   "id": "c56769e8-8f38-4eb8-8dda-10c9e8eb02f1",
   "metadata": {},
   "outputs": [
    {
     "name": "stdout",
     "output_type": "stream",
     "text": [
      "+------+---------+--------+--------+\n",
      "|deptno|      job|count(1)|sum(sal)|\n",
      "+------+---------+--------+--------+\n",
      "|  NULL|     NULL|      15|   32225|\n",
      "|  NULL|  ANALYST|       2|    6000|\n",
      "|  NULL|    CLERK|       5|    7350|\n",
      "|  NULL|  MANAGER|       3|    8275|\n",
      "|  NULL|PRESIDENT|       1|    5000|\n",
      "|  NULL| SALESMAN|       4|    5600|\n",
      "|    10|     NULL|       3|    8750|\n",
      "|    10|    CLERK|       1|    1300|\n",
      "|    10|  MANAGER|       1|    2450|\n",
      "|    10|PRESIDENT|       1|    5000|\n",
      "|    20|     NULL|       5|   10875|\n",
      "|    20|  ANALYST|       2|    6000|\n",
      "|    20|    CLERK|       2|    1900|\n",
      "|    20|  MANAGER|       1|    2975|\n",
      "|    30|     NULL|       6|    9400|\n",
      "|    30|    CLERK|       1|     950|\n",
      "|    30|  MANAGER|       1|    2850|\n",
      "|    30| SALESMAN|       4|    5600|\n",
      "|    70|     NULL|       1|    3200|\n",
      "|    70|    CLERK|       1|    3200|\n",
      "+------+---------+--------+--------+\n",
      "\n"
     ]
    }
   ],
   "source": [
    "emp_df.cube('deptno','job').agg(count(\"*\"), sum('sal')).orderBy('deptno', 'job').show()"
   ]
  },
  {
   "cell_type": "code",
   "execution_count": 321,
   "id": "9b2a3ff8-09fb-4ae5-ab33-028466447ae6",
   "metadata": {},
   "outputs": [
    {
     "name": "stdout",
     "output_type": "stream",
     "text": [
      "+------+---------+--------+------------------+\n",
      "|deptno|      job|count(1)|round(avg(sal), 2)|\n",
      "+------+---------+--------+------------------+\n",
      "|  NULL|     NULL|      15|           2148.33|\n",
      "|  NULL|  ANALYST|       2|            3000.0|\n",
      "|  NULL|    CLERK|       5|            1470.0|\n",
      "|  NULL|  MANAGER|       3|           2758.33|\n",
      "|  NULL|PRESIDENT|       1|            5000.0|\n",
      "|  NULL| SALESMAN|       4|            1400.0|\n",
      "|    10|     NULL|       3|           2916.67|\n",
      "|    10|    CLERK|       1|            1300.0|\n",
      "|    10|  MANAGER|       1|            2450.0|\n",
      "|    10|PRESIDENT|       1|            5000.0|\n",
      "|    20|     NULL|       5|            2175.0|\n",
      "|    20|  ANALYST|       2|            3000.0|\n",
      "|    20|    CLERK|       2|             950.0|\n",
      "|    20|  MANAGER|       1|            2975.0|\n",
      "|    30|     NULL|       6|           1566.67|\n",
      "|    30|    CLERK|       1|             950.0|\n",
      "|    30|  MANAGER|       1|            2850.0|\n",
      "|    30| SALESMAN|       4|            1400.0|\n",
      "|    70|     NULL|       1|            3200.0|\n",
      "|    70|    CLERK|       1|            3200.0|\n",
      "+------+---------+--------+------------------+\n",
      "\n"
     ]
    }
   ],
   "source": [
    "emp_df.cube('deptno','job').agg(count(\"*\"), round(avg('sal'),2)).orderBy('deptno', 'job').show()  #최대급여, 최소급여"
   ]
  },
  {
   "cell_type": "code",
   "execution_count": 322,
   "id": "af56156a-0a14-4a2f-9874-f3f7626dd6ae",
   "metadata": {},
   "outputs": [
    {
     "name": "stdout",
     "output_type": "stream",
     "text": [
      "root\n",
      " |-- empno: integer (nullable = true)\n",
      " |-- ename: string (nullable = true)\n",
      " |-- job: string (nullable = true)\n",
      " |-- mgr: integer (nullable = true)\n",
      " |-- hiredate: date (nullable = true)\n",
      " |-- sal: integer (nullable = true)\n",
      " |-- comm: integer (nullable = true)\n",
      " |-- deptno: integer (nullable = true)\n",
      "\n"
     ]
    }
   ],
   "source": [
    "emp_df.printSchema()"
   ]
  },
  {
   "cell_type": "code",
   "execution_count": 324,
   "id": "9db3508a-a732-428a-95f7-135cc8e1cdca",
   "metadata": {},
   "outputs": [
    {
     "name": "stdout",
     "output_type": "stream",
     "text": [
      "+-----+------+---------+----+----------+----+----+------+------+----------+--------+\n",
      "|empno| ename|      job| mgr|  hiredate| sal|comm|deptno|deptno|     dname|     loc|\n",
      "+-----+------+---------+----+----------+----+----+------+------+----------+--------+\n",
      "| 7369| SMITH|    CLERK|7902|1980-12-17| 800|NULL|    20|    20|  RESEARCH|  DALLAS|\n",
      "| 7499| ALLEN| SALESMAN|7698|1981-02-20|1600| 300|    30|    30|     SALES| CHICAGO|\n",
      "| 7521|  WARD| SALESMAN|7698|1981-02-22|1250| 500|    30|    30|     SALES| CHICAGO|\n",
      "| 7566| JONES|  MANAGER|7839|1981-04-02|2975|NULL|    20|    20|  RESEARCH|  DALLAS|\n",
      "| 7654|MARTIN| SALESMAN|7698|1981-09-28|1250|1400|    30|    30|     SALES| CHICAGO|\n",
      "| 7698| BLAKE|  MANAGER|7839|1981-05-01|2850|NULL|    30|    30|     SALES| CHICAGO|\n",
      "| 7782| CLARK|  MANAGER|7839|1981-06-09|2450|NULL|    10|    10|ACCOUNTING|NEW YORK|\n",
      "| 7788| SCOTT|  ANALYST|7566|1987-04-19|3000|NULL|    20|    20|  RESEARCH|  DALLAS|\n",
      "| 7839|  KING|PRESIDENT|NULL|1981-11-17|5000|NULL|    10|    10|ACCOUNTING|NEW YORK|\n",
      "| 7844|TURNER| SALESMAN|7698|1981-09-08|1500|   0|    30|    30|     SALES| CHICAGO|\n",
      "| 7876| ADAMS|    CLERK|7788|1987-05-23|1100|NULL|    20|    20|  RESEARCH|  DALLAS|\n",
      "| 7900| JAMES|    CLERK|7698|1981-12-03| 950|NULL|    30|    30|     SALES| CHICAGO|\n",
      "| 7902|  FORD|  ANALYST|7566|1981-12-03|3000|NULL|    20|    20|  RESEARCH|  DALLAS|\n",
      "| 7934|MILLER|    CLERK|7782|1982-01-23|1300|NULL|    10|    10|ACCOUNTING|NEW YORK|\n",
      "+-----+------+---------+----+----------+----+----+------+------+----------+--------+\n",
      "\n"
     ]
    }
   ],
   "source": [
    "emp_dept_df = emp_df.join(dept_df, emp_df['deptno']==dept_df['deptno'])\n",
    "emp_dept_df.show()"
   ]
  },
  {
   "cell_type": "code",
   "execution_count": 326,
   "id": "6c76f36d-2f1c-42f2-bdea-41393b24ded0",
   "metadata": {},
   "outputs": [],
   "source": [
    "join_df =emp_df.join(dept_df, on='deptno', how='inner')"
   ]
  },
  {
   "cell_type": "code",
   "execution_count": 328,
   "id": "3bb23ec4-82b3-48bc-8dc1-01090a6bf88d",
   "metadata": {},
   "outputs": [
    {
     "name": "stdout",
     "output_type": "stream",
     "text": [
      "+------+-----+------+---------+----+----------+----+----+----------+--------+\n",
      "|deptno|empno| ename|      job| mgr|  hiredate| sal|comm|     dname|     loc|\n",
      "+------+-----+------+---------+----+----------+----+----+----------+--------+\n",
      "|    20| 7369| SMITH|    CLERK|7902|1980-12-17| 800|NULL|  RESEARCH|  DALLAS|\n",
      "|    30| 7499| ALLEN| SALESMAN|7698|1981-02-20|1600| 300|     SALES| CHICAGO|\n",
      "|    30| 7521|  WARD| SALESMAN|7698|1981-02-22|1250| 500|     SALES| CHICAGO|\n",
      "|    20| 7566| JONES|  MANAGER|7839|1981-04-02|2975|NULL|  RESEARCH|  DALLAS|\n",
      "|    30| 7654|MARTIN| SALESMAN|7698|1981-09-28|1250|1400|     SALES| CHICAGO|\n",
      "|    30| 7698| BLAKE|  MANAGER|7839|1981-05-01|2850|NULL|     SALES| CHICAGO|\n",
      "|    10| 7782| CLARK|  MANAGER|7839|1981-06-09|2450|NULL|ACCOUNTING|NEW YORK|\n",
      "|    20| 7788| SCOTT|  ANALYST|7566|1987-04-19|3000|NULL|  RESEARCH|  DALLAS|\n",
      "|    10| 7839|  KING|PRESIDENT|NULL|1981-11-17|5000|NULL|ACCOUNTING|NEW YORK|\n",
      "|    30| 7844|TURNER| SALESMAN|7698|1981-09-08|1500|   0|     SALES| CHICAGO|\n",
      "|    20| 7876| ADAMS|    CLERK|7788|1987-05-23|1100|NULL|  RESEARCH|  DALLAS|\n",
      "|    30| 7900| JAMES|    CLERK|7698|1981-12-03| 950|NULL|     SALES| CHICAGO|\n",
      "|    20| 7902|  FORD|  ANALYST|7566|1981-12-03|3000|NULL|  RESEARCH|  DALLAS|\n",
      "|    10| 7934|MILLER|    CLERK|7782|1982-01-23|1300|NULL|ACCOUNTING|NEW YORK|\n",
      "+------+-----+------+---------+----+----------+----+----+----------+--------+\n",
      "\n"
     ]
    }
   ],
   "source": [
    "join_df.show()"
   ]
  },
  {
   "cell_type": "code",
   "execution_count": 329,
   "id": "600c81d7-c852-43e4-a42a-82a30806f131",
   "metadata": {},
   "outputs": [
    {
     "name": "stdout",
     "output_type": "stream",
     "text": [
      "+------+-----+------+---------+\n",
      "|deptno|empno| ename|      job|\n",
      "+------+-----+------+---------+\n",
      "|    20| 7369| SMITH|    CLERK|\n",
      "|    30| 7499| ALLEN| SALESMAN|\n",
      "|    30| 7521|  WARD| SALESMAN|\n",
      "|    20| 7566| JONES|  MANAGER|\n",
      "|    30| 7654|MARTIN| SALESMAN|\n",
      "|    30| 7698| BLAKE|  MANAGER|\n",
      "|    10| 7782| CLARK|  MANAGER|\n",
      "|    20| 7788| SCOTT|  ANALYST|\n",
      "|    10| 7839|  KING|PRESIDENT|\n",
      "|    30| 7844|TURNER| SALESMAN|\n",
      "|    20| 7876| ADAMS|    CLERK|\n",
      "|    30| 7900| JAMES|    CLERK|\n",
      "|    20| 7902|  FORD|  ANALYST|\n",
      "|    10| 7934|MILLER|    CLERK|\n",
      "+------+-----+------+---------+\n",
      "\n"
     ]
    }
   ],
   "source": [
    "join_df.select('deptno','empno','ename','job').show()"
   ]
  },
  {
   "cell_type": "code",
   "execution_count": 330,
   "id": "6e7ad941-f7c5-4af5-8cc7-fad90a8df92c",
   "metadata": {},
   "outputs": [],
   "source": [
    "spark.stop()"
   ]
  }
 ],
 "metadata": {
  "kernelspec": {
   "display_name": "Python 3 (ipykernel)",
   "language": "python",
   "name": "python3"
  },
  "language_info": {
   "codemirror_mode": {
    "name": "ipython",
    "version": 3
   },
   "file_extension": ".py",
   "mimetype": "text/x-python",
   "name": "python",
   "nbconvert_exporter": "python",
   "pygments_lexer": "ipython3",
   "version": "3.11.6"
  }
 },
 "nbformat": 4,
 "nbformat_minor": 5
}
