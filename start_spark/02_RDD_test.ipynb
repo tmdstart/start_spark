{
 "cells": [
  {
   "cell_type": "code",
   "execution_count": 74,
   "id": "92989564-71f4-4f8d-92fc-c90919e4935c",
   "metadata": {},
   "outputs": [],
   "source": [
    "from pyspark.sql import SparkSession\n",
    "spark=SparkSession.builder.appName('pyspark example1').getOrCreate() #chaining\n",
    "#Sparkcontext"
   ]
  },
  {
   "cell_type": "code",
   "execution_count": 4,
   "id": "9e2069aa-29af-4dcf-881e-d9bd88aec801",
   "metadata": {},
   "outputs": [],
   "source": [
    "#RDD에서 다룰수 있는데이터타입 TypeSafe\n",
    "# 1. 비정형 데이터, json, txt, str  2.정형 데이터 - 리스트, csv, table"
   ]
  },
  {
   "cell_type": "code",
   "execution_count": 91,
   "id": "f2feb12b-5f0f-4742-9251-4b5e53317e98",
   "metadata": {},
   "outputs": [
    {
     "data": {
      "text/plain": [
       "/home/jovyan/work/start_spark/running_spark_data/log.txt MapPartitionsRDD[12] at textFile at NativeMethodAccessorImpl.java:0"
      ]
     },
     "execution_count": 91,
     "metadata": {},
     "output_type": "execute_result"
    }
   ],
   "source": [
    "rdd1=spark.sparkContext.textFile('/home/jovyan/work/start_spark/running_spark_data/log.txt')\n",
    "rdd1"
   ]
  },
  {
   "cell_type": "code",
   "execution_count": 92,
   "id": "e118d050-fe6a-4def-8dde-05abbe77e9cf",
   "metadata": {},
   "outputs": [
    {
     "data": {
      "text/plain": [
       "['2025-07-31 10:00:01 INFO User=kim ACTION=LOGIN RESULT=SUCCESS',\n",
       " '2025-07-31 10:05:43 WARN User=lee ACTION=DOWNLOAD RESULT=FAIL',\n",
       " '2025-07-31 10:08:22 INFO User=park ACTION=UPLOAD RESULT=SUCCESS']"
      ]
     },
     "execution_count": 92,
     "metadata": {},
     "output_type": "execute_result"
    }
   ],
   "source": [
    "rdd1.take(3)"
   ]
  },
  {
   "cell_type": "code",
   "execution_count": 93,
   "id": "67328e7f-1461-4f06-b3de-e72dc5bd1c0c",
   "metadata": {},
   "outputs": [],
   "source": [
    "import json\n",
    "rdd2 = spark.sparkContext.textFile('/home/jovyan/work/start_spark/running_spark_data/data.json').map(json.loads)"
   ]
  },
  {
   "cell_type": "code",
   "execution_count": 94,
   "id": "c72ea582-e655-422a-be58-cc80676c8918",
   "metadata": {},
   "outputs": [
    {
     "data": {
      "text/plain": [
       "PythonRDD[16] at RDD at PythonRDD.scala:53"
      ]
     },
     "execution_count": 94,
     "metadata": {},
     "output_type": "execute_result"
    }
   ],
   "source": [
    "rdd2"
   ]
  },
  {
   "cell_type": "code",
   "execution_count": 95,
   "id": "7eb53916-9bce-4687-a645-14493b7f506b",
   "metadata": {
    "scrolled": true
   },
   "outputs": [
    {
     "data": {
      "text/plain": [
       "[{'user': 'kim',\n",
       "  'action': 'login',\n",
       "  'result': 'success',\n",
       "  'time': '2025-07-31 10:00:01'},\n",
       " {'user': 'lee',\n",
       "  'action': 'download',\n",
       "  'result': 'fail',\n",
       "  'time': '2025-07-31 10:05:43'},\n",
       " {'user': 'park',\n",
       "  'action': 'upload',\n",
       "  'result': 'success',\n",
       "  'time': '2025-07-31 10:08:22'}]"
      ]
     },
     "execution_count": 95,
     "metadata": {},
     "output_type": "execute_result"
    }
   ],
   "source": [
    "rdd2.take(3)"
   ]
  },
  {
   "cell_type": "code",
   "execution_count": 34,
   "id": "8d2487fc-6cca-4fc2-81dd-867e7a0e3201",
   "metadata": {},
   "outputs": [],
   "source": [
    "#스파크 컨텍스트 객체\n",
    "#1.SparkSession.getOrCreate()- > 세션객체로부터 사전에 설정된 변수에 맞춰 컨텍스트 발생\n",
    "#2.SparkConf + SparkContext -> 저수준 연산"
   ]
  },
  {
   "cell_type": "code",
   "execution_count": 48,
   "id": "23a6e193-00e0-4d3a-b455-be0bf479fdb0",
   "metadata": {},
   "outputs": [],
   "source": [
    "spark.stop()"
   ]
  },
  {
   "cell_type": "code",
   "execution_count": 73,
   "id": "c3cfc973-385e-47bb-8f63-b04361477266",
   "metadata": {},
   "outputs": [
    {
     "data": {
      "text/plain": [
       "<pyspark.conf.SparkConf at 0x7f07366cf5d0>"
      ]
     },
     "execution_count": 73,
     "metadata": {},
     "output_type": "execute_result"
    }
   ],
   "source": [
    "from pyspark import SparkConf, SparkContext\n",
    "conf = SparkConf().setMaster('local').setAppName('country-student-counts2')\n",
    "conf"
   ]
  },
  {
   "cell_type": "code",
   "execution_count": 41,
   "id": "7e35e52b-07af-4020-9b41-1f4935ee08a4",
   "metadata": {},
   "outputs": [],
   "source": [
    "spark = SparkContext(conf=conf).getOrCreate()"
   ]
  },
  {
   "cell_type": "code",
   "execution_count": 43,
   "id": "41c1332e-4d32-4c32-a189-c69f7b02a753",
   "metadata": {},
   "outputs": [
    {
     "data": {
      "text/plain": [
       "[('spark.master', 'local'),\n",
       " ('spark.executor.id', 'driver'),\n",
       " ('spark.app.startTime', '1754026268408'),\n",
       " ('spark.driver.extraJavaOptions',\n",
       "  '-Djava.net.preferIPv6Addresses=false -XX:+IgnoreUnrecognizedVMOptions --add-opens=java.base/java.lang=ALL-UNNAMED --add-opens=java.base/java.lang.invoke=ALL-UNNAMED --add-opens=java.base/java.lang.reflect=ALL-UNNAMED --add-opens=java.base/java.io=ALL-UNNAMED --add-opens=java.base/java.net=ALL-UNNAMED --add-opens=java.base/java.nio=ALL-UNNAMED --add-opens=java.base/java.util=ALL-UNNAMED --add-opens=java.base/java.util.concurrent=ALL-UNNAMED --add-opens=java.base/java.util.concurrent.atomic=ALL-UNNAMED --add-opens=java.base/sun.nio.ch=ALL-UNNAMED --add-opens=java.base/sun.nio.cs=ALL-UNNAMED --add-opens=java.base/sun.security.action=ALL-UNNAMED --add-opens=java.base/sun.util.calendar=ALL-UNNAMED --add-opens=java.security.jgss/sun.security.krb5=ALL-UNNAMED -Djdk.reflect.useDirectMethodHandle=false'),\n",
       " ('spark.app.name', 'country-student-counts2'),\n",
       " ('spark.driver.port', '45257'),\n",
       " ('spark.driver.host', '916f9437356c'),\n",
       " ('spark.app.id', 'local-1754026268454'),\n",
       " ('spark.rdd.compress', 'True'),\n",
       " ('spark.app.submitTime', '1754020661751'),\n",
       " ('spark.serializer.objectStreamReset', '100'),\n",
       " ('spark.submit.pyFiles', ''),\n",
       " ('spark.submit.deployMode', 'client'),\n",
       " ('spark.ui.showConsoleProgress', 'true'),\n",
       " ('spark.executor.extraJavaOptions',\n",
       "  '-Djava.net.preferIPv6Addresses=false -XX:+IgnoreUnrecognizedVMOptions --add-opens=java.base/java.lang=ALL-UNNAMED --add-opens=java.base/java.lang.invoke=ALL-UNNAMED --add-opens=java.base/java.lang.reflect=ALL-UNNAMED --add-opens=java.base/java.io=ALL-UNNAMED --add-opens=java.base/java.net=ALL-UNNAMED --add-opens=java.base/java.nio=ALL-UNNAMED --add-opens=java.base/java.util=ALL-UNNAMED --add-opens=java.base/java.util.concurrent=ALL-UNNAMED --add-opens=java.base/java.util.concurrent.atomic=ALL-UNNAMED --add-opens=java.base/sun.nio.ch=ALL-UNNAMED --add-opens=java.base/sun.nio.cs=ALL-UNNAMED --add-opens=java.base/sun.security.action=ALL-UNNAMED --add-opens=java.base/sun.util.calendar=ALL-UNNAMED --add-opens=java.security.jgss/sun.security.krb5=ALL-UNNAMED -Djdk.reflect.useDirectMethodHandle=false')]"
      ]
     },
     "execution_count": 43,
     "metadata": {},
     "output_type": "execute_result"
    }
   ],
   "source": [
    "spark.getConf().getAll()"
   ]
  },
  {
   "cell_type": "code",
   "execution_count": 96,
   "id": "d9b75fc2-f160-4fc6-8c12-95a53e0a7f20",
   "metadata": {},
   "outputs": [],
   "source": [
    "spark.stop()"
   ]
  },
  {
   "cell_type": "code",
   "execution_count": 4,
   "id": "3b6a1032-e681-4f89-a84e-a5ffda6272ee",
   "metadata": {},
   "outputs": [
    {
     "data": {
      "text/plain": [
       "'/home/jovyan/work/start_spark/start_spark'"
      ]
     },
     "execution_count": 4,
     "metadata": {},
     "output_type": "execute_result"
    }
   ],
   "source": [
    "import os\n",
    "os.getcwd() #컨테이너 내부경로"
   ]
  },
  {
   "cell_type": "code",
   "execution_count": 73,
   "id": "1a7d2ad0-f2b4-419d-af43-ed62f18dec52",
   "metadata": {},
   "outputs": [],
   "source": [
    "dir = os.path.join(os.getcwd(), 'running_spark_data')"
   ]
  },
  {
   "cell_type": "code",
   "execution_count": 64,
   "id": "26d9b282-09b6-496c-a7e3-4bb0b84bdb4e",
   "metadata": {},
   "outputs": [
    {
     "data": {
      "text/plain": [
       "'/home/jovyan/work/start_spark/running_spark_data'"
      ]
     },
     "execution_count": 64,
     "metadata": {},
     "output_type": "execute_result"
    }
   ],
   "source": [
    "dir"
   ]
  },
  {
   "cell_type": "code",
   "execution_count": 107,
   "id": "649c4b71-df0b-47ca-b015-9e93a7801d22",
   "metadata": {},
   "outputs": [
    {
     "data": {
      "text/plain": [
       "'/home/jovyan/work/start_spark/running_spark_data/xAPI-Edu-Data.csv'"
      ]
     },
     "execution_count": 107,
     "metadata": {},
     "output_type": "execute_result"
    }
   ],
   "source": [
    "filename = 'xAPI-Edu-Data.csv'\n",
    "filepath = os.path.join(dir, filename)\n",
    "filepath"
   ]
  },
  {
   "cell_type": "code",
   "execution_count": null,
   "id": "c380824d-395d-4c28-a438-df89e74f58e7",
   "metadata": {},
   "outputs": [],
   "source": [
    "#외부 저장소에서 데이터를 로드 RDD를 생성"
   ]
  },
  {
   "cell_type": "code",
   "execution_count": 108,
   "id": "e32d3c55-8d42-4d42-9c94-f634cdba5089",
   "metadata": {},
   "outputs": [],
   "source": [
    "spark = SparkContext(conf=conf).getOrCreate()"
   ]
  },
  {
   "cell_type": "code",
   "execution_count": 109,
   "id": "2a954041-4ef0-47c1-b97d-1f81a0946b64",
   "metadata": {},
   "outputs": [],
   "source": [
    "\n",
    "lines=spark.textFile('file:///'+filepath.replace('\\\\','/'))"
   ]
  },
  {
   "cell_type": "code",
   "execution_count": 110,
   "id": "adb54431-8a2b-41d5-a8dd-5cf4f4769b0a",
   "metadata": {},
   "outputs": [
    {
     "data": {
      "text/plain": [
       "['gender,NationalITy,PlaceofBirth,StageID,GradeID,SectionID,Topic,Semester,Relation,raisedhands,VisITedResources,AnnouncementsView,Discussion,ParentAnsweringSurvey,ParentschoolSatisfaction,StudentAbsenceDays,Class']"
      ]
     },
     "execution_count": 110,
     "metadata": {},
     "output_type": "execute_result"
    }
   ],
   "source": [
    "lines.take(1)"
   ]
  },
  {
   "cell_type": "code",
   "execution_count": 83,
   "id": "b0fb9af6-f862-4930-af51-20d27d8a03da",
   "metadata": {},
   "outputs": [
    {
     "data": {
      "text/plain": [
       "481"
      ]
     },
     "execution_count": 83,
     "metadata": {},
     "output_type": "execute_result"
    }
   ],
   "source": [
    "lines.count() #대용량일 경우에는 문제가 된다."
   ]
  },
  {
   "cell_type": "code",
   "execution_count": 84,
   "id": "2167d110-251e-4a6a-8527-8bb3abe2fd6f",
   "metadata": {},
   "outputs": [],
   "source": [
    "#데이터의 처리"
   ]
  },
  {
   "cell_type": "code",
   "execution_count": 111,
   "id": "723a6edf-50d8-411d-a656-4c2c3678ba42",
   "metadata": {},
   "outputs": [
    {
     "data": {
      "text/plain": [
       "'gender,NationalITy,PlaceofBirth,StageID,GradeID,SectionID,Topic,Semester,Relation,raisedhands,VisITedResources,AnnouncementsView,Discussion,ParentAnsweringSurvey,ParentschoolSatisfaction,StudentAbsenceDays,Class'"
      ]
     },
     "execution_count": 111,
     "metadata": {},
     "output_type": "execute_result"
    }
   ],
   "source": [
    "header=lines.first()\n",
    "header"
   ]
  },
  {
   "cell_type": "code",
   "execution_count": 112,
   "id": "843aba4e-ae9d-4ada-a291-4b686a01eacf",
   "metadata": {},
   "outputs": [
    {
     "data": {
      "text/plain": [
       "['M,KW,KuwaIT,lowerlevel,G-04,A,IT,F,Father,15,16,2,20,Yes,Good,Under-7,M',\n",
       " 'M,KW,KuwaIT,lowerlevel,G-04,A,IT,F,Father,20,20,3,25,Yes,Good,Under-7,M',\n",
       " 'M,KW,KuwaIT,lowerlevel,G-04,A,IT,F,Father,10,7,0,30,No,Bad,Above-7,L']"
      ]
     },
     "execution_count": 112,
     "metadata": {},
     "output_type": "execute_result"
    }
   ],
   "source": [
    "datas = lines.filter(lambda row : row !=header)\n",
    "datas.take(3)"
   ]
  },
  {
   "cell_type": "code",
   "execution_count": 113,
   "id": "0520402f-0670-4484-a142-9a27703900e5",
   "metadata": {},
   "outputs": [],
   "source": [
    "countries = datas.map(lambda row : row.split(',')[2])"
   ]
  },
  {
   "cell_type": "code",
   "execution_count": 114,
   "id": "083ef916-7fad-44d8-ac08-40bf11d2fa7e",
   "metadata": {},
   "outputs": [
    {
     "data": {
      "text/plain": [
       "PythonRDD[5] at RDD at PythonRDD.scala:53"
      ]
     },
     "execution_count": 114,
     "metadata": {},
     "output_type": "execute_result"
    }
   ],
   "source": [
    "countries"
   ]
  },
  {
   "cell_type": "code",
   "execution_count": 115,
   "id": "13dd8167-2499-44c0-8fbd-51b5e40df868",
   "metadata": {},
   "outputs": [
    {
     "data": {
      "text/plain": [
       "['KuwaIT', 'KuwaIT', 'KuwaIT']"
      ]
     },
     "execution_count": 115,
     "metadata": {},
     "output_type": "execute_result"
    }
   ],
   "source": [
    "countries.take(3)"
   ]
  },
  {
   "cell_type": "code",
   "execution_count": 117,
   "id": "92b942f8-5036-4829-80b2-63f9c2095526",
   "metadata": {},
   "outputs": [
    {
     "data": {
      "text/plain": [
       "defaultdict(int,\n",
       "            {'KuwaIT': 180,\n",
       "             'lebanon': 19,\n",
       "             'Egypt': 9,\n",
       "             'SaudiArabia': 16,\n",
       "             'USA': 16,\n",
       "             'Jordan': 176,\n",
       "             'venzuela': 1,\n",
       "             'Iran': 6,\n",
       "             'Tunis': 9,\n",
       "             'Morocco': 4,\n",
       "             'Syria': 6,\n",
       "             'Iraq': 22,\n",
       "             'Palestine': 10,\n",
       "             'Lybia': 6})"
      ]
     },
     "execution_count": 117,
     "metadata": {},
     "output_type": "execute_result"
    }
   ],
   "source": [
    "result=countries.countByValue()\n",
    "result"
   ]
  },
  {
   "cell_type": "code",
   "execution_count": 118,
   "id": "fffcc5d7-c1ae-43f6-b78f-38e67a7ac65f",
   "metadata": {},
   "outputs": [
    {
     "data": {
      "text/plain": [
       "dict_items([('KuwaIT', 180), ('lebanon', 19), ('Egypt', 9), ('SaudiArabia', 16), ('USA', 16), ('Jordan', 176), ('venzuela', 1), ('Iran', 6), ('Tunis', 9), ('Morocco', 4), ('Syria', 6), ('Iraq', 22), ('Palestine', 10), ('Lybia', 6)])"
      ]
     },
     "execution_count": 118,
     "metadata": {},
     "output_type": "execute_result"
    }
   ],
   "source": [
    "result.items()"
   ]
  },
  {
   "cell_type": "code",
   "execution_count": 122,
   "id": "c83443da-c922-4f31-99d6-889e5080f53b",
   "metadata": {},
   "outputs": [
    {
     "data": {
      "text/plain": [
       "[('KuwaIT', 180),\n",
       " ('Jordan', 176),\n",
       " ('Iraq', 22),\n",
       " ('lebanon', 19),\n",
       " ('SaudiArabia', 16),\n",
       " ('USA', 16),\n",
       " ('Palestine', 10),\n",
       " ('Egypt', 9),\n",
       " ('Tunis', 9),\n",
       " ('Iran', 6),\n",
       " ('Syria', 6),\n",
       " ('Lybia', 6),\n",
       " ('Morocco', 4),\n",
       " ('venzuela', 1)]"
      ]
     },
     "execution_count": 122,
     "metadata": {},
     "output_type": "execute_result"
    }
   ],
   "source": [
    "sorted(result.items(), key= lambda x: x[1], reverse=True)"
   ]
  },
  {
   "cell_type": "code",
   "execution_count": 136,
   "id": "8091ed4e-e8b6-4c53-9e4b-247983df6fc7",
   "metadata": {},
   "outputs": [
    {
     "data": {
      "text/plain": [
       "[('KuwaIT', 180), ('Jordan', 176), ('Iraq', 22)]"
      ]
     },
     "execution_count": 136,
     "metadata": {},
     "output_type": "execute_result"
    }
   ],
   "source": [
    "sorted(result.items(), key= lambda x: x[1], reverse=True)[:3]"
   ]
  },
  {
   "cell_type": "code",
   "execution_count": 138,
   "id": "4dac89e4-af84-4313-a3e6-8560a7995179",
   "metadata": {},
   "outputs": [
    {
     "data": {
      "text/plain": [
       "480"
      ]
     },
     "execution_count": 138,
     "metadata": {},
     "output_type": "execute_result"
    }
   ],
   "source": [
    "sum(result.values())"
   ]
  },
  {
   "cell_type": "code",
   "execution_count": 152,
   "id": "f021c634-f020-4c2f-a656-b8545b371215",
   "metadata": {},
   "outputs": [
    {
     "name": "stdout",
     "output_type": "stream",
     "text": [
      "- KuwaIT: 37.50%\n",
      "- lebanon: 3.96%\n",
      "- Egypt: 1.88%\n",
      "- SaudiArabia: 3.33%\n",
      "- USA: 3.33%\n",
      "- Jordan: 36.67%\n",
      "- venzuela: 0.21%\n",
      "- Iran: 1.25%\n",
      "- Tunis: 1.88%\n",
      "- Morocco: 0.83%\n",
      "- Syria: 1.25%\n",
      "- Iraq: 4.58%\n",
      "- Palestine: 2.08%\n",
      "- Lybia: 1.25%\n"
     ]
    }
   ],
   "source": [
    "for country, value in result.items():\n",
    "    # 비율 계산 (소수점 셋째 자리에서 반올림)\n",
    "    percentage = (value / total_sum) * 100\n",
    "    print(f\"- {country}: {percentage:.2f}%\")"
   ]
  },
  {
   "cell_type": "code",
   "execution_count": 146,
   "id": "2ef745aa-9f1f-4998-af60-0999b4d68bdc",
   "metadata": {},
   "outputs": [
    {
     "name": "stdout",
     "output_type": "stream",
     "text": [
      "전체 합계: 480\n",
      "\n",
      "국가별 비율:\n",
      "- KuwaIT: 37.50%\n",
      "- lebanon: 3.96%\n",
      "- Egypt: 1.88%\n",
      "- SaudiArabia: 3.33%\n",
      "- USA: 3.33%\n",
      "- Jordan: 36.67%\n",
      "- venzuela: 0.21%\n",
      "- Iran: 1.25%\n",
      "- Tunis: 1.88%\n",
      "- Morocco: 0.83%\n",
      "- Syria: 1.25%\n",
      "- Iraq: 4.58%\n",
      "- Palestine: 2.08%\n",
      "- Lybia: 1.25%\n"
     ]
    }
   ],
   "source": [
    "total_sum = sum(value for country, value in result.items())\n",
    "percentages = [(country, (value / total_sum) * 100) for country, value in result.items()]\n",
    "\n",
    "# 3. 결과 출력\n",
    "print(f\"전체 합계: {total_sum}\\n\")\n",
    "print(\"국가별 비율:\")\n",
    "\n",
    "for country, percentage in percentages:\n",
    "    print(f\"- {country}: {percentage:.2f}%\")"
   ]
  },
  {
   "cell_type": "code",
   "execution_count": 186,
   "id": "f1b689c6-42cb-4643-87d6-64fb6d020fec",
   "metadata": {
    "scrolled": true
   },
   "outputs": [
    {
     "data": {
      "text/plain": [
       "<BarContainer object of 14 artists>"
      ]
     },
     "execution_count": 186,
     "metadata": {},
     "output_type": "execute_result"
    },
    {
     "data": {
      "image/png": "[encoded data removed]",
      "text/plain": [
       "<Figure size 640x480 with 1 Axes>"
      ]
     },
     "metadata": {},
     "output_type": "display_data"
    }
   ],
   "source": [
    "import matplotlib.pyplot as plt\n",
    "countries =list(result.keys())\n",
    "counts = list(result.values())\n",
    "plt.bar(countries, counts)"
   ]
  },
  {
   "cell_type": "code",
   "execution_count": 223,
   "id": "47f156e8-361b-4871-bda1-a20f9d055899",
   "metadata": {},
   "outputs": [],
   "source": [
    "data = [\"KuwaIT\", \"lebanon\", \"Jordan\", \"Jordan\", \"USA\", \"Egypt\", \n",
    "        \"Jordan\", \"USA\", \"Iran\", \"Iran\", \"KuwaIT\"]"
   ]
  },
  {
   "cell_type": "code",
   "execution_count": 224,
   "id": "643375ad-c0f0-46b3-b598-d32b7dbc3bd6",
   "metadata": {},
   "outputs": [],
   "source": [
    "rdd = spark.sparkContext.parallelize(data)"
   ]
  },
  {
   "cell_type": "code",
   "execution_count": 225,
   "id": "39d380b0-9d54-4ecf-b3ab-414315e40c09",
   "metadata": {},
   "outputs": [],
   "source": [
    "countries_lower = rdd.map(lambda country: country.lower())"
   ]
  },
  {
   "cell_type": "code",
   "execution_count": 226,
   "id": "cdc2579f-211d-4c04-8739-c76ff9138fcf",
   "metadata": {},
   "outputs": [],
   "source": [
    "\n",
    "spark = SparkSession.builder.appName(\"CountryFilter\").getOrCreate()"
   ]
  },
  {
   "cell_type": "code",
   "execution_count": 228,
   "id": "1de522f9-2124-41e2-94aa-92c3441d0386",
   "metadata": {},
   "outputs": [],
   "source": [
    "filtered_rdd=countries_lower.filter(lambda country: country == \"jordan\")"
   ]
  },
  {
   "cell_type": "code",
   "execution_count": 221,
   "id": "1e3a765f-6e0e-4722-8ccf-02537dcecef0",
   "metadata": {},
   "outputs": [],
   "source": [
    "#소문자로 변환, jordan추출, 몇개국인지 새보기"
   ]
  },
  {
   "cell_type": "code",
   "execution_count": 229,
   "id": "492ad117-a583-4ea3-9836-738a740927e8",
   "metadata": {},
   "outputs": [
    {
     "name": "stdout",
     "output_type": "stream",
     "text": [
      "['jordan', 'jordan', 'jordan']\n"
     ]
    }
   ],
   "source": [
    "print(filtered_rdd.collect())"
   ]
  },
  {
   "cell_type": "code",
   "execution_count": 230,
   "id": "3dc6abe7-fcab-450b-afab-0cd4fe76aaf8",
   "metadata": {},
   "outputs": [],
   "source": [
    "dd=countries_lower.distinct()"
   ]
  },
  {
   "cell_type": "code",
   "execution_count": 231,
   "id": "2337b7a8-fb72-4e8d-9ce1-bcb8aef5ac25",
   "metadata": {},
   "outputs": [
    {
     "data": {
      "text/plain": [
       "6"
      ]
     },
     "execution_count": 231,
     "metadata": {},
     "output_type": "execute_result"
    }
   ],
   "source": [
    "dd.count()"
   ]
  },
  {
   "cell_type": "code",
   "execution_count": 175,
   "id": "bf85b4a2-126c-45b6-8ced-7b2aceaae6c0",
   "metadata": {},
   "outputs": [],
   "source": [
    "#국가별 빈도수"
   ]
  },
  {
   "cell_type": "code",
   "execution_count": 232,
   "id": "0078defe-f715-41e4-807b-0efc27af7479",
   "metadata": {},
   "outputs": [],
   "source": [
    "country_pairs=countries_lower.map(lambda x:(x,1))"
   ]
  },
  {
   "cell_type": "code",
   "execution_count": 233,
   "id": "32168ac0-d95f-4866-b313-e09f9811ce20",
   "metadata": {},
   "outputs": [
    {
     "data": {
      "text/plain": [
       "[('kuwait', 1)]"
      ]
     },
     "execution_count": 233,
     "metadata": {},
     "output_type": "execute_result"
    }
   ],
   "source": [
    "country_pairs.take(1)"
   ]
  },
  {
   "cell_type": "code",
   "execution_count": 206,
   "id": "8f34799b-7db9-422a-92d2-ca67c6b344f2",
   "metadata": {},
   "outputs": [],
   "source": [
    "\n",
    "# SparkSession 종료\n",
    "spark.stop()"
   ]
  },
  {
   "cell_type": "code",
   "execution_count": 234,
   "id": "808baa28-aeb8-437d-acd6-5edefd0b483a",
   "metadata": {},
   "outputs": [],
   "source": [
    "country_counts = country_pairs.reduceByKey(lambda a,b : a+b)"
   ]
  },
  {
   "cell_type": "code",
   "execution_count": 235,
   "id": "c20c3991-35ef-4fb4-9cf8-4f0925de3f2d",
   "metadata": {},
   "outputs": [
    {
     "data": {
      "text/plain": [
       "[('kuwait', 2), ('lebanon', 1)]"
      ]
     },
     "execution_count": 235,
     "metadata": {},
     "output_type": "execute_result"
    }
   ],
   "source": [
    "country_counts.take(2)"
   ]
  },
  {
   "cell_type": "code",
   "execution_count": 236,
   "id": "206fa340-ae47-4098-a84d-6911fa0517dc",
   "metadata": {},
   "outputs": [
    {
     "data": {
      "text/plain": [
       "[('kuwait', 2),\n",
       " ('lebanon', 1),\n",
       " ('egypt', 1),\n",
       " ('jordan', 3),\n",
       " ('usa', 2),\n",
       " ('iran', 2)]"
      ]
     },
     "execution_count": 236,
     "metadata": {},
     "output_type": "execute_result"
    }
   ],
   "source": [
    "country_counts.take(6)"
   ]
  },
  {
   "cell_type": "code",
   "execution_count": 239,
   "id": "084805cb-5fb3-452a-8e4f-505d2733b434",
   "metadata": {
    "scrolled": true
   },
   "outputs": [
    {
     "data": {
      "text/plain": [
       "[('kuwait', 2),\n",
       " ('lebanon', 1),\n",
       " ('egypt', 1),\n",
       " ('jordan', 3),\n",
       " ('usa', 2),\n",
       " ('iran', 2)]"
      ]
     },
     "execution_count": 239,
     "metadata": {},
     "output_type": "execute_result"
    }
   ],
   "source": [
    "country_counts.collect()"
   ]
  },
  {
   "cell_type": "code",
   "execution_count": 240,
   "id": "ae845d1f-386e-4067-b6c0-509a05b08f07",
   "metadata": {},
   "outputs": [
    {
     "data": {
      "text/plain": [
       "[('egypt', 1),\n",
       " ('iran', 2),\n",
       " ('jordan', 3),\n",
       " ('kuwait', 2),\n",
       " ('lebanon', 1),\n",
       " ('usa', 2)]"
      ]
     },
     "execution_count": 240,
     "metadata": {},
     "output_type": "execute_result"
    }
   ],
   "source": [
    "country_counts.sortByKey().collect()"
   ]
  },
  {
   "cell_type": "code",
   "execution_count": 242,
   "id": "9a7363bd-287b-40d6-b8d0-04cf881f82f1",
   "metadata": {},
   "outputs": [
    {
     "data": {
      "text/plain": [
       "[('jordan', 3),\n",
       " ('kuwait', 2),\n",
       " ('usa', 2),\n",
       " ('iran', 2),\n",
       " ('lebanon', 1),\n",
       " ('egypt', 1)]"
      ]
     },
     "execution_count": 242,
     "metadata": {},
     "output_type": "execute_result"
    }
   ],
   "source": [
    "country_counts.sortBy(lambda x:x[1], ascending=False).collect()"
   ]
  },
  {
   "cell_type": "code",
   "execution_count": 247,
   "id": "de9f7544-e0d4-4365-a404-0cedacf71f3e",
   "metadata": {
    "scrolled": true
   },
   "outputs": [
    {
     "data": {
      "text/plain": [
       "[('usa', 2),\n",
       " ('lebanon', 1),\n",
       " ('kuwait', 2),\n",
       " ('jordan', 3),\n",
       " ('iran', 2),\n",
       " ('egypt', 1)]"
      ]
     },
     "execution_count": 247,
     "metadata": {},
     "output_type": "execute_result"
    }
   ],
   "source": [
    "country_counts.sortBy(lambda x:x[0], ascending=False).collect()"
   ]
  },
  {
   "cell_type": "code",
   "execution_count": 261,
   "id": "2c04ac72-fc96-4ec1-b6ac-098070d29439",
   "metadata": {},
   "outputs": [
    {
     "data": {
      "text/plain": [
       "'kuwait,lebanon,jordan,jordan,usa,egypt,jordan,usa,iran,iran,kuwait'"
      ]
     },
     "execution_count": 261,
     "metadata": {},
     "output_type": "execute_result"
    }
   ],
   "source": [
    "countries_lower.reduce(lambda a, b: a+','+b) #변환"
   ]
  },
  {
   "cell_type": "code",
   "execution_count": 260,
   "id": "575db999-a9ad-4549-ac27-5669385661a8",
   "metadata": {},
   "outputs": [],
   "source": [
    "#저장소에 저장하기"
   ]
  },
  {
   "cell_type": "code",
   "execution_count": 6,
   "id": "e70a74b8-bca0-4030-8f88-2fd3ab3445d5",
   "metadata": {},
   "outputs": [],
   "source": [
    "output_path='output_path/countries_result'"
   ]
  },
  {
   "cell_type": "code",
   "execution_count": 72,
   "id": "9a5f4559-7d54-4c94-9284-9df840e4be71",
   "metadata": {},
   "outputs": [
    {
     "ename": "NameError",
     "evalue": "name 'countries_lower' is not defined",
     "output_type": "error",
     "traceback": [
      "\u001b[0;31m---------------------------------------------------------------------------\u001b[0m",
      "\u001b[0;31mNameError\u001b[0m                                 Traceback (most recent call last)",
      "Cell \u001b[0;32mIn[72], line 1\u001b[0m\n\u001b[0;32m----> 1\u001b[0m \u001b[43mcountries_lower\u001b[49m\u001b[38;5;241m.\u001b[39msaveAsTextFile(output_path)\u001b[38;5;66;03m# 저장소 경로\u001b[39;00m\n",
      "\u001b[0;31mNameError\u001b[0m: name 'countries_lower' is not defined"
     ]
    }
   ],
   "source": [
    "countries_lower.saveAsTextFile(output_path)# 저장소 경로"
   ]
  },
  {
   "cell_type": "code",
   "execution_count": 2,
   "id": "cb0e5398-151a-4385-bc19-466284953984",
   "metadata": {},
   "outputs": [],
   "source": [
    "import shutil"
   ]
  },
  {
   "cell_type": "code",
   "execution_count": 76,
   "id": "cc7b9cd5-d477-4594-b615-4879d35f4bfe",
   "metadata": {},
   "outputs": [
    {
     "ename": "NameError",
     "evalue": "name 'countries_lower' is not defined",
     "output_type": "error",
     "traceback": [
      "\u001b[0;31m---------------------------------------------------------------------------\u001b[0m",
      "\u001b[0;31mNameError\u001b[0m                                 Traceback (most recent call last)",
      "Cell \u001b[0;32mIn[76], line 3\u001b[0m\n\u001b[1;32m      1\u001b[0m \u001b[38;5;28;01mif\u001b[39;00m os\u001b[38;5;241m.\u001b[39mpath\u001b[38;5;241m.\u001b[39mexists(output_path):\n\u001b[1;32m      2\u001b[0m     shutil\u001b[38;5;241m.\u001b[39mrmtree(output_path)\n\u001b[0;32m----> 3\u001b[0m \u001b[43mcountries_lower\u001b[49m\u001b[38;5;241m.\u001b[39msaveAsTextFile(output_path)\n",
      "\u001b[0;31mNameError\u001b[0m: name 'countries_lower' is not defined"
     ]
    }
   ],
   "source": [
    "if os.path.exists(output_path):\n",
    "    shutil.rmtree(output_path)\n",
    "countries_lower.saveAsTextFile(output_path)"
   ]
  },
  {
   "cell_type": "code",
   "execution_count": 67,
   "id": "d57925d5-0b70-44ba-a305-7ba342b05a02",
   "metadata": {},
   "outputs": [],
   "source": [
    "import pyspark"
   ]
  },
  {
   "cell_type": "code",
   "execution_count": 80,
   "id": "33353169-07bb-48e0-b4dc-84d1d5f4dfe0",
   "metadata": {},
   "outputs": [],
   "source": [
    "rdd =spark.sparkContext.textFile('/home/jovyan/work/start_spark/start_spark/running_spark_data/mnm_dataset.csv')"
   ]
  },
  {
   "cell_type": "code",
   "execution_count": 81,
   "id": "921fbc16-2c71-4c5d-960a-3df51172b5ec",
   "metadata": {},
   "outputs": [],
   "source": [
    "header = rdd.first()\n",
    "data = rdd.filter(lambda line: line!=header)\\\n",
    "        .map(lambda line: line.split(','))"
   ]
  },
  {
   "cell_type": "code",
   "execution_count": 83,
   "id": "05728457-9b6c-475f-8385-4439ef28b8c4",
   "metadata": {},
   "outputs": [
    {
     "data": {
      "text/plain": [
       "[['TX', 'Red', '20'], ['NV', 'Blue', '66'], ['CO', 'Blue', '79']]"
      ]
     },
     "execution_count": 83,
     "metadata": {},
     "output_type": "execute_result"
    }
   ],
   "source": [
    "data.take(3)"
   ]
  },
  {
   "cell_type": "code",
   "execution_count": 90,
   "id": "c06d03ff-f9a8-4556-ad6e-3a541fe70905",
   "metadata": {},
   "outputs": [],
   "source": [
    "rdd1= data.map(lambda x: (x[0], int(x[2])))"
   ]
  },
  {
   "cell_type": "code",
   "execution_count": 92,
   "id": "8798c710-4ec9-4530-97af-01be046d892e",
   "metadata": {},
   "outputs": [
    {
     "data": {
      "text/plain": [
       "[('TX', 20), ('NV', 66), ('CO', 79)]"
      ]
     },
     "execution_count": 92,
     "metadata": {},
     "output_type": "execute_result"
    }
   ],
   "source": [
    "rdd1.take(3)"
   ]
  },
  {
   "cell_type": "code",
   "execution_count": 102,
   "id": "8eecb00c-4e0f-4e7c-ac40-36342a40ba6f",
   "metadata": {},
   "outputs": [
    {
     "data": {
      "text/plain": [
       "[('TX', 556493), ('NV', 548477), ('CO', 556302)]"
      ]
     },
     "execution_count": 102,
     "metadata": {},
     "output_type": "execute_result"
    }
   ],
   "source": [
    "rdd2= rdd1.reduceByKey(lambda a,b : a+b)\n",
    "rdd1.take(3)"
   ]
  },
  {
   "cell_type": "code",
   "execution_count": 110,
   "id": "b43807ff-b010-49d9-a8da-4b18650e72e3",
   "metadata": {},
   "outputs": [],
   "source": [
    "rdd3=data.map(lambda x : ((x[0], x[1]), int(x[2])))\\\n",
    "    .reduceByKey(lambda a,b: a+b)"
   ]
  },
  {
   "cell_type": "code",
   "execution_count": 111,
   "id": "b118bb54-f3fa-4828-bf16-1726c9d7e43e",
   "metadata": {
    "scrolled": true
   },
   "outputs": [
    {
     "data": {
      "text/plain": [
       "[(('TX', 'Red'), 95404), (('NV', 'Blue'), 90003), (('CO', 'Blue'), 93412)]"
      ]
     },
     "execution_count": 111,
     "metadata": {},
     "output_type": "execute_result"
    }
   ],
   "source": [
    "rdd3.take(3)"
   ]
  },
  {
   "cell_type": "code",
   "execution_count": 119,
   "id": "0082d757-fdc3-4165-9402-ec99f4421e9a",
   "metadata": {},
   "outputs": [],
   "source": [
    "import shutil\n",
    "output_path='/home/jovyan/work/start_spark/start_spark/output_path'\n",
    "if os.path.exists(output_path):\n",
    "    shutil.rmtree(output_path)\n",
    "    rdd3.saveAsTextFile(output_path)"
   ]
  },
  {
   "cell_type": "code",
   "execution_count": null,
   "id": "f3827290-8bb6-41f4-bad7-6fd51b5a1a3d",
   "metadata": {},
   "outputs": [],
   "source": []
  },
  {
   "cell_type": "code",
   "execution_count": 10,
   "id": "5ebad96c-2907-4da8-a4b6-f57ea4261105",
   "metadata": {},
   "outputs": [],
   "source": [
    "dir = os.path.join(os.getcwd(), 'running_spark_data')"
   ]
  },
  {
   "cell_type": "code",
   "execution_count": 47,
   "id": "28c1ae4d-1d4b-48bb-b245-c2b588ee0123",
   "metadata": {},
   "outputs": [
    {
     "data": {
      "text/plain": [
       "'/home/jovyan/work/start_spark/start_spark/running_spark_data/mnm_dataset.csv'"
      ]
     },
     "execution_count": 47,
     "metadata": {},
     "output_type": "execute_result"
    }
   ],
   "source": [
    "filename = 'mnm_dataset.csv'\n",
    "filepath = os.path.join(dir, filename)\n",
    "filepath"
   ]
  },
  {
   "cell_type": "code",
   "execution_count": 48,
   "id": "98fe778d-5cc6-4b63-9925-3c3944de416b",
   "metadata": {},
   "outputs": [],
   "source": [
    "spark = SparkContext(conf=conf).getOrCreate()"
   ]
  },
  {
   "cell_type": "code",
   "execution_count": 49,
   "id": "afdef14b-85fe-4b0a-8192-dc026b216cef",
   "metadata": {},
   "outputs": [],
   "source": [
    "lines=spark.textFile('file:///'+filepath.replace('\\\\','/'))"
   ]
  },
  {
   "cell_type": "code",
   "execution_count": 50,
   "id": "d0393951-ec32-464d-b1b8-6799357eac7a",
   "metadata": {
    "scrolled": true
   },
   "outputs": [
    {
     "data": {
      "text/plain": [
       "['State,Color,Count',\n",
       " 'TX,Red,20',\n",
       " 'NV,Blue,66',\n",
       " 'CO,Blue,79',\n",
       " 'OR,Blue,71',\n",
       " 'WA,Yellow,93',\n",
       " 'WY,Blue,16',\n",
       " 'CA,Yellow,53',\n",
       " 'WA,Green,60',\n",
       " 'OR,Green,71',\n",
       " 'TX,Green,68',\n",
       " 'NV,Green,59',\n",
       " 'AZ,Brown,95',\n",
       " 'WA,Yellow,20',\n",
       " 'AZ,Blue,75',\n",
       " 'OR,Brown,72',\n",
       " 'NV,Red,98',\n",
       " 'WY,Orange,45',\n",
       " 'CO,Blue,52',\n",
       " 'TX,Brown,94',\n",
       " 'CO,Red,82',\n",
       " 'CO,Red,12',\n",
       " 'CO,Red,17',\n",
       " 'OR,Green,16',\n",
       " 'AZ,Green,46',\n",
       " 'NV,Red,43',\n",
       " 'NM,Yellow,15',\n",
       " 'WA,Red,12',\n",
       " 'OR,Green,13',\n",
       " 'CO,Blue,95',\n",
       " 'WY,Red,63',\n",
       " 'TX,Orange,63',\n",
       " 'WY,Yellow,48',\n",
       " 'OR,Green,95',\n",
       " 'WA,Red,75',\n",
       " 'CO,Orange,93',\n",
       " 'NV,Orange,10',\n",
       " 'WY,Green,15',\n",
       " 'WA,Green,99',\n",
       " 'CO,Blue,98',\n",
       " 'CA,Green,86',\n",
       " 'UT,Red,92',\n",
       " 'AZ,Brown,16',\n",
       " 'CA,Red,100',\n",
       " 'UT,Red,77',\n",
       " 'TX,Yellow,29',\n",
       " 'WA,Orange,73',\n",
       " 'WY,Yellow,56',\n",
       " 'WA,Yellow,19',\n",
       " 'WY,Yellow,18',\n",
       " 'AZ,Orange,49',\n",
       " 'WA,Red,83',\n",
       " 'AZ,Red,59',\n",
       " 'CA,Blue,13',\n",
       " 'CO,Brown,53',\n",
       " 'CA,Red,23',\n",
       " 'CA,Yellow,49',\n",
       " 'NV,Blue,50',\n",
       " 'CO,Red,81',\n",
       " 'UT,Green,62',\n",
       " 'NM,Green,38',\n",
       " 'NV,Yellow,77',\n",
       " 'TX,Blue,49',\n",
       " 'WA,Brown,20',\n",
       " 'OR,Green,59',\n",
       " 'OR,Red,66',\n",
       " 'CA,Blue,34',\n",
       " 'UT,Blue,97',\n",
       " 'AZ,Blue,59',\n",
       " 'OR,Blue,29',\n",
       " 'CO,Red,17',\n",
       " 'AZ,Orange,54',\n",
       " 'TX,Green,69',\n",
       " 'NM,Brown,65',\n",
       " 'WY,Orange,23',\n",
       " 'NM,Green,42',\n",
       " 'OR,Green,39',\n",
       " 'WA,Orange,84',\n",
       " 'UT,Yellow,72',\n",
       " 'NV,Yellow,98',\n",
       " 'TX,Yellow,20',\n",
       " 'UT,Brown,58',\n",
       " 'CA,Red,67',\n",
       " 'CO,Orange,42',\n",
       " 'WA,Red,70',\n",
       " 'OR,Blue,54',\n",
       " 'TX,Green,85',\n",
       " 'WY,Brown,85',\n",
       " 'UT,Green,97',\n",
       " 'CO,Blue,52',\n",
       " 'WA,Yellow,43',\n",
       " 'WA,Yellow,77',\n",
       " 'WA,Green,10',\n",
       " 'TX,Red,97',\n",
       " 'WA,Brown,21',\n",
       " 'WY,Red,22',\n",
       " 'WY,Yellow,42',\n",
       " 'WA,Orange,30',\n",
       " 'NV,Orange,48',\n",
       " 'WA,Blue,59',\n",
       " 'CO,Orange,22',\n",
       " 'CA,Orange,25',\n",
       " 'CA,Yellow,69',\n",
       " 'WY,Blue,59',\n",
       " 'UT,Brown,77',\n",
       " 'TX,Green,82',\n",
       " 'CA,Orange,91',\n",
       " 'TX,Brown,96',\n",
       " 'WY,Blue,53',\n",
       " 'WA,Blue,42',\n",
       " 'TX,Green,74',\n",
       " 'AZ,Brown,79',\n",
       " 'OR,Orange,85',\n",
       " 'CO,Orange,21',\n",
       " 'AZ,Yellow,48',\n",
       " 'WA,Blue,37',\n",
       " 'NV,Blue,49',\n",
       " 'CA,Brown,95',\n",
       " 'CO,Brown,53',\n",
       " 'TX,Red,16',\n",
       " 'CO,Brown,56',\n",
       " 'NV,Red,90',\n",
       " 'WY,Brown,87',\n",
       " 'UT,Yellow,56',\n",
       " 'NM,Yellow,21',\n",
       " 'CA,Yellow,41',\n",
       " 'CA,Orange,71',\n",
       " 'UT,Yellow,97',\n",
       " 'CA,Brown,58',\n",
       " 'WY,Brown,43',\n",
       " 'NM,Blue,15',\n",
       " 'AZ,Yellow,72',\n",
       " 'WA,Brown,38',\n",
       " 'CO,Green,44',\n",
       " 'NV,Brown,65',\n",
       " 'AZ,Yellow,94',\n",
       " 'NV,Red,94',\n",
       " 'CA,Brown,92',\n",
       " 'WA,Orange,94',\n",
       " 'AZ,Orange,53',\n",
       " 'WY,Green,18',\n",
       " 'NM,Orange,69',\n",
       " 'CA,Blue,39',\n",
       " 'NM,Green,32',\n",
       " 'WA,Green,68',\n",
       " 'AZ,Green,77',\n",
       " 'UT,Red,46',\n",
       " 'NM,Green,87',\n",
       " 'CO,Red,78',\n",
       " 'UT,Blue,48',\n",
       " 'NV,Brown,10',\n",
       " 'NM,Orange,77',\n",
       " 'UT,Green,60',\n",
       " 'WA,Yellow,49',\n",
       " 'OR,Orange,18',\n",
       " 'OR,Yellow,72',\n",
       " 'CO,Orange,41',\n",
       " 'AZ,Blue,82',\n",
       " 'UT,Brown,78',\n",
       " 'UT,Orange,24',\n",
       " 'UT,Green,97',\n",
       " 'WA,Brown,26',\n",
       " 'CO,Brown,98',\n",
       " 'CO,Blue,14',\n",
       " 'WY,Yellow,78',\n",
       " 'UT,Orange,34',\n",
       " 'WA,Blue,18',\n",
       " 'CO,Blue,89',\n",
       " 'TX,Blue,80',\n",
       " 'UT,Yellow,81',\n",
       " 'NM,Yellow,75',\n",
       " 'WY,Green,10',\n",
       " 'CO,Red,79',\n",
       " 'UT,Brown,98',\n",
       " 'WA,Blue,84',\n",
       " 'NM,Blue,46',\n",
       " 'AZ,Blue,16',\n",
       " 'WA,Brown,17',\n",
       " 'TX,Blue,68',\n",
       " 'NM,Green,67',\n",
       " 'AZ,Green,89',\n",
       " 'OR,Brown,48',\n",
       " 'WY,Green,91',\n",
       " 'WA,Brown,52',\n",
       " 'AZ,Green,29',\n",
       " 'WY,Brown,30',\n",
       " 'NM,Red,50',\n",
       " 'NV,Brown,49',\n",
       " 'CA,Blue,99',\n",
       " 'WY,Orange,81',\n",
       " 'UT,Green,41',\n",
       " 'OR,Brown,35',\n",
       " 'TX,Red,13',\n",
       " 'WY,Blue,80',\n",
       " 'OR,Green,76',\n",
       " 'CO,Yellow,74',\n",
       " 'UT,Green,33',\n",
       " 'TX,Brown,55',\n",
       " 'CO,Green,22',\n",
       " 'WY,Orange,99',\n",
       " 'TX,Orange,93',\n",
       " 'TX,Yellow,83',\n",
       " 'OR,Green,77',\n",
       " 'CO,Yellow,37',\n",
       " 'CO,Blue,44',\n",
       " 'CA,Brown,80',\n",
       " 'WY,Brown,36',\n",
       " 'WA,Brown,26',\n",
       " 'NV,Green,49',\n",
       " 'AZ,Red,93',\n",
       " 'TX,Yellow,19',\n",
       " 'CO,Yellow,63',\n",
       " 'TX,Yellow,81',\n",
       " 'TX,Red,100',\n",
       " 'CA,Red,45',\n",
       " 'UT,Brown,59',\n",
       " 'NM,Brown,66',\n",
       " 'TX,Red,95',\n",
       " 'OR,Yellow,28',\n",
       " 'AZ,Yellow,83',\n",
       " 'CO,Red,52',\n",
       " 'NV,Red,23',\n",
       " 'WA,Green,27',\n",
       " 'WY,Yellow,90',\n",
       " 'NM,Yellow,29',\n",
       " 'CA,Green,73',\n",
       " 'NV,Brown,34',\n",
       " 'CA,Orange,32',\n",
       " 'TX,Red,44',\n",
       " 'WA,Brown,76',\n",
       " 'CO,Blue,90',\n",
       " 'CO,Red,82',\n",
       " 'NV,Orange,58',\n",
       " 'NM,Red,40',\n",
       " 'TX,Blue,19',\n",
       " 'NV,Orange,84',\n",
       " 'NM,Green,61',\n",
       " 'UT,Brown,92',\n",
       " 'AZ,Orange,50',\n",
       " 'AZ,Yellow,49',\n",
       " 'CA,Blue,65',\n",
       " 'NM,Red,50',\n",
       " 'WA,Yellow,57',\n",
       " 'TX,Yellow,64',\n",
       " 'CO,Red,94',\n",
       " 'AZ,Yellow,80',\n",
       " 'TX,Blue,98',\n",
       " 'OR,Brown,48',\n",
       " 'NM,Blue,98',\n",
       " 'AZ,Yellow,80',\n",
       " 'OR,Orange,91',\n",
       " 'CA,Brown,64',\n",
       " 'OR,Green,39',\n",
       " 'NV,Yellow,76',\n",
       " 'NM,Red,53',\n",
       " 'UT,Yellow,35',\n",
       " 'AZ,Blue,24',\n",
       " 'WY,Red,87',\n",
       " 'WY,Green,57',\n",
       " 'NM,Red,47',\n",
       " 'CO,Brown,57',\n",
       " 'WY,Green,97',\n",
       " 'WA,Yellow,31',\n",
       " 'WY,Brown,81',\n",
       " 'CA,Red,27',\n",
       " 'WA,Yellow,58',\n",
       " 'NM,Orange,70',\n",
       " 'WY,Green,39',\n",
       " 'WA,Red,38',\n",
       " 'NM,Brown,99',\n",
       " 'CA,Brown,94',\n",
       " 'CO,Yellow,14',\n",
       " 'CO,Green,25',\n",
       " 'NV,Red,52',\n",
       " 'WY,Brown,48',\n",
       " 'NV,Orange,65',\n",
       " 'AZ,Yellow,41',\n",
       " 'WY,Green,68',\n",
       " 'UT,Green,23',\n",
       " 'WA,Green,58',\n",
       " 'NM,Orange,41',\n",
       " 'WY,Orange,56',\n",
       " 'WY,Red,70',\n",
       " 'CO,Green,58',\n",
       " 'UT,Orange,36',\n",
       " 'CA,Red,50',\n",
       " 'WA,Red,10',\n",
       " 'CA,Yellow,42',\n",
       " 'AZ,Green,99',\n",
       " 'NM,Brown,36',\n",
       " 'UT,Green,77',\n",
       " 'TX,Green,91',\n",
       " 'WA,Orange,91',\n",
       " 'OR,Brown,16',\n",
       " 'CA,Orange,87',\n",
       " 'TX,Yellow,70',\n",
       " 'WA,Green,29',\n",
       " 'NM,Blue,70',\n",
       " 'TX,Red,55',\n",
       " 'WY,Green,86',\n",
       " 'OR,Blue,96',\n",
       " 'OR,Blue,37',\n",
       " 'WY,Blue,33',\n",
       " 'NM,Green,83',\n",
       " 'UT,Orange,87',\n",
       " 'WY,Yellow,62',\n",
       " 'WY,Red,23',\n",
       " 'TX,Brown,59',\n",
       " 'CO,Green,40',\n",
       " 'CA,Brown,41',\n",
       " 'AZ,Brown,90',\n",
       " 'WA,Yellow,92',\n",
       " 'OR,Green,76',\n",
       " 'WA,Blue,46',\n",
       " 'CA,Red,52',\n",
       " 'NM,Blue,52',\n",
       " 'WY,Orange,63',\n",
       " 'OR,Green,14',\n",
       " 'AZ,Yellow,23',\n",
       " 'CA,Brown,84',\n",
       " 'NM,Orange,46',\n",
       " 'WY,Green,100',\n",
       " 'CA,Red,49',\n",
       " 'UT,Brown,67',\n",
       " 'UT,Brown,52',\n",
       " 'AZ,Brown,41',\n",
       " 'OR,Blue,20',\n",
       " 'CA,Yellow,94',\n",
       " 'CO,Blue,27',\n",
       " 'CA,Yellow,89',\n",
       " 'NM,Blue,82',\n",
       " 'UT,Yellow,26',\n",
       " 'AZ,Green,35',\n",
       " 'UT,Green,72',\n",
       " 'CA,Yellow,66',\n",
       " 'WY,Yellow,58',\n",
       " 'NV,Yellow,96',\n",
       " 'WY,Green,36',\n",
       " 'WA,Brown,35',\n",
       " 'CA,Green,39',\n",
       " 'CA,Red,71',\n",
       " 'OR,Brown,93',\n",
       " 'OR,Blue,74',\n",
       " 'UT,Green,42',\n",
       " 'NM,Yellow,34',\n",
       " 'NM,Red,22',\n",
       " 'WY,Green,48',\n",
       " 'WY,Yellow,59',\n",
       " 'CA,Blue,43',\n",
       " 'UT,Blue,21',\n",
       " 'WA,Brown,96',\n",
       " 'WA,Blue,62',\n",
       " 'CO,Red,22',\n",
       " 'NM,Blue,70',\n",
       " 'TX,Green,83',\n",
       " 'OR,Brown,65',\n",
       " 'NM,Red,34',\n",
       " 'TX,Brown,12',\n",
       " 'UT,Green,86',\n",
       " 'UT,Yellow,28',\n",
       " 'OR,Red,53',\n",
       " 'TX,Brown,37',\n",
       " 'WA,Blue,37',\n",
       " 'UT,Red,35',\n",
       " 'CO,Orange,72',\n",
       " 'AZ,Blue,19',\n",
       " 'UT,Blue,94',\n",
       " 'OR,Brown,61',\n",
       " 'UT,Orange,77',\n",
       " 'TX,Red,45',\n",
       " 'NV,Brown,72',\n",
       " 'NM,Blue,81',\n",
       " 'AZ,Yellow,39',\n",
       " 'OR,Yellow,28',\n",
       " 'WA,Green,40',\n",
       " 'UT,Orange,60',\n",
       " 'TX,Blue,41',\n",
       " 'TX,Green,93',\n",
       " 'CA,Orange,72',\n",
       " 'CO,Orange,99',\n",
       " 'NV,Blue,89',\n",
       " 'TX,Blue,76',\n",
       " 'AZ,Green,79',\n",
       " 'TX,Blue,59',\n",
       " 'NM,Green,20',\n",
       " 'CA,Yellow,32',\n",
       " 'OR,Blue,95',\n",
       " 'NM,Orange,96',\n",
       " 'NM,Red,57',\n",
       " 'UT,Blue,65',\n",
       " 'WY,Blue,35',\n",
       " 'WY,Blue,24',\n",
       " 'UT,Orange,58',\n",
       " 'TX,Orange,77',\n",
       " 'WA,Blue,14',\n",
       " 'CO,Blue,27',\n",
       " 'CA,Blue,23',\n",
       " 'WY,Brown,20',\n",
       " 'CO,Blue,17',\n",
       " 'WA,Yellow,14',\n",
       " 'CA,Green,61',\n",
       " 'CO,Brown,90',\n",
       " 'AZ,Yellow,76',\n",
       " 'WY,Red,85',\n",
       " 'CO,Blue,22',\n",
       " 'UT,Brown,50',\n",
       " 'WY,Orange,75',\n",
       " 'OR,Yellow,25',\n",
       " 'OR,Green,76',\n",
       " 'CA,Blue,99',\n",
       " 'CO,Green,27',\n",
       " 'NV,Orange,45',\n",
       " 'OR,Red,80',\n",
       " 'UT,Yellow,92',\n",
       " 'WA,Brown,16',\n",
       " 'AZ,Brown,39',\n",
       " 'NM,Blue,13',\n",
       " 'CO,Yellow,17',\n",
       " 'UT,Orange,55',\n",
       " 'OR,Red,49',\n",
       " 'AZ,Green,36',\n",
       " 'AZ,Yellow,37',\n",
       " 'CA,Red,34',\n",
       " 'WY,Blue,57',\n",
       " 'TX,Blue,60',\n",
       " 'UT,Yellow,99',\n",
       " 'WY,Green,23',\n",
       " 'CA,Green,53',\n",
       " 'AZ,Brown,43',\n",
       " 'TX,Orange,18',\n",
       " 'CO,Green,54',\n",
       " 'NV,Red,92',\n",
       " 'TX,Blue,91',\n",
       " 'AZ,Orange,77',\n",
       " 'WA,Brown,58',\n",
       " 'TX,Orange,73',\n",
       " 'WY,Blue,62',\n",
       " 'CA,Blue,89',\n",
       " 'AZ,Green,92',\n",
       " 'WY,Brown,67',\n",
       " 'AZ,Yellow,14',\n",
       " 'UT,Brown,56',\n",
       " 'TX,Orange,28',\n",
       " 'UT,Brown,19',\n",
       " 'WA,Blue,42',\n",
       " 'NM,Yellow,30',\n",
       " 'WY,Orange,81',\n",
       " 'CO,Brown,72',\n",
       " 'NM,Blue,21',\n",
       " 'CA,Blue,65',\n",
       " 'AZ,Blue,38',\n",
       " 'AZ,Orange,39',\n",
       " 'AZ,Brown,42',\n",
       " 'NV,Orange,21',\n",
       " 'CO,Brown,26',\n",
       " 'WY,Orange,15',\n",
       " 'CO,Red,67',\n",
       " 'UT,Yellow,34',\n",
       " 'AZ,Yellow,71',\n",
       " 'NV,Blue,12',\n",
       " 'AZ,Green,25',\n",
       " 'NM,Red,65',\n",
       " 'OR,Orange,20',\n",
       " 'NM,Red,14',\n",
       " 'CO,Orange,79',\n",
       " 'TX,Orange,99',\n",
       " 'AZ,Green,58',\n",
       " 'WA,Brown,12',\n",
       " 'UT,Brown,60',\n",
       " 'CO,Red,93',\n",
       " 'UT,Brown,72',\n",
       " 'AZ,Orange,88',\n",
       " 'CA,Yellow,34',\n",
       " 'WY,Yellow,32',\n",
       " 'NM,Green,99',\n",
       " 'OR,Blue,89',\n",
       " 'TX,Yellow,60',\n",
       " 'TX,Green,45',\n",
       " 'OR,Yellow,40',\n",
       " 'WA,Red,66',\n",
       " 'CO,Yellow,43',\n",
       " 'WA,Blue,47',\n",
       " 'WA,Green,83',\n",
       " 'WA,Orange,37',\n",
       " 'WY,Yellow,36',\n",
       " 'UT,Blue,19',\n",
       " 'NM,Orange,11',\n",
       " 'TX,Yellow,15',\n",
       " 'WA,Orange,41',\n",
       " 'CO,Red,90',\n",
       " 'TX,Yellow,52',\n",
       " 'NV,Red,72',\n",
       " 'NM,Yellow,52',\n",
       " 'WA,Green,37',\n",
       " 'OR,Yellow,82',\n",
       " 'CO,Green,31',\n",
       " 'NV,Yellow,99',\n",
       " 'WA,Brown,91',\n",
       " 'AZ,Orange,50',\n",
       " 'CA,Blue,42',\n",
       " 'TX,Yellow,15',\n",
       " 'WY,Blue,65',\n",
       " 'NM,Green,64',\n",
       " 'CO,Orange,29',\n",
       " 'WA,Orange,61',\n",
       " 'UT,Red,83',\n",
       " 'CO,Blue,73',\n",
       " 'WA,Blue,42',\n",
       " 'WA,Brown,59',\n",
       " 'OR,Brown,79',\n",
       " 'CO,Green,26',\n",
       " 'OR,Red,92',\n",
       " 'WY,Green,23',\n",
       " 'NV,Red,39',\n",
       " 'CA,Orange,70',\n",
       " 'UT,Orange,14',\n",
       " 'CA,Orange,10',\n",
       " 'NM,Green,82',\n",
       " 'WA,Blue,15',\n",
       " 'TX,Red,91',\n",
       " 'UT,Red,88',\n",
       " 'WY,Red,10',\n",
       " 'WA,Yellow,74',\n",
       " 'WA,Green,96',\n",
       " 'CO,Blue,47',\n",
       " 'NV,Blue,13',\n",
       " 'UT,Blue,52',\n",
       " 'CO,Orange,65',\n",
       " 'OR,Orange,33',\n",
       " 'CO,Yellow,77',\n",
       " 'CO,Orange,19',\n",
       " 'OR,Brown,89',\n",
       " 'CA,Red,83',\n",
       " 'NM,Brown,75',\n",
       " 'NV,Orange,38',\n",
       " 'WY,Green,95',\n",
       " 'AZ,Green,54',\n",
       " 'NM,Orange,22',\n",
       " 'TX,Orange,82',\n",
       " 'CO,Yellow,72',\n",
       " 'TX,Yellow,67',\n",
       " 'UT,Blue,19',\n",
       " 'OR,Red,55',\n",
       " 'AZ,Brown,69',\n",
       " 'TX,Blue,26',\n",
       " 'CA,Brown,34',\n",
       " 'CA,Orange,48',\n",
       " 'AZ,Orange,64',\n",
       " 'WY,Green,62',\n",
       " 'NV,Brown,41',\n",
       " 'WA,Green,31',\n",
       " 'CA,Red,57',\n",
       " 'WA,Brown,53',\n",
       " 'CA,Orange,71',\n",
       " 'NV,Brown,69',\n",
       " 'TX,Orange,25',\n",
       " 'NV,Red,59',\n",
       " 'TX,Orange,86',\n",
       " 'WA,Yellow,70',\n",
       " 'UT,Green,16',\n",
       " 'UT,Blue,87',\n",
       " 'UT,Brown,23',\n",
       " 'TX,Green,98',\n",
       " 'CA,Green,28',\n",
       " 'TX,Blue,86',\n",
       " 'WY,Green,68',\n",
       " 'NV,Brown,35',\n",
       " 'CO,Blue,13',\n",
       " 'CO,Orange,89',\n",
       " 'CA,Orange,66',\n",
       " 'WA,Yellow,84',\n",
       " 'OR,Green,64',\n",
       " 'OR,Red,45',\n",
       " 'UT,Green,65',\n",
       " 'WY,Orange,21',\n",
       " 'TX,Brown,18',\n",
       " 'UT,Orange,59',\n",
       " 'UT,Green,49',\n",
       " 'NV,Orange,98',\n",
       " 'CA,Green,48',\n",
       " 'CA,Yellow,25',\n",
       " 'CO,Red,44',\n",
       " 'UT,Yellow,85',\n",
       " 'NM,Brown,30',\n",
       " 'NM,Brown,89',\n",
       " 'OR,Brown,40',\n",
       " 'NM,Yellow,58',\n",
       " 'TX,Yellow,31',\n",
       " 'OR,Orange,33',\n",
       " 'NM,Green,24',\n",
       " 'NM,Orange,70',\n",
       " 'AZ,Brown,93',\n",
       " 'CA,Orange,96',\n",
       " 'NV,Brown,36',\n",
       " 'WY,Yellow,49',\n",
       " 'WA,Yellow,34',\n",
       " 'TX,Red,64',\n",
       " 'TX,Blue,99',\n",
       " 'CO,Green,34',\n",
       " 'CO,Blue,12',\n",
       " 'NM,Yellow,10',\n",
       " 'NM,Orange,76',\n",
       " 'NM,Red,57',\n",
       " 'CA,Red,61',\n",
       " 'CO,Yellow,82',\n",
       " 'UT,Blue,99',\n",
       " 'WY,Red,80',\n",
       " 'WA,Orange,51',\n",
       " 'TX,Orange,86',\n",
       " 'CO,Green,20',\n",
       " 'WA,Brown,10',\n",
       " 'WA,Yellow,40',\n",
       " 'AZ,Orange,22',\n",
       " 'NM,Green,61',\n",
       " 'CA,Blue,27',\n",
       " 'NM,Blue,23',\n",
       " 'UT,Green,35',\n",
       " 'UT,Orange,59',\n",
       " 'TX,Yellow,32',\n",
       " 'WA,Yellow,78',\n",
       " 'AZ,Brown,35',\n",
       " 'WA,Blue,22',\n",
       " 'OR,Orange,63',\n",
       " 'WA,Orange,92',\n",
       " 'WY,Green,78',\n",
       " 'CA,Orange,35',\n",
       " 'AZ,Red,92',\n",
       " 'CA,Red,14',\n",
       " 'WA,Red,52',\n",
       " 'UT,Blue,22',\n",
       " 'CA,Yellow,57',\n",
       " 'AZ,Yellow,30',\n",
       " 'CA,Green,77',\n",
       " 'WY,Yellow,67',\n",
       " 'NV,Yellow,95',\n",
       " 'AZ,Brown,26',\n",
       " 'AZ,Red,58',\n",
       " 'WY,Brown,14',\n",
       " 'TX,Orange,52',\n",
       " 'CO,Orange,95',\n",
       " 'NV,Green,91',\n",
       " 'OR,Brown,86',\n",
       " 'WY,Red,19',\n",
       " 'TX,Brown,78',\n",
       " 'WY,Orange,87',\n",
       " 'CA,Red,91',\n",
       " 'NV,Brown,50',\n",
       " 'CO,Brown,28',\n",
       " 'AZ,Orange,50',\n",
       " 'UT,Brown,41',\n",
       " 'CO,Yellow,66',\n",
       " 'UT,Brown,76',\n",
       " 'OR,Red,30',\n",
       " 'NM,Brown,30',\n",
       " 'UT,Orange,21',\n",
       " 'WY,Blue,48',\n",
       " 'AZ,Green,49',\n",
       " 'TX,Brown,32',\n",
       " 'NV,Blue,71',\n",
       " 'NV,Yellow,83',\n",
       " 'OR,Yellow,85',\n",
       " 'AZ,Green,35',\n",
       " 'WY,Red,81',\n",
       " 'WY,Orange,76',\n",
       " 'UT,Green,42',\n",
       " 'WA,Red,17',\n",
       " 'AZ,Brown,81',\n",
       " 'TX,Blue,90',\n",
       " 'AZ,Red,57',\n",
       " 'WA,Green,32',\n",
       " 'NM,Yellow,66',\n",
       " 'UT,Orange,43',\n",
       " 'TX,Yellow,14',\n",
       " 'WA,Orange,61',\n",
       " 'NV,Yellow,62',\n",
       " 'WA,Green,16',\n",
       " 'OR,Yellow,33',\n",
       " 'TX,Orange,66',\n",
       " 'UT,Orange,40',\n",
       " 'UT,Red,100',\n",
       " 'TX,Orange,28',\n",
       " 'NV,Orange,26',\n",
       " 'WA,Red,33',\n",
       " 'AZ,Blue,85',\n",
       " 'NV,Red,100',\n",
       " 'NV,Brown,64',\n",
       " 'WA,Yellow,71',\n",
       " 'NV,Green,94',\n",
       " 'WA,Brown,46',\n",
       " 'UT,Yellow,27',\n",
       " 'OR,Green,90',\n",
       " 'WA,Yellow,41',\n",
       " 'CA,Green,38',\n",
       " 'WA,Orange,93',\n",
       " 'OR,Yellow,82',\n",
       " 'WY,Red,16',\n",
       " 'WA,Brown,32',\n",
       " 'WY,Blue,38',\n",
       " 'TX,Yellow,96',\n",
       " 'WY,Blue,58',\n",
       " 'WA,Green,37',\n",
       " 'WA,Yellow,35',\n",
       " 'NV,Yellow,66',\n",
       " 'OR,Blue,31',\n",
       " 'AZ,Green,15',\n",
       " 'NV,Blue,34',\n",
       " 'WY,Green,24',\n",
       " 'NM,Brown,16',\n",
       " 'NV,Orange,50',\n",
       " 'WY,Blue,28',\n",
       " 'NM,Blue,29',\n",
       " 'TX,Yellow,37',\n",
       " 'CO,Brown,30',\n",
       " 'OR,Orange,91',\n",
       " 'TX,Yellow,35',\n",
       " 'NM,Orange,20',\n",
       " 'CA,Blue,19',\n",
       " 'CO,Red,64',\n",
       " 'CA,Brown,72',\n",
       " 'TX,Brown,67',\n",
       " 'WA,Green,64',\n",
       " 'WY,Blue,24',\n",
       " 'OR,Brown,84',\n",
       " 'WA,Brown,78',\n",
       " 'AZ,Green,61',\n",
       " 'TX,Yellow,51',\n",
       " 'WY,Yellow,23',\n",
       " 'CO,Red,87',\n",
       " 'OR,Blue,78',\n",
       " 'UT,Brown,99',\n",
       " 'CO,Red,24',\n",
       " 'NM,Red,43',\n",
       " 'NM,Green,66',\n",
       " 'UT,Yellow,82',\n",
       " 'WA,Red,28',\n",
       " 'WY,Brown,28',\n",
       " 'AZ,Red,65',\n",
       " 'NV,Yellow,58',\n",
       " 'UT,Brown,84',\n",
       " 'CO,Yellow,11',\n",
       " 'NM,Yellow,29',\n",
       " 'OR,Blue,17',\n",
       " 'WA,Yellow,56',\n",
       " 'CO,Yellow,43',\n",
       " 'CO,Orange,43',\n",
       " 'UT,Orange,32',\n",
       " 'OR,Brown,86',\n",
       " 'OR,Green,94',\n",
       " 'TX,Green,94',\n",
       " 'NV,Orange,54',\n",
       " 'AZ,Red,99',\n",
       " 'TX,Red,54',\n",
       " 'CA,Green,57',\n",
       " 'UT,Brown,88',\n",
       " 'AZ,Red,59',\n",
       " 'UT,Red,93',\n",
       " 'CA,Green,61',\n",
       " 'NV,Yellow,60',\n",
       " 'OR,Red,98',\n",
       " 'WY,Red,37',\n",
       " 'WA,Blue,42',\n",
       " 'WY,Yellow,89',\n",
       " 'CA,Green,98',\n",
       " 'TX,Orange,36',\n",
       " 'UT,Brown,68',\n",
       " 'WA,Red,93',\n",
       " 'NV,Orange,84',\n",
       " 'NV,Green,93',\n",
       " 'OR,Yellow,52',\n",
       " 'OR,Red,87',\n",
       " 'UT,Green,50',\n",
       " 'NM,Red,64',\n",
       " 'TX,Blue,59',\n",
       " 'AZ,Brown,81',\n",
       " 'WA,Brown,96',\n",
       " 'CO,Orange,80',\n",
       " 'NM,Brown,25',\n",
       " 'NV,Blue,57',\n",
       " 'CA,Blue,88',\n",
       " 'AZ,Blue,69',\n",
       " 'UT,Yellow,54',\n",
       " 'UT,Red,80',\n",
       " 'CA,Yellow,92',\n",
       " 'NM,Blue,36',\n",
       " 'WA,Green,54',\n",
       " 'WA,Blue,67',\n",
       " 'AZ,Brown,39',\n",
       " 'NV,Green,32',\n",
       " 'NV,Green,27',\n",
       " 'UT,Yellow,93',\n",
       " 'CA,Orange,18',\n",
       " 'WA,Yellow,37',\n",
       " 'TX,Blue,11',\n",
       " 'CA,Yellow,69',\n",
       " 'CO,Orange,43',\n",
       " 'OR,Brown,88',\n",
       " 'NM,Brown,24',\n",
       " 'CA,Red,39',\n",
       " 'CO,Yellow,16',\n",
       " 'WY,Orange,49',\n",
       " 'OR,Red,73',\n",
       " 'UT,Blue,38',\n",
       " 'TX,Green,87',\n",
       " 'AZ,Orange,89',\n",
       " 'NM,Green,88',\n",
       " 'WY,Brown,25',\n",
       " 'WY,Red,24',\n",
       " 'NV,Yellow,61',\n",
       " 'WY,Blue,43',\n",
       " 'UT,Orange,22',\n",
       " 'WA,Brown,97',\n",
       " 'UT,Red,57',\n",
       " 'WY,Red,95',\n",
       " 'AZ,Blue,63',\n",
       " 'WY,Red,17',\n",
       " 'CO,Brown,99',\n",
       " 'OR,Orange,43',\n",
       " 'CO,Blue,51',\n",
       " 'TX,Blue,41',\n",
       " 'NM,Red,15',\n",
       " 'WA,Blue,16',\n",
       " 'CO,Green,46',\n",
       " 'WA,Red,13',\n",
       " 'CA,Blue,81',\n",
       " 'NM,Green,84',\n",
       " 'AZ,Blue,88',\n",
       " 'UT,Yellow,100',\n",
       " 'UT,Yellow,57',\n",
       " 'WY,Brown,34',\n",
       " 'AZ,Brown,25',\n",
       " 'WA,Orange,59',\n",
       " 'OR,Orange,74',\n",
       " 'CO,Orange,24',\n",
       " 'CO,Yellow,69',\n",
       " 'CO,Blue,43',\n",
       " 'TX,Green,36',\n",
       " 'NV,Blue,62',\n",
       " 'NV,Brown,29',\n",
       " 'AZ,Yellow,98',\n",
       " 'WA,Brown,10',\n",
       " 'WY,Red,36',\n",
       " 'NV,Green,36',\n",
       " 'CA,Red,12',\n",
       " 'CO,Blue,44',\n",
       " 'UT,Orange,89',\n",
       " 'NV,Red,24',\n",
       " 'WA,Yellow,95',\n",
       " 'NM,Brown,86',\n",
       " 'OR,Brown,29',\n",
       " 'TX,Orange,41',\n",
       " 'WA,Orange,14',\n",
       " 'CO,Brown,87',\n",
       " 'CO,Orange,96',\n",
       " 'WA,Yellow,91',\n",
       " 'AZ,Green,24',\n",
       " 'UT,Green,13',\n",
       " 'NM,Green,13',\n",
       " 'NM,Brown,58',\n",
       " 'OR,Orange,18',\n",
       " 'WA,Yellow,83',\n",
       " 'UT,Brown,82',\n",
       " 'WA,Brown,59',\n",
       " 'WY,Blue,58',\n",
       " 'TX,Yellow,98',\n",
       " 'WY,Orange,56',\n",
       " 'TX,Yellow,79',\n",
       " 'CO,Blue,99',\n",
       " 'CO,Brown,62',\n",
       " 'WA,Orange,92',\n",
       " 'CA,Brown,16',\n",
       " 'UT,Blue,34',\n",
       " 'NM,Red,88',\n",
       " 'NM,Yellow,95',\n",
       " 'NM,Blue,76',\n",
       " 'WY,Red,46',\n",
       " 'WA,Red,89',\n",
       " 'WY,Brown,78',\n",
       " 'TX,Yellow,59',\n",
       " 'CO,Yellow,21',\n",
       " 'CO,Brown,85',\n",
       " 'CO,Orange,15',\n",
       " 'AZ,Orange,85',\n",
       " 'AZ,Yellow,85',\n",
       " 'NM,Green,68',\n",
       " 'WY,Blue,50',\n",
       " 'UT,Yellow,93',\n",
       " 'TX,Brown,88',\n",
       " 'NV,Brown,10',\n",
       " 'UT,Yellow,37',\n",
       " 'NM,Green,54',\n",
       " 'NV,Red,68',\n",
       " 'AZ,Orange,61',\n",
       " 'NM,Yellow,73',\n",
       " 'NV,Red,98',\n",
       " 'TX,Red,98',\n",
       " 'CA,Orange,47',\n",
       " 'NV,Red,18',\n",
       " 'WY,Brown,15',\n",
       " 'TX,Yellow,89',\n",
       " 'TX,Brown,27',\n",
       " 'TX,Red,10',\n",
       " 'NM,Yellow,63',\n",
       " 'WA,Green,70',\n",
       " 'TX,Yellow,86',\n",
       " 'WA,Brown,55',\n",
       " 'NM,Yellow,48',\n",
       " 'CA,Red,67',\n",
       " 'TX,Orange,35',\n",
       " 'AZ,Blue,85',\n",
       " 'AZ,Green,44',\n",
       " 'WA,Green,99',\n",
       " 'WY,Blue,90',\n",
       " 'UT,Brown,66',\n",
       " 'TX,Brown,69',\n",
       " 'TX,Orange,47',\n",
       " 'AZ,Red,75',\n",
       " 'OR,Blue,59',\n",
       " 'WA,Orange,55',\n",
       " 'WA,Orange,93',\n",
       " 'WA,Green,20',\n",
       " 'WY,Brown,76',\n",
       " 'CO,Yellow,33',\n",
       " 'NM,Blue,95',\n",
       " 'TX,Green,59',\n",
       " 'WA,Brown,21',\n",
       " 'AZ,Yellow,19',\n",
       " 'UT,Brown,18',\n",
       " 'UT,Brown,82',\n",
       " 'NV,Blue,97',\n",
       " 'NV,Yellow,96',\n",
       " 'NV,Green,41',\n",
       " 'UT,Red,16',\n",
       " 'CA,Yellow,71',\n",
       " 'NV,Blue,18',\n",
       " 'TX,Green,16',\n",
       " 'CA,Red,22',\n",
       " 'CA,Brown,96',\n",
       " 'CO,Blue,26',\n",
       " 'CA,Red,28',\n",
       " 'TX,Brown,94',\n",
       " 'AZ,Green,54',\n",
       " 'TX,Green,14',\n",
       " 'NM,Red,58',\n",
       " 'WA,Red,49',\n",
       " 'AZ,Yellow,83',\n",
       " 'NV,Blue,58',\n",
       " 'TX,Blue,94',\n",
       " 'WY,Yellow,100',\n",
       " 'TX,Brown,39',\n",
       " 'UT,Green,19',\n",
       " 'NV,Orange,17',\n",
       " 'NM,Brown,59',\n",
       " 'CO,Green,86',\n",
       " 'AZ,Brown,68',\n",
       " 'AZ,Brown,29',\n",
       " 'NM,Red,57',\n",
       " 'CO,Brown,15',\n",
       " 'AZ,Orange,45',\n",
       " 'WA,Blue,96',\n",
       " 'OR,Brown,48',\n",
       " 'UT,Brown,59',\n",
       " 'WY,Orange,84',\n",
       " 'WA,Yellow,45',\n",
       " 'WY,Green,52',\n",
       " 'UT,Red,90',\n",
       " 'CO,Red,22',\n",
       " 'TX,Brown,92',\n",
       " 'WA,Yellow,92',\n",
       " 'UT,Yellow,53',\n",
       " 'UT,Orange,82',\n",
       " 'UT,Red,91',\n",
       " 'NM,Green,27',\n",
       " 'NV,Green,96',\n",
       " 'WA,Red,32',\n",
       " 'CA,Brown,90',\n",
       " 'WY,Blue,18',\n",
       " 'NV,Orange,86',\n",
       " 'NV,Red,34',\n",
       " 'NV,Brown,30',\n",
       " 'WY,Green,57',\n",
       " 'UT,Red,84',\n",
       " 'NM,Green,45',\n",
       " 'UT,Yellow,31',\n",
       " 'UT,Yellow,80',\n",
       " 'OR,Red,79',\n",
       " 'UT,Brown,15',\n",
       " 'NV,Orange,51',\n",
       " 'CO,Brown,73',\n",
       " 'UT,Yellow,67',\n",
       " 'WA,Brown,88',\n",
       " 'CA,Yellow,60',\n",
       " 'TX,Orange,34',\n",
       " 'WA,Red,92',\n",
       " 'WA,Brown,68',\n",
       " 'NV,Orange,18',\n",
       " 'WY,Brown,60',\n",
       " 'NV,Red,52',\n",
       " 'TX,Green,45',\n",
       " 'WA,Red,82',\n",
       " 'WA,Green,29',\n",
       " ...]"
      ]
     },
     "execution_count": 50,
     "metadata": {},
     "output_type": "execute_result"
    }
   ],
   "source": [
    "lines.collect()\n"
   ]
  },
  {
   "cell_type": "code",
   "execution_count": 56,
   "id": "259f97d4-4b32-484c-984b-e2d0cb4f259d",
   "metadata": {},
   "outputs": [],
   "source": [
    "import io\n",
    "from pyspark import SparkContext, SparkConf"
   ]
  },
  {
   "cell_type": "code",
   "execution_count": 57,
   "id": "d0286c43-02ea-4236-839c-4888f4d1b1a4",
   "metadata": {},
   "outputs": [],
   "source": [
    "header = lines.first()\n",
    "data_rdd = lines.filter(lambda line: line != header)\n",
    "\n",
    "kv_rdd = data_rdd.map(lambda line: line.split(',')).map(lambda parts: (parts[1], int(parts[2])))"
   ]
  },
  {
   "cell_type": "code",
   "execution_count": 58,
   "id": "04832e85-85a9-41a9-98f9-78fe1c84d7aa",
   "metadata": {},
   "outputs": [],
   "source": [
    "stats_rdd = kv_rdd.aggregateByKey(\n",
    "    (0, 0, float('inf'), float('-inf')),  # zeroValue\n",
    "    lambda acc, value: (acc[0] + value, acc[1] + 1, min(acc[2], value), max(acc[3], value)), # seqOp\n",
    "    lambda acc1, acc2: (acc1[0] + acc2[0], acc1[1] + acc2[1], min(acc1[2], acc2[2]), max(acc1[3], acc2[3])) # combOp\n",
    ")"
   ]
  },
  {
   "cell_type": "code",
   "execution_count": 62,
   "id": "02afb547-2624-4edc-9d3e-b97f8a59221f",
   "metadata": {},
   "outputs": [],
   "source": [
    "# `mapValues`를 사용하여 합계와 개수로 평균을 계산\n",
    "final_results = stats_rdd.mapValues(lambda acc: {\n",
    "    'count': acc[1],\n",
    "    'sum': acc[0],\n",
    "\n",
    "}).collect()"
   ]
  },
  {
   "cell_type": "code",
   "execution_count": 63,
   "id": "36b02118-6e04-4747-91a5-b17fb2c52ce7",
   "metadata": {
    "scrolled": true
   },
   "outputs": [
    {
     "name": "stdout",
     "output_type": "stream",
     "text": [
      "--- 색깔별 Count 통계 요약 ---\n",
      "\n",
      "색깔: Red\n",
      "  총 개수: 16619\n",
      "  합계: 916864\n",
      "색깔: Blue\n",
      "  총 개수: 16449\n",
      "  합계: 902516\n",
      "색깔: Yellow\n",
      "  총 개수: 16796\n",
      "  합계: 923009\n",
      "색깔: Green\n",
      "  총 개수: 16928\n",
      "  합계: 926150\n",
      "색깔: Brown\n",
      "  총 개수: 16510\n",
      "  합계: 915703\n",
      "색깔: Orange\n",
      "  총 개수: 16697\n",
      "  합계: 915793\n"
     ]
    }
   ],
   "source": [
    "print(\"--- 색깔별 Count 통계 요약 ---\\n\")\n",
    "for color, stats in final_results:\n",
    "    print(f\"색깔: {color}\")\n",
    "    print(f\"  총 개수: {stats['count']}\")\n",
    "    print(f\"  합계: {stats['sum']}\")\n"
   ]
  },
  {
   "cell_type": "code",
   "execution_count": 65,
   "id": "410f6d66-6a2a-4ac5-b035-02bca4b1e298",
   "metadata": {},
   "outputs": [
    {
     "name": "stdout",
     "output_type": "stream",
     "text": [
      "--- 주별 색깔별 Count 통계 요약 ---\n",
      "\n",
      "주: TX\n",
      "  - Blue: 88466개\n",
      "  - Brown: 90736개\n",
      "  - Green: 95753개\n",
      "  - Orange: 92315개\n",
      "  - Red: 95404개\n",
      "  - Yellow: 93819개\n",
      "\n",
      "\n",
      "주: NV\n",
      "  - Blue: 90003개\n",
      "  - Brown: 92478개\n",
      "  - Green: 91331개\n",
      "  - Orange: 93929개\n",
      "  - Red: 89346개\n",
      "  - Yellow: 91390개\n",
      "\n",
      "\n",
      "주: CO\n",
      "  - Blue: 93412개\n",
      "  - Brown: 93692개\n",
      "  - Green: 93724개\n",
      "  - Orange: 90971개\n",
      "  - Red: 89465개\n",
      "  - Yellow: 95038개\n",
      "\n",
      "\n",
      "주: OR\n",
      "  - Blue: 90526개\n",
      "  - Brown: 89136개\n",
      "  - Green: 89578개\n",
      "  - Orange: 94514개\n",
      "  - Red: 90286개\n",
      "  - Yellow: 88129개\n",
      "\n",
      "\n",
      "주: WA\n",
      "  - Blue: 89886개\n",
      "  - Brown: 93082개\n",
      "  - Green: 96486개\n",
      "  - Orange: 91521개\n",
      "  - Red: 93332개\n",
      "  - Yellow: 92920개\n",
      "\n",
      "\n",
      "주: WY\n",
      "  - Blue: 91002개\n",
      "  - Brown: 86110개\n",
      "  - Green: 94339개\n",
      "  - Orange: 87956개\n",
      "  - Red: 91768개\n",
      "  - Yellow: 87800개\n",
      "\n",
      "\n",
      "주: CA\n",
      "  - Blue: 89123개\n",
      "  - Brown: 95762개\n",
      "  - Green: 93505개\n",
      "  - Orange: 90311개\n",
      "  - Red: 91527개\n",
      "  - Yellow: 100956개\n",
      "\n",
      "\n",
      "주: AZ\n",
      "  - Blue: 89971개\n",
      "  - Brown: 92287개\n",
      "  - Green: 91882개\n",
      "  - Orange: 91684개\n",
      "  - Red: 90042개\n",
      "  - Yellow: 90946개\n",
      "\n",
      "\n",
      "주: NM\n",
      "  - Blue: 90150개\n",
      "  - Brown: 93447개\n",
      "  - Green: 91160개\n",
      "  - Orange: 91251개\n",
      "  - Red: 94699개\n",
      "  - Yellow: 92747개\n",
      "\n",
      "\n",
      "주: UT\n",
      "  - Blue: 89977개\n",
      "  - Brown: 88973개\n",
      "  - Green: 88392개\n",
      "  - Orange: 91341개\n",
      "  - Red: 90995개\n",
      "  - Yellow: 89264개\n",
      "\n",
      "\n"
     ]
    }
   ],
   "source": [
    "# 2. 데이터를 ((주, 색깔), 개수) 형태의 키-값 쌍으로 파싱\n",
    "# 각 라인에서 주(parts[0])와 색깔(parts[1])을 복합 키로 사용하고, 개수(parts[2])를 값으로 사용합니다.\n",
    "kv_rdd_by_color_state = data_rdd.map(lambda line: line.split(',')).map(lambda parts: ((parts[0], parts[1]), int(parts[2])))\n",
    "\n",
    "# 동일한 키(주, 색깔)를 가진 값들을 모두 합산합니다.\n",
    "counts_by_color_state = kv_rdd_by_color_state.reduceByKey(lambda a, b: a + b)\n",
    "\n",
    "# RDD를 (주, (색깔, 개수)) 형태로 변환한 후 주를 기준으로 그룹화합니다.\n",
    "grouped_by_state = counts_by_color_state.map(lambda x: (x[0][0], (x[0][1], x[1]))).groupByKey()\n",
    "\n",
    "# 결과를 보기 좋게 딕셔너리 형태로 변환하고 출력합니다.\n",
    "final_results = grouped_by_state.mapValues(lambda color_counts: sorted(list(color_counts))).collect()\n",
    "\n",
    "print(\"--- 주별 색깔별 Count 통계 요약 ---\\n\")\n",
    "for state, color_counts in final_results:\n",
    "    print(f\"주: {state}\")\n",
    "    for color, count in color_counts:\n",
    "        print(f\"  - {color}: {count}개\")\n",
    "    print(\"\\n\")\n",
    "\n",
    "# SparkContext 종료"
   ]
  },
  {
   "cell_type": "code",
   "execution_count": null,
   "id": "3c81d0f9-b63a-4c5a-8b61-2dc092c25c72",
   "metadata": {},
   "outputs": [],
   "source": [
    "spark.stop()"
   ]
  },
  {
   "cell_type": "code",
   "execution_count": 126,
   "id": "a2a76b5b-0bc6-480a-bbbf-434fe3c992c7",
   "metadata": {},
   "outputs": [
    {
     "name": "stdout",
     "output_type": "stream",
     "text": [
      "Setting default log level to \"WARN\".\n",
      "To adjust logging level use sc.setLogLevel(newLevel). For SparkR, use setLogLevel(newLevel).\n",
      "25/08/04 01:59:36 WARN NativeCodeLoader: Unable to load native-hadoop library for your platform... using builtin-java classes where applicable\n",
      "25/08/04 01:59:36 WARN Utils: Service 'SparkUI' could not bind on port 4040. Attempting port 4041.\n",
      "결과 미리보기----\n",
      "(('TX', 'Red'), 95404)\n",
      "(('NV', 'Blue'), 90003)\n",
      "(('CO', 'Blue'), 93412)\n",
      "(('OR', 'Blue'), 90526)\n",
      "(('WA', 'Yellow'), 92920)\n",
      "총 데이터 라인 수 : 60\n"
     ]
    }
   ],
   "source": [
    "!python mnms_result.py"
   ]
  },
  {
   "cell_type": "code",
   "execution_count": null,
   "id": "8a19e1db-4cd1-4e99-bed9-273ec660b1b3",
   "metadata": {},
   "outputs": [],
   "source": []
  }
 ],
 "metadata": {
  "kernelspec": {
   "display_name": "Python 3 (ipykernel)",
   "language": "python",
   "name": "python3"
  },
  "language_info": {
   "codemirror_mode": {
    "name": "ipython",
    "version": 3
   },
   "file_extension": ".py",
   "mimetype": "text/x-python",
   "name": "python",
   "nbconvert_exporter": "python",
   "pygments_lexer": "ipython3",
   "version": "3.11.6"
  }
 },
 "nbformat": 4,
 "nbformat_minor": 5
}
