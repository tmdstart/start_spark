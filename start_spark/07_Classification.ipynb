{
 "cells": [
  {
   "cell_type": "code",
   "execution_count": 1,
   "id": "83ddbb15-dc6c-4cf4-85cc-6ac52de61972",
   "metadata": {},
   "outputs": [],
   "source": [
    "from pyspark.sql import SparkSession\n",
    "from pyspark.ml.classification import LogisticRegression\n",
    "from pyspark.ml.evaluation import BinaryClassificationEvaluator\n",
    "\n",
    "spark = SparkSession.builder.appName(\"classificationExample1\").getOrCreate()"
   ]
  },
  {
   "cell_type": "code",
   "execution_count": 4,
   "id": "e61d0601-d1db-4890-9913-31f663d53496",
   "metadata": {},
   "outputs": [],
   "source": [
    "data = spark.read.csv(\"/home/jovyan/work/start_spark/start_spark/running_spark_data/titanic.csv\", header=True, inferSchema=True)"
   ]
  },
  {
   "cell_type": "code",
   "execution_count": 7,
   "id": "eb22abcf-6a3b-471c-8294-69b94bc1fb4c",
   "metadata": {
    "scrolled": true
   },
   "outputs": [
    {
     "name": "stdout",
     "output_type": "stream",
     "text": [
      "+-----------+--------+------+--------------------+------+----+-----+-----+----------------+--------+-----------+--------+\n",
      "|PassengerId|Survived|Pclass|                Name|Gender| Age|SibSp|Parch|          Ticket|    Fare|      Cabin|Embarked|\n",
      "+-----------+--------+------+--------------------+------+----+-----+-----+----------------+--------+-----------+--------+\n",
      "|          1|       0|     3|Braund, Mr. Owen ...|  male|22.0|    1|    0|       A/5 21171|    7.25|       NULL|       S|\n",
      "|          2|       1|     1|Cumings, Mrs. Joh...|female|38.0|    1|    0|        PC 17599| 71.2833|        C85|       C|\n",
      "|          3|       1|     3|Heikkinen, Miss. ...|female|26.0|    0|    0|STON/O2. 3101282|   7.925|       NULL|       S|\n",
      "|          4|       1|     1|Futrelle, Mrs. Ja...|female|35.0|    1|    0|          113803|    53.1|       C123|       S|\n",
      "|          5|       0|     3|Allen, Mr. Willia...|  male|35.0|    0|    0|          373450|    8.05|       NULL|       S|\n",
      "|          6|       0|     3|    Moran, Mr. James|  male|NULL|    0|    0|          330877|  8.4583|       NULL|       Q|\n",
      "|          7|       0|     1|McCarthy, Mr. Tim...|  male|54.0|    0|    0|           17463| 51.8625|        E46|       S|\n",
      "|          8|       0|     3|Palsson, Master. ...|  male| 2.0|    3|    1|          349909|  21.075|       NULL|       S|\n",
      "|          9|       1|     3|Johnson, Mrs. Osc...|female|27.0|    0|    2|          347742| 11.1333|       NULL|       S|\n",
      "|         10|       1|     2|Nasser, Mrs. Nich...|female|14.0|    1|    0|          237736| 30.0708|       NULL|       C|\n",
      "|         11|       1|     3|Sandstrom, Miss. ...|female| 4.0|    1|    1|         PP 9549|    16.7|         G6|       S|\n",
      "|         12|       1|     1|Bonnell, Miss. El...|female|58.0|    0|    0|          113783|   26.55|       C103|       S|\n",
      "|         13|       0|     3|Saundercock, Mr. ...|  male|20.0|    0|    0|       A/5. 2151|    8.05|       NULL|       S|\n",
      "|         14|       0|     3|Andersson, Mr. An...|  male|39.0|    1|    5|          347082|  31.275|       NULL|       S|\n",
      "|         15|       0|     3|Vestrom, Miss. Hu...|female|14.0|    0|    0|          350406|  7.8542|       NULL|       S|\n",
      "|         16|       1|     2|Hewlett, Mrs. (Ma...|female|55.0|    0|    0|          248706|    16.0|       NULL|       S|\n",
      "|         17|       0|     3|Rice, Master. Eugene|  male| 2.0|    4|    1|          382652|  29.125|       NULL|       Q|\n",
      "|         18|       1|     2|Williams, Mr. Cha...|  male|NULL|    0|    0|          244373|    13.0|       NULL|       S|\n",
      "|         19|       0|     3|Vander Planke, Mr...|female|31.0|    1|    0|          345763|    18.0|       NULL|       S|\n",
      "|         20|       1|     3|Masselmani, Mrs. ...|female|NULL|    0|    0|            2649|   7.225|       NULL|       C|\n",
      "|         21|       0|     2|Fynney, Mr. Joseph J|  male|35.0|    0|    0|          239865|    26.0|       NULL|       S|\n",
      "|         22|       1|     2|Beesley, Mr. Lawr...|  male|34.0|    0|    0|          248698|    13.0|        D56|       S|\n",
      "|         23|       1|     3|\"McGowan, Miss. A...|female|15.0|    0|    0|          330923|  8.0292|       NULL|       Q|\n",
      "|         24|       1|     1|Sloper, Mr. Willi...|  male|28.0|    0|    0|          113788|    35.5|         A6|       S|\n",
      "|         25|       0|     3|Palsson, Miss. To...|female| 8.0|    3|    1|          349909|  21.075|       NULL|       S|\n",
      "|         26|       1|     3|Asplund, Mrs. Car...|female|38.0|    1|    5|          347077| 31.3875|       NULL|       S|\n",
      "|         27|       0|     3|Emir, Mr. Farred ...|  male|NULL|    0|    0|            2631|   7.225|       NULL|       C|\n",
      "|         28|       0|     1|Fortune, Mr. Char...|  male|19.0|    3|    2|           19950|   263.0|C23 C25 C27|       S|\n",
      "|         29|       1|     3|\"O'Dwyer, Miss. E...|female|NULL|    0|    0|          330959|  7.8792|       NULL|       Q|\n",
      "|         30|       0|     3| Todoroff, Mr. Lalio|  male|NULL|    0|    0|          349216|  7.8958|       NULL|       S|\n",
      "|         31|       0|     1|Uruchurtu, Don. M...|  male|40.0|    0|    0|        PC 17601| 27.7208|       NULL|       C|\n",
      "|         32|       1|     1|Spencer, Mrs. Wil...|female|NULL|    1|    0|        PC 17569|146.5208|        B78|       C|\n",
      "|         33|       1|     3|Glynn, Miss. Mary...|female|NULL|    0|    0|          335677|    7.75|       NULL|       Q|\n",
      "|         34|       0|     2|Wheadon, Mr. Edwa...|  male|66.0|    0|    0|      C.A. 24579|    10.5|       NULL|       S|\n",
      "|         35|       0|     1|Meyer, Mr. Edgar ...|  male|28.0|    1|    0|        PC 17604| 82.1708|       NULL|       C|\n",
      "|         36|       0|     1|Holverson, Mr. Al...|  male|42.0|    1|    0|          113789|    52.0|       NULL|       S|\n",
      "|         37|       1|     3|    Mamee, Mr. Hanna|  male|NULL|    0|    0|            2677|  7.2292|       NULL|       C|\n",
      "|         38|       0|     3|Cann, Mr. Ernest ...|  male|21.0|    0|    0|      A./5. 2152|    8.05|       NULL|       S|\n",
      "|         39|       0|     3|Vander Planke, Mi...|female|18.0|    2|    0|          345764|    18.0|       NULL|       S|\n",
      "|         40|       1|     3|Nicola-Yarred, Mi...|female|14.0|    1|    0|            2651| 11.2417|       NULL|       C|\n",
      "|         41|       0|     3|Ahlin, Mrs. Johan...|female|40.0|    1|    0|            7546|   9.475|       NULL|       S|\n",
      "|         42|       0|     2|Turpin, Mrs. Will...|female|27.0|    1|    0|           11668|    21.0|       NULL|       S|\n",
      "|         43|       0|     3| Kraeff, Mr. Theodor|  male|NULL|    0|    0|          349253|  7.8958|       NULL|       C|\n",
      "|         44|       1|     2|Laroche, Miss. Si...|female| 3.0|    1|    2|   SC/Paris 2123| 41.5792|       NULL|       C|\n",
      "|         45|       1|     3|Devaney, Miss. Ma...|female|19.0|    0|    0|          330958|  7.8792|       NULL|       Q|\n",
      "|         46|       0|     3|Rogers, Mr. Willi...|  male|NULL|    0|    0| S.C./A.4. 23567|    8.05|       NULL|       S|\n",
      "|         47|       0|     3|   Lennon, Mr. Denis|  male|NULL|    1|    0|          370371|    15.5|       NULL|       Q|\n",
      "|         48|       1|     3|O'Driscoll, Miss....|female|NULL|    0|    0|           14311|    7.75|       NULL|       Q|\n",
      "|         49|       0|     3| Samaan, Mr. Youssef|  male|NULL|    2|    0|            2662| 21.6792|       NULL|       C|\n",
      "|         50|       0|     3|Arnold-Franchi, M...|female|18.0|    1|    0|          349237|    17.8|       NULL|       S|\n",
      "|         51|       0|     3|Panula, Master. J...|  male| 7.0|    4|    1|         3101295| 39.6875|       NULL|       S|\n",
      "|         52|       0|     3|Nosworthy, Mr. Ri...|  male|21.0|    0|    0|      A/4. 39886|     7.8|       NULL|       S|\n",
      "|         53|       1|     1|Harper, Mrs. Henr...|female|49.0|    1|    0|        PC 17572| 76.7292|        D33|       C|\n",
      "|         54|       1|     2|Faunthorpe, Mrs. ...|female|29.0|    1|    0|            2926|    26.0|       NULL|       S|\n",
      "|         55|       0|     1|Ostby, Mr. Engelh...|  male|65.0|    0|    1|          113509| 61.9792|        B30|       C|\n",
      "|         56|       1|     1|   Woolner, Mr. Hugh|  male|NULL|    0|    0|           19947|    35.5|        C52|       S|\n",
      "|         57|       1|     2|   Rugg, Miss. Emily|female|21.0|    0|    0|      C.A. 31026|    10.5|       NULL|       S|\n",
      "|         58|       0|     3| Novel, Mr. Mansouer|  male|28.5|    0|    0|            2697|  7.2292|       NULL|       C|\n",
      "|         59|       1|     2|West, Miss. Const...|female| 5.0|    1|    2|      C.A. 34651|   27.75|       NULL|       S|\n",
      "|         60|       0|     3|Goodwin, Master. ...|  male|11.0|    5|    2|         CA 2144|    46.9|       NULL|       S|\n",
      "|         61|       0|     3|Sirayanian, Mr. O...|  male|22.0|    0|    0|            2669|  7.2292|       NULL|       C|\n",
      "|         62|       1|     1| Icard, Miss. Amelie|female|38.0|    0|    0|          113572|    80.0|        B28|    NULL|\n",
      "|         63|       0|     1|Harris, Mr. Henry...|  male|45.0|    1|    0|           36973|  83.475|        C83|       S|\n",
      "|         64|       0|     3|Skoog, Master. Ha...|  male| 4.0|    3|    2|          347088|    27.9|       NULL|       S|\n",
      "|         65|       0|     1|Stewart, Mr. Albe...|  male|NULL|    0|    0|        PC 17605| 27.7208|       NULL|       C|\n",
      "|         66|       1|     3|Moubarek, Master....|  male|NULL|    1|    1|            2661| 15.2458|       NULL|       C|\n",
      "|         67|       1|     2|Nye, Mrs. (Elizab...|female|29.0|    0|    0|      C.A. 29395|    10.5|        F33|       S|\n",
      "|         68|       0|     3|Crease, Mr. Ernes...|  male|19.0|    0|    0|       S.P. 3464|  8.1583|       NULL|       S|\n",
      "|         69|       1|     3|Andersson, Miss. ...|female|17.0|    4|    2|         3101281|   7.925|       NULL|       S|\n",
      "|         70|       0|     3|   Kink, Mr. Vincenz|  male|26.0|    2|    0|          315151|  8.6625|       NULL|       S|\n",
      "|         71|       0|     2|Jenkin, Mr. Steph...|  male|32.0|    0|    0|      C.A. 33111|    10.5|       NULL|       S|\n",
      "|         72|       0|     3|Goodwin, Miss. Li...|female|16.0|    5|    2|         CA 2144|    46.9|       NULL|       S|\n",
      "|         73|       0|     2|Hood, Mr. Ambrose Jr|  male|21.0|    0|    0|    S.O.C. 14879|    73.5|       NULL|       S|\n",
      "|         74|       0|     3|Chronopoulos, Mr....|  male|26.0|    1|    0|            2680| 14.4542|       NULL|       C|\n",
      "|         75|       1|     3|       Bing, Mr. Lee|  male|32.0|    0|    0|            1601| 56.4958|       NULL|       S|\n",
      "|         76|       0|     3|Moen, Mr. Sigurd ...|  male|25.0|    0|    0|          348123|    7.65|      F G73|       S|\n",
      "|         77|       0|     3|   Staneff, Mr. Ivan|  male|NULL|    0|    0|          349208|  7.8958|       NULL|       S|\n",
      "|         78|       0|     3|Moutal, Mr. Raham...|  male|NULL|    0|    0|          374746|    8.05|       NULL|       S|\n",
      "|         79|       1|     2|Caldwell, Master....|  male|0.83|    0|    2|          248738|    29.0|       NULL|       S|\n",
      "|         80|       1|     3|Dowdell, Miss. El...|female|30.0|    0|    0|          364516|  12.475|       NULL|       S|\n",
      "|         81|       0|     3|Waelens, Mr. Achille|  male|22.0|    0|    0|          345767|     9.0|       NULL|       S|\n",
      "|         82|       1|     3|Sheerlinck, Mr. J...|  male|29.0|    0|    0|          345779|     9.5|       NULL|       S|\n",
      "|         83|       1|     3|McDermott, Miss. ...|female|NULL|    0|    0|          330932|  7.7875|       NULL|       Q|\n",
      "|         84|       0|     1|Carrau, Mr. Franc...|  male|28.0|    0|    0|          113059|    47.1|       NULL|       S|\n",
      "|         85|       1|     2| Ilett, Miss. Bertha|female|17.0|    0|    0|      SO/C 14885|    10.5|       NULL|       S|\n",
      "|         86|       1|     3|Backstrom, Mrs. K...|female|33.0|    3|    0|         3101278|   15.85|       NULL|       S|\n",
      "|         87|       0|     3|Ford, Mr. William...|  male|16.0|    1|    3|      W./C. 6608|  34.375|       NULL|       S|\n",
      "|         88|       0|     3|Slocovski, Mr. Se...|  male|NULL|    0|    0| SOTON/OQ 392086|    8.05|       NULL|       S|\n",
      "|         89|       1|     1|Fortune, Miss. Ma...|female|23.0|    3|    2|           19950|   263.0|C23 C25 C27|       S|\n",
      "|         90|       0|     3|Celotti, Mr. Fran...|  male|24.0|    0|    0|          343275|    8.05|       NULL|       S|\n",
      "|         91|       0|     3|Christmann, Mr. Emil|  male|29.0|    0|    0|          343276|    8.05|       NULL|       S|\n",
      "|         92|       0|     3|Andreasson, Mr. P...|  male|20.0|    0|    0|          347466|  7.8542|       NULL|       S|\n",
      "|         93|       0|     1|Chaffee, Mr. Herb...|  male|46.0|    1|    0|     W.E.P. 5734|  61.175|        E31|       S|\n",
      "|         94|       0|     3|Dean, Mr. Bertram...|  male|26.0|    1|    2|       C.A. 2315|  20.575|       NULL|       S|\n",
      "|         95|       0|     3|   Coxon, Mr. Daniel|  male|59.0|    0|    0|          364500|    7.25|       NULL|       S|\n",
      "|         96|       0|     3|Shorney, Mr. Char...|  male|NULL|    0|    0|          374910|    8.05|       NULL|       S|\n",
      "|         97|       0|     1|Goldschmidt, Mr. ...|  male|71.0|    0|    0|        PC 17754| 34.6542|         A5|       C|\n",
      "|         98|       1|     1|Greenfield, Mr. W...|  male|23.0|    0|    1|        PC 17759| 63.3583|    D10 D12|       C|\n",
      "|         99|       1|     2|Doling, Mrs. John...|female|34.0|    0|    1|          231919|    23.0|       NULL|       S|\n",
      "|        100|       0|     2|   Kantor, Mr. Sinai|  male|34.0|    1|    0|          244367|    26.0|       NULL|       S|\n",
      "+-----------+--------+------+--------------------+------+----+-----+-----+----------------+--------+-----------+--------+\n",
      "only showing top 100 rows\n",
      "\n"
     ]
    }
   ],
   "source": [
    "data.show(100)"
   ]
  },
  {
   "cell_type": "code",
   "execution_count": 15,
   "id": "298db0ef-e65a-46d5-bb48-37915d30cbc1",
   "metadata": {},
   "outputs": [],
   "source": [
    "#결측치 처리\n",
    "from pyspark.sql.functions import col,sum, when, isnan"
   ]
  },
  {
   "cell_type": "code",
   "execution_count": 29,
   "id": "dc18354b-30b7-452f-9188-4c0e80957bbd",
   "metadata": {},
   "outputs": [
    {
     "name": "stdout",
     "output_type": "stream",
     "text": [
      "+-----------+--------+------+----+------+---+-----+-----+------+----+-----+--------+\n",
      "|PassengerId|Survived|Pclass|Name|Gender|Age|SibSp|Parch|Ticket|Fare|Cabin|Embarked|\n",
      "+-----------+--------+------+----+------+---+-----+-----+------+----+-----+--------+\n",
      "|          0|       0|     0|   0|     0|  0|    0|    0|     0|   0|  687|       2|\n",
      "+-----------+--------+------+----+------+---+-----+-----+------+----+-----+--------+\n",
      "\n"
     ]
    }
   ],
   "source": [
    "null_counts = data.select(\n",
    "                    [\n",
    "                        sum( when(col(c).isNull() | isnan(c),1).otherwise(0) ).alias(c)\n",
    "                        for c in data.columns\n",
    "                    ]\n",
    "                )\n",
    "null_counts.show()\n"
   ]
  },
  {
   "cell_type": "code",
   "execution_count": 31,
   "id": "ad58819e-5bb4-4f38-9434-ab58490c3825",
   "metadata": {},
   "outputs": [
    {
     "name": "stdout",
     "output_type": "stream",
     "text": [
      "+--------+------+------+----+-----+-----+-------+\n",
      "|Survived|Pclass|Gender| Age|SibSp|Parch|   Fare|\n",
      "+--------+------+------+----+-----+-----+-------+\n",
      "|       0|     3|  male|22.0|    1|    0|   7.25|\n",
      "|       1|     1|female|38.0|    1|    0|71.2833|\n",
      "|       1|     3|female|26.0|    0|    0|  7.925|\n",
      "+--------+------+------+----+-----+-----+-------+\n",
      "only showing top 3 rows\n",
      "\n"
     ]
    }
   ],
   "source": [
    "# feature selection\n",
    "data_1 = data.select('Survived', 'Pclass', 'Gender', 'Age', 'SibSp', 'Parch','Fare' )\n",
    "data_1.show(3)"
   ]
  },
  {
   "cell_type": "code",
   "execution_count": 33,
   "id": "b83f353a-0e16-48fe-920f-2ba687935391",
   "metadata": {},
   "outputs": [],
   "source": [
    "meanage=data_1.select(\"Age\").agg({\n",
    "    \"Age\":\"mean\"\n",
    "}).collect()[0][0]\n"
   ]
  },
  {
   "cell_type": "code",
   "execution_count": 34,
   "id": "c2c7ee6a-f27b-4563-a3bc-76cc17936eb8",
   "metadata": {
    "scrolled": true
   },
   "outputs": [
    {
     "name": "stdout",
     "output_type": "stream",
     "text": [
      "+--------+------+------+-----------------+-----+-----+--------+\n",
      "|Survived|Pclass|Gender|              Age|SibSp|Parch|    Fare|\n",
      "+--------+------+------+-----------------+-----+-----+--------+\n",
      "|       0|     3|  male|             22.0|    1|    0|    7.25|\n",
      "|       1|     1|female|             38.0|    1|    0| 71.2833|\n",
      "|       1|     3|female|             26.0|    0|    0|   7.925|\n",
      "|       1|     1|female|             35.0|    1|    0|    53.1|\n",
      "|       0|     3|  male|             35.0|    0|    0|    8.05|\n",
      "|       0|     3|  male|29.69911764705882|    0|    0|  8.4583|\n",
      "|       0|     1|  male|             54.0|    0|    0| 51.8625|\n",
      "|       0|     3|  male|              2.0|    3|    1|  21.075|\n",
      "|       1|     3|female|             27.0|    0|    2| 11.1333|\n",
      "|       1|     2|female|             14.0|    1|    0| 30.0708|\n",
      "|       1|     3|female|              4.0|    1|    1|    16.7|\n",
      "|       1|     1|female|             58.0|    0|    0|   26.55|\n",
      "|       0|     3|  male|             20.0|    0|    0|    8.05|\n",
      "|       0|     3|  male|             39.0|    1|    5|  31.275|\n",
      "|       0|     3|female|             14.0|    0|    0|  7.8542|\n",
      "|       1|     2|female|             55.0|    0|    0|    16.0|\n",
      "|       0|     3|  male|              2.0|    4|    1|  29.125|\n",
      "|       1|     2|  male|29.69911764705882|    0|    0|    13.0|\n",
      "|       0|     3|female|             31.0|    1|    0|    18.0|\n",
      "|       1|     3|female|29.69911764705882|    0|    0|   7.225|\n",
      "|       0|     2|  male|             35.0|    0|    0|    26.0|\n",
      "|       1|     2|  male|             34.0|    0|    0|    13.0|\n",
      "|       1|     3|female|             15.0|    0|    0|  8.0292|\n",
      "|       1|     1|  male|             28.0|    0|    0|    35.5|\n",
      "|       0|     3|female|              8.0|    3|    1|  21.075|\n",
      "|       1|     3|female|             38.0|    1|    5| 31.3875|\n",
      "|       0|     3|  male|29.69911764705882|    0|    0|   7.225|\n",
      "|       0|     1|  male|             19.0|    3|    2|   263.0|\n",
      "|       1|     3|female|29.69911764705882|    0|    0|  7.8792|\n",
      "|       0|     3|  male|29.69911764705882|    0|    0|  7.8958|\n",
      "|       0|     1|  male|             40.0|    0|    0| 27.7208|\n",
      "|       1|     1|female|29.69911764705882|    1|    0|146.5208|\n",
      "|       1|     3|female|29.69911764705882|    0|    0|    7.75|\n",
      "|       0|     2|  male|             66.0|    0|    0|    10.5|\n",
      "|       0|     1|  male|             28.0|    1|    0| 82.1708|\n",
      "|       0|     1|  male|             42.0|    1|    0|    52.0|\n",
      "|       1|     3|  male|29.69911764705882|    0|    0|  7.2292|\n",
      "|       0|     3|  male|             21.0|    0|    0|    8.05|\n",
      "|       0|     3|female|             18.0|    2|    0|    18.0|\n",
      "|       1|     3|female|             14.0|    1|    0| 11.2417|\n",
      "+--------+------+------+-----------------+-----+-----+--------+\n",
      "only showing top 40 rows\n",
      "\n"
     ]
    }
   ],
   "source": [
    "data_1= data_1.fillna({'Age': meanage})\n",
    "data_1.show(40)"
   ]
  },
  {
   "cell_type": "code",
   "execution_count": 54,
   "id": "5c24ed14-d814-44c5-85a4-c6bf88926a74",
   "metadata": {},
   "outputs": [],
   "source": [
    "from pyspark.sql.functions import col, when, expr\n",
    "from pyspark.ml.feature import StringIndexer, VectorAssembler\n"
   ]
  },
  {
   "cell_type": "code",
   "execution_count": 38,
   "id": "159f8b51-3452-4cfc-b7e7-8c6591985460",
   "metadata": {},
   "outputs": [
    {
     "name": "stdout",
     "output_type": "stream",
     "text": [
      "+--------+------+------+----+-----+-----+-------+----------+\n",
      "|Survived|Pclass|Gender| Age|SibSp|Parch|   Fare|SexIndexer|\n",
      "+--------+------+------+----+-----+-----+-------+----------+\n",
      "|       0|     3|  male|22.0|    1|    0|   7.25|       0.0|\n",
      "|       1|     1|female|38.0|    1|    0|71.2833|       1.0|\n",
      "|       1|     3|female|26.0|    0|    0|  7.925|       1.0|\n",
      "|       1|     1|female|35.0|    1|    0|   53.1|       1.0|\n",
      "|       0|     3|  male|35.0|    0|    0|   8.05|       0.0|\n",
      "+--------+------+------+----+-----+-----+-------+----------+\n",
      "only showing top 5 rows\n",
      "\n"
     ]
    }
   ],
   "source": [
    "indexer=StringIndexer(inputCol=\"Gender\", outputCol=\"SexIndexer\")\n",
    "data_1 = indexer.fit(data_1).transform(data_1)\n",
    "data_1.show(5)"
   ]
  },
  {
   "cell_type": "code",
   "execution_count": 41,
   "id": "c03c808f-2629-48f7-95ba-1c72f1457cff",
   "metadata": {},
   "outputs": [
    {
     "name": "stdout",
     "output_type": "stream",
     "text": [
      "+--------------------+--------+\n",
      "|            features|Survived|\n",
      "+--------------------+--------+\n",
      "|[3.0,0.0,22.0,1.0...|       0|\n",
      "|[1.0,1.0,38.0,1.0...|       1|\n",
      "|[3.0,1.0,26.0,0.0...|       1|\n",
      "|[1.0,1.0,35.0,1.0...|       1|\n",
      "|[3.0,0.0,35.0,0.0...|       0|\n",
      "+--------------------+--------+\n",
      "only showing top 5 rows\n",
      "\n"
     ]
    }
   ],
   "source": [
    "#FeatureVector 생성\n",
    "assembler = VectorAssembler(\n",
    "    inputCols=['Pclass','SexIndexer', 'Age', 'SibSp', 'Parch','Fare'],\n",
    "    outputCol='features'\n",
    ")\n",
    "data_1 = assembler.transform(data_1)\n",
    "data_1.select('features','Survived').show(5)"
   ]
  },
  {
   "cell_type": "code",
   "execution_count": 46,
   "id": "afc8f61d-a838-4492-a56a-6f24ef6c6570",
   "metadata": {},
   "outputs": [
    {
     "name": "stdout",
     "output_type": "stream",
     "text": [
      "+--------+------+------+----+-----+-----+------+----------+--------------------+\n",
      "|Survived|Pclass|Gender| Age|SibSp|Parch|  Fare|SexIndexer|            features|\n",
      "+--------+------+------+----+-----+-----+------+----------+--------------------+\n",
      "|       0|     1|female| 2.0|    1|    2|151.55|       1.0|[1.0,1.0,2.0,1.0,...|\n",
      "|       0|     1|female|25.0|    1|    2|151.55|       1.0|[1.0,1.0,25.0,1.0...|\n",
      "|       0|     1|  male|18.0|    1|    0| 108.9|       0.0|[1.0,0.0,18.0,1.0...|\n",
      "|       0|     1|  male|19.0|    1|    0|  53.1|       0.0|[1.0,0.0,19.0,1.0...|\n",
      "|       0|     1|  male|19.0|    3|    2| 263.0|       0.0|[1.0,0.0,19.0,3.0...|\n",
      "+--------+------+------+----+-----+-----+------+----------+--------------------+\n",
      "only showing top 5 rows\n",
      "\n",
      "+--------+------+------+-----------------+-----+-----+-------+----------+--------------------+\n",
      "|Survived|Pclass|Gender|              Age|SibSp|Parch|   Fare|SexIndexer|            features|\n",
      "+--------+------+------+-----------------+-----+-----+-------+----------+--------------------+\n",
      "|       0|     1|female|             50.0|    0|    0|28.7125|       1.0|[1.0,1.0,50.0,0.0...|\n",
      "|       0|     1|  male|             21.0|    0|    1|77.2875|       0.0|[1.0,0.0,21.0,0.0...|\n",
      "|       0|     1|  male|             24.0|    0|    0|   79.2|       0.0|[1.0,0.0,24.0,0.0...|\n",
      "|       0|     1|  male|             29.0|    0|    0|   30.0|       0.0|[1.0,0.0,29.0,0.0...|\n",
      "|       0|     1|  male|29.69911764705882|    0|    0|  26.55|       0.0|[1.0,0.0,29.69911...|\n",
      "+--------+------+------+-----------------+-----+-----+-------+----------+--------------------+\n",
      "only showing top 5 rows\n",
      "\n"
     ]
    }
   ],
   "source": [
    "#데이터셋 분할\n",
    "train_data, test_data =data_1.randomSplit([0.8,0.2], seed=42)\n",
    "train_data.show(5)\n",
    "test_data.show(5)"
   ]
  },
  {
   "cell_type": "code",
   "execution_count": 49,
   "id": "8cca603a-a97c-4ee8-950d-b556c0805d38",
   "metadata": {},
   "outputs": [
    {
     "name": "stdout",
     "output_type": "stream",
     "text": [
      "+--------------------+--------+----------+\n",
      "|            features|Survived|prediction|\n",
      "+--------------------+--------+----------+\n",
      "|[1.0,1.0,50.0,0.0...|       0|       1.0|\n",
      "|[1.0,0.0,21.0,0.0...|       0|       1.0|\n",
      "|[1.0,0.0,24.0,0.0...|       0|       1.0|\n",
      "|[1.0,0.0,29.0,0.0...|       0|       1.0|\n",
      "|[1.0,0.0,29.69911...|       0|       1.0|\n",
      "+--------------------+--------+----------+\n",
      "only showing top 5 rows\n",
      "\n"
     ]
    }
   ],
   "source": [
    "#모델생성 \n",
    "from pyspark.ml.classification import LogisticRegression\n",
    "lr = LogisticRegression(featuresCol='features', labelCol=\"Survived\")\n",
    "lr_model =lr.fit(train_data)\n",
    "predic = lr_model.transform(test_data)\n",
    "predic.select('features', 'Survived', 'prediction').show(5)"
   ]
  },
  {
   "cell_type": "code",
   "execution_count": 52,
   "id": "92c5425b-785c-454e-a5b9-44497672aa09",
   "metadata": {},
   "outputs": [
    {
     "name": "stdout",
     "output_type": "stream",
     "text": [
      "+--------+----------+-----+\n",
      "|Survived|prediction|count|\n",
      "+--------+----------+-----+\n",
      "|       1|       0.0|   16|\n",
      "|       0|       0.0|   72|\n",
      "|       1|       1.0|   45|\n",
      "|       0|       1.0|   12|\n",
      "+--------+----------+-----+\n",
      "\n"
     ]
    }
   ],
   "source": [
    "predic.select('Survived', 'prediction').groupBy('Survived','prediction').count().show()"
   ]
  },
  {
   "cell_type": "code",
   "execution_count": 55,
   "id": "f5380d97-ca8e-4e2a-b468-1884148b5f54",
   "metadata": {},
   "outputs": [
    {
     "data": {
      "text/plain": [
       "28"
      ]
     },
     "execution_count": 55,
     "metadata": {},
     "output_type": "execute_result"
    }
   ],
   "source": [
    "comp=predic.withColumn('correct',expr('case when Survived = prediction then 1 else 0 end'))\n",
    "comp.where('correct=0').count()"
   ]
  },
  {
   "cell_type": "code",
   "execution_count": 56,
   "id": "63a4d271-0bc2-4ef1-88e4-f77649c9078f",
   "metadata": {},
   "outputs": [
    {
     "name": "stdout",
     "output_type": "stream",
     "text": [
      "+--------+------+------+-----------------+-----+-----+--------+----------+--------------------+--------------------+--------------------+----------+\n",
      "|Survived|Pclass|Gender|              Age|SibSp|Parch|    Fare|SexIndexer|            features|       rawPrediction|         probability|prediction|\n",
      "+--------+------+------+-----------------+-----+-----+--------+----------+--------------------+--------------------+--------------------+----------+\n",
      "|       0|     1|female|             50.0|    0|    0| 28.7125|       1.0|[1.0,1.0,50.0,0.0...|[-1.9520233772457...|[0.12433289705143...|       1.0|\n",
      "|       0|     1|  male|             21.0|    0|    1| 77.2875|       0.0|[1.0,0.0,21.0,0.0...|[-0.5063625084573...|[0.37604662481402...|       1.0|\n",
      "|       0|     1|  male|             24.0|    0|    0|    79.2|       0.0|[1.0,0.0,24.0,0.0...|[-0.5000095386390...|[0.37753842718518...|       1.0|\n",
      "|       0|     1|  male|             29.0|    0|    0|    30.0|       0.0|[1.0,0.0,29.0,0.0...|[-0.1615540822042...|[0.45969909487698...|       1.0|\n",
      "|       0|     1|  male|29.69911764705882|    0|    0|   26.55|       0.0|[1.0,0.0,29.69911...|[-0.1231782413911...|[0.46924431750958...|       1.0|\n",
      "|       0|     1|  male|29.69911764705882|    0|    0|    31.0|       0.0|[1.0,0.0,29.69911...|[-0.1347897264619...|[0.46635349453316...|       1.0|\n",
      "|       0|     1|  male|29.69911764705882|    0|    0|221.7792|       0.0|[1.0,0.0,29.69911...|[-0.6325941832296...|[0.34692254756630...|       1.0|\n",
      "|       0|     3|female|              9.0|    1|    1| 15.2458|       1.0|[3.0,1.0,9.0,1.0,...|[-0.8294985925619...|[0.30375110057917...|       1.0|\n",
      "|       0|     3|female|             14.0|    0|    0|  7.8542|       1.0|[3.0,1.0,14.0,0.0...|[-1.1048782816873...|[0.24882696769997...|       1.0|\n",
      "|       0|     3|female|             22.0|    0|    0| 10.5167|       1.0|[3.0,1.0,22.0,0.0...|[-0.7757027387564...|[0.31524678240576...|       1.0|\n",
      "|       0|     3|female|             28.0|    1|    1|    14.4|       1.0|[3.0,1.0,28.0,1.0...|[-0.0289998254718...|[0.49275055168429...|       1.0|\n",
      "|       0|     3|female|29.69911764705882|    0|    0|  8.1375|       1.0|[3.0,1.0,29.69911...|[-0.4460134544155...|[0.39030901997152...|       1.0|\n",
      "|       1|     1|  male|             40.0|    0|    0|    31.0|       0.0|[1.0,0.0,40.0,0.0...|[0.29800553338314...|[0.57395488063056...|       0.0|\n",
      "|       1|     1|  male|             42.0|    0|    0| 26.2875|       0.0|[1.0,0.0,42.0,0.0...|[0.39433268162065...|[0.59732526764030...|       0.0|\n",
      "|       1|     1|  male|             45.0|    0|    0|   26.55|       0.0|[1.0,0.0,45.0,0.0...|[0.51969380848810...|[0.62707616571001...|       0.0|\n",
      "|       1|     2|  male|              2.0|    1|    1|    26.0|       0.0|[2.0,0.0,2.0,1.0,...|[0.37184806510138...|[0.59190546052286...|       0.0|\n",
      "|       1|     3|female|29.69911764705882|    2|    0|   23.25|       1.0|[3.0,1.0,29.69911...|[0.29463470411987...|[0.57313040472105...|       0.0|\n",
      "|       1|     3|female|             33.0|    3|    0|   15.85|       1.0|[3.0,1.0,33.0,3.0...|[0.84267221664326...|[0.69902771706049...|       0.0|\n",
      "|       1|     3|female|             38.0|    1|    5| 31.3875|       1.0|[3.0,1.0,38.0,1.0...|[0.80563898861163...|[0.69117942146816...|       0.0|\n",
      "|       1|     3|female|             63.0|    0|    0|  9.5875|       1.0|[3.0,1.0,63.0,0.0...|[0.94935152197948...|[0.72098474515652...|       0.0|\n",
      "+--------+------+------+-----------------+-----+-----+--------+----------+--------------------+--------------------+--------------------+----------+\n",
      "only showing top 20 rows\n",
      "\n"
     ]
    }
   ],
   "source": [
    "# 틀린 데이터만 필터링\n",
    "predic.filter(col('Survived') != col('prediction')).show()"
   ]
  },
  {
   "cell_type": "code",
   "execution_count": 57,
   "id": "0f244b7c-880a-40ed-8c8e-b25d69851bd0",
   "metadata": {},
   "outputs": [],
   "source": [
    "#정확도 평가"
   ]
  },
  {
   "cell_type": "code",
   "execution_count": 60,
   "id": "7275fce9-4bb5-43b9-b929-0295990e12cb",
   "metadata": {},
   "outputs": [
    {
     "data": {
      "text/plain": [
       "0.8068965517241379"
      ]
     },
     "execution_count": 60,
     "metadata": {},
     "output_type": "execute_result"
    }
   ],
   "source": [
    "comp.selectExpr('avg(correct) as accuracy').collect()[0]['accuracy']"
   ]
  },
  {
   "cell_type": "code",
   "execution_count": 58,
   "id": "ca4e9fe1-860c-42d9-ab63-beddd27027d3",
   "metadata": {},
   "outputs": [
    {
     "data": {
      "text/plain": [
       "0.8664129586260734"
      ]
     },
     "execution_count": 58,
     "metadata": {},
     "output_type": "execute_result"
    }
   ],
   "source": [
    "from pyspark.ml.evaluation import BinaryClassificationEvaluator\n",
    "\n",
    "eval = BinaryClassificationEvaluator(labelCol='Survived', rawPredictionCol='rawPrediction', metricName='areaUnderROC')\n",
    "\n",
    "auc = eval.evaluate(predic)\n",
    "auc"
   ]
  },
  {
   "cell_type": "code",
   "execution_count": null,
   "id": "a6e03ffc-a92a-4744-bd4a-1c13e141f083",
   "metadata": {},
   "outputs": [],
   "source": [
    "#AUROC - > X출 FPR, Y축 TPR의 곡선 아래면서, 1에 가까울수록 좋은모델"
   ]
  },
  {
   "cell_type": "code",
   "execution_count": 67,
   "id": "f85d52e3-b40f-4931-a5b6-8da376f7dd1e",
   "metadata": {},
   "outputs": [],
   "source": [
    "spark.stop()"
   ]
  },
  {
   "cell_type": "code",
   "execution_count": 64,
   "id": "e9e184d5-a091-4c00-9b7b-9631bedf071d",
   "metadata": {},
   "outputs": [],
   "source": []
  },
  {
   "cell_type": "code",
   "execution_count": 68,
   "id": "59dbd260-721e-4607-9b69-81b79893f956",
   "metadata": {},
   "outputs": [],
   "source": [
    "from pyspark.sql import SparkSession\n",
    "\n",
    "spark = SparkSession.builder.appName(\"classificationExample2\").getOrCreate()"
   ]
  },
  {
   "cell_type": "code",
   "execution_count": 71,
   "id": "2483f4d4-1e28-4e8d-bbc7-60a805683430",
   "metadata": {},
   "outputs": [],
   "source": [
    "data2 = spark.read.format('libsvm').load(\"/home/jovyan/work/start_spark/start_spark/running_spark_data/sample_libsvm_data.txt\", header=True, inferSchema=True)"
   ]
  },
  {
   "cell_type": "code",
   "execution_count": 65,
   "id": "12669346-8fa2-46c9-b7a0-3e6fe4fde93e",
   "metadata": {},
   "outputs": [],
   "source": [
    "#libsvm 파일의 형식적처리 텍스트 파일형식의 처리, 텍스트 파일형석,  희소데이터용 압축파일이다, 메모리, 처리속도 개선 - 머신러닝에서 활용되는 형식\n",
    "# 레이블 행, 값"
   ]
  },
  {
   "cell_type": "code",
   "execution_count": 76,
   "id": "e4b47ab7-68e8-4535-a932-e23235de3a4d",
   "metadata": {},
   "outputs": [
    {
     "name": "stdout",
     "output_type": "stream",
     "text": [
      "+-----+--------------------+\n",
      "|label|            features|\n",
      "+-----+--------------------+\n",
      "|  0.0|(692,[127,128,129...|\n",
      "|  1.0|(692,[158,159,160...|\n",
      "|  1.0|(692,[124,125,126...|\n",
      "+-----+--------------------+\n",
      "only showing top 3 rows\n",
      "\n"
     ]
    },
    {
     "data": {
      "text/plain": [
       "100"
      ]
     },
     "execution_count": 76,
     "metadata": {},
     "output_type": "execute_result"
    }
   ],
   "source": [
    "data2.show(3)\n",
    "data2.count()"
   ]
  },
  {
   "cell_type": "code",
   "execution_count": 78,
   "id": "7c0a792e-f473-4f59-b165-ec72fef57bd5",
   "metadata": {},
   "outputs": [],
   "source": [
    "train_data, test_data = data2.randomSplit([0.7,0.3], seed=12)"
   ]
  },
  {
   "cell_type": "code",
   "execution_count": 80,
   "id": "8c023a4c-23e7-48e5-89d4-55feb5b21557",
   "metadata": {},
   "outputs": [
    {
     "name": "stdout",
     "output_type": "stream",
     "text": [
      "+-----+--------------------+\n",
      "|label|            features|\n",
      "+-----+--------------------+\n",
      "|  0.0|(692,[95,96,97,12...|\n",
      "|  0.0|(692,[121,122,123...|\n",
      "|  0.0|(692,[122,123,124...|\n",
      "|  0.0|(692,[122,123,148...|\n",
      "|  0.0|(692,[123,124,125...|\n",
      "|  0.0|(692,[123,124,125...|\n",
      "|  0.0|(692,[124,125,126...|\n",
      "|  0.0|(692,[124,125,126...|\n",
      "|  0.0|(692,[124,125,126...|\n",
      "|  0.0|(692,[124,125,126...|\n",
      "|  0.0|(692,[124,125,126...|\n",
      "|  0.0|(692,[124,125,126...|\n",
      "|  0.0|(692,[125,126,127...|\n",
      "|  0.0|(692,[126,127,128...|\n",
      "|  0.0|(692,[126,127,128...|\n",
      "|  0.0|(692,[126,127,128...|\n",
      "|  0.0|(692,[126,127,128...|\n",
      "|  0.0|(692,[126,127,128...|\n",
      "|  0.0|(692,[126,127,128...|\n",
      "|  0.0|(692,[129,130,131...|\n",
      "+-----+--------------------+\n",
      "only showing top 20 rows\n",
      "\n",
      "+-----+--------------------+\n",
      "|label|            features|\n",
      "+-----+--------------------+\n",
      "|  0.0|(692,[98,99,100,1...|\n",
      "|  0.0|(692,[100,101,102...|\n",
      "|  0.0|(692,[123,124,125...|\n",
      "|  0.0|(692,[126,127,128...|\n",
      "|  0.0|(692,[126,127,128...|\n",
      "|  0.0|(692,[127,128,129...|\n",
      "|  0.0|(692,[127,128,129...|\n",
      "|  0.0|(692,[127,128,129...|\n",
      "|  0.0|(692,[128,129,130...|\n",
      "|  0.0|(692,[152,153,154...|\n",
      "|  0.0|(692,[154,155,156...|\n",
      "|  0.0|(692,[234,235,237...|\n",
      "|  1.0|(692,[119,120,121...|\n",
      "|  1.0|(692,[123,124,125...|\n",
      "|  1.0|(692,[125,126,127...|\n",
      "|  1.0|(692,[126,127,128...|\n",
      "|  1.0|(692,[127,128,129...|\n",
      "|  1.0|(692,[128,129,130...|\n",
      "|  1.0|(692,[129,130,131...|\n",
      "|  1.0|(692,[129,130,131...|\n",
      "+-----+--------------------+\n",
      "only showing top 20 rows\n",
      "\n"
     ]
    }
   ],
   "source": [
    "train_data.show()\n",
    "test_data.show()"
   ]
  },
  {
   "cell_type": "code",
   "execution_count": 81,
   "id": "54de2ed1-1774-4575-9463-52bf10d3209c",
   "metadata": {
    "scrolled": true
   },
   "outputs": [
    {
     "name": "stdout",
     "output_type": "stream",
     "text": [
      "+-----+--------------------+--------------------+--------------------+----------+\n",
      "|label|            features|       rawPrediction|         probability|prediction|\n",
      "+-----+--------------------+--------------------+--------------------+----------+\n",
      "|  0.0|(692,[98,99,100,1...|[0.95414441393043...|[0.72194788886091...|       0.0|\n",
      "|  0.0|(692,[100,101,102...|[0.48568919283978...|[0.61909039185191...|       0.0|\n",
      "|  0.0|(692,[123,124,125...|[1.00961478127974...|[0.73294475454830...|       0.0|\n",
      "|  0.0|(692,[126,127,128...|[0.90293696106823...|[0.71155267489794...|       0.0|\n",
      "|  0.0|(692,[126,127,128...|[0.75830339388632...|[0.68098526895593...|       0.0|\n",
      "|  0.0|(692,[127,128,129...|[0.97194839391749...|[0.72550768363690...|       0.0|\n",
      "|  0.0|(692,[127,128,129...|[0.88414239930651...|[0.70767989197633...|       0.0|\n",
      "|  0.0|(692,[127,128,129...|[0.96585465524705...|[0.72429247205628...|       0.0|\n",
      "|  0.0|(692,[128,129,130...|[0.91063904393044...|[0.71313091310478...|       0.0|\n",
      "|  0.0|(692,[152,153,154...|[0.67037454557081...|[0.66158702114842...|       0.0|\n",
      "|  0.0|(692,[154,155,156...|[0.22662756202171...|[0.55641563776876...|       0.0|\n",
      "|  0.0|(692,[234,235,237...|[0.69281660305503...|[0.66659320095189...|       0.0|\n",
      "|  1.0|(692,[119,120,121...|[-0.7103936851622...|[0.32951185599794...|       1.0|\n",
      "|  1.0|(692,[123,124,125...|[-1.1121574575541...|[0.24746889060867...|       1.0|\n",
      "|  1.0|(692,[125,126,127...|[-0.9437432276338...|[0.28014484853753...|       1.0|\n",
      "|  1.0|(692,[126,127,128...|[-1.3904696848310...|[0.19933278492720...|       1.0|\n",
      "|  1.0|(692,[127,128,129...|[-1.3681597860088...|[0.20291732339433...|       1.0|\n",
      "|  1.0|(692,[128,129,130...|[-1.3232736475551...|[0.21027415944002...|       1.0|\n",
      "|  1.0|(692,[129,130,131...|[-0.0850507379202...|[0.47875012345108...|       1.0|\n",
      "|  1.0|(692,[129,130,131...|[-1.1181836061402...|[0.24634836137715...|       1.0|\n",
      "+-----+--------------------+--------------------+--------------------+----------+\n",
      "only showing top 20 rows\n",
      "\n"
     ]
    }
   ],
   "source": [
    "from pyspark.ml.classification import LogisticRegression\n",
    "lr = LogisticRegression(maxIter=10, regParam=0.3, elasticNetParam=0.8)\n",
    "lrmodel =lr.fit(train_data)\n",
    "pred = lrmodel.transform(test_data)\n",
    "pred.show()"
   ]
  },
  {
   "cell_type": "code",
   "execution_count": 82,
   "id": "541562c7-dba5-4648-b2aa-a752d19ea186",
   "metadata": {},
   "outputs": [
    {
     "data": {
      "text/plain": [
       "1.0"
      ]
     },
     "execution_count": 82,
     "metadata": {},
     "output_type": "execute_result"
    }
   ],
   "source": [
    "eval = BinaryClassificationEvaluator( metricName='areaUnderROC')\n",
    "auc = eval.evaluate(pred)\n",
    "auc"
   ]
  },
  {
   "cell_type": "code",
   "execution_count": null,
   "id": "54391a4d-d23e-4fef-a7f0-5db9e490294e",
   "metadata": {},
   "outputs": [],
   "source": []
  }
 ],
 "metadata": {
  "kernelspec": {
   "display_name": "Python 3 (ipykernel)",
   "language": "python",
   "name": "python3"
  },
  "language_info": {
   "codemirror_mode": {
    "name": "ipython",
    "version": 3
   },
   "file_extension": ".py",
   "mimetype": "text/x-python",
   "name": "python",
   "nbconvert_exporter": "python",
   "pygments_lexer": "ipython3",
   "version": "3.11.6"
  }
 },
 "nbformat": 4,
 "nbformat_minor": 5
}
