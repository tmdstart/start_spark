{
 "cells": [
  {
   "cell_type": "code",
   "execution_count": 118,
   "id": "0f102d2f-3a63-4262-938c-9596b395f22a",
   "metadata": {},
   "outputs": [],
   "source": [
    "from pyspark.sql import SparkSession"
   ]
  },
  {
   "cell_type": "code",
   "execution_count": 162,
   "id": "c9f80fe1-5743-40d1-a5e5-2058f080f7b8",
   "metadata": {},
   "outputs": [],
   "source": [
    "from pyspark.sql import SparkSession\n",
    "\n",
    "spark = SparkSession.builder \\\n",
    "    .appName(\"restaurant-review-average\") \\\n",
    "    .master(\"local[*]\") \\\n",
    "    .getOrCreate()"
   ]
  },
  {
   "cell_type": "code",
   "execution_count": 163,
   "id": "82c99934-aa64-42e5-b46a-7f2e8d6df23b",
   "metadata": {},
   "outputs": [],
   "source": [
    "spark = SparkSession.builder.appName(\"HeaderRemoval\").master(\"local[*]\").getOrCreate()\n",
    "sc = spark.sparkContext"
   ]
  },
  {
   "cell_type": "code",
   "execution_count": 164,
   "id": "422d9f51-2c96-4dc0-956c-b451f2488166",
   "metadata": {},
   "outputs": [],
   "source": [
    "sc = spark.sparkContext  # 필요 시 RDD API를 위해 사용"
   ]
  },
  {
   "cell_type": "code",
   "execution_count": 165,
   "id": "c89cfa85-d305-4166-a597-19645d81a302",
   "metadata": {},
   "outputs": [],
   "source": [
    "file_path = \"file:///home/jovyan/work/start_spark/start_spark/running_spark_data/restaurant_reviews.csv\"\n",
    "lines = sc.textFile(file_path)"
   ]
  },
  {
   "cell_type": "code",
   "execution_count": 166,
   "id": "3921b839-4049-45f0-b735-ea5195d50310",
   "metadata": {},
   "outputs": [
    {
     "data": {
      "text/plain": [
       "['id,item,cateogry,reviews,',\n",
       " '0,짜장면,중식,125,',\n",
       " '1,짬뽕,중식,235,',\n",
       " '2,김밥,분식,32,',\n",
       " '3,떡볶이,분식,534,']"
      ]
     },
     "execution_count": 166,
     "metadata": {},
     "output_type": "execute_result"
    }
   ],
   "source": [
    "lines = sc.textFile(\"file:///home/jovyan/work/start_spark/start_spark/running_spark_data/restaurant_reviews.csv\")\n",
    "\n",
    "lines.take(5)"
   ]
  },
  {
   "cell_type": "code",
   "execution_count": 167,
   "id": "67004c11-1266-4b02-9f8c-9ae3ceaa1404",
   "metadata": {},
   "outputs": [],
   "source": [
    "data = [\n",
    "    (0, \"짜장면\", \"중식\", 125),\n",
    "    (1, \"짬뽕\", \"중식\", 235),\n",
    "    (2, \"김밥\", \"분식\", 32),\n",
    "    (3, \"떡볶이\", \"분식\", 534),\n",
    "    (4, \"라멘\", \"일식\", 223),\n",
    "    (5, \"돈가스\", \"일식\", 52),\n",
    "    (6, \"우동\", \"일식\", 12),\n",
    "    (7, \"쌀국수\", \"아시안\", 312),\n",
    "    (8, \"햄버거\", \"패스트푸드\", 12),\n",
    "    (9, \"치킨\", \"패스트푸드\", 23),\n",
    "]"
   ]
  },
  {
   "cell_type": "code",
   "execution_count": 168,
   "id": "832e308a-5bf3-4914-a790-40303ef20939",
   "metadata": {},
   "outputs": [
    {
     "name": "stdout",
     "output_type": "stream",
     "text": [
      "헤더: id,item,cateogry,reviews,\n",
      "\n",
      "--- 헤더가 제거된 데이터 미리보기 (상위 5개) ---\n",
      "0,짜장면,중식,125,\n",
      "1,짬뽕,중식,235,\n",
      "2,김밥,분식,32,\n",
      "3,떡볶이,분식,534,\n",
      "4,라멘,일식,223,\n"
     ]
    }
   ],
   "source": [
    "\n",
    "header = lines.first()\n",
    "print(f\"헤더: {header}\")\n",
    "\n",
    "# 2. filter 변환을 사용하여 헤더를 제외한 데이터만 남깁니다.\n",
    "data_without_header = lines.filter(lambda line: line != header)\n",
    "\n",
    "# 헤더가 제거된 RDD의 첫 5개 항목을 확인합니다.\n",
    "print(\"\\n--- 헤더가 제거된 데이터 미리보기 (상위 5개) ---\")\n",
    "for line in data_without_header.take(5):\n",
    "    print(line)\n"
   ]
  },
  {
   "cell_type": "code",
   "execution_count": null,
   "id": "69c59187-957c-43a2-b2b1-70d7ae3f5be9",
   "metadata": {},
   "outputs": [],
   "source": [
    "#총건수확인 첫줄 데이터 분할, map으로 split"
   ]
  },
  {
   "cell_type": "code",
   "execution_count": 169,
   "id": "73a64d4d-bb47-4e1f-9381-a37e01882473",
   "metadata": {},
   "outputs": [
    {
     "name": "stdout",
     "output_type": "stream",
     "text": [
      "RDD의 총 건수는 10개입니다.\n"
     ]
    }
   ],
   "source": [
    "\n",
    "data_rdd = spark.sparkContext.parallelize(data)\n",
    "\n",
    "# RDD의 총 건수를 계산합니다.\n",
    "total_count_rdd = data_rdd.count()\n",
    "\n",
    "# 결과를 출력합니다.\n",
    "print(f\"RDD의 총 건수는 {total_count_rdd}개입니다.\")\n"
   ]
  },
  {
   "cell_type": "code",
   "execution_count": 170,
   "id": "02ee9118-9932-42a0-9a2a-36425a118d2a",
   "metadata": {},
   "outputs": [],
   "source": [
    "def parse(row):\n",
    "    fields = row.split(\",\")\n",
    "    \n",
    "    category = fields[2] #카테고리\n",
    "    \n",
    "    # reviews는 정수로 parse\n",
    "    reviews = fields[3] # 리뷰수\n",
    "    reviews = int(reviews)\n",
    "    \n",
    "    return category, reviews"
   ]
  },
  {
   "cell_type": "code",
   "execution_count": 171,
   "id": "54b29625-4eb4-411c-9b93-4a6f169e6ec2",
   "metadata": {},
   "outputs": [
    {
     "data": {
      "text/plain": [
       "('중식', 125)"
      ]
     },
     "execution_count": 171,
     "metadata": {},
     "output_type": "execute_result"
    }
   ],
   "source": [
    "parse('0,짜장면,중식,125,')"
   ]
  },
  {
   "cell_type": "code",
   "execution_count": 172,
   "id": "c9045e06-3401-4853-89c1-01b771e7cbe9",
   "metadata": {},
   "outputs": [],
   "source": [
    "# 각 라인을 쉼표(,) 기준으로 분할하여 리스트 형태로 만듭니다\n",
    "filtered_lines= data_without_header.map(lambda line: line.split(','))"
   ]
  },
  {
   "cell_type": "code",
   "execution_count": 173,
   "id": "48cef521-82ab-4db1-a854-e53b48f6fd7b",
   "metadata": {},
   "outputs": [
    {
     "data": {
      "text/plain": [
       "PythonRDD[9] at RDD at PythonRDD.scala:53"
      ]
     },
     "execution_count": 173,
     "metadata": {},
     "output_type": "execute_result"
    }
   ],
   "source": [
    "category_reviews = filtered_lines.map(parse)\n",
    "category_reviews"
   ]
  },
  {
   "cell_type": "code",
   "execution_count": 176,
   "id": "5b8b7cb0-368f-4584-864c-4d613a3b7142",
   "metadata": {},
   "outputs": [
    {
     "data": {
      "text/plain": [
       "[['0', '짜장면', '중식', '125', ''],\n",
       " ['1', '짬뽕', '중식', '235', ''],\n",
       " ['2', '김밥', '분식', '32', ''],\n",
       " ['3', '떡볶이', '분식', '534', ''],\n",
       " ['4', '라멘', '일식', '223', ''],\n",
       " ['5', '돈가스', '일식', '52', ''],\n",
       " ['6', '우동', '일식', '12', ''],\n",
       " ['7', '쌀국수', '아시안', '312', ''],\n",
       " ['8', '햄버거', '패스트푸드', '12', ''],\n",
       " ['9', '치킨', '패스트푸드', '23']]"
      ]
     },
     "execution_count": 176,
     "metadata": {},
     "output_type": "execute_result"
    }
   ],
   "source": [
    "filtered_lines.collect()"
   ]
  },
  {
   "cell_type": "code",
   "execution_count": 161,
   "id": "187bc618-74f3-493e-afc7-5f42acc82998",
   "metadata": {},
   "outputs": [],
   "source": [
    "spark.stop()"
   ]
  },
  {
   "cell_type": "code",
   "execution_count": 178,
   "id": "464e0132-0698-4ae8-b220-6d9564c9bec6",
   "metadata": {},
   "outputs": [
    {
     "data": {
      "text/plain": [
       "('중식', 125)"
      ]
     },
     "execution_count": 178,
     "metadata": {},
     "output_type": "execute_result"
    }
   ],
   "source": [
    "parse('0,짜장면,중식,125,')"
   ]
  },
  {
   "cell_type": "code",
   "execution_count": 191,
   "id": "3d1d97d4-02f3-4175-bba3-d1e6f4e29c2b",
   "metadata": {},
   "outputs": [
    {
     "data": {
      "text/plain": [
       "PythonRDD[21] at RDD at PythonRDD.scala:53"
      ]
     },
     "execution_count": 191,
     "metadata": {},
     "output_type": "execute_result"
    }
   ],
   "source": [
    "categoryReviews = filtered_lines.map(parse).persist() # categoryReviews RDD는 하나만 존재하는 RDD\n",
    "categoryReviews"
   ]
  },
  {
   "cell_type": "code",
   "execution_count": 193,
   "id": "5dfd3d1c-7ba8-4169-9dd4-5ec24611a17f",
   "metadata": {},
   "outputs": [],
   "source": [
    "#narrow Transformations\n",
    "#1:1변환 -> 하나의 열을 다룰 때 다른 데이터가 필요없는 경우\n",
    "#filter(), map(), flatmap(), sample(), union()\n"
   ]
  },
  {
   "cell_type": "code",
   "execution_count": 200,
   "id": "55127f73-87a3-43db-bb7d-feae3dc86187",
   "metadata": {},
   "outputs": [],
   "source": [
    "#flat map()"
   ]
  },
  {
   "cell_type": "code",
   "execution_count": 194,
   "id": "b7b52821-9d2f-4870-888a-7f1ddbf4bb4b",
   "metadata": {},
   "outputs": [
    {
     "data": {
      "text/plain": [
       "[[1, 2], [2, 3], [3, 4]]"
      ]
     },
     "execution_count": 194,
     "metadata": {},
     "output_type": "execute_result"
    }
   ],
   "source": [
    "rdd = sc.parallelize([1, 2, 3])\n",
    "rdd_map = rdd.map(lambda x: [x, x + 1])  # => [[1, 2], [2, 3], [3, 4]]\n",
    "rdd_map.collect()"
   ]
  },
  {
   "cell_type": "code",
   "execution_count": 195,
   "id": "3dc2c76c-d439-4ab8-807e-495764a9b4e6",
   "metadata": {},
   "outputs": [
    {
     "data": {
      "text/plain": [
       "[1, 2, 2, 3, 3, 4]"
      ]
     },
     "execution_count": 195,
     "metadata": {},
     "output_type": "execute_result"
    }
   ],
   "source": [
    "rdd_flatmap = rdd.flatMap(lambda x: [x, x + 1])  # => [1, 2, 2, 3, 3, 4]\n",
    "rdd_flatmap.collect()"
   ]
  },
  {
   "cell_type": "code",
   "execution_count": 199,
   "id": "6d4885c5-b6e9-475f-a19c-6940926c4750",
   "metadata": {},
   "outputs": [],
   "source": [
    "movies = [\n",
    "    \"그린 북\",\n",
    "    \"매트릭스\",\n",
    "    \"토이 스토리\",\n",
    "    \"캐스트 어웨이\",\n",
    "    \"포드 V 페라리\",\n",
    "    \"보헤미안 랩소디\",\n",
    "    \"빽 투 더 퓨처\",\n",
    "    \"반지의 제왕\",\n",
    "    \"죽은 시인의 사회\"\n",
    "]"
   ]
  },
  {
   "cell_type": "code",
   "execution_count": 202,
   "id": "5518ac0b-4924-42ac-b490-eb2a2f670d06",
   "metadata": {},
   "outputs": [
    {
     "data": {
      "text/plain": [
       "ParallelCollectionRDD[50] at readRDDFromFile at PythonRDD.scala:289"
      ]
     },
     "execution_count": 202,
     "metadata": {},
     "output_type": "execute_result"
    }
   ],
   "source": [
    "moviesRDD = sc.parallelize(movies)\n",
    "moviesRDD"
   ]
  },
  {
   "cell_type": "code",
   "execution_count": 203,
   "id": "64647208-c292-4c94-b8c8-a54ae7c7a76c",
   "metadata": {},
   "outputs": [
    {
     "data": {
      "text/plain": [
       "['그린',\n",
       " '북',\n",
       " '매트릭스',\n",
       " '토이',\n",
       " '스토리',\n",
       " '캐스트',\n",
       " '어웨이',\n",
       " '포드',\n",
       " 'V',\n",
       " '페라리',\n",
       " '보헤미안',\n",
       " '랩소디',\n",
       " '빽',\n",
       " '투',\n",
       " '더',\n",
       " '퓨처',\n",
       " '반지의',\n",
       " '제왕',\n",
       " '죽은',\n",
       " '시인의',\n",
       " '사회']"
      ]
     },
     "execution_count": 203,
     "metadata": {},
     "output_type": "execute_result"
    }
   ],
   "source": [
    "#job 추가 x\n",
    "flatMovies = moviesRDD.flatMap(lambda x : x.split(\" \"))\n",
    "flatMovies.collect()"
   ]
  },
  {
   "cell_type": "code",
   "execution_count": 205,
   "id": "0ce56911-a20b-4ce2-844e-1e47578bf8df",
   "metadata": {},
   "outputs": [],
   "source": [
    "# 집합 Transformation\n",
    "num1 = sc.parallelize([1, 2, 3, 4, 5])\n",
    "num2 = sc.parallelize([4, 5, 6, 7, 8, 9, 10])\n"
   ]
  },
  {
   "cell_type": "code",
   "execution_count": 208,
   "id": "01061c7e-3385-4982-9bd4-d4281ebf25da",
   "metadata": {},
   "outputs": [
    {
     "data": {
      "text/plain": [
       "[1, 2, 3, 4, 5, 4, 5, 6, 7, 8, 9, 10]"
      ]
     },
     "execution_count": 208,
     "metadata": {},
     "output_type": "execute_result"
    }
   ],
   "source": [
    "num1.intersection(num2).collect()\n",
    "# 합집합 구하기 - union\n",
    "num_union = num1.union(num2)\n",
    "num_union\n",
    "num_union.collect()"
   ]
  },
  {
   "cell_type": "code",
   "execution_count": 217,
   "id": "f23a94ba-11fa-465e-b284-d43942cfea06",
   "metadata": {},
   "outputs": [
    {
     "data": {
      "text/plain": [
       "[1, 2, 3]"
      ]
     },
     "execution_count": 217,
     "metadata": {},
     "output_type": "execute_result"
    }
   ],
   "source": [
    "# 차집합 구하기 - subtract\n",
    "num1.subtract(num2).collect()"
   ]
  },
  {
   "cell_type": "code",
   "execution_count": 220,
   "id": "b69ffdc4-42d2-4a01-b0a4-d9116e3ed475",
   "metadata": {},
   "outputs": [],
   "source": [
    "# 데이터 랜덤 추출 - sample(withReplacement, fraction, seed=None)\n",
    "# withReplacement : True -> 중복 추출\n"
   ]
  },
  {
   "cell_type": "code",
   "execution_count": 231,
   "id": "54555451-3845-4df6-b784-59766b38c56c",
   "metadata": {},
   "outputs": [
    {
     "data": {
      "text/plain": [
       "[9]"
      ]
     },
     "execution_count": 231,
     "metadata": {},
     "output_type": "execute_result"
    }
   ],
   "source": [
    "# withReplacement : True -> 중복 추출\n",
    "num_union.sample(True, 0.3).collect()"
   ]
  },
  {
   "cell_type": "code",
   "execution_count": 232,
   "id": "cc84eea8-4eac-4e20-8f04-d13dfb1ae119",
   "metadata": {},
   "outputs": [
    {
     "data": {
      "text/plain": [
       "ParallelCollectionRDD[143] at readRDDFromFile at PythonRDD.scala:289"
      ]
     },
     "execution_count": 232,
     "metadata": {},
     "output_type": "execute_result"
    }
   ],
   "source": [
    "foods = sc.parallelize([\n",
    "    \"짜장면\", \"마라탕\", \"짬뽕\", \"떡볶이\", \"쌀국수\", \"짬뽕\", \"짜장면\", \"짜장면\", \"짜장면\", \"라면\", \"우동\", \"라면\"\n",
    "])\n",
    "foods"
   ]
  },
  {
   "cell_type": "code",
   "execution_count": 247,
   "id": "f4c3422d-0885-417f-bdf3-90c14a1552ed",
   "metadata": {},
   "outputs": [
    {
     "data": {
      "text/plain": [
       "PythonRDD[169] at RDD at PythonRDD.scala:53"
      ]
     },
     "execution_count": 247,
     "metadata": {},
     "output_type": "execute_result"
    }
   ],
   "source": [
    "# 그룹핑의 기준을 문자열의 첫 번째 글자로 설정\n",
    "foodsGroup = foods.groupBy(lambda x : x[0])\n",
    "foodsGroup"
   ]
  },
  {
   "cell_type": "code",
   "execution_count": 243,
   "id": "eca8401b-4c65-45dc-84bd-2b6a8a034083",
   "metadata": {},
   "outputs": [],
   "source": [
    "res=foodsGroup.collect()"
   ]
  },
  {
   "cell_type": "code",
   "execution_count": 241,
   "id": "e635c25d-9db4-4083-8699-abce4932387f",
   "metadata": {},
   "outputs": [
    {
     "data": {
      "text/plain": [
       "[('짜', <pyspark.resultiterable.ResultIterable at 0x7ff71bc9f850>),\n",
       " ('짬', <pyspark.resultiterable.ResultIterable at 0x7ff71bc9d310>),\n",
       " ('쌀', <pyspark.resultiterable.ResultIterable at 0x7ff71bc9d990>),\n",
       " ('라', <pyspark.resultiterable.ResultIterable at 0x7ff71bc9ce90>),\n",
       " ('우', <pyspark.resultiterable.ResultIterable at 0x7ff71bc9cf50>),\n",
       " ('마', <pyspark.resultiterable.ResultIterable at 0x7ff71bc9ffd0>),\n",
       " ('떡', <pyspark.resultiterable.ResultIterable at 0x7ff71bc9e390>)]"
      ]
     },
     "execution_count": 241,
     "metadata": {},
     "output_type": "execute_result"
    }
   ],
   "source": [
    "res"
   ]
  },
  {
   "cell_type": "code",
   "execution_count": 244,
   "id": "d33dc8ab-00e0-49dd-97b6-d0a440391b80",
   "metadata": {},
   "outputs": [
    {
     "name": "stdout",
     "output_type": "stream",
     "text": [
      "짜 ['짜장면', '짜장면', '짜장면', '짜장면']\n",
      "짬 ['짬뽕', '짬뽕']\n",
      "쌀 ['쌀국수']\n",
      "라 ['라면', '라면']\n",
      "우 ['우동']\n",
      "마 ['마라탕']\n",
      "떡 ['떡볶이']\n"
     ]
    }
   ],
   "source": [
    "for (k, v) in res:\n",
    "    print(k, list(v))"
   ]
  },
  {
   "cell_type": "code",
   "execution_count": 235,
   "id": "5219f00d-29c3-41aa-b5bf-81e3b5a44fe5",
   "metadata": {},
   "outputs": [],
   "source": [
    "# 내로우 narrow  트랜스포메이션"
   ]
  },
  {
   "cell_type": "code",
   "execution_count": 249,
   "id": "65cd671b-5e0f-465b-a20d-d78dcafedb58",
   "metadata": {},
   "outputs": [
    {
     "data": {
      "text/plain": [
       "[1, 2, 3, 4, 5]"
      ]
     },
     "execution_count": 249,
     "metadata": {},
     "output_type": "execute_result"
    }
   ],
   "source": [
    "### 2. Narrow 트랜스포메이션 예제\n",
    "numbers = sc.parallelize([1, 2, 3, 4, 5])\n",
    "numbers.collect()\n",
    "# 1:1 변환 (Narrow Transformation)"
   ]
  },
  {
   "cell_type": "code",
   "execution_count": 257,
   "id": "ed617677-9e2f-4675-9c5a-7a8084e5b5fb",
   "metadata": {},
   "outputs": [
    {
     "data": {
      "text/plain": [
       "UnionRDD[189] at union at <unknown>:0"
      ]
     },
     "execution_count": 257,
     "metadata": {},
     "output_type": "execute_result"
    }
   ],
   "source": [
    "union=numbers.union(sc.parallelize([6,7,8]))\n",
    "union"
   ]
  },
  {
   "cell_type": "code",
   "execution_count": 258,
   "id": "40221b4a-b8aa-41c0-a94b-4cebb02501a5",
   "metadata": {},
   "outputs": [],
   "source": [
    "kv_rdd = sc.parallelize([(\"apple\",1), (\"banana\",2) , (\"cherry\",3) ])"
   ]
  },
  {
   "cell_type": "code",
   "execution_count": 260,
   "id": "1c4ebb62-2b9e-4592-9d6a-bca25ac61ade",
   "metadata": {},
   "outputs": [
    {
     "data": {
      "text/plain": [
       "[('apple', 10), ('banana', 20), ('cherry', 30)]"
      ]
     },
     "execution_count": 260,
     "metadata": {},
     "output_type": "execute_result"
    }
   ],
   "source": [
    "mapp_values = kv_rdd.mapValues(lambda x: x*10)\n",
    "mapp_values.collect()"
   ]
  },
  {
   "cell_type": "code",
   "execution_count": 263,
   "id": "5b5f2952-3cb7-4dfd-bda9-49b86e0fc794",
   "metadata": {},
   "outputs": [
    {
     "data": {
      "text/plain": [
       "[('apple', <pyspark.resultiterable.ResultIterable at 0x7ff71a77c490>),\n",
       " ('banana', <pyspark.resultiterable.ResultIterable at 0x7ff71a60f910>),\n",
       " ('cherry', <pyspark.resultiterable.ResultIterable at 0x7ff71a60e190>)]"
      ]
     },
     "execution_count": 263,
     "metadata": {},
     "output_type": "execute_result"
    }
   ],
   "source": [
    "grouped_rdd = kv_rdd.groupByKey()\n",
    "grouped_rdd.collect()"
   ]
  },
  {
   "cell_type": "code",
   "execution_count": 264,
   "id": "533ebe34-24ec-45b7-b30d-bffb821608d4",
   "metadata": {},
   "outputs": [
    {
     "data": {
      "text/plain": [
       "[('apple', 1), ('banana', 2), ('cherry', 3)]"
      ]
     },
     "execution_count": 264,
     "metadata": {},
     "output_type": "execute_result"
    }
   ],
   "source": [
    "reduced_rdd = kv_rdd.reduceByKey(lambda x,y : x+y)\n",
    "reduced_rdd.collect()"
   ]
  },
  {
   "cell_type": "code",
   "execution_count": 266,
   "id": "02005085-74d6-46cb-833c-34086d78bf64",
   "metadata": {},
   "outputs": [],
   "source": [
    "\n",
    "# 셔플링이 필요한 변환 (Wide Transformation)\n",
    "distinct_rdd = sc.parallelize([1, 1, 2, 2, 3, 3]).distinct()\n",
    "grouped_rdd = kv_rdd.groupByKey()\n",
    "reduced_rdd = kv_rdd.reduceByKey(lambda x, y: x + y)"
   ]
  },
  {
   "cell_type": "code",
   "execution_count": 268,
   "id": "73780419-59e2-4e83-ab95-1af121e89a17",
   "metadata": {},
   "outputs": [
    {
     "name": "stdout",
     "output_type": "stream",
     "text": [
      "[('apple', (2, 'fruit')), ('banana', (1, 'fruit'))]\n",
      "Distinct RDD: [2, 1, 3]\n",
      "Joined RDD: [('apple', (2, 'fruit')), ('banana', (1, 'fruit'))]\n"
     ]
    }
   ],
   "source": [
    "# 두 RDD 조인하기\n",
    "rdd1 = sc.parallelize([(\"apple\", 2), (\"banana\", 1)])\n",
    "rdd2 = sc.parallelize([(\"apple\", \"fruit\"), (\"banana\", \"fruit\"), (\"carrot\", \"vegetable\")])\n",
    "\n",
    "# 두 RDD 조인\n",
    "joined_rdd = rdd1.join(rdd2)\n",
    "print(joined_rdd.collect())\n",
    "# 출력 결과: [('apple', (2, 'fruit')), ('banana', (1, 'fruit'))]\n",
    "\n",
    "print(\"Distinct RDD:\", distinct_rdd.collect())  # [1, 2, 3]\n",
    "print(\"Joined RDD:\", joined_rdd.collect())  # [(\"apple\", (2, \"fruit\")), (\"banana\", (1, \"fruit\"))]"
   ]
  },
  {
   "cell_type": "code",
   "execution_count": 269,
   "id": "e80ba4ab-342b-40fd-a9f0-77118ffa1b13",
   "metadata": {},
   "outputs": [
    {
     "name": "stdout",
     "output_type": "stream",
     "text": [
      "[('apple', (2, 'fruit')), ('banana', (1, 'fruit'))]\n",
      "[('apple', (2, 'fruit')), ('banana', (1, 'fruit')), ('carrot', (None, 'vegetable'))]\n",
      "[('banana', 1)]\n"
     ]
    }
   ],
   "source": [
    "# 왼쪽 외부 조인 (leftOuterJoin)\n",
    "left_joined = rdd1.leftOuterJoin(rdd2)\n",
    "print(left_joined.collect())\n",
    "# 출력 결과: [('apple', (2, 'fruit')), ('banana', (1, 'fruit'))]\n",
    "\n",
    "# 오른쪽 외부 조인 (rightOuterJoin)\n",
    "right_joined = rdd1.rightOuterJoin(rdd2)\n",
    "print(right_joined.collect())\n",
    "# 출력 결과: [('apple', (2, 'fruit')), ('banana', (1, 'fruit')), ('carrot', (None, 'vegetable'))]\n",
    "\n",
    "# subtractByKey 연산\n",
    "subtract_result = rdd1.subtractByKey(sc.parallelize([(\"apple\", \"any\")]))\n",
    "print(subtract_result.collect())\n",
    "# 출력 결과: [('banana', 1)]"
   ]
  },
  {
   "cell_type": "code",
   "execution_count": 272,
   "id": "ec7dcfae-6e17-46d1-bf46-2d6fef8a4723",
   "metadata": {},
   "outputs": [
    {
     "name": "stdout",
     "output_type": "stream",
     "text": [
      "Sum: 15\n",
      "Product: 120\n"
     ]
    }
   ],
   "source": [
    "# reduce 연산 (결합성과 교환성을 가진 작업)\n",
    "sum_result = numbers.reduce(lambda x, y: x + y)\n",
    "product_result = numbers.reduce(lambda x, y: x * y)\n",
    "\n",
    "\n",
    "print(\"Sum:\", sum_result)  # 15\n",
    "print(\"Product:\", product_result)  # 120"
   ]
  },
  {
   "cell_type": "code",
   "execution_count": 273,
   "id": "31a04930-2402-40b7-9b58-4fac761a72a7",
   "metadata": {},
   "outputs": [],
   "source": [
    "from operator import add"
   ]
  },
  {
   "cell_type": "code",
   "execution_count": 274,
   "id": "b2315f3f-ee1e-4831-a417-2b79466402a2",
   "metadata": {},
   "outputs": [
    {
     "data": {
      "text/plain": [
       "ParallelCollectionRDD[289] at readRDDFromFile at PythonRDD.scala:289"
      ]
     },
     "execution_count": 274,
     "metadata": {},
     "output_type": "execute_result"
    }
   ],
   "source": [
    "sample_rdd = sc.parallelize([1, 2, 3, 4, 5])\n",
    "sample_rdd"
   ]
  },
  {
   "cell_type": "code",
   "execution_count": 276,
   "id": "a94b5ea1-cc67-45d2-aec8-5d1e8339042b",
   "metadata": {},
   "outputs": [
    {
     "data": {
      "text/plain": [
       "15"
      ]
     },
     "execution_count": 276,
     "metadata": {},
     "output_type": "execute_result"
    }
   ],
   "source": [
    "#RDD에 있는 숫자의 합계를 계산:\n",
    "sample_rdd.reduce(add)"
   ]
  },
  {
   "cell_type": "code",
   "execution_count": 277,
   "id": "4e3bbd0b-c7ff-4b16-8d8f-221dccbc7c55",
   "metadata": {},
   "outputs": [
    {
     "data": {
      "text/plain": [
       "18"
      ]
     },
     "execution_count": 277,
     "metadata": {},
     "output_type": "execute_result"
    }
   ],
   "source": [
    "sample_rdd = sc.parallelize([1, 2, 3, 4])\n",
    "sample_rdd.reduce(lambda x, y : (x * 2)+ y)"
   ]
  },
  {
   "cell_type": "code",
   "execution_count": 279,
   "id": "dc92088b-9a38-4c24-b90c-ad4ac474491f",
   "metadata": {
    "scrolled": true
   },
   "outputs": [
    {
     "data": {
      "text/plain": [
       "18"
      ]
     },
     "execution_count": 279,
     "metadata": {},
     "output_type": "execute_result"
    }
   ],
   "source": [
    "sc.parallelize([1, 2, 3, 4], 2).reduce(lambda x, y : (x * 2) + y)"
   ]
  },
  {
   "cell_type": "code",
   "execution_count": 280,
   "id": "195a8cf1-dd1b-4dbc-b3c9-ba32e94a4946",
   "metadata": {},
   "outputs": [
    {
     "data": {
      "text/plain": [
       "18"
      ]
     },
     "execution_count": 280,
     "metadata": {},
     "output_type": "execute_result"
    }
   ],
   "source": [
    "sc.parallelize([1, 2, 3, 4], 3).reduce(lambda x, y : (x * 2) + y)"
   ]
  },
  {
   "cell_type": "code",
   "execution_count": 281,
   "id": "0bc92b52-49dc-4535-aa18-9be269787d85",
   "metadata": {},
   "outputs": [
    {
     "data": {
      "text/plain": [
       "26"
      ]
     },
     "execution_count": 281,
     "metadata": {},
     "output_type": "execute_result"
    }
   ],
   "source": [
    "sc.parallelize([1, 2, 3, 4], 1).reduce(lambda x, y : (x * 2) + y)"
   ]
  },
  {
   "cell_type": "code",
   "execution_count": 282,
   "id": "0087a910-5914-423a-b3a4-efd864f06ee4",
   "metadata": {},
   "outputs": [],
   "source": [
    "# 파티션을 3개로 지정"
   ]
  },
  {
   "cell_type": "code",
   "execution_count": 283,
   "id": "002019a5-65a7-445f-a7f6-0d12570eb3a5",
   "metadata": {},
   "outputs": [
    {
     "name": "stdout",
     "output_type": "stream",
     "text": [
      "24\n",
      "24\n"
     ]
    }
   ],
   "source": [
    "rdd = sc.parallelize([2, 3, 4], 4)\n",
    "\n",
    "#숫자의 곱을 계산해서 합한다\n",
    "print(rdd.reduce(lambda x, y : (x * y))) # 2 x 3 -> x 4\n",
    "print(rdd.fold(1, lambda x , y : (x * y))) # 1 x 2 x 3 x 4"
   ]
  },
  {
   "cell_type": "code",
   "execution_count": 284,
   "id": "dc67c828-b428-4fb4-b7c5-3d99fa185b71",
   "metadata": {},
   "outputs": [
    {
     "data": {
      "text/plain": [
       "768"
      ]
     },
     "execution_count": 284,
     "metadata": {},
     "output_type": "execute_result"
    }
   ],
   "source": [
    "rdd.fold(2, lambda x , y : (x * y)) \n",
    "# 초기값 2 지정 :: 2x2 , 2x3, 2x4, \"\" > 4 , 6, 8, \"\" \n",
    "# 다시 초기값 2 지정 :: 4x2*6, 48x2*8, \"\" > 768"
   ]
  },
  {
   "cell_type": "code",
   "execution_count": 285,
   "id": "224c324e-c5c8-404e-be74-afe16fb3f2c9",
   "metadata": {},
   "outputs": [
    {
     "name": "stdout",
     "output_type": "stream",
     "text": [
      "9\n",
      "14\n"
     ]
    }
   ],
   "source": [
    "print(rdd.reduce(lambda x, y : x + y)) \n",
    "print(rdd.fold(1, lambda x, y : x + y)) "
   ]
  },
  {
   "cell_type": "code",
   "execution_count": 286,
   "id": "1f3b409b-3e1f-4dad-8159-fe84aff075aa",
   "metadata": {},
   "outputs": [
    {
     "name": "stdout",
     "output_type": "stream",
     "text": [
      "Total sum: 500000500000\n"
     ]
    }
   ],
   "source": [
    "# 대규모 숫자 데이터셋 생성\n",
    "numbers_rdd = sc.parallelize(range(1, 1000001))\n",
    "\n",
    "# fold를 사용하여 총합계 계산\n",
    "total_sum = numbers_rdd.fold(0, lambda x, y: x + y)\n",
    "\n",
    "print(f\"Total sum: {total_sum}\")"
   ]
  },
  {
   "cell_type": "code",
   "execution_count": 287,
   "id": "15dedf37-08e3-46a0-bf90-e0a83e29c324",
   "metadata": {},
   "outputs": [
    {
     "name": "stdout",
     "output_type": "stream",
     "text": [
      "Maximum salary: 80000\n"
     ]
    }
   ],
   "source": [
    "# 직원 급여 데이터\n",
    "salaries_rdd = sc.parallelize([50000, 60000, 55000, 75000, 65000, 80000])\n",
    "\n",
    "# fold를 사용하여 최대 급여 찾기\n",
    "max_salary = salaries_rdd.fold(0, lambda x, y: max(x, y))\n",
    "\n",
    "print(f\"Maximum salary: {max_salary}\")"
   ]
  },
  {
   "cell_type": "code",
   "execution_count": 288,
   "id": "de9bc041-b935-4891-942c-438ff57e306d",
   "metadata": {
    "scrolled": true
   },
   "outputs": [
    {
     "name": "stdout",
     "output_type": "stream",
     "text": [
      "Maximum salary by department:\n",
      "IT: 65000\n",
      "HR: 50000\n",
      "Finance: 55000\n"
     ]
    }
   ],
   "source": [
    "# 부서별 직원 급여 데이터\n",
    "dept_salaries = [(\"IT\", 50000), (\"HR\", 45000), (\"IT\", 60000), \n",
    "                 (\"Finance\", 55000), (\"HR\", 50000), (\"IT\", 65000)]\n",
    "dept_rdd = sc.parallelize(dept_salaries)\n",
    "\n",
    "# foldByKey를 사용하여 부서별 최대 급여 찾기\n",
    "max_salary_by_dept = dept_rdd.foldByKey(0, lambda x, y: max(x, y))\n",
    "\n",
    "print(\"Maximum salary by department:\")\n",
    "for dept, max_salary in max_salary_by_dept.collect():\n",
    "    print(f\"{dept}: {max_salary}\")"
   ]
  },
  {
   "cell_type": "code",
   "execution_count": 296,
   "id": "cdc8f406-d341-4e8a-bb55-55b163017e4f",
   "metadata": {},
   "outputs": [
    {
     "data": {
      "text/plain": [
       "[(0, [2, 8]), (1, [1, 1, 3, 5])]"
      ]
     },
     "execution_count": 296,
     "metadata": {},
     "output_type": "execute_result"
    }
   ],
   "source": [
    "rdd = sc.parallelize([1, 1, 2, 3, 5, 8])\n",
    "result = rdd.groupBy(lambda x : x % 2).collect()\n",
    "\n",
    "sorted([(x, sorted(y)) for (x, y) in result])"
   ]
  },
  {
   "cell_type": "code",
   "execution_count": 297,
   "id": "1e35a76f-2db8-49f1-96ac-05c7b27fa671",
   "metadata": {},
   "outputs": [
    {
     "data": {
      "text/plain": [
       "[(0, [2, 8]), (1, [1, 1, 3, 5])]"
      ]
     },
     "execution_count": 297,
     "metadata": {},
     "output_type": "execute_result"
    }
   ],
   "source": [
    "[(x, sorted(y)) for (x, y) in result]"
   ]
  },
  {
   "cell_type": "code",
   "execution_count": 298,
   "id": "da2ebd0f-4262-40f6-b247-a6b96e8c7bc5",
   "metadata": {},
   "outputs": [],
   "source": [
    "#판매 데이터 분석 (카테고리별 총 매출 계산)\n",
    "sales_data = [\n",
    "    (\"Electronics\", 1000),\n",
    "    (\"Clothing\", 500),\n",
    "    (\"Electronics\", 1500),\n",
    "    (\"Books\", 300),\n",
    "    (\"Clothing\", 750),\n",
    "    (\"Books\", 200)\n",
    "]"
   ]
  },
  {
   "cell_type": "code",
   "execution_count": 299,
   "id": "bf7a488d-ad0d-452b-8361-168b2fabeb00",
   "metadata": {},
   "outputs": [
    {
     "name": "stdout",
     "output_type": "stream",
     "text": [
      "Clothing: $1250\n",
      "Electronics: $2500\n",
      "Books: $500\n"
     ]
    }
   ],
   "source": [
    "# RDD 생성\n",
    "sales_rdd = sc.parallelize(sales_data)\n",
    "\n",
    "# 카테고리별 총 매출 계산\n",
    "category_sales = sales_rdd.groupBy(lambda x: x[0]) \\\n",
    "    .mapValues(lambda values: sum(item[1] for item in values)) \\\n",
    "    .collect()\n",
    "\n",
    "# 결과 출력\n",
    "for category, total_sales in category_sales:\n",
    "    print(f\"{category}: ${total_sales}\")"
   ]
  },
  {
   "cell_type": "code",
   "execution_count": 295,
   "id": "a2536bce-07a7-4f53-957e-aaf3cda41f40",
   "metadata": {},
   "outputs": [],
   "source": [
    "#로그 데이터 처리 (IP 주소별 접속 횟수 분석)\n",
    "# SparkContext 생성 가정 (sc)\n",
    "log_data = [\n",
    "    (\"192.168.1.1\", \"login\"),\n",
    "    (\"192.168.1.2\", \"purchase\"),\n",
    "    (\"192.168.1.1\", \"view\"),\n",
    "    (\"192.168.1.3\", \"login\"),\n",
    "    (\"192.168.1.2\", \"login\"),\n",
    "    (\"192.168.1.1\", \"purchase\")\n",
    "]\n",
    "\n",
    "# RDD 생성\n",
    "log_rdd = sc.parallelize(log_data)"
   ]
  },
  {
   "cell_type": "code",
   "execution_count": 309,
   "id": "26a2ed0b-9541-41b3-9e8d-95a86a0f0775",
   "metadata": {},
   "outputs": [
    {
     "name": "stdout",
     "output_type": "stream",
     "text": [
      "--- IP 주소별 행위 횟수 ---\n",
      "IP: 192.168.1.1, 횟수: 3\n",
      "IP: 192.168.1.2, 횟수: 2\n",
      "IP: 192.168.1.3, 횟수: 1\n"
     ]
    }
   ],
   "source": [
    "ip_count_rdd = log_rdd.map(lambda log: (log[0], 1))\n",
    "\n",
    "# reduceByKey를 사용하여 같은 IP를 가진 모든 값을 합산합니다.\n",
    "# 이 연산은 데이터를 재분배(셔플)하므로 Wide 트랜스포메이션입니다.\n",
    "total_counts = ip_count_rdd.reduceByKey(lambda a, b: a + b)\n",
    "\n",
    "# 결과를 화면에 출력합니다.\n",
    "# collect()는 RDD의 모든 요소를 드라이버로 가져오는 액션(Action)입니다.\n",
    "print(\"--- IP 주소별 행위 횟수 ---\")\n",
    "for ip, count in total_counts.collect():\n",
    "    print(f\"IP: {ip}, 횟수: {count}\")"
   ]
  },
  {
   "cell_type": "code",
   "execution_count": 346,
   "id": "0ca6ce50-1c95-40ec-90f7-e298bdcdc16c",
   "metadata": {},
   "outputs": [
    {
     "name": "stdout",
     "output_type": "stream",
     "text": [
      "--- IP 주소별 login 횟수 ---\n",
      "IP 192.168.1.1 login 횟수: 1\n",
      "IP 192.168.1.3 login 횟수: 1\n",
      "IP 192.168.1.2 login 횟수: 1\n",
      "총 login 횟수:3\n",
      "IP 192.168.1.1 view 횟수: 1\n",
      "총 view 횟수:1\n",
      "IP 192.168.1.2 purchase 횟수: 1\n",
      "IP 192.168.1.1 purchase 횟수: 1\n",
      "총 purchase 횟수:2\n"
     ]
    }
   ],
   "source": [
    "log_rdd = sc.parallelize(log_data)\n",
    "\n",
    "login_rdd = log_rdd.filter(lambda log: log[1] == \"login\")\n",
    "view_rdd = log_rdd.filter(lambda log: log[1] == \"view\")\n",
    "purchase_rdd = log_rdd.filter(lambda log: log[1] == \"purchase\")\n",
    "\n",
    "#################################################################\n",
    "ip_login_rdd = login_rdd.map(lambda log: (log[0], 1))\n",
    "ip_view_rdd = view_rdd.map(lambda log: (log[0], 1))\n",
    "ip_purchase_rdd = purchase_rdd.map(lambda log: (log[0], 1))\n",
    "######################################################################\n",
    "\n",
    "\n",
    "# reduceByKey를 사용하여 같은 IP를 가진 모든 값을 합산- ip value\n",
    "total_login_counts = ip_login_rdd.reduceByKey(lambda a, b: a + b)\n",
    "total_view_counts = ip_view_rdd.reduceByKey(lambda a, b: a + b)\n",
    "total_purchase_counts = ip_purchase_rdd.reduceByKey(lambda a, b: a + b)\n",
    "\n",
    "count_=0\n",
    "#각 행위의 값을 출력\n",
    "print(\"--- IP 주소별 login 횟수 ---\")\n",
    "for ip, count in total_login_counts.collect():\n",
    "    print(f\"IP {ip} login 횟수: {count}\")\n",
    "    count_=count_+1\n",
    "\n",
    "print(f\"총 login 횟수:{count_}\")\n",
    "count_=0\n",
    "for ip, count in total_view_counts.collect():\n",
    "    print(f\"IP {ip} view 횟수: {count}\")\n",
    "    count_=count_+1\n",
    "print(f\"총 view 횟수:{count_}\")\n",
    "count_=0\n",
    "for ip, count in total_purchase_counts.collect():\n",
    "    print(f\"IP {ip} purchase 횟수: {count}\")\n",
    "    count_=count_+1\n",
    "print(f\"총 purchase 횟수:{count_}\")\n",
    "\n"
   ]
  },
  {
   "cell_type": "code",
   "execution_count": 347,
   "id": "d42f4183-2101-4e5c-b355-9be6f74665f0",
   "metadata": {},
   "outputs": [
    {
     "data": {
      "text/plain": [
       "[1, 5, 3, 9, 2, 8, 4, 7, 6]"
      ]
     },
     "execution_count": 347,
     "metadata": {},
     "output_type": "execute_result"
    }
   ],
   "source": [
    "from pyspark import SparkContext\n",
    "\n",
    "sc = SparkContext.getOrCreate()\n",
    "numbers = sc.parallelize([1, 5, 3, 9, 2, 8, 4, 7, 6], numSlices=3)\n",
    "numbers.collect()"
   ]
  },
  {
   "cell_type": "code",
   "execution_count": 348,
   "id": "ba4c310f-46df-431c-813f-f6c8bdb126f6",
   "metadata": {
    "scrolled": true
   },
   "outputs": [
    {
     "data": {
      "text/plain": [
       "[[1, 5, 3], [9, 2, 8], [4, 7, 6]]"
      ]
     },
     "execution_count": 348,
     "metadata": {},
     "output_type": "execute_result"
    }
   ],
   "source": [
    "numbers.glom().collect()"
   ]
  },
  {
   "cell_type": "code",
   "execution_count": 350,
   "id": "553696ac-3056-4173-8bf6-b99ab2a4f889",
   "metadata": {},
   "outputs": [],
   "source": [
    "numbers = sc.parallelize([1, 5, 3, 9, 2, 8, 4, 7, 6])"
   ]
  },
  {
   "cell_type": "code",
   "execution_count": 355,
   "id": "74497cf8-e90b-4d8c-a22d-20764abad36d",
   "metadata": {},
   "outputs": [
    {
     "data": {
      "text/plain": [
       "(45, 9)"
      ]
     },
     "execution_count": 355,
     "metadata": {},
     "output_type": "execute_result"
    }
   ],
   "source": [
    "# 평균 계산하기\n",
    "sum_count = numbers.aggregate(\n",
    "    (0, 0),  # 초기값 (합계, 개수)\n",
    "    lambda acc, value: (acc[0] + value, acc[1] + 1),  # 각 파티션 내 연산\n",
    "    lambda acc1, acc2: (acc1[0] + acc2[0], acc1[1] + acc2[1])  # 파티션 간 연산\n",
    ")\n",
    "sum_count"
   ]
  },
  {
   "cell_type": "code",
   "execution_count": 356,
   "id": "3c587c48-6521-440e-96fb-01544d247e0f",
   "metadata": {},
   "outputs": [
    {
     "name": "stdout",
     "output_type": "stream",
     "text": [
      "Average: 5.0\n"
     ]
    }
   ],
   "source": [
    "average = sum_count[0] / sum_count[1]\n",
    "print(\"Average:\", average)  # 5.0"
   ]
  },
  {
   "cell_type": "code",
   "execution_count": 357,
   "id": "8d0373be-f53c-4110-9dcb-8723b3f217ef",
   "metadata": {},
   "outputs": [],
   "source": [
    "# agg 연습\n",
    "data = [\"hello\", \"world\", \"spark\"]\n",
    "rdd = sc.parallelize(data)\n",
    "\n",
    "def seq_op(acc, value):\n",
    "    text, idx = acc\n",
    "    return (f\"{text} {idx}:{value}\".strip(), idx + 1)\n",
    "\n",
    "def comb_op(acc1, acc2):\n",
    "    # 줄 번호 이어붙이기: 앞쪽 text 유지 + 뒤쪽 text 뒤에 붙이기\n",
    "    text1, idx1 = acc1\n",
    "    text2, idx2 = acc2\n",
    "    # 줄 번호 충돌 피하려면 idx 조정 필요 (복잡하므로 단순히 붙임)\n",
    "    return (f\"{text1} {text2}\".strip(), idx1 + idx2)"
   ]
  },
  {
   "cell_type": "code",
   "execution_count": 358,
   "id": "cea95bb2-c38d-4795-891a-0ebdc844f802",
   "metadata": {},
   "outputs": [
    {
     "name": "stdout",
     "output_type": "stream",
     "text": [
      "1:hello 1:world 2:spark\n"
     ]
    }
   ],
   "source": [
    "zero = (\"\", 1)\n",
    "\n",
    "result = rdd.aggregate(zero, seq_op, comb_op)[0]\n",
    "print(result)"
   ]
  },
  {
   "cell_type": "code",
   "execution_count": 359,
   "id": "b34e831e-6174-4463-9176-a887bc6eab73",
   "metadata": {},
   "outputs": [
    {
     "name": "stdout",
     "output_type": "stream",
     "text": [
      "1:spark 2:hadoop 1:ai 2:python 3:sql\n"
     ]
    }
   ],
   "source": [
    "rdd = sc.parallelize([\"spark\", \"hadoop\", \"ai\", \"python\", \"sql\"])\n",
    "result = rdd.aggregate(zero, seq_op, comb_op)[0]\n",
    "print(result)"
   ]
  },
  {
   "cell_type": "code",
   "execution_count": 360,
   "id": "c3fb776e-890e-4974-bb22-5b5df6609115",
   "metadata": {},
   "outputs": [
    {
     "name": "stdout",
     "output_type": "stream",
     "text": [
      "길이 5 이상인 문자열 개수: 3\n"
     ]
    }
   ],
   "source": [
    "# 길이가 5 이상인 문자열 개수 세기\n",
    "rdd = sc.parallelize([\"spark\", \"hadoop\", \"ai\", \"python\", \"sql\"])\n",
    "\n",
    "result = rdd.aggregate(\n",
    "    0,\n",
    "    lambda acc, value: acc + (1 if len(value) >= 5 else 0),\n",
    "    lambda acc1, acc2: acc1 + acc2\n",
    ")\n",
    "\n",
    "print(\"길이 5 이상인 문자열 개수:\", result)\n"
   ]
  },
  {
   "cell_type": "code",
   "execution_count": 367,
   "id": "3635ba20-75cc-462e-a34f-ccd764f947e1",
   "metadata": {},
   "outputs": [],
   "source": [
    "spark.stop()"
   ]
  },
  {
   "cell_type": "code",
   "execution_count": 368,
   "id": "5bac32e8-76ee-487a-9dab-824f52bf46c9",
   "metadata": {},
   "outputs": [],
   "source": [
    "from pyspark import SparkConf, SparkContext\n",
    "conf = SparkConf().setMaster(\"local\").setAppName(\"spark_sql_basic2\")\n",
    "sc   = SparkContext(conf=conf)"
   ]
  },
  {
   "cell_type": "code",
   "execution_count": 369,
   "id": "f63c8ece-da42-414f-90df-3b2a8c442b0f",
   "metadata": {},
   "outputs": [],
   "source": [
    "movies_rdd = sc.parallelize([\n",
    "    (1, (\"어벤져스\", \"마블\")),\n",
    "    (2, (\"슈퍼맨\", \"DC\")),\n",
    "    (3, (\"배트맨\", \"DC\")),\n",
    "    (4, (\"겨울왕국\", \"디즈니\")),\n",
    "    (5, (\"아이언맨\", \"마블\"))\n",
    "])\n",
    "\n",
    "\n",
    "attendances_rdd = sc.parallelize([\n",
    "    (1, (13934592, \"KR\")),\n",
    "    (2, (2182227,\"KR\")),\n",
    "    (3, (4226242, \"KR\")),\n",
    "    (4, (10303058, \"KR\")),\n",
    "    (5, (4300365, \"KR\"))\n",
    "])"
   ]
  },
  {
   "cell_type": "code",
   "execution_count": 380,
   "id": "837f4646-ebed-4944-8f65-e181668a5f2e",
   "metadata": {},
   "outputs": [],
   "source": [
    "sc.stop()"
   ]
  },
  {
   "cell_type": "code",
   "execution_count": 386,
   "id": "f832a757-7073-4b28-8ca4-2c402a9f9986",
   "metadata": {},
   "outputs": [],
   "source": [
    "spark.stop()"
   ]
  },
  {
   "cell_type": "code",
   "execution_count": 372,
   "id": "3f339c11-2a20-4d87-a304-293c62d9c935",
   "metadata": {},
   "outputs": [
    {
     "data": {
      "text/plain": [
       "[(2, (('슈퍼맨', 'DC'), (2182227, 'KR'))),\n",
       " (4, (('겨울왕국', '디즈니'), (10303058, 'KR'))),\n",
       " (1, (('어벤져스', '마블'), (13934592, 'KR'))),\n",
       " (3, (('배트맨', 'DC'), (4226242, 'KR'))),\n",
       " (5, (('아이언맨', '마블'), (4300365, 'KR')))]"
      ]
     },
     "execution_count": 372,
     "metadata": {},
     "output_type": "execute_result"
    }
   ],
   "source": [
    "# CASE1. join 먼저, filter 나중에\n",
    "movie_att = movies_rdd.join(attendances_rdd)\n",
    "movie_att.take(5)"
   ]
  },
  {
   "cell_type": "code",
   "execution_count": 373,
   "id": "e73f1955-bcbb-42a4-8685-d1f7eee8d68e",
   "metadata": {},
   "outputs": [
    {
     "data": {
      "text/plain": [
       "[(1, (('어벤져스', '마블'), (13934592, 'KR')))]"
      ]
     },
     "execution_count": 373,
     "metadata": {},
     "output_type": "execute_result"
    }
   ],
   "source": [
    "movie_att.filter(\n",
    "    lambda x : x[1][0][1] == \"마블\" and x[1][1][0] > 5000000\n",
    ").collect()"
   ]
  },
  {
   "cell_type": "code",
   "execution_count": 371,
   "id": "73da751b-f2a7-43ed-b9c8-56454dc126c4",
   "metadata": {},
   "outputs": [
    {
     "data": {
      "text/plain": [
       "[(1, (('어벤져스', '마블'), (13934592, 'KR')))]"
      ]
     },
     "execution_count": 371,
     "metadata": {},
     "output_type": "execute_result"
    }
   ],
   "source": [
    "# CASE 2. filter 먼저, join 나중에\n",
    "filtered_movies = movies_rdd.filter(lambda x : x[1][1] == '마블')\n",
    "filtered_att = attendances_rdd.filter(lambda x : x[1][0] > 5000000)\n",
    "\n",
    "filtered_movies.join(filtered_att).collect()"
   ]
  },
  {
   "cell_type": "code",
   "execution_count": 388,
   "id": "3a0442ca-c4b4-4ee7-a139-223d6814c512",
   "metadata": {},
   "outputs": [],
   "source": [
    "from pyspark.sql import SparkSession\n",
    "spark = SparkSession.builder.master(\"local\").appName(\"spark-sql\").getOrCreate()"
   ]
  },
  {
   "cell_type": "code",
   "execution_count": 387,
   "id": "61481653-c230-4527-85f6-16db0f67c5bb",
   "metadata": {},
   "outputs": [],
   "source": [
    "# 컬럼 추가\n",
    "movies = [\n",
    "    (1, \"어벤져스\", \"마블\", 2012, 4, 26),\n",
    "    (2, \"슈퍼맨\", \"DC\", 2013, 6, 13),\n",
    "    (3, \"배트맨\", \"DC\", 2008, 8, 6),\n",
    "    (4, \"겨울왕국\", \"디즈니\", 2014, 1, 16),\n",
    "    (5, \"아이언맨\", \"마블\", 2008, 4, 30)\n",
    "]\n"
   ]
  },
  {
   "cell_type": "code",
   "execution_count": 389,
   "id": "45b248ad-4a5a-427c-874a-e029e6d88d6f",
   "metadata": {},
   "outputs": [],
   "source": [
    "#스키마를 알아야 한다.\n",
    "movie_schema = [\"id\", \"name\", \"company\", \"year\", \"month\", \"day\"]"
   ]
  },
  {
   "cell_type": "code",
   "execution_count": 390,
   "id": "fa74efde-7e76-4c2e-9931-664f23576650",
   "metadata": {},
   "outputs": [],
   "source": [
    "df = spark.createDataFrame(data=movies, schema=movie_schema)"
   ]
  },
  {
   "cell_type": "code",
   "execution_count": 392,
   "id": "e3ce7927-5c74-4c82-8e05-6244c1f60510",
   "metadata": {},
   "outputs": [
    {
     "name": "stdout",
     "output_type": "stream",
     "text": [
      "+--------+\n",
      "|    name|\n",
      "+--------+\n",
      "|어벤져스|\n",
      "|  슈퍼맨|\n",
      "|  배트맨|\n",
      "|겨울왕국|\n",
      "|아이언맨|\n",
      "+--------+\n",
      "\n"
     ]
    }
   ],
   "source": [
    "df.select(\"name\").show()"
   ]
  },
  {
   "cell_type": "code",
   "execution_count": 393,
   "id": "1d9a03cd-45a9-4b2d-9306-e78bb0fd04d4",
   "metadata": {},
   "outputs": [
    {
     "name": "stdout",
     "output_type": "stream",
     "text": [
      "+---+--------+-------+----+-----+---+\n",
      "| id|    name|company|year|month|day|\n",
      "+---+--------+-------+----+-----+---+\n",
      "|  1|어벤져스|   마블|2012|    4| 26|\n",
      "|  2|  슈퍼맨|     DC|2013|    6| 13|\n",
      "|  4|겨울왕국| 디즈니|2014|    1| 16|\n",
      "+---+--------+-------+----+-----+---+\n",
      "\n"
     ]
    }
   ],
   "source": [
    "df.filter(df.year >= 2010).show()"
   ]
  },
  {
   "cell_type": "code",
   "execution_count": 397,
   "id": "38035340-05da-490d-ad86-51e433ee8f07",
   "metadata": {},
   "outputs": [],
   "source": [
    "df.createOrReplaceTempView(\"movies\")"
   ]
  },
  {
   "cell_type": "code",
   "execution_count": 398,
   "id": "0b995c1a-663a-43e4-8160-4a7ebb2b93c4",
   "metadata": {},
   "outputs": [
    {
     "name": "stdout",
     "output_type": "stream",
     "text": [
      "+--------+\n",
      "|    name|\n",
      "+--------+\n",
      "|어벤져스|\n",
      "|  슈퍼맨|\n",
      "|  배트맨|\n",
      "|겨울왕국|\n",
      "|아이언맨|\n",
      "+--------+\n",
      "\n"
     ]
    }
   ],
   "source": [
    "# 영화 이름만 가져오기\n",
    "\n",
    "query = \"\"\"\n",
    "\n",
    "SELECT name\n",
    "  FROM movies\n",
    "\n",
    "\"\"\"\n",
    "spark.sql(query).show()"
   ]
  },
  {
   "cell_type": "code",
   "execution_count": 400,
   "id": "916b69d2-a009-42a3-aa00-b2e7d5743ce1",
   "metadata": {},
   "outputs": [
    {
     "data": {
      "text/plain": [
       "['id', 'name', 'company', 'year', 'month', 'day']"
      ]
     },
     "execution_count": 400,
     "metadata": {},
     "output_type": "execute_result"
    }
   ],
   "source": [
    "df.columns"
   ]
  },
  {
   "cell_type": "code",
   "execution_count": 401,
   "id": "d4f10216-baa2-4cd3-92e5-3db6e27bea0b",
   "metadata": {},
   "outputs": [
    {
     "data": {
      "text/plain": [
       "[('id', 'bigint'),\n",
       " ('name', 'string'),\n",
       " ('company', 'string'),\n",
       " ('year', 'bigint'),\n",
       " ('month', 'bigint'),\n",
       " ('day', 'bigint')]"
      ]
     },
     "execution_count": 401,
     "metadata": {},
     "output_type": "execute_result"
    }
   ],
   "source": [
    "df.dtypes"
   ]
  },
  {
   "cell_type": "code",
   "execution_count": 410,
   "id": "1089eb03-2655-4988-9f01-fb5f5ce92506",
   "metadata": {},
   "outputs": [
    {
     "name": "stdout",
     "output_type": "stream",
     "text": [
      "+--------+\n",
      "|    name|\n",
      "+--------+\n",
      "|어벤져스|\n",
      "|  슈퍼맨|\n",
      "|  배트맨|\n",
      "|겨울왕국|\n",
      "|아이언맨|\n",
      "+--------+\n",
      "\n"
     ]
    }
   ],
   "source": [
    "df.select(\"name\").show()"
   ]
  },
  {
   "cell_type": "code",
   "execution_count": 403,
   "id": "0019e0f0-4d3e-4923-b7bb-9810b7c6a742",
   "metadata": {},
   "outputs": [
    {
     "name": "stdout",
     "output_type": "stream",
     "text": [
      "+--------+\n",
      "|    name|\n",
      "+--------+\n",
      "|어벤져스|\n",
      "|  슈퍼맨|\n",
      "|겨울왕국|\n",
      "+--------+\n",
      "\n"
     ]
    }
   ],
   "source": [
    "# 2010년 이후에 개봉한 영화를 조회\n",
    "\n",
    "query = \"\"\"\n",
    "\n",
    "SELECT name\n",
    "  FROM movies where year>2010\n",
    "\n",
    "\"\"\"\n",
    "spark.sql(query).show()"
   ]
  },
  {
   "cell_type": "code",
   "execution_count": 404,
   "id": "8b812804-545a-483f-98bc-5830645050a3",
   "metadata": {},
   "outputs": [
    {
     "name": "stdout",
     "output_type": "stream",
     "text": [
      "+--------+\n",
      "|    name|\n",
      "+--------+\n",
      "|  배트맨|\n",
      "|아이언맨|\n",
      "+--------+\n",
      "\n"
     ]
    }
   ],
   "source": [
    "# 2012년도 이전에 개봉한 영화의 이름과 회사를 출력\n",
    "query = \"\"\"\n",
    "SELECT name\n",
    "  FROM movies where year<2012\n",
    "\n",
    "\"\"\"\n",
    "spark.sql(query).show()"
   ]
  },
  {
   "cell_type": "code",
   "execution_count": 411,
   "id": "57305da1-617b-49b1-a932-4af1e3f8d0cf",
   "metadata": {},
   "outputs": [
    {
     "name": "stdout",
     "output_type": "stream",
     "text": [
      "+--------+\n",
      "|    name|\n",
      "+--------+\n",
      "|  슈퍼맨|\n",
      "|  배트맨|\n",
      "|아이언맨|\n",
      "+--------+\n",
      "\n"
     ]
    }
   ],
   "source": [
    "# like 문자열 데이터에서 특정 단어나 문장을 포함한 데이터를 찾을 때\n",
    "# % 기호를 사용해서 문장이 매칭되는지 확인 가능!\n",
    "# 제목이 ~~맨으로 끝나는 데이터의 모든 정보를 조회\n",
    "query = \"\"\"\n",
    "\n",
    "SELECT name\n",
    "  FROM movies where name like \"_%맨\"\n",
    "\n",
    "\"\"\"\n",
    "spark.sql(query).show()"
   ]
  },
  {
   "cell_type": "code",
   "execution_count": 412,
   "id": "ede2e190-2108-4104-ad7f-9275df5d8cf5",
   "metadata": {},
   "outputs": [
    {
     "name": "stdout",
     "output_type": "stream",
     "text": [
      "+---+--------+-------+----+-----+---+\n",
      "| id|    name|company|year|month|day|\n",
      "+---+--------+-------+----+-----+---+\n",
      "|  1|어벤져스|   마블|2012|    4| 26|\n",
      "|  2|  슈퍼맨|     DC|2013|    6| 13|\n",
      "|  4|겨울왕국| 디즈니|2014|    1| 16|\n",
      "+---+--------+-------+----+-----+---+\n",
      "\n"
     ]
    }
   ],
   "source": [
    "df.filter(df.year >2010).show()"
   ]
  },
  {
   "cell_type": "code",
   "execution_count": 413,
   "id": "af1fb262-0beb-43f9-81b5-8716f77a21c4",
   "metadata": {},
   "outputs": [
    {
     "name": "stdout",
     "output_type": "stream",
     "text": [
      "+---+\n",
      "|day|\n",
      "+---+\n",
      "| 26|\n",
      "| 13|\n",
      "|  6|\n",
      "| 16|\n",
      "| 30|\n",
      "+---+\n",
      "\n"
     ]
    }
   ],
   "source": [
    "df.select(\"day\").show()"
   ]
  },
  {
   "cell_type": "code",
   "execution_count": 420,
   "id": "b9ad451b-7bda-47c5-9e5e-1593218cc3b9",
   "metadata": {},
   "outputs": [
    {
     "name": "stdout",
     "output_type": "stream",
     "text": [
      "+---+-----+----+\n",
      "|day|month|year|\n",
      "+---+-----+----+\n",
      "| 26|    4|2012|\n",
      "| 13|    6|2013|\n",
      "|  6|    8|2008|\n",
      "| 16|    1|2014|\n",
      "| 30|    4|2008|\n",
      "+---+-----+----+\n",
      "\n"
     ]
    }
   ],
   "source": [
    "df.select(\"day\", \"month\", \"year\" ).show()"
   ]
  },
  {
   "cell_type": "code",
   "execution_count": 425,
   "id": "c8b2f4ae-171f-470f-9343-606cb234aa5a",
   "metadata": {},
   "outputs": [
    {
     "name": "stdout",
     "output_type": "stream",
     "text": [
      "+---+--------+-------+----+-----+---+\n",
      "| id|    name|company|year|month|day|\n",
      "+---+--------+-------+----+-----+---+\n",
      "|  4|겨울왕국| 디즈니|2014|    1| 16|\n",
      "+---+--------+-------+----+-----+---+\n",
      "\n"
     ]
    }
   ],
   "source": [
    "df.filter(df.year >2013).show()"
   ]
  },
  {
   "cell_type": "code",
   "execution_count": 438,
   "id": "a488d03b-b83e-409a-a1c8-f684dc61408f",
   "metadata": {},
   "outputs": [
    {
     "name": "stdout",
     "output_type": "stream",
     "text": [
      "+---+--------+-------+----+-----+---+\n",
      "| id|    name|company|year|month|day|\n",
      "+---+--------+-------+----+-----+---+\n",
      "|  1|어벤져스|   마블|2012|    4| 26|\n",
      "|  2|  슈퍼맨|     DC|2013|    6| 13|\n",
      "|  3|  배트맨|     DC|2008|    8|  6|\n",
      "|  5|아이언맨|   마블|2008|    4| 30|\n",
      "+---+--------+-------+----+-----+---+\n",
      "\n"
     ]
    }
   ],
   "source": [
    "df.filter((df.company ==\"마블\") | (df.company ==\"DC\") ).show()"
   ]
  },
  {
   "cell_type": "code",
   "execution_count": 440,
   "id": "6724195b-a93c-42d8-9a81-d3c427d7d167",
   "metadata": {},
   "outputs": [
    {
     "name": "stdout",
     "output_type": "stream",
     "text": [
      "+--------+-----------------------------+\n",
      "|    name|((month > 4) AND (month < 8))|\n",
      "+--------+-----------------------------+\n",
      "|어벤져스|                        false|\n",
      "|  슈퍼맨|                         true|\n",
      "|  배트맨|                        false|\n",
      "|겨울왕국|                        false|\n",
      "|아이언맨|                        false|\n",
      "+--------+-----------------------------+\n",
      "\n"
     ]
    }
   ],
   "source": [
    "df.select(df.name, (df.month>4) & (df.month<8) ).show()"
   ]
  },
  {
   "cell_type": "code",
   "execution_count": 442,
   "id": "fc50bbde-1311-4803-8f8d-1effdcd489b5",
   "metadata": {},
   "outputs": [
    {
     "name": "stdout",
     "output_type": "stream",
     "text": [
      "+---+--------+-------+----+-----+---+\n",
      "| id|    name|company|year|month|day|\n",
      "+---+--------+-------+----+-----+---+\n",
      "|  1|어벤져스|   마블|2012|    4| 26|\n",
      "|  2|  슈퍼맨|     DC|2013|    6| 13|\n",
      "|  3|  배트맨|     DC|2008|    8|  6|\n",
      "|  5|아이언맨|   마블|2008|    4| 30|\n",
      "+---+--------+-------+----+-----+---+\n",
      "\n"
     ]
    }
   ],
   "source": [
    "df.filter((df.month >= 4) & (df.month <= 8)).show()"
   ]
  }
 ],
 "metadata": {
  "kernelspec": {
   "display_name": "Python 3 (ipykernel)",
   "language": "python",
   "name": "python3"
  },
  "language_info": {
   "codemirror_mode": {
    "name": "ipython",
    "version": 3
   },
   "file_extension": ".py",
   "mimetype": "text/x-python",
   "name": "python",
   "nbconvert_exporter": "python",
   "pygments_lexer": "ipython3",
   "version": "3.11.6"
  }
 },
 "nbformat": 4,
 "nbformat_minor": 5
}
