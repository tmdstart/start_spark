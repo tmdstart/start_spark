{
 "cells": [
  {
   "cell_type": "code",
   "execution_count": 84,
   "id": "e69aa320-7125-43ea-a189-244b6d75d88b",
   "metadata": {},
   "outputs": [],
   "source": [
    "from pyspark.ml.feature import VectorAssembler\n",
    "from pyspark.sql.functions import udf\n",
    "from pyspark.sql.types import IntegerType\n",
    "from pyspark.sql.functions import regexp_extract, col\n",
    "import re"
   ]
  },
  {
   "cell_type": "code",
   "execution_count": 89,
   "id": "e88af9f5-0396-419d-9cb2-f441bbdbb2f2",
   "metadata": {},
   "outputs": [
    {
     "data": {
      "text/plain": [
       "'/home/jovyan/work/start_spark/start_spark/running_spark_data/redwine3.csv'"
      ]
     },
     "execution_count": 89,
     "metadata": {},
     "output_type": "execute_result"
    }
   ],
   "source": [
    "import os \n",
    "cwd = os.getcwd()\n",
    "wine_data_path= os.path.join(cwd, 'running_spark_data/redwine3.csv')\n",
    "wine_data_path"
   ]
  },
  {
   "cell_type": "code",
   "execution_count": 90,
   "id": "630cd9e1-509f-4192-bc94-0091bb0bc85d",
   "metadata": {},
   "outputs": [
    {
     "data": {
      "text/plain": [
       "'file:////home/jovyan/work/start_spark/start_spark/running_spark_data/redwine3.csv'"
      ]
     },
     "execution_count": 90,
     "metadata": {},
     "output_type": "execute_result"
    }
   ],
   "source": [
    "file_path = f\"file:///{wine_data_path.replace(os.sep,'/')}\"\n",
    "file_path"
   ]
  },
  {
   "cell_type": "code",
   "execution_count": 91,
   "id": "72674e11-2aae-4b0a-a80d-d5e528c18d12",
   "metadata": {},
   "outputs": [],
   "source": [
    "from pyspark.sql import SparkSession\n",
    "MAX_MEMORY ='8g'\n",
    "spark = SparkSession.builder.appName(\"practice_wine\").config('spark.driver.memory',MAX_MEMORY).config('spark.executer.memory',MAX_MEMORY).getOrCreate()"
   ]
  },
  {
   "cell_type": "code",
   "execution_count": 92,
   "id": "98e6cfea-2a9e-426e-89dc-95c297a1e4d1",
   "metadata": {},
   "outputs": [
    {
     "name": "stdout",
     "output_type": "stream",
     "text": [
      "root\n",
      " |-- _c0: integer (nullable = true)\n",
      " |-- id: integer (nullable = true)\n",
      " |-- name: string (nullable = true)\n",
      " |-- producer: string (nullable = true)\n",
      " |-- nation: string (nullable = true)\n",
      " |-- local1: string (nullable = true)\n",
      " |-- local2: string (nullable = true)\n",
      " |-- local3: string (nullable = true)\n",
      " |-- local4: string (nullable = true)\n",
      " |-- varieties1: string (nullable = true)\n",
      " |-- varieties2: string (nullable = true)\n",
      " |-- varieties3: string (nullable = true)\n",
      " |-- varieties4: string (nullable = true)\n",
      " |-- varieties5: string (nullable = true)\n",
      " |-- varieties6: string (nullable = true)\n",
      " |-- varieties7: string (nullable = true)\n",
      " |-- varieties8: string (nullable = true)\n",
      " |-- varieties9: string (nullable = true)\n",
      " |-- varieties10: string (nullable = true)\n",
      " |-- varieties11: string (nullable = true)\n",
      " |-- varieties12: string (nullable = true)\n",
      " |-- type: string (nullable = true)\n",
      " |-- use: string (nullable = true)\n",
      " |-- abv: string (nullable = true)\n",
      " |-- degree: string (nullable = true)\n",
      " |-- sweet: string (nullable = true)\n",
      " |-- acidity: string (nullable = true)\n",
      " |-- body: string (nullable = true)\n",
      " |-- tannin: string (nullable = true)\n",
      " |-- price: integer (nullable = true)\n",
      " |-- year: integer (nullable = true)\n",
      " |-- ml: integer (nullable = true)\n",
      "\n"
     ]
    }
   ],
   "source": [
    "wine_df = spark.read.csv(wine_data_path, header=True, inferSchema=True)\n",
    "wine_df.printSchema()"
   ]
  },
  {
   "cell_type": "code",
   "execution_count": 93,
   "id": "c4b2e2b3-e8bd-497f-8a05-417ace27357c",
   "metadata": {},
   "outputs": [],
   "source": [
    "from pyspark.sql.functions import regexp_extract, col\n",
    "\n",
    "wine_df = wine_df.withColumn('sweet', regexp_extract(col('sweet'), r'\\d+', 0).cast('int'))\n",
    "wine_df = wine_df.withColumn('acidity', regexp_extract(col('acidity'), r'\\d+', 0).cast('int'))\n",
    "wine_df = wine_df.withColumn('body', regexp_extract(col('body'), r'\\d+', 0).cast('int'))\n",
    "wine_df = wine_df.withColumn('tannin', regexp_extract(col('tannin'), r'\\d+', 0).cast('int'))"
   ]
  },
  {
   "cell_type": "code",
   "execution_count": 94,
   "id": "41bbf844-986f-46d0-90ef-161f3274dadf",
   "metadata": {},
   "outputs": [
    {
     "name": "stdout",
     "output_type": "stream",
     "text": [
      "\n",
      "--- 생산지 상위 27개, 품종 상위 30개로 필터링 시작 ---\n",
      "생산지 27개, 품종 30개로 필터링된 데이터 수: 4313개\n"
     ]
    }
   ],
   "source": [
    "from pyspark.sql.functions import col, sum, desc, expr\n",
    "from functools import reduce\n",
    "\n",
    "def filter_by_top_n(df, limit_local1, limit_variety):\n",
    "    \"\"\"\n",
    "    지정된 상위 N개 생산지와 품종으로 데이터프레임을 필터링하는 함수.\n",
    "\n",
    "    :param df: PySpark DataFrame (wine_df)\n",
    "    :param limit_local1: 상위 생산지 개수\n",
    "    :param limit_variety: 상위 품종 개수\n",
    "    :return: 필터링된 DataFrame과 그 개수\n",
    "    \"\"\"\n",
    "    \n",
    "    print(f\"\\n--- 생산지 상위 {limit_local1}개, 품종 상위 {limit_variety}개로 필터링 시작 ---\")\n",
    "    \n",
    "    # 1. 생산지(local1) 상위 목록 추출\n",
    "    top_local1_list = [\n",
    "        row.local1 for row in df.groupBy(\"local1\")\n",
    "                                 .agg(sum(\"ml\").alias(\"total_ml\"))\n",
    "                                 .orderBy(desc(\"total_ml\"))\n",
    "                                 .limit(limit_local1)\n",
    "                                 .collect()\n",
    "    ]\n",
    "    \n",
    "    # 2. 품종(varieties1 ~ varieties12) 상위 목록 추출\n",
    "    varieties_cols = [f\"varieties{i}\" for i in range(1, 13)]\n",
    "    stack_expr = expr(\"stack(12, \" + \", \".join(f\"'{c}', `{c}`\" for c in varieties_cols) + \") as (col_name, variety)\")\n",
    "    \n",
    "    top_variety_df = (\n",
    "        df.select(col(\"ml\"), stack_expr)\n",
    "        .groupBy(\"variety\")\n",
    "        .agg(sum(\"ml\").alias(\"total_ml\"))\n",
    "        .orderBy(desc(\"total_ml\"))\n",
    "        .filter(col(\"variety\").isNotNull())\n",
    "        .limit(limit_variety)\n",
    "    )\n",
    "    top_variety_list = [row.variety for row in top_variety_df.collect()]\n",
    "    \n",
    "    # 3. 필터링 실행\n",
    "    variety_filter_condition = reduce(\n",
    "        lambda x, y: x | y, \n",
    "        [col(variety).isin(top_variety_list) for variety in varieties_cols]\n",
    "    )\n",
    "    filtered_df = df.filter(\n",
    "        col(\"local1\").isin(top_local1_list) & \n",
    "        variety_filter_condition\n",
    "    )\n",
    "    \n",
    "    # 4. 결과 반환\n",
    "    filtered_count = filtered_df.count()\n",
    "    return filtered_df, filtered_count\n",
    "\n",
    "# 사용 예시\n",
    "# 데이터프레임 'wine_df'는 미리 선언되어 있어야 합니다.\n",
    "\n",
    "\n",
    "\n",
    "# 예시 3: 생산지 상위 30개, 품종 상위 25개\n",
    "filtered_df, count_27_30 = filter_by_top_n(wine_df, 27, 30)\n",
    "print(f\"생산지 27개, 품종 30개로 필터링된 데이터 수: {count_27_30}개\")"
   ]
  },
  {
   "cell_type": "code",
   "execution_count": 95,
   "id": "1d67726c-bd4b-416b-aebf-c1b544583042",
   "metadata": {},
   "outputs": [],
   "source": [
    "wine_df=filtered_df"
   ]
  },
  {
   "cell_type": "code",
   "execution_count": 96,
   "id": "ef6ddcff-0a51-496f-96d8-9af2b420917d",
   "metadata": {},
   "outputs": [
    {
     "name": "stdout",
     "output_type": "stream",
     "text": [
      "+-----+-----------+\n",
      "|  abv|numeric_abv|\n",
      "+-----+-----------+\n",
      "|14~15|       14.5|\n",
      "|14~15|       14.5|\n",
      "|13~14|       13.5|\n",
      "|13~14|       13.5|\n",
      "|13~14|       13.5|\n",
      "|12~13|       12.5|\n",
      "|12~13|       12.5|\n",
      "| 13.5|       13.5|\n",
      "|13~14|       13.5|\n",
      "|13~14|       13.5|\n",
      "+-----+-----------+\n",
      "only showing top 10 rows\n",
      "\n",
      "root\n",
      " |-- _c0: integer (nullable = true)\n",
      " |-- id: integer (nullable = true)\n",
      " |-- name: string (nullable = true)\n",
      " |-- producer: string (nullable = true)\n",
      " |-- nation: string (nullable = true)\n",
      " |-- local1: string (nullable = true)\n",
      " |-- local2: string (nullable = true)\n",
      " |-- local3: string (nullable = true)\n",
      " |-- local4: string (nullable = true)\n",
      " |-- varieties1: string (nullable = true)\n",
      " |-- varieties2: string (nullable = true)\n",
      " |-- varieties3: string (nullable = true)\n",
      " |-- varieties4: string (nullable = true)\n",
      " |-- varieties5: string (nullable = true)\n",
      " |-- varieties6: string (nullable = true)\n",
      " |-- varieties7: string (nullable = true)\n",
      " |-- varieties8: string (nullable = true)\n",
      " |-- varieties9: string (nullable = true)\n",
      " |-- varieties10: string (nullable = true)\n",
      " |-- varieties11: string (nullable = true)\n",
      " |-- varieties12: string (nullable = true)\n",
      " |-- type: string (nullable = true)\n",
      " |-- use: string (nullable = true)\n",
      " |-- abv: string (nullable = true)\n",
      " |-- degree: string (nullable = true)\n",
      " |-- sweet: integer (nullable = true)\n",
      " |-- acidity: integer (nullable = true)\n",
      " |-- body: integer (nullable = true)\n",
      " |-- tannin: integer (nullable = true)\n",
      " |-- price: integer (nullable = true)\n",
      " |-- year: integer (nullable = true)\n",
      " |-- ml: integer (nullable = true)\n",
      " |-- numeric_abv: float (nullable = true)\n",
      "\n"
     ]
    }
   ],
   "source": [
    "from pyspark.sql.functions import udf, col\n",
    "from pyspark.sql.types import FloatType\n",
    "import re\n",
    "\n",
    "# UDF(사용자 정의 함수) 생성\n",
    "# '12~13' 형태의 문자열을 받아 평균값(12.5)을 반환하는 함수입니다.\n",
    "@udf(FloatType())\n",
    "def calculate_average_abv(abv_str):\n",
    "    if abv_str is None:\n",
    "        return None\n",
    "    \n",
    "    # 숫자만 추출하기 위해 ~ 기호로 분리\n",
    "    parts = abv_str.split('~')\n",
    "    \n",
    "    try:\n",
    "        if len(parts) == 2:\n",
    "            # '12~13'인 경우: (12+13)/2\n",
    "            return (float(parts[0]) + float(parts[1])) / 2\n",
    "        elif len(parts) == 1:\n",
    "            # '12'인 경우: 12\n",
    "            return float(parts[0])\n",
    "        else:\n",
    "            # 예상치 못한 형식인 경우: None 반환\n",
    "            return None\n",
    "    except (ValueError, IndexError):\n",
    "        # 숫자로 변환할 수 없는 경우 None 반환\n",
    "        return None\n",
    "\n",
    "# 'final_clean_df'에 새로운 'numeric_abv' 컬럼 추가\n",
    "# 기존 abv 컬럼은 유지하고, 변환된 값을 새로운 컬럼에 저장합니다.\n",
    "final_clean_df_with_numeric_abv = wine_df.withColumn(\n",
    "    \"numeric_abv\", \n",
    "    calculate_average_abv(col(\"abv\"))\n",
    ")\n",
    "\n",
    "# 결과 확인 (원하는 만큼의 행을 보여줍니다)\n",
    "final_clean_df_with_numeric_abv.select(\"abv\", \"numeric_abv\").show(10)\n",
    "final_clean_df_with_numeric_abv.printSchema()"
   ]
  },
  {
   "cell_type": "code",
   "execution_count": 97,
   "id": "e46cae73-366a-4a5d-827f-574b17d138fa",
   "metadata": {},
   "outputs": [
    {
     "name": "stdout",
     "output_type": "stream",
     "text": [
      "+---+------+--------------------+--------+------+---------------+--------------------+------+------+------------------+------------------+----------+--------------+--------------+------------+----------+----------+----------+-----------+-----------+-----------+----+-----+-----+------+-----+-------+----+------+------+----+---+-----------+\n",
      "|_c0|    id|                name|producer|nation|         local1|              local2|local3|local4|        varieties1|        varieties2|varieties3|    varieties4|    varieties5|  varieties6|varieties7|varieties8|varieties9|varieties10|varieties11|varieties12|type|  use|  abv|degree|sweet|acidity|body|tannin| price|year| ml|numeric_abv|\n",
      "+---+------+--------------------+--------+------+---------------+--------------------+------+------+------------------+------------------+----------+--------------+--------------+------------+----------+----------+----------+-----------+-----------+-----------+----+-----+-----+------+-----+-------+----+------+------+----+---+-----------+\n",
      "|  0|137197|              Altair|  Altair| Chile|   Rapel Valley|                NULL|  NULL|  NULL|Cabernet Sauvignon|         Carmenere|    Merlot|          NULL|          NULL|        NULL|      NULL|      NULL|      NULL|       NULL|       NULL|       NULL| Red|Table|14~15| 17~19|    1|      4|   5|     4|220000|2014|750|       14.5|\n",
      "|  1|137198|     Altair, Sideral|  Altair| Chile|   Rapel Valley|                NULL|  NULL|  NULL|Cabernet Sauvignon|            Merlot| Carmenere|Cabernet Franc|Syrah & Shiraz|Petit Verdot|      NULL|      NULL|      NULL|       NULL|       NULL|       NULL| Red|Table|14~15| 16~18|    1|      3|   4|     4|110000|2016|750|       14.5|\n",
      "|  7|137204|Calvet, Bordeaux Red|  Calvet|France|       Bordeaux|                NULL|  NULL|  NULL|            Merlot|Cabernet Sauvignon|      NULL|          NULL|          NULL|        NULL|      NULL|      NULL|      NULL|       NULL|       NULL|       NULL| Red|Table|13~14| 16~18|    1|      3|   2|     3| 21000|2011|750|       13.5|\n",
      "|  9|137207|Calvet, Varietals...|  Calvet|France|Southern France|Languedoc Roussillon|  NULL|  NULL|Cabernet Sauvignon|              NULL|      NULL|          NULL|          NULL|        NULL|      NULL|      NULL|      NULL|       NULL|       NULL|       NULL| Red|Table|13~14| 16~18|    1|      3|   2|     3| 19000|2017|750|       13.5|\n",
      "| 10|137208|Calvet, Varietals...|  Calvet|France|Southern France|Languedoc Roussillon|  NULL|  NULL|            Merlot|              NULL|      NULL|          NULL|          NULL|        NULL|      NULL|      NULL|      NULL|       NULL|       NULL|       NULL| Red|Table|13~14| 16~18|    1|      3|   3|     3| 19000|2011|750|       13.5|\n",
      "+---+------+--------------------+--------+------+---------------+--------------------+------+------+------------------+------------------+----------+--------------+--------------+------------+----------+----------+----------+-----------+-----------+-----------+----+-----+-----+------+-----+-------+----+------+------+----+---+-----------+\n",
      "only showing top 5 rows\n",
      "\n",
      "root\n",
      " |-- _c0: integer (nullable = true)\n",
      " |-- id: integer (nullable = true)\n",
      " |-- name: string (nullable = true)\n",
      " |-- producer: string (nullable = true)\n",
      " |-- nation: string (nullable = true)\n",
      " |-- local1: string (nullable = true)\n",
      " |-- local2: string (nullable = true)\n",
      " |-- local3: string (nullable = true)\n",
      " |-- local4: string (nullable = true)\n",
      " |-- varieties1: string (nullable = true)\n",
      " |-- varieties2: string (nullable = true)\n",
      " |-- varieties3: string (nullable = true)\n",
      " |-- varieties4: string (nullable = true)\n",
      " |-- varieties5: string (nullable = true)\n",
      " |-- varieties6: string (nullable = true)\n",
      " |-- varieties7: string (nullable = true)\n",
      " |-- varieties8: string (nullable = true)\n",
      " |-- varieties9: string (nullable = true)\n",
      " |-- varieties10: string (nullable = true)\n",
      " |-- varieties11: string (nullable = true)\n",
      " |-- varieties12: string (nullable = true)\n",
      " |-- type: string (nullable = true)\n",
      " |-- use: string (nullable = true)\n",
      " |-- abv: string (nullable = true)\n",
      " |-- degree: string (nullable = true)\n",
      " |-- sweet: integer (nullable = true)\n",
      " |-- acidity: integer (nullable = true)\n",
      " |-- body: integer (nullable = true)\n",
      " |-- tannin: integer (nullable = true)\n",
      " |-- price: integer (nullable = true)\n",
      " |-- year: integer (nullable = true)\n",
      " |-- ml: integer (nullable = true)\n",
      " |-- numeric_abv: float (nullable = true)\n",
      "\n"
     ]
    }
   ],
   "source": [
    "# 'collect()'를 사용하지 않고 변수에 바로 할당\n",
    "wine_df = final_clean_df_with_numeric_abv\n",
    "\n",
    "# 이제 wine_df를 사용하면 numeric_abv 컬럼이 포함된 데이터프레임으로 작업할 수 있습니다.\n",
    "wine_df.show(5)\n",
    "wine_df.printSchema()"
   ]
  },
  {
   "cell_type": "code",
   "execution_count": 98,
   "id": "52b194e1-8453-42e1-87b9-4a3f152206d0",
   "metadata": {},
   "outputs": [
    {
     "name": "stdout",
     "output_type": "stream",
     "text": [
      "+---+------+--------------------+--------+------+---------------+--------------------+------+------+------------------+------------------+----------+--------------+--------------+------------+----------+----------+----------+-----------+-----------+-----------+----+-----+-----+------+-----+-------+----+------+------+----+---+-----------+\n",
      "|_c0|    id|                name|producer|nation|         local1|              local2|local3|local4|        varieties1|        varieties2|varieties3|    varieties4|    varieties5|  varieties6|varieties7|varieties8|varieties9|varieties10|varieties11|varieties12|type|  use|  abv|degree|sweet|acidity|body|tannin| price|year| ml|numeric_abv|\n",
      "+---+------+--------------------+--------+------+---------------+--------------------+------+------+------------------+------------------+----------+--------------+--------------+------------+----------+----------+----------+-----------+-----------+-----------+----+-----+-----+------+-----+-------+----+------+------+----+---+-----------+\n",
      "|  0|137197|              Altair|  Altair| Chile|   Rapel Valley|                NULL|  NULL|  NULL|Cabernet Sauvignon|         Carmenere|    Merlot|          NULL|          NULL|        NULL|      NULL|      NULL|      NULL|       NULL|       NULL|       NULL| Red|Table|14~15| 17~19|    1|      4|   5|     4|220000|2014|750|       14.5|\n",
      "|  1|137198|     Altair, Sideral|  Altair| Chile|   Rapel Valley|                NULL|  NULL|  NULL|Cabernet Sauvignon|            Merlot| Carmenere|Cabernet Franc|Syrah & Shiraz|Petit Verdot|      NULL|      NULL|      NULL|       NULL|       NULL|       NULL| Red|Table|14~15| 16~18|    1|      3|   4|     4|110000|2016|750|       14.5|\n",
      "|  7|137204|Calvet, Bordeaux Red|  Calvet|France|       Bordeaux|                NULL|  NULL|  NULL|            Merlot|Cabernet Sauvignon|      NULL|          NULL|          NULL|        NULL|      NULL|      NULL|      NULL|       NULL|       NULL|       NULL| Red|Table|13~14| 16~18|    1|      3|   2|     3| 21000|2011|750|       13.5|\n",
      "|  9|137207|Calvet, Varietals...|  Calvet|France|Southern France|Languedoc Roussillon|  NULL|  NULL|Cabernet Sauvignon|              NULL|      NULL|          NULL|          NULL|        NULL|      NULL|      NULL|      NULL|       NULL|       NULL|       NULL| Red|Table|13~14| 16~18|    1|      3|   2|     3| 19000|2017|750|       13.5|\n",
      "| 10|137208|Calvet, Varietals...|  Calvet|France|Southern France|Languedoc Roussillon|  NULL|  NULL|            Merlot|              NULL|      NULL|          NULL|          NULL|        NULL|      NULL|      NULL|      NULL|       NULL|       NULL|       NULL| Red|Table|13~14| 16~18|    1|      3|   3|     3| 19000|2011|750|       13.5|\n",
      "+---+------+--------------------+--------+------+---------------+--------------------+------+------+------------------+------------------+----------+--------------+--------------+------------+----------+----------+----------+-----------+-----------+-----------+----+-----+-----+------+-----+-------+----+------+------+----+---+-----------+\n",
      "only showing top 5 rows\n",
      "\n",
      "root\n",
      " |-- _c0: integer (nullable = true)\n",
      " |-- id: integer (nullable = true)\n",
      " |-- name: string (nullable = true)\n",
      " |-- producer: string (nullable = true)\n",
      " |-- nation: string (nullable = true)\n",
      " |-- local1: string (nullable = true)\n",
      " |-- local2: string (nullable = true)\n",
      " |-- local3: string (nullable = true)\n",
      " |-- local4: string (nullable = true)\n",
      " |-- varieties1: string (nullable = true)\n",
      " |-- varieties2: string (nullable = true)\n",
      " |-- varieties3: string (nullable = true)\n",
      " |-- varieties4: string (nullable = true)\n",
      " |-- varieties5: string (nullable = true)\n",
      " |-- varieties6: string (nullable = true)\n",
      " |-- varieties7: string (nullable = true)\n",
      " |-- varieties8: string (nullable = true)\n",
      " |-- varieties9: string (nullable = true)\n",
      " |-- varieties10: string (nullable = true)\n",
      " |-- varieties11: string (nullable = true)\n",
      " |-- varieties12: string (nullable = true)\n",
      " |-- type: string (nullable = true)\n",
      " |-- use: string (nullable = true)\n",
      " |-- abv: string (nullable = true)\n",
      " |-- degree: string (nullable = true)\n",
      " |-- sweet: integer (nullable = true)\n",
      " |-- acidity: integer (nullable = true)\n",
      " |-- body: integer (nullable = true)\n",
      " |-- tannin: integer (nullable = true)\n",
      " |-- price: integer (nullable = true)\n",
      " |-- year: integer (nullable = true)\n",
      " |-- ml: integer (nullable = true)\n",
      " |-- numeric_abv: float (nullable = true)\n",
      "\n"
     ]
    }
   ],
   "source": [
    "# 'collect()'를 사용하지 않고 변수에 바로 할당\n",
    "wine_df = final_clean_df_with_numeric_abv\n",
    "\n",
    "# 이제 wine_df를 사용하면 numeric_abv 컬럼이 포함된 데이터프레임으로 작업할 수 있습니다.\n",
    "wine_df.show(5)\n",
    "wine_df.printSchema()"
   ]
  },
  {
   "cell_type": "code",
   "execution_count": 99,
   "id": "e53eed81-6fc1-44e8-9a9f-511e739ecd64",
   "metadata": {},
   "outputs": [],
   "source": [
    "wine_df.createOrReplaceTempView('wines')"
   ]
  },
  {
   "cell_type": "code",
   "execution_count": 275,
   "id": "46080b38-4c28-41dd-9a6d-3a5b43668726",
   "metadata": {},
   "outputs": [],
   "source": [
    "query = \"\"\"\n",
    "SELECT \n",
    "    id,\n",
    "    nation,\n",
    "    local1,\n",
    "    varieties1,\n",
    "    numeric_abv,\n",
    "    sweet,\n",
    "    acidity,\n",
    "    body,\n",
    "    tannin,\n",
    "    year,\n",
    "    price\n",
    "FROM\n",
    "    wines\n",
    "\n",
    "\"\"\""
   ]
  },
  {
   "cell_type": "code",
   "execution_count": 276,
   "id": "49ac1987-92f2-4e9d-be77-45f60891064e",
   "metadata": {},
   "outputs": [],
   "source": [
    "wine_df = spark.sql(query)"
   ]
  },
  {
   "cell_type": "code",
   "execution_count": 277,
   "id": "a2d47d2e-16f7-4695-b66f-7e1e2b4329c9",
   "metadata": {},
   "outputs": [
    {
     "data": {
      "text/plain": [
       "4313"
      ]
     },
     "execution_count": 277,
     "metadata": {},
     "output_type": "execute_result"
    }
   ],
   "source": [
    "wine_df.count()"
   ]
  },
  {
   "cell_type": "code",
   "execution_count": 278,
   "id": "35e7e9e8-7459-4767-b428-d3fb2258da15",
   "metadata": {},
   "outputs": [],
   "source": [
    "stages = []"
   ]
  },
  {
   "cell_type": "code",
   "execution_count": 279,
   "id": "bb823f26-ef86-409e-a927-26a7474d0cbd",
   "metadata": {},
   "outputs": [],
   "source": [
    "train_df, test_df = wine_df.randomSplit([0.8,0.2], seed=5)"
   ]
  },
  {
   "cell_type": "code",
   "execution_count": 280,
   "id": "87e589b1-3811-4ec9-92ef-a2253f15108c",
   "metadata": {},
   "outputs": [],
   "source": [
    "from pyspark.sql.functions import concat, col, lit, log\n",
    "train_df = train_df.withColumn(\"local_varieties\", concat(col(\"local1\"), lit(\"_\"), col(\"varieties1\")))"
   ]
  },
  {
   "cell_type": "code",
   "execution_count": 281,
   "id": "79f27167-880b-4a39-9a3e-38b6a97ab2cf",
   "metadata": {},
   "outputs": [],
   "source": [
    "train_df = train_df.withColumn(\"log_price\", log(col(\"price\")))"
   ]
  },
  {
   "cell_type": "code",
   "execution_count": 282,
   "id": "805df317-87ae-4978-842c-32badbfd66cf",
   "metadata": {},
   "outputs": [
    {
     "name": "stdout",
     "output_type": "stream",
     "text": [
      "+-----------------------------------------------------------------------------------------------------------------------------------------------------------+\n",
      "|feature_vector                                                                                                                                             |\n",
      "+-----------------------------------------------------------------------------------------------------------------------------------------------------------+\n",
      "|(79,[6,27,67,73,74,75,76,77,78],[1.0,1.0,1.0,18.842783331592937,4.738568725394357,6.61519058363259,6.323813752752317,5.249496841501109,425.8773378589119]) |\n",
      "|(79,[6,27,67,73,74,75,76,77,78],[1.0,1.0,1.0,18.842783331592937,4.738568725394357,4.961392937724443,5.059051002201853,5.249496841501109,426.3002547783348])|\n",
      "|(79,[1,29,64,73,74,75,76,77,78],[1.0,1.0,1.0,17.54328103286239,4.738568725394357,4.961392937724443,2.5295255011009266,3.937122631125832,425.2429624797775])|\n",
      "|(79,[9,27,64,73,74,75,76,77,78],[1.0,1.0,1.0,17.54328103286239,4.738568725394357,4.961392937724443,2.5295255011009266,3.937122631125832,426.5117132380463])|\n",
      "|(79,[9,29,64,73,74,75,76,77,78],[1.0,1.0,1.0,17.54328103286239,4.738568725394357,4.961392937724443,3.79428825165139,3.937122631125832,425.2429624797775])  |\n",
      "+-----------------------------------------------------------------------------------------------------------------------------------------------------------+\n",
      "only showing top 5 rows\n",
      "\n"
     ]
    }
   ],
   "source": [
    "from pyspark.ml.feature import StringIndexer, OneHotEncoder, VectorAssembler, StandardScaler\n",
    "from pyspark.ml import Pipeline\n",
    "\n",
    "cat_features = ['local1', 'varieties1', 'nation']\n",
    "num_features = ['numeric_abv', 'sweet', 'acidity', 'body', 'tannin','year']\n",
    "stages = []\n",
    "\n",
    "# 1. 범주형 특성 전처리: StringIndexer -> OneHotEncoder\n",
    "for cat in cat_features:\n",
    "    cat_index = StringIndexer(inputCol=cat, outputCol=cat + '_idx').setHandleInvalid('keep')\n",
    "    onehot_encode = OneHotEncoder(inputCols=[cat_index.getOutputCol()], outputCols=[cat + '_onehot'])\n",
    "    stages += [cat_index, onehot_encode]\n",
    "\n",
    "# 2. 숫자형 특성 전처리: 모든 숫자 컬럼을 하나의 벡터로 통합 후 표준화\n",
    "num_assembler = VectorAssembler(inputCols=num_features, outputCol=\"num_features_vector\", handleInvalid=\"keep\" )\n",
    "num_scaler = StandardScaler(inputCol=num_assembler.getOutputCol(), outputCol=\"scaled_num_features\")\n",
    "stages += [num_assembler, num_scaler]\n",
    "\n",
    "# 3. 최종 통합: 범주형 원-핫 벡터 + 표준화된 숫자형 벡터를 하나의 'feature_vector'로 합치기\n",
    "assembler_inputs = [cat + '_onehot' for cat in cat_features] + ['scaled_num_features']\n",
    "final_assembler = VectorAssembler(inputCols=assembler_inputs, outputCol='feature_vector')\n",
    "stages.append(final_assembler)\n",
    "\n",
    "# 4. 파이프라인 구축\n",
    "pipeline = Pipeline(stages=stages)\n",
    "\n",
    "# 'train_df' 데이터프레임으로 파이프라인 학습 및 변환\n",
    "fitted_pipeline = pipeline.fit(train_df)\n",
    "vtrain_df = fitted_pipeline.transform(train_df)\n",
    "\n",
    "# 결과 확인\n",
    "vtrain_df.select('feature_vector').show(5, truncate=False)"
   ]
  },
  {
   "cell_type": "code",
   "execution_count": 283,
   "id": "df322135-75d2-46bd-b985-819349e04ebb",
   "metadata": {},
   "outputs": [
    {
     "name": "stdout",
     "output_type": "stream",
     "text": [
      "root\n",
      " |-- id: integer (nullable = true)\n",
      " |-- nation: string (nullable = true)\n",
      " |-- local1: string (nullable = true)\n",
      " |-- varieties1: string (nullable = true)\n",
      " |-- numeric_abv: float (nullable = true)\n",
      " |-- sweet: integer (nullable = true)\n",
      " |-- acidity: integer (nullable = true)\n",
      " |-- body: integer (nullable = true)\n",
      " |-- tannin: integer (nullable = true)\n",
      " |-- year: integer (nullable = true)\n",
      " |-- price: integer (nullable = true)\n",
      " |-- local_varieties: string (nullable = true)\n",
      " |-- log_price: double (nullable = true)\n",
      " |-- local1_idx: double (nullable = false)\n",
      " |-- local1_onehot: vector (nullable = true)\n",
      " |-- varieties1_idx: double (nullable = false)\n",
      " |-- varieties1_onehot: vector (nullable = true)\n",
      " |-- nation_idx: double (nullable = false)\n",
      " |-- nation_onehot: vector (nullable = true)\n",
      " |-- num_features_vector: vector (nullable = true)\n",
      " |-- scaled_num_features: vector (nullable = true)\n",
      " |-- feature_vector: vector (nullable = true)\n",
      "\n"
     ]
    }
   ],
   "source": [
    "from pyspark.ml import Pipeline\n",
    "pipeline = Pipeline(stages=stages)\n",
    "fitted_transform = pipeline.fit(train_df)\n",
    "vtrain_df = fitted_transform.transform(train_df)\n",
    "vtrain_df.printSchema()"
   ]
  },
  {
   "cell_type": "code",
   "execution_count": 284,
   "id": "9abfba48-944b-4588-baf5-62f1ecd45539",
   "metadata": {},
   "outputs": [
    {
     "name": "stdout",
     "output_type": "stream",
     "text": [
      "+--------------------+\n",
      "|      feature_vector|\n",
      "+--------------------+\n",
      "|(79,[6,27,67,73,7...|\n",
      "|(79,[6,27,67,73,7...|\n",
      "|(79,[1,29,64,73,7...|\n",
      "|(79,[9,27,64,73,7...|\n",
      "|(79,[9,29,64,73,7...|\n",
      "|(79,[1,27,64,73,7...|\n",
      "|(79,[1,29,64,73,7...|\n",
      "|(79,[1,29,64,73,7...|\n",
      "|(79,[1,27,64,73,7...|\n",
      "|(79,[1,27,64,73,7...|\n",
      "|(79,[1,27,64,73,7...|\n",
      "|(79,[1,27,64,73,7...|\n",
      "|(79,[1,27,64,73,7...|\n",
      "|(79,[1,27,64,73,7...|\n",
      "|(79,[6,36,67,73,7...|\n",
      "|(79,[10,27,67,73,...|\n",
      "|(79,[10,36,67,73,...|\n",
      "|(79,[11,27,67,73,...|\n",
      "|(79,[6,36,67,73,7...|\n",
      "|(79,[0,27,66,73,7...|\n",
      "+--------------------+\n",
      "only showing top 20 rows\n",
      "\n"
     ]
    }
   ],
   "source": [
    "vtrain_df.select('feature_vector').show()"
   ]
  },
  {
   "cell_type": "code",
   "execution_count": 285,
   "id": "4aa38129-8db1-4de4-8f8c-da4d958187c4",
   "metadata": {},
   "outputs": [],
   "source": [
    "from pyspark.ml.regression import LinearRegression\n",
    "lr = LinearRegression( maxIter=50, solver='normal', labelCol='log_price', featuresCol='feature_vector')"
   ]
  },
  {
   "cell_type": "code",
   "execution_count": 286,
   "id": "558eb1f9-6905-4c64-9afe-fa45ca523774",
   "metadata": {},
   "outputs": [],
   "source": [
    "model = lr.fit(vtrain_df)"
   ]
  },
  {
   "cell_type": "code",
   "execution_count": 287,
   "id": "3a2ab4fb-635a-4299-99bd-e830d46ca9b8",
   "metadata": {},
   "outputs": [],
   "source": [
    "#테스트데이터 변환\n",
    "vtest_df = fitted_transform.transform(test_df)\n",
    "#테스트데이터로 예측\n",
    "pred=model.transform(vtest_df)"
   ]
  },
  {
   "cell_type": "code",
   "execution_count": 288,
   "id": "b2dd4548-7111-4aff-9217-f7dd14ecac7a",
   "metadata": {},
   "outputs": [
    {
     "data": {
      "text/plain": [
       "DataFrame[id: int, nation: string, local1: string, varieties1: string, numeric_abv: float, sweet: int, acidity: int, body: int, tannin: int, year: int, price: int, local1_idx: double, local1_onehot: vector, varieties1_idx: double, varieties1_onehot: vector, nation_idx: double, nation_onehot: vector, num_features_vector: vector, scaled_num_features: vector, feature_vector: vector, prediction: double]"
      ]
     },
     "execution_count": 288,
     "metadata": {},
     "output_type": "execute_result"
    }
   ],
   "source": [
    "pred.cache()"
   ]
  },
  {
   "cell_type": "code",
   "execution_count": 269,
   "id": "d519d949-d0e5-40b1-a5cc-ad605778eaa3",
   "metadata": {},
   "outputs": [
    {
     "name": "stdout",
     "output_type": "stream",
     "text": [
      "+-------+------------------+\n",
      "|  price|        prediction|\n",
      "+-------+------------------+\n",
      "| 250000|11.564127549579332|\n",
      "|  32000|10.676691132268902|\n",
      "|  98000|11.596781713708836|\n",
      "|  50000|10.582721678861919|\n",
      "|  30000|10.611048584959754|\n",
      "| 130000| 12.37494297403019|\n",
      "| 230000|12.866311105532374|\n",
      "|  14000|   9.8694852340638|\n",
      "|  20000| 9.608655888054141|\n",
      "|  20000| 9.540900832061492|\n",
      "|  70000|10.973244407433581|\n",
      "|  80000|11.235996674237027|\n",
      "|  45000|11.371729534413209|\n",
      "|  45000|10.968069658717669|\n",
      "|  21000|  10.4835861977227|\n",
      "|  17000| 9.480817816963432|\n",
      "|  25000|10.402923167134704|\n",
      "| 240000|12.462779570784168|\n",
      "| 500000|12.878777673622112|\n",
      "|  36000|11.754418819770384|\n",
      "|  42000|11.512841978542738|\n",
      "|  82000|11.698791800033476|\n",
      "|  64000|11.347803504849113|\n",
      "| 500000|11.700833776162932|\n",
      "| 145000| 11.99377947134037|\n",
      "| 350000|11.811948680452984|\n",
      "|  55000|10.724837098305708|\n",
      "| 100000|11.640987502767452|\n",
      "|  24000|11.577319392707379|\n",
      "| 103000|12.067879762854098|\n",
      "|  24000|10.575947693096612|\n",
      "|  24800| 10.45253257819779|\n",
      "|  79000|10.946908057185917|\n",
      "| 150000|10.781139277837235|\n",
      "|  53000| 11.35313328385582|\n",
      "| 110000|12.359811299800567|\n",
      "|  22000| 10.12733622654282|\n",
      "| 106000|12.770576988124175|\n",
      "| 223000|12.112334639218384|\n",
      "|  88000|10.726037529545346|\n",
      "|  42000|10.693383365415842|\n",
      "| 200000|11.928349885425325|\n",
      "|  94000|11.939342288317059|\n",
      "|  75000|12.071179257325278|\n",
      "|  61000|10.883170709198696|\n",
      "| 532000|12.050808024021546|\n",
      "|  88000|11.443875203173576|\n",
      "|  54000| 10.89868853049207|\n",
      "|  33000|11.081541576441015|\n",
      "|  65000|11.036407562018672|\n",
      "| 248000| 12.20766353166093|\n",
      "|  95000|10.500732155892415|\n",
      "|  39000|10.455269099455718|\n",
      "| 410000|11.802113560323189|\n",
      "| 130000|11.419021198562735|\n",
      "|  32000|10.896776038270051|\n",
      "|  99000|11.949175297237591|\n",
      "|  88000|10.883170709198696|\n",
      "| 392000|12.538193449902582|\n",
      "| 248600|11.813203276817912|\n",
      "| 242000|11.969416861782388|\n",
      "| 112000|11.624212783303358|\n",
      "|  53000| 11.59797380094759|\n",
      "|  73000|11.188354085910403|\n",
      "|  82000|11.499643218146645|\n",
      "|  82000|11.577727070131324|\n",
      "|  99000|11.188354085910403|\n",
      "|  77000| 10.69222478565638|\n",
      "|  38000|10.522567228852322|\n",
      "| 170000| 11.86571413150289|\n",
      "|  33000|10.465884614171582|\n",
      "|  44000|   11.041292348996|\n",
      "|  96000|11.267664714961649|\n",
      "|  29000| 10.69450975069446|\n",
      "|  90000|12.606748065292056|\n",
      "| 159000|12.926422019803345|\n",
      "|  73000|10.969638629430909|\n",
      "| 400000|12.474592878722882|\n",
      "| 660000|12.445261238015812|\n",
      "| 235000| 12.41770073124953|\n",
      "|  90000|11.885790261863914|\n",
      "|1000000|12.887629917714275|\n",
      "| 250000| 12.84678038641034|\n",
      "|  96000| 11.15985440659385|\n",
      "|  60000|12.131482136018366|\n",
      "| 133000|12.724030393348972|\n",
      "|  48000| 10.91339542297896|\n",
      "|  25000|11.125343399236348|\n",
      "|  70000|11.866782741224924|\n",
      "|  55000| 10.94175146294617|\n",
      "|  25000|10.479663676208508|\n",
      "|  25000|10.567023505515657|\n",
      "|  18700|10.815113784421756|\n",
      "| 154000|11.755727723700705|\n",
      "|  45000|10.505144693541004|\n",
      "|  80000|11.193969019267106|\n",
      "| 113000|11.092618797250172|\n",
      "| 450000|11.493459953419125|\n",
      "|  46000| 11.26938114053091|\n",
      "|  52000|11.243905456834202|\n",
      "+-------+------------------+\n",
      "only showing top 100 rows\n",
      "\n"
     ]
    }
   ],
   "source": [
    "pred.select('price','prediction').show(100)"
   ]
  },
  {
   "cell_type": "code",
   "execution_count": 270,
   "id": "fcc0ceb3-5916-448d-9c0d-150547cf8091",
   "metadata": {},
   "outputs": [
    {
     "name": "stdout",
     "output_type": "stream",
     "text": [
      "+-------+------------------+\n",
      "|  price|   predicted_price|\n",
      "+-------+------------------+\n",
      "| 220000|133745.55448520146|\n",
      "| 110000| 76956.07605978107|\n",
      "|  21000| 35863.00831890071|\n",
      "|  19000|20024.709446152854|\n",
      "|  19000| 36009.61842251612|\n",
      "|  32000| 39834.93875593972|\n",
      "|  42000| 19584.33820559214|\n",
      "|  85000| 58302.31215336572|\n",
      "|  50000| 92556.37245663983|\n",
      "|  50000|62464.955015978194|\n",
      "| 140000|108747.25570204889|\n",
      "|  80000|  53556.0353123658|\n",
      "| 120000|158734.66100435582|\n",
      "| 130000|108217.34383057151|\n",
      "| 450000|175359.46391172236|\n",
      "|  22000|23714.511476594882|\n",
      "|  22000|23620.149586948606|\n",
      "| 100000| 57359.41894063797|\n",
      "| 100000| 76649.86183462487|\n",
      "|  55000|268298.83704738016|\n",
      "|  59000|139194.35881657578|\n",
      "|  70000|118088.45215290408|\n",
      "|  70000| 96992.33702761288|\n",
      "|  70000| 94595.55599597152|\n",
      "|  22500|49681.969465775204|\n",
      "|  36000|50605.017860820066|\n",
      "|  34000| 41056.96490289258|\n",
      "|  45000| 51419.25275617721|\n",
      "|  26000| 34745.08623851022|\n",
      "|  45000|43333.926635697564|\n",
      "|  45000| 42616.59025806644|\n",
      "|  17000|14345.607058347356|\n",
      "|  17000|21047.624548515694|\n",
      "| 190000|141128.18720278895|\n",
      "| 260000|  96260.2027285265|\n",
      "|  39000|  37207.4091513663|\n",
      "|  40000| 30394.42634937561|\n",
      "| 180000|126591.29032379983|\n",
      "|  19000| 18231.53700238099|\n",
      "|  17000|14206.627164168734|\n",
      "|  17000| 35527.23950301275|\n",
      "|  22000|32334.385963634944|\n",
      "|  22000|21429.035148022973|\n",
      "|  30000|  48426.6730295408|\n",
      "|  40000| 66534.96012581952|\n",
      "|  42000| 55341.49985709252|\n",
      "|  71000| 83891.23844004385|\n",
      "| 110000|244831.97558841435|\n",
      "|  25000| 43330.35232709935|\n",
      "|  55000| 82502.52890528414|\n",
      "|  27000|31278.547014620868|\n",
      "|  27000| 37849.35933256766|\n",
      "|  14000|13253.380904173297|\n",
      "|  40000|38075.654989645984|\n",
      "|  25000|15644.025024507808|\n",
      "|  25000|25395.912702366815|\n",
      "|  27000|31678.483017934846|\n",
      "|  50000|   49917.629809266|\n",
      "|  50000| 45757.15516911243|\n",
      "| 140000| 95877.47680574037|\n",
      "|  35000|42037.712190639635|\n",
      "|  35000| 47367.74512731013|\n",
      "| 100000| 66790.15913921494|\n",
      "|  26000|16781.464921856517|\n",
      "|  60000|104614.12827120016|\n",
      "|  18000|38984.626077237874|\n",
      "|  39000| 45559.19879565558|\n",
      "|1100000|222299.05062880428|\n",
      "|  38000| 83279.48473881997|\n",
      "|  99000| 79599.70005820063|\n",
      "| 132000|114265.61179718855|\n",
      "|  20000| 38974.39568130658|\n",
      "|  20000| 18581.01410051512|\n",
      "|  15000| 36388.01919456412|\n",
      "|  25000| 53067.29925919304|\n",
      "| 120000|121257.13202914542|\n",
      "|  22000| 27102.47425197341|\n",
      "|  40000| 71588.19092958355|\n",
      "|  28000|31749.747047092096|\n",
      "|  25000|35785.000315383884|\n",
      "|  22000| 32887.13444095507|\n",
      "| 175000| 434564.4021148403|\n",
      "| 240000|203064.35400425483|\n",
      "| 600000| 391906.1487375722|\n",
      "| 360000| 391906.1487375722|\n",
      "| 350000| 391906.1487375722|\n",
      "| 650000| 391906.1487375722|\n",
      "| 750000| 573174.0708993657|\n",
      "|1050000|203064.35400425483|\n",
      "|  70000| 76490.80912199004|\n",
      "|  60000| 84057.04005466952|\n",
      "|  36000| 87285.66698151476|\n",
      "|  40000| 138246.5270473198|\n",
      "|  26000| 41056.96490289258|\n",
      "|  66000|217587.29885261456|\n",
      "|  31000| 107025.2195848226|\n",
      "| 790000|170444.37614183803|\n",
      "|  30000|50605.017860820066|\n",
      "|  40000| 47071.45267058676|\n",
      "|  99000|149771.21194013467|\n",
      "+-------+------------------+\n",
      "only showing top 100 rows\n",
      "\n"
     ]
    }
   ],
   "source": [
    "from pyspark.sql.functions import exp, col\n",
    "\n",
    "#    'prediction' 컬럼에는 log(price) 값이 들어있습니다.\n",
    "predictions = model.transform(vtrain_df)\n",
    "\n",
    "predictions_with_actual_price = predictions.withColumn(\n",
    "    \"predicted_price\", exp(col(\"prediction\"))\n",
    ")\n",
    "\n",
    "# 3. 원본 가격('price')과 변환된 예측 가격('predicted_price')을 비교합니다.\n",
    "predictions_with_actual_price.select('price', 'predicted_price').show(100)"
   ]
  },
  {
   "cell_type": "code",
   "execution_count": 271,
   "id": "6474b6cb-5893-4f75-a49c-dfdbf0003d12",
   "metadata": {},
   "outputs": [
    {
     "data": {
      "text/plain": [
       "(0.642213770799891, 0.5741125275680323)"
      ]
     },
     "execution_count": 271,
     "metadata": {},
     "output_type": "execute_result"
    }
   ],
   "source": [
    "model.summary.r2, model.summary.rootMeanSquaredError"
   ]
  },
  {
   "cell_type": "code",
   "execution_count": 272,
   "id": "ea194d4d-cc08-4be7-9e8f-e5559ea576b2",
   "metadata": {},
   "outputs": [],
   "source": [
    "# 추가로 임포트할 RandomForestRegressor\n",
    "from pyspark.ml.regression import RandomForestRegressor"
   ]
  },
  {
   "cell_type": "code",
   "execution_count": 234,
   "id": "2fa166ea-9ad9-466f-805b-7d6c460817a5",
   "metadata": {},
   "outputs": [
    {
     "name": "stdout",
     "output_type": "stream",
     "text": [
      "+------+------------------+\n",
      "| price|   predicted_price|\n",
      "+------+------------------+\n",
      "|250000| 85987.25275210818|\n",
      "| 32000|44939.715379450936|\n",
      "| 98000| 95560.97855535509|\n",
      "| 50000| 78713.07741211768|\n",
      "| 30000|49239.157473770996|\n",
      "|130000|166277.96643124262|\n",
      "|230000|101116.61488612968|\n",
      "| 14000|38477.163722884936|\n",
      "| 20000| 42893.38708016147|\n",
      "| 20000| 42893.38708016147|\n",
      "+------+------------------+\n",
      "only showing top 10 rows\n",
      "\n"
     ]
    }
   ],
   "source": [
    "# 1. RandomForestRegressor 모델 객체 생성\n",
    "# labelCol에는 로그 변환된 'log_price' 컬럼을 사용합니다.\n",
    "rf = RandomForestRegressor(featuresCol='feature_vector', labelCol='log_price')\n",
    "\n",
    "# 2. 파이프라인에 RandomForestRegressor 추가\n",
    "# 기존 파이프라인의 LinearRegression을 RandomForestRegressor로 교체합니다.\n",
    "stages_for_rf = stages + [rf]  # stages는 이전 답변에서 만들었던 리스트입니다.\n",
    "rf_pipeline = Pipeline(stages=stages_for_rf)\n",
    "\n",
    "# 3. 파이프라인 학습\n",
    "rf_model = rf_pipeline.fit(train_df)\n",
    "\n",
    "# 4. 테스트 데이터셋에 적용 및 예측\n",
    "predictions = rf_model.transform(test_df)\n",
    "\n",
    "# 5. 예측값(로그 스케일)을 실제 가격으로 변환\n",
    "predict = predictions.withColumn(\n",
    "    \"predicted_price\", exp(col(\"prediction\"))\n",
    ")\n",
    "\n",
    "# 6. 결과 확인\n",
    "predict.select('price', 'predicted_price').show(10)"
   ]
  },
  {
   "cell_type": "code",
   "execution_count": 235,
   "id": "a413052d-8c6e-4b5c-a255-a06a91a2c854",
   "metadata": {},
   "outputs": [],
   "source": [
    "from pyspark.ml.evaluation import RegressionEvaluator\n",
    "evaluator = RegressionEvaluator(\n",
    "    labelCol=\"log_price\", predictionCol=\"prediction\", metricName=\"r2\"\n",
    ")"
   ]
  },
  {
   "cell_type": "code",
   "execution_count": 236,
   "id": "f056ede6-cd74-4787-979f-a6ca2ac2ca0f",
   "metadata": {},
   "outputs": [
    {
     "name": "stdout",
     "output_type": "stream",
     "text": [
      "Random Forest 모델의 R-squared 값: 0.5333010249555261\n"
     ]
    }
   ],
   "source": [
    "# 1. 모델이 예측한 predictions 데이터프레임에 'price' 컬럼을 로그 변환하여 'log_price' 컬럼을 추가합니다.\n",
    "predictions_with_log_price = predictions.withColumn(\"log_price\", log(col(\"price\")))\n",
    "\n",
    "# 2. RegressionEvaluator를 사용하여 R²를 계산합니다.\n",
    "#    이제 predictions_with_log_price에는 'log_price' 컬럼이 존재합니다.\n",
    "evaluator = RegressionEvaluator(\n",
    "    labelCol=\"log_price\", predictionCol=\"prediction\", metricName=\"r2\"\n",
    ")\n",
    "\n",
    "r2_score = evaluator.evaluate(predictions_with_log_price)\n",
    "\n",
    "print(f\"Random Forest 모델의 R-squared 값: {r2_score}\")"
   ]
  }
 ],
 "metadata": {
  "kernelspec": {
   "display_name": "Python 3 (ipykernel)",
   "language": "python",
   "name": "python3"
  },
  "language_info": {
   "codemirror_mode": {
    "name": "ipython",
    "version": 3
   },
   "file_extension": ".py",
   "mimetype": "text/x-python",
   "name": "python",
   "nbconvert_exporter": "python",
   "pygments_lexer": "ipython3",
   "version": "3.11.6"
  }
 },
 "nbformat": 4,
 "nbformat_minor": 5
}
